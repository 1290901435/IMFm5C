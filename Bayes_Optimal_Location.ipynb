{
 "cells": [
  {
   "cell_type": "markdown",
   "id": "f29e694d",
   "metadata": {
    "ExecuteTime": {
     "end_time": "2023-05-20T06:09:03.840140Z",
     "start_time": "2023-05-20T06:09:03.836937Z"
    }
   },
   "source": [
    "# 获取数据"
   ]
  },
  {
   "cell_type": "code",
   "execution_count": 2,
   "id": "f1e26e5f",
   "metadata": {
    "ExecuteTime": {
     "end_time": "2023-05-22T03:01:30.432304Z",
     "start_time": "2023-05-22T03:01:28.445298Z"
    }
   },
   "outputs": [],
   "source": [
    "import numpy as np\n",
    "import pandas as pd\n",
    "from sklearn.neighbors import NearestNeighbors\n",
    "from features import ensembleFeature\n",
    "import itertools\n",
    "from utils import metricsCal\n",
    "from thundersvm import SVC\n",
    "from sklearn.model_selection import KFold\n",
    "import pymrmr"
   ]
  },
  {
   "cell_type": "code",
   "execution_count": 3,
   "id": "8779587b",
   "metadata": {
    "ExecuteTime": {
     "end_time": "2023-05-22T03:01:31.720444Z",
     "start_time": "2023-05-22T03:01:31.711858Z"
    }
   },
   "outputs": [],
   "source": [
    "##将序列转化为词向量用到的函数\n",
    "def fa_seq(filepath):\n",
    "    f = open(filepath,'r')\n",
    "    x = []\n",
    "    for i in f:\n",
    "        x.append(i)\n",
    "    seq = []\n",
    "    for i in range(len(x)):\n",
    "        if i%2==1:\n",
    "            seq.append(x[i][:-1])\n",
    "    return seq"
   ]
  },
  {
   "cell_type": "code",
   "execution_count": 4,
   "id": "6b7ece91",
   "metadata": {
    "ExecuteTime": {
     "end_time": "2023-05-22T03:01:32.558875Z",
     "start_time": "2023-05-22T03:01:32.529173Z"
    }
   },
   "outputs": [],
   "source": [
    "train_seq = fa_seq(\"data/Mouse/mouse_train.fasta\")\n",
    "test_seq = fa_seq(\"data/Mouse/mouse_indep.fasta\")\n",
    "trainPos_seq = train_seq[0:int(len(train_seq)/2)]\n",
    "trainNeg_seq = train_seq[int(len(train_seq)/2):]\n",
    "testPos_seq = test_seq[0:int(len(test_seq)/2)]\n",
    "testNeg_seq = test_seq[int(len(test_seq)/2):]\n",
    "trainLabel = np.append(np.ones(int(len(train_seq)/2)),np.zeros(int(len(train_seq)-len(train_seq)/2)),axis=0)\n",
    "testLabel = np.append(np.ones(int(len(test_seq)/2)),np.zeros(int(len(test_seq)-len(test_seq)/2)),axis=0)"
   ]
  },
  {
   "cell_type": "code",
   "execution_count": 5,
   "id": "6247df72",
   "metadata": {
    "ExecuteTime": {
     "end_time": "2023-05-22T03:01:42.697921Z",
     "start_time": "2023-05-22T03:01:34.900298Z"
    }
   },
   "outputs": [],
   "source": [
    "# 值\n",
    "trainPos,trainNeg,testPos,testNeg = ensembleFeature.PSKP(trainPos_seq,trainNeg_seq,testPos_seq,testNeg_seq,1) #3代表PSTP，2代表PSDP，1代表PSNP\n",
    "trainData_PSNP = np.vstack((trainPos,trainNeg))\n",
    "testData_PSNP = np.vstack((testPos,testNeg))\n",
    "trainPos,trainNeg,testPos,testNeg = ensembleFeature.PSKP(trainPos_seq,trainNeg_seq,testPos_seq,testNeg_seq,2) #3代表PSTP，2代表PSDP，1代表PSNP\n",
    "trainData_PSDP = np.vstack((trainPos,trainNeg))\n",
    "testData_PSDP = np.vstack((testPos,testNeg))\n",
    "trainPos,trainNeg,testPos,testNeg = ensembleFeature.PSKP(trainPos_seq,trainNeg_seq,testPos_seq,testNeg_seq,3) #3代表PSTP，2代表PSDP，1代表PSNP\n",
    "trainData_PSTP = np.vstack((trainPos,trainNeg))\n",
    "testData_PSTP = np.vstack((testPos,testNeg))\n",
    "trainData_PSKP = np.hstack((trainData_PSNP,trainData_PSDP,trainData_PSTP))\n",
    "testData_PSKP = np.hstack((testData_PSNP,testData_PSDP,testData_PSTP))\n",
    "\n",
    "\n",
    "\n",
    "trainPos,trainNeg,testPos,testNeg = ensembleFeature.PSCP(trainPos_seq,trainNeg_seq,testPos_seq,testNeg_seq,0)\n",
    "trainData_PSCP_0 = np.vstack((trainPos,trainNeg))\n",
    "testData_PSCP_0 = np.vstack((testPos,testNeg))\n",
    "trainPos,trainNeg,testPos,testNeg = ensembleFeature.PSCP(trainPos_seq,trainNeg_seq,testPos_seq,testNeg_seq,1)\n",
    "trainData_PSCP_1 = np.vstack((trainPos,trainNeg))\n",
    "testData_PSCP_1 = np.vstack((testPos,testNeg))\n",
    "trainPos,trainNeg,testPos,testNeg = ensembleFeature.PSCP(trainPos_seq,trainNeg_seq,testPos_seq,testNeg_seq,2)\n",
    "trainData_PSCP_2 = np.vstack((trainPos,trainNeg))\n",
    "testData_PSCP_2 = np.vstack((testPos,testNeg))\n",
    "\n",
    "trainData_PSCP = np.hstack((trainData_PSCP_0,trainData_PSCP_1,trainData_PSCP_2))\n",
    "testData_PSCP = np.hstack((testData_PSCP_0,testData_PSCP_1,testData_PSCP_2))\n",
    "\n",
    "trainPos,trainNeg,testPos,testNeg = ensembleFeature.BPB(trainPos_seq,trainNeg_seq,testPos_seq,testNeg_seq)\n",
    "trainData_BPB = np.vstack((trainPos,trainNeg))\n",
    "testData_BPB = np.vstack((testPos,testNeg))\n",
    "\n",
    "trainData_KNN = np.array(pd.read_csv(\"features/KNN_value_train.csv\").iloc[:,1:])\n",
    "testData_KNN = np.array(pd.read_csv(\"features/KNN_value_test.csv\").iloc[:,1:])\n",
    "\n",
    "trainData = np.hstack((trainData_PSKP,trainData_PSCP,trainData_BPB,trainData_KNN))\n",
    "testData = np.hstack((testData_PSKP,testData_PSCP,testData_BPB,testData_KNN))"
   ]
  },
  {
   "cell_type": "code",
   "execution_count": 6,
   "id": "d68d77d2",
   "metadata": {
    "ExecuteTime": {
     "end_time": "2023-05-22T03:02:04.063356Z",
     "start_time": "2023-05-22T03:01:43.434637Z"
    }
   },
   "outputs": [
    {
     "name": "stderr",
     "output_type": "stream",
     "text": [
      "/data/xiayunpeng/anaconda3/envs/BERT/lib/python3.6/site-packages/sklearn/decomposition/_fastica.py:120: ConvergenceWarning: FastICA did not converge. Consider increasing tolerance or the maximum number of iterations.\n",
      "  ConvergenceWarning)\n"
     ]
    }
   ],
   "source": [
    "trainData_loc = trainData\n",
    "from sklearn.decomposition import FastICA\n",
    "ica = FastICA(n_components= 100).fit(trainData_loc)\n",
    "trainData_ICA_loc = ica.transform(trainData_loc)"
   ]
  },
  {
   "cell_type": "code",
   "execution_count": 7,
   "id": "62dea955",
   "metadata": {
    "ExecuteTime": {
     "end_time": "2023-05-22T03:02:04.181493Z",
     "start_time": "2023-05-22T03:02:04.176160Z"
    }
   },
   "outputs": [
    {
     "data": {
      "text/plain": [
       "(9126, 100)"
      ]
     },
     "execution_count": 7,
     "metadata": {},
     "output_type": "execute_result"
    }
   ],
   "source": [
    "trainData_ICA_loc.shape"
   ]
  },
  {
   "cell_type": "code",
   "execution_count": 8,
   "id": "8aa75458",
   "metadata": {
    "ExecuteTime": {
     "end_time": "2023-05-22T03:02:07.485724Z",
     "start_time": "2023-05-22T03:02:07.458237Z"
    }
   },
   "outputs": [
    {
     "name": "stdout",
     "output_type": "stream",
     "text": [
      "(9126, 100)\n"
     ]
    }
   ],
   "source": [
    "list_fea = list(pd.read_csv(\"Result/Feature_Selection/Location_ICA_boruta_shap.csv\").iloc[0:100,1])\n",
    "feature = []\n",
    "for i in range(len(list_fea)):\n",
    "    feature.append(trainData_ICA_loc[:,int(list_fea[i][4:])])\n",
    "trainData = np.array(feature).T\n",
    "print(trainData.shape)\n"
   ]
  },
  {
   "cell_type": "code",
   "execution_count": 9,
   "id": "a705dd1d",
   "metadata": {
    "ExecuteTime": {
     "end_time": "2023-05-22T03:02:13.091696Z",
     "start_time": "2023-05-22T03:02:09.092200Z"
    }
   },
   "outputs": [
    {
     "name": "stderr",
     "output_type": "stream",
     "text": [
      "/data/xiayunpeng/anaconda3/envs/BERT/lib/python3.6/site-packages/sklearn/utils/validation.py:72: FutureWarning: Pass shuffle=True, random_state=0 as keyword args. From version 1.0 (renaming of 0.25) passing these as positional arguments will result in an error\n",
      "  \"will result in an error\", FutureWarning)\n"
     ]
    },
    {
     "data": {
      "text/plain": [
       "0.8343436072563277"
      ]
     },
     "execution_count": 9,
     "metadata": {},
     "output_type": "execute_result"
    }
   ],
   "source": [
    "#交叉验证\n",
    "rows = 10\n",
    "row = -1\n",
    "row_name = []\n",
    "Sen = np.zeros(rows)\n",
    "Spe = np.zeros(rows)\n",
    "Acc = np.zeros(rows)\n",
    "Mcc = np.zeros(rows)\n",
    "Auc = np.zeros(rows)\n",
    "\n",
    "kf = KFold(10,True,0)\n",
    "for i,[train_index, test_index] in enumerate(kf.split(trainData_ICA_loc)):\n",
    "    row+=1\n",
    "    row_one = \"Bert6mA_origin_KFold_\" + str(i)\n",
    "    row_name.append(row_one)\n",
    "    X_train = trainData_ICA_loc[train_index]\n",
    "    X_test = trainData_ICA_loc[test_index]\n",
    "    Y_train = trainLabel[train_index]\n",
    "    Y_test = trainLabel[test_index]\n",
    "    \n",
    "    model = SVC(C=1.0,gamma=\"auto\")\n",
    "    \n",
    "    model.fit(X_train,Y_train)\n",
    "    th,_,_,_,_,_,_,_,_,_ = metricsCal.get_train_metrics( model.decision_function(X_train).reshape(-1), Y_train )\n",
    "    _,_,_,_,sen,spe,acc,mcc,auc = metricsCal.get_test_metrics( model.decision_function(X_test), Y_test,th )\n",
    "    Sen[row] = sen\n",
    "    Spe[row] = spe\n",
    "    Acc[row] = acc\n",
    "    Mcc[row] = mcc\n",
    "    Auc[row] = auc\n",
    "    \n",
    "All = np.vstack((Sen,Spe,Acc,Mcc,Auc))\n",
    "np.mean(All[4])"
   ]
  },
  {
   "cell_type": "markdown",
   "id": "6a4f052a",
   "metadata": {
    "ExecuteTime": {
     "end_time": "2023-05-20T06:09:13.873670Z",
     "start_time": "2023-05-20T06:09:13.870446Z"
    }
   },
   "source": [
    "# XGBoost优化"
   ]
  },
  {
   "cell_type": "code",
   "execution_count": 10,
   "id": "b940654d",
   "metadata": {
    "ExecuteTime": {
     "end_time": "2023-05-22T03:02:14.233100Z",
     "start_time": "2023-05-22T03:02:14.170092Z"
    }
   },
   "outputs": [],
   "source": [
    "from sklearn.ensemble import RandomForestClassifier\n",
    "from sklearn.model_selection import cross_val_score\n",
    "from sklearn.preprocessing import StandardScaler\n",
    "from sklearn.model_selection import cross_val_score, StratifiedKFold\n",
    "from sklearn.metrics import roc_auc_score\n",
    "import xgboost as xgb\n",
    "from xgboost import plot_importance\n",
    "from bayes_opt import BayesianOptimization\n",
    "from xgboost import XGBClassifier\n",
    "#from pymc3 import Model, Gaussian, U, MvNormal, trace_to_samples"
   ]
  },
  {
   "cell_type": "code",
   "execution_count": 59,
   "id": "4a92fc8c",
   "metadata": {
    "ExecuteTime": {
     "end_time": "2023-05-21T00:00:49.719150Z",
     "start_time": "2023-05-20T06:43:29.078577Z"
    }
   },
   "outputs": [
    {
     "name": "stdout",
     "output_type": "stream",
     "text": [
      "|   iter    |  target   | colsam... |   gamma   | learni... | max_depth | min_ch... | n_esti... | subsample |\n",
      "-------------------------------------------------------------------------------------------------------------\n"
     ]
    },
    {
     "name": "stderr",
     "output_type": "stream",
     "text": [
      "/data/xiayunpeng/anaconda3/envs/BERT/lib/python3.6/site-packages/sklearn/utils/validation.py:72: FutureWarning: Pass shuffle=True, random_state=0 as keyword args. From version 1.0 (renaming of 0.25) passing these as positional arguments will result in an error\n",
      "  \"will result in an error\", FutureWarning)\n"
     ]
    },
    {
     "name": "stdout",
     "output_type": "stream",
     "text": [
      "10 0.5290418060840998 198 4.75357153204958 0.7319939418114051 0.49963209507789 1.7800932022121825\n",
      "0.7268956546164759\n"
     ]
    },
    {
     "name": "stderr",
     "output_type": "stream",
     "text": [
      "/data/xiayunpeng/anaconda3/envs/BERT/lib/python3.6/site-packages/sklearn/utils/validation.py:72: FutureWarning: Pass shuffle=True, random_state=0 as keyword args. From version 1.0 (renaming of 0.25) passing these as positional arguments will result in an error\n",
      "  \"will result in an error\", FutureWarning)\n"
     ]
    },
    {
     "name": "stdout",
     "output_type": "stream",
     "text": [
      "3 0.6061695553391381 840 3.005575058716044 0.7080725777960455 0.8929409166199482 5.8495492608099715\n",
      "0.7612828007208676\n",
      "| \u001b[95m2        \u001b[0m | \u001b[95m0.7613   \u001b[0m | \u001b[95m0.8929   \u001b[0m | \u001b[95m3.006    \u001b[0m | \u001b[95m0.7081   \u001b[0m | \u001b[95m3.247    \u001b[0m | \u001b[95m5.85     \u001b[0m | \u001b[95m840.8    \u001b[0m | \u001b[95m0.6062   \u001b[0m |\n"
     ]
    },
    {
     "name": "stderr",
     "output_type": "stream",
     "text": [
      "/data/xiayunpeng/anaconda3/envs/BERT/lib/python3.6/site-packages/sklearn/utils/validation.py:72: FutureWarning: Pass shuffle=True, random_state=0 as keyword args. From version 1.0 (renaming of 0.25) passing these as positional arguments will result in an error\n",
      "  \"will result in an error\", FutureWarning)\n"
     ]
    },
    {
     "name": "stdout",
     "output_type": "stream",
     "text": [
      "9 0.8059264473611898 326 0.9170225492671691 0.3042422429595377 0.3454599737656805 3.1597250932105787\n",
      "0.7985466611880421\n",
      "| \u001b[95m3        \u001b[0m | \u001b[95m0.7985   \u001b[0m | \u001b[95m0.3455   \u001b[0m | \u001b[95m0.917    \u001b[0m | \u001b[95m0.3042   \u001b[0m | \u001b[95m9.297    \u001b[0m | \u001b[95m3.16     \u001b[0m | \u001b[95m326.7    \u001b[0m | \u001b[95m0.8059   \u001b[0m |\n"
     ]
    },
    {
     "name": "stderr",
     "output_type": "stream",
     "text": [
      "/data/xiayunpeng/anaconda3/envs/BERT/lib/python3.6/site-packages/sklearn/utils/validation.py:72: FutureWarning: Pass shuffle=True, random_state=0 as keyword args. From version 1.0 (renaming of 0.25) passing these as positional arguments will result in an error\n",
      "  \"will result in an error\", FutureWarning)\n"
     ]
    },
    {
     "name": "stdout",
     "output_type": "stream",
     "text": [
      "8 0.7571172192068059 239 1.4607232426760908 0.3663618432936917 0.3115950885216335 4.925879806965068\n",
      "0.7896679356826557\n"
     ]
    },
    {
     "name": "stderr",
     "output_type": "stream",
     "text": [
      "/data/xiayunpeng/anaconda3/envs/BERT/lib/python3.6/site-packages/sklearn/utils/validation.py:72: FutureWarning: Pass shuffle=True, random_state=0 as keyword args. From version 1.0 (renaming of 0.25) passing these as positional arguments will result in an error\n",
      "  \"will result in an error\", FutureWarning)\n"
     ]
    },
    {
     "name": "stdout",
     "output_type": "stream",
     "text": [
      "5 0.9828160165372797 951 0.23225206359998862 0.6075448519014384 0.6739316550896339 1.3252579649263976\n",
      "0.7931898246902348\n"
     ]
    },
    {
     "name": "stderr",
     "output_type": "stream",
     "text": [
      "/data/xiayunpeng/anaconda3/envs/BERT/lib/python3.6/site-packages/sklearn/utils/validation.py:72: FutureWarning: Pass shuffle=True, random_state=0 as keyword args. From version 1.0 (renaming of 0.25) passing these as positional arguments will result in an error\n",
      "  \"will result in an error\", FutureWarning)\n"
     ]
    },
    {
     "name": "stdout",
     "output_type": "stream",
     "text": [
      "5 0.9620273840047607 951 1.773171822466848 0.04798016661818727 0.8891953376348207 2.0778482873257795\n",
      "0.8210710360833409\n",
      "| \u001b[95m6        \u001b[0m | \u001b[95m0.8211   \u001b[0m | \u001b[95m0.8892   \u001b[0m | \u001b[95m1.773    \u001b[0m | \u001b[95m0.04798  \u001b[0m | \u001b[95m5.576    \u001b[0m | \u001b[95m2.078    \u001b[0m | \u001b[95m951.8    \u001b[0m | \u001b[95m0.962    \u001b[0m |\n"
     ]
    },
    {
     "name": "stderr",
     "output_type": "stream",
     "text": [
      "/data/xiayunpeng/anaconda3/envs/BERT/lib/python3.6/site-packages/sklearn/utils/validation.py:72: FutureWarning: Pass shuffle=True, random_state=0 as keyword args. From version 1.0 (renaming of 0.25) passing these as positional arguments will result in an error\n",
      "  \"will result in an error\", FutureWarning)\n"
     ]
    },
    {
     "name": "stdout",
     "output_type": "stream",
     "text": [
      "5 0.9569080993309955 952 3.5833406394317517 0.16250048052794852 0.3456561076003977 2.712599459643256\n",
      "0.8139597851628586\n"
     ]
    },
    {
     "name": "stderr",
     "output_type": "stream",
     "text": [
      "/data/xiayunpeng/anaconda3/envs/BERT/lib/python3.6/site-packages/sklearn/utils/validation.py:72: FutureWarning: Pass shuffle=True, random_state=0 as keyword args. From version 1.0 (renaming of 0.25) passing these as positional arguments will result in an error\n",
      "  \"will result in an error\", FutureWarning)\n"
     ]
    },
    {
     "name": "stdout",
     "output_type": "stream",
     "text": [
      "8 0.7043105642729168 950 2.9320166312033606 0.6973461260551029 0.965386998717616 4.021418529745011\n",
      "0.7568639809558462\n"
     ]
    },
    {
     "name": "stderr",
     "output_type": "stream",
     "text": [
      "/data/xiayunpeng/anaconda3/envs/BERT/lib/python3.6/site-packages/sklearn/utils/validation.py:72: FutureWarning: Pass shuffle=True, random_state=0 as keyword args. From version 1.0 (renaming of 0.25) passing these as positional arguments will result in an error\n",
      "  \"will result in an error\", FutureWarning)\n"
     ]
    },
    {
     "name": "stdout",
     "output_type": "stream",
     "text": [
      "5 0.8409879248557239 954 1.6246442114045117 0.5628477198606833 0.6033946355179182 1.462768792870939\n",
      "0.784550851442278\n"
     ]
    },
    {
     "name": "stderr",
     "output_type": "stream",
     "text": [
      "/data/xiayunpeng/anaconda3/envs/BERT/lib/python3.6/site-packages/sklearn/utils/validation.py:72: FutureWarning: Pass shuffle=True, random_state=0 as keyword args. From version 1.0 (renaming of 0.25) passing these as positional arguments will result in an error\n",
      "  \"will result in an error\", FutureWarning)\n"
     ]
    },
    {
     "name": "stdout",
     "output_type": "stream",
     "text": [
      "3 0.8179997342982551 951 2.326205700689883 0.806174481823068 0.42170585452417986 3.2016692913582707\n",
      "0.7698109892530474\n"
     ]
    },
    {
     "name": "stderr",
     "output_type": "stream",
     "text": [
      "/data/xiayunpeng/anaconda3/envs/BERT/lib/python3.6/site-packages/sklearn/utils/validation.py:72: FutureWarning: Pass shuffle=True, random_state=0 as keyword args. From version 1.0 (renaming of 0.25) passing these as positional arguments will result in an error\n",
      "  \"will result in an error\", FutureWarning)\n"
     ]
    },
    {
     "name": "stdout",
     "output_type": "stream",
     "text": [
      "6 0.7391522744063108 950 4.54299571410346 0.6674681575830103 0.6941236375268769 2.1065051583184813\n",
      "0.7631521331166347\n"
     ]
    },
    {
     "name": "stderr",
     "output_type": "stream",
     "text": [
      "/data/xiayunpeng/anaconda3/envs/BERT/lib/python3.6/site-packages/sklearn/utils/validation.py:72: FutureWarning: Pass shuffle=True, random_state=0 as keyword args. From version 1.0 (renaming of 0.25) passing these as positional arguments will result in an error\n",
      "  \"will result in an error\", FutureWarning)\n"
     ]
    },
    {
     "name": "stdout",
     "output_type": "stream",
     "text": [
      "4 0.9507071320780056 951 2.0512670265259922 0.45957406211058405 0.4683120334003906 3.187320908111423\n",
      "0.7938454153890337\n"
     ]
    },
    {
     "name": "stderr",
     "output_type": "stream",
     "text": [
      "/data/xiayunpeng/anaconda3/envs/BERT/lib/python3.6/site-packages/sklearn/utils/validation.py:72: FutureWarning: Pass shuffle=True, random_state=0 as keyword args. From version 1.0 (renaming of 0.25) passing these as positional arguments will result in an error\n",
      "  \"will result in an error\", FutureWarning)\n"
     ]
    },
    {
     "name": "stdout",
     "output_type": "stream",
     "text": [
      "4 0.5522678231402425 952 2.36707830532104 0.7121758288397723 0.6758278416434265 2.433448946373993\n",
      "0.7500704559871038\n"
     ]
    },
    {
     "name": "stderr",
     "output_type": "stream",
     "text": [
      "/data/xiayunpeng/anaconda3/envs/BERT/lib/python3.6/site-packages/sklearn/utils/validation.py:72: FutureWarning: Pass shuffle=True, random_state=0 as keyword args. From version 1.0 (renaming of 0.25) passing these as positional arguments will result in an error\n",
      "  \"will result in an error\", FutureWarning)\n"
     ]
    },
    {
     "name": "stdout",
     "output_type": "stream",
     "text": [
      "6 0.6447335212526621 951 1.8765924318538447 0.059673080725261896 0.5389826607330817 1.9443362112357168\n",
      "0.8243117673454998\n",
      "| \u001b[95m14       \u001b[0m | \u001b[95m0.8243   \u001b[0m | \u001b[95m0.539    \u001b[0m | \u001b[95m1.877    \u001b[0m | \u001b[95m0.05967  \u001b[0m | \u001b[95m6.325    \u001b[0m | \u001b[95m1.944    \u001b[0m | \u001b[95m951.9    \u001b[0m | \u001b[95m0.6447   \u001b[0m |\n"
     ]
    },
    {
     "name": "stderr",
     "output_type": "stream",
     "text": [
      "/data/xiayunpeng/anaconda3/envs/BERT/lib/python3.6/site-packages/sklearn/utils/validation.py:72: FutureWarning: Pass shuffle=True, random_state=0 as keyword args. From version 1.0 (renaming of 0.25) passing these as positional arguments will result in an error\n",
      "  \"will result in an error\", FutureWarning)\n"
     ]
    },
    {
     "name": "stdout",
     "output_type": "stream",
     "text": [
      "6 0.9128210601641595 950 0.6012800743571911 0.4815161898937499 0.46463036581617134 2.2835302251220733\n",
      "0.7942607273705768\n"
     ]
    },
    {
     "name": "stderr",
     "output_type": "stream",
     "text": [
      "/data/xiayunpeng/anaconda3/envs/BERT/lib/python3.6/site-packages/sklearn/utils/validation.py:72: FutureWarning: Pass shuffle=True, random_state=0 as keyword args. From version 1.0 (renaming of 0.25) passing these as positional arguments will result in an error\n",
      "  \"will result in an error\", FutureWarning)\n"
     ]
    },
    {
     "name": "stdout",
     "output_type": "stream",
     "text": [
      "6 0.9507997708344627 951 2.1255042413041565 0.6734972196130052 0.3317889227136054 3.5132079422309723\n",
      "0.7748853894285814\n"
     ]
    },
    {
     "name": "stderr",
     "output_type": "stream",
     "text": [
      "/data/xiayunpeng/anaconda3/envs/BERT/lib/python3.6/site-packages/sklearn/utils/validation.py:72: FutureWarning: Pass shuffle=True, random_state=0 as keyword args. From version 1.0 (renaming of 0.25) passing these as positional arguments will result in an error\n",
      "  \"will result in an error\", FutureWarning)\n"
     ]
    },
    {
     "name": "stdout",
     "output_type": "stream",
     "text": [
      "5 0.918631114418511 950 1.8499439055337918 0.6701874211400038 0.2967632476599653 1.6090957099717715\n",
      "0.7857967483514321\n"
     ]
    },
    {
     "name": "stderr",
     "output_type": "stream",
     "text": [
      "/data/xiayunpeng/anaconda3/envs/BERT/lib/python3.6/site-packages/sklearn/utils/validation.py:72: FutureWarning: Pass shuffle=True, random_state=0 as keyword args. From version 1.0 (renaming of 0.25) passing these as positional arguments will result in an error\n",
      "  \"will result in an error\", FutureWarning)\n"
     ]
    },
    {
     "name": "stdout",
     "output_type": "stream",
     "text": [
      "6 0.6619531004238566 951 1.8671400221154162 0.20722141516340387 0.6798307761416582 2.653828199806599\n",
      "0.8059787199044022\n"
     ]
    },
    {
     "name": "stderr",
     "output_type": "stream",
     "text": [
      "/data/xiayunpeng/anaconda3/envs/BERT/lib/python3.6/site-packages/sklearn/utils/validation.py:72: FutureWarning: Pass shuffle=True, random_state=0 as keyword args. From version 1.0 (renaming of 0.25) passing these as positional arguments will result in an error\n",
      "  \"will result in an error\", FutureWarning)\n"
     ]
    },
    {
     "name": "stdout",
     "output_type": "stream",
     "text": [
      "6 0.9824102154372408 951 2.2434324888137116 0.97430835891183 0.4820872586150287 2.3178571826710783\n",
      "0.7620635156445885\n"
     ]
    },
    {
     "name": "stderr",
     "output_type": "stream",
     "text": [
      "/data/xiayunpeng/anaconda3/envs/BERT/lib/python3.6/site-packages/sklearn/utils/validation.py:72: FutureWarning: Pass shuffle=True, random_state=0 as keyword args. From version 1.0 (renaming of 0.25) passing these as positional arguments will result in an error\n",
      "  \"will result in an error\", FutureWarning)\n"
     ]
    },
    {
     "name": "stdout",
     "output_type": "stream",
     "text": [
      "6 0.7703568360778903 951 0.7098544341373209 0.06315575837500931 0.9820678169236228 1.8622034693893044\n",
      "0.8245094360010741\n",
      "| \u001b[95m20       \u001b[0m | \u001b[95m0.8245   \u001b[0m | \u001b[95m0.9821   \u001b[0m | \u001b[95m0.7099   \u001b[0m | \u001b[95m0.06316  \u001b[0m | \u001b[95m6.859    \u001b[0m | \u001b[95m1.862    \u001b[0m | \u001b[95m951.8    \u001b[0m | \u001b[95m0.7704   \u001b[0m |\n"
     ]
    },
    {
     "name": "stderr",
     "output_type": "stream",
     "text": [
      "/data/xiayunpeng/anaconda3/envs/BERT/lib/python3.6/site-packages/sklearn/utils/validation.py:72: FutureWarning: Pass shuffle=True, random_state=0 as keyword args. From version 1.0 (renaming of 0.25) passing these as positional arguments will result in an error\n",
      "  \"will result in an error\", FutureWarning)\n"
     ]
    },
    {
     "name": "stdout",
     "output_type": "stream",
     "text": [
      "6 0.8269208910670005 952 1.3573959973382055 0.5681378733571453 0.8650261961850749 1.3567747243696755\n",
      "0.7851404706502899\n"
     ]
    },
    {
     "name": "stderr",
     "output_type": "stream",
     "text": [
      "/data/xiayunpeng/anaconda3/envs/BERT/lib/python3.6/site-packages/sklearn/utils/validation.py:72: FutureWarning: Pass shuffle=True, random_state=0 as keyword args. From version 1.0 (renaming of 0.25) passing these as positional arguments will result in an error\n",
      "  \"will result in an error\", FutureWarning)\n"
     ]
    },
    {
     "name": "stdout",
     "output_type": "stream",
     "text": [
      "7 0.9341503757986757 951 0.8192871875580482 0.47098384983312 0.5014351913209267 2.691526389102208\n",
      "0.7893716898025357\n"
     ]
    },
    {
     "name": "stderr",
     "output_type": "stream",
     "text": [
      "/data/xiayunpeng/anaconda3/envs/BERT/lib/python3.6/site-packages/sklearn/utils/validation.py:72: FutureWarning: Pass shuffle=True, random_state=0 as keyword args. From version 1.0 (renaming of 0.25) passing these as positional arguments will result in an error\n",
      "  \"will result in an error\", FutureWarning)\n"
     ]
    },
    {
     "name": "stdout",
     "output_type": "stream",
     "text": [
      "6 0.5532880223280028 953 3.955504090349757 0.21324633212529875 0.3941773147884253 3.474666338425548\n",
      "0.8016888390198551\n"
     ]
    },
    {
     "name": "stderr",
     "output_type": "stream",
     "text": [
      "/data/xiayunpeng/anaconda3/envs/BERT/lib/python3.6/site-packages/sklearn/utils/validation.py:72: FutureWarning: Pass shuffle=True, random_state=0 as keyword args. From version 1.0 (renaming of 0.25) passing these as positional arguments will result in an error\n",
      "  \"will result in an error\", FutureWarning)\n"
     ]
    },
    {
     "name": "stdout",
     "output_type": "stream",
     "text": [
      "6 0.903186548223215 950 1.3146002827543217 0.29648996101711433 0.9610187410470845 1.540091688968904\n",
      "0.8057215632152724\n"
     ]
    },
    {
     "name": "stderr",
     "output_type": "stream",
     "text": [
      "/data/xiayunpeng/anaconda3/envs/BERT/lib/python3.6/site-packages/sklearn/utils/validation.py:72: FutureWarning: Pass shuffle=True, random_state=0 as keyword args. From version 1.0 (renaming of 0.25) passing these as positional arguments will result in an error\n",
      "  \"will result in an error\", FutureWarning)\n"
     ]
    },
    {
     "name": "stdout",
     "output_type": "stream",
     "text": [
      "6 0.7412962304394894 953 3.6161741123956306 0.09228951775040084 0.8515320711086314 1.768881570707337\n",
      "0.8229715891894471\n"
     ]
    },
    {
     "name": "stderr",
     "output_type": "stream",
     "text": [
      "/data/xiayunpeng/anaconda3/envs/BERT/lib/python3.6/site-packages/sklearn/utils/validation.py:72: FutureWarning: Pass shuffle=True, random_state=0 as keyword args. From version 1.0 (renaming of 0.25) passing these as positional arguments will result in an error\n",
      "  \"will result in an error\", FutureWarning)\n"
     ]
    },
    {
     "name": "stdout",
     "output_type": "stream",
     "text": [
      "7 0.8666796319492387 951 1.0147556824983417 0.20061143699367823 0.7221331586797848 1.1762926991131382\n",
      "0.8122213894227833\n"
     ]
    },
    {
     "name": "stderr",
     "output_type": "stream",
     "text": [
      "/data/xiayunpeng/anaconda3/envs/BERT/lib/python3.6/site-packages/sklearn/utils/validation.py:72: FutureWarning: Pass shuffle=True, random_state=0 as keyword args. From version 1.0 (renaming of 0.25) passing these as positional arguments will result in an error\n",
      "  \"will result in an error\", FutureWarning)\n"
     ]
    },
    {
     "name": "stdout",
     "output_type": "stream",
     "text": [
      "7 0.9752716605907428 954 4.611609244849646 0.24315846490945459 0.602950881084044 2.7942763143124054\n",
      "0.8071329808157515\n"
     ]
    },
    {
     "name": "stderr",
     "output_type": "stream",
     "text": [
      "/data/xiayunpeng/anaconda3/envs/BERT/lib/python3.6/site-packages/sklearn/utils/validation.py:72: FutureWarning: Pass shuffle=True, random_state=0 as keyword args. From version 1.0 (renaming of 0.25) passing these as positional arguments will result in an error\n",
      "  \"will result in an error\", FutureWarning)\n"
     ]
    },
    {
     "name": "stdout",
     "output_type": "stream",
     "text": [
      "6 0.907387568467473 954 3.2380636374799847 0.2226111827197882 0.3773995092830664 2.48822870678956\n",
      "0.8081699946041837\n"
     ]
    },
    {
     "name": "stderr",
     "output_type": "stream",
     "text": [
      "/data/xiayunpeng/anaconda3/envs/BERT/lib/python3.6/site-packages/sklearn/utils/validation.py:72: FutureWarning: Pass shuffle=True, random_state=0 as keyword args. From version 1.0 (renaming of 0.25) passing these as positional arguments will result in an error\n",
      "  \"will result in an error\", FutureWarning)\n"
     ]
    },
    {
     "name": "stdout",
     "output_type": "stream",
     "text": [
      "9 0.7019800500651558 956 3.0976108957341957 0.03417809533325877 0.7634410752136505 2.089150891703206\n",
      "0.8264571771452351\n",
      "| \u001b[95m29       \u001b[0m | \u001b[95m0.8265   \u001b[0m | \u001b[95m0.7634   \u001b[0m | \u001b[95m3.098    \u001b[0m | \u001b[95m0.03418  \u001b[0m | \u001b[95m9.307    \u001b[0m | \u001b[95m2.089    \u001b[0m | \u001b[95m956.0    \u001b[0m | \u001b[95m0.702    \u001b[0m |\n"
     ]
    },
    {
     "name": "stderr",
     "output_type": "stream",
     "text": [
      "/data/xiayunpeng/anaconda3/envs/BERT/lib/python3.6/site-packages/sklearn/utils/validation.py:72: FutureWarning: Pass shuffle=True, random_state=0 as keyword args. From version 1.0 (renaming of 0.25) passing these as positional arguments will result in an error\n",
      "  \"will result in an error\", FutureWarning)\n"
     ]
    },
    {
     "name": "stdout",
     "output_type": "stream",
     "text": [
      "9 0.7800087913402379 956 2.287896548848385 0.13068469930351667 0.2667453107028225 3.496207736293896\n",
      "0.8121648055537957\n",
      "=============================================================================================================\n"
     ]
    }
   ],
   "source": [
    "trainData = trainData.reshape(9126,-1)\n",
    "# 定义超参数空间\n",
    "xgb_params = {\n",
    "      'learning_rate': (0, 1),  # 学习率\n",
    "    'n_estimators':(50,1000),\n",
    "      'max_depth': (3, 15),  # 最大深度\n",
    "      'min_child_weight': (1, 6),  # 最小子节点权重\n",
    "      'subsample': (0.5, 1),  # 行采样比例\n",
    "      'colsample_bytree': (0.2, 1),  # 列采样比例\n",
    "      'gamma': (0, 5)  # 惩罚系数\n",
    "  }\n",
    "\n",
    "# 定义优化目标函数\n",
    "def cv_score(**params):\n",
    "    params['max_depth'] = int(params['max_depth'])\n",
    "    params['n_estimators'] = int(params['n_estimators'])\n",
    "\n",
    "    Auc = []\n",
    "    kf = KFold(10,True,0)\n",
    "    for i,[train_index, test_index] in enumerate(kf.split(trainData)):\n",
    "        X_train = trainData[train_index]\n",
    "        X_test = trainData[test_index]\n",
    "        Y_train = trainLabel[train_index]\n",
    "        Y_test = trainLabel[test_index]\n",
    "        clf_xgb = XGBClassifier(eval_metric=['logloss','auc','error'],max_depth = params['max_depth'],subsample=params['subsample'],\n",
    "              n_estimators= params['n_estimators'],gamma=params['gamma'],learning_rate= params['learning_rate'],colsample_bytree=params['colsample_bytree'],min_child_weight=params['min_child_weight'])\n",
    "        \n",
    "        clf_xgb.fit(X_train,Y_train)\n",
    "        Auc.append(roc_auc_score(Y_test,clf_xgb.predict_proba(X_test)[:,1]))\n",
    "    print(params['max_depth'],params['subsample'],params['n_estimators'],\n",
    "          params['gamma'],params['learning_rate'],params['colsample_bytree'],params['min_child_weight'])\n",
    "    print(sum(Auc) / len(Auc))\n",
    "    return sum(Auc) / len(Auc)\n",
    "\n",
    "# 进行优化\n",
    "xgb_bo = BayesianOptimization(cv_score, xgb_params, verbose=1, random_state=42)\n",
    "xgb_bo.maximize()"
   ]
  },
  {
   "cell_type": "code",
   "execution_count": 60,
   "id": "c4f19a70",
   "metadata": {
    "ExecuteTime": {
     "end_time": "2023-05-21T00:00:49.950130Z",
     "start_time": "2023-05-21T00:00:49.945421Z"
    }
   },
   "outputs": [
    {
     "name": "stdout",
     "output_type": "stream",
     "text": [
      "{'colsample_bytree': 0.7634410752136505, 'gamma': 3.0976108957341957, 'learning_rate': 0.03417809533325877, 'max_depth': 9.30689982009134, 'min_child_weight': 2.089150891703206, 'n_estimators': 956.038699105076, 'subsample': 0.7019800500651558}\n"
     ]
    }
   ],
   "source": [
    "# 输出优化结果\n",
    "best_params = xgb_bo.max['params']\n",
    "print(best_params)\n",
    "#XGBoost优化结果\n",
    "#target:0.8265\n",
    "#{'colsample_bytree': 0.7634410752136505, 'gamma': 3.0976108957341957, 'learning_rate': 0.03417809533325877, \n",
    "# 'max_depth': 9.30689982009134, 'min_child_weight': 2.089150891703206, 'n_estimators': 956.038699105076, 'subsample': 0.7019800500651558}"
   ]
  },
  {
   "cell_type": "markdown",
   "id": "2acefcc2",
   "metadata": {
    "ExecuteTime": {
     "end_time": "2023-05-20T06:09:23.893466Z",
     "start_time": "2023-05-20T06:09:23.890008Z"
    }
   },
   "source": [
    "# SVM优化"
   ]
  },
  {
   "cell_type": "code",
   "execution_count": 56,
   "id": "51e876f2",
   "metadata": {
    "ExecuteTime": {
     "end_time": "2023-05-20T06:39:56.592606Z",
     "start_time": "2023-05-20T06:39:56.579855Z"
    }
   },
   "outputs": [],
   "source": [
    "from thundersvm import SVC\n",
    "\n",
    "# 定义目标函数，即SVM分类器的交叉验证准确率\n",
    "def svm_evaluate(param_c, param_gamma):\n",
    "#     clf = SVC(kernel='rbf', C=C, gamma=gamma)\n",
    "#     scores = cross_val_score(clf, X, y, cv=5)\n",
    "    \n",
    "    Auc = []\n",
    "    kf = KFold(10,True,0)\n",
    "    for i,[train_index, test_index] in enumerate(kf.split(trainData)):\n",
    "        X_train = trainData[train_index]\n",
    "        X_test = trainData[test_index]\n",
    "        Y_train = trainLabel[train_index]\n",
    "        Y_test = trainLabel[test_index]\n",
    "        #clf = SVC(kernel='polynomial', C=C, gamma=gamma)\n",
    "        clf = SVC(C=param_c,gamma=param_gamma)\n",
    "        \n",
    "        clf.fit(X_train,Y_train)\n",
    "        Auc.append(roc_auc_score(Y_test,clf.decision_function(X_test)))\n",
    "    print(\"C; \",param_c)\n",
    "    print(\"gamma: \",param_gamma)\n",
    "    print(sum(Auc) / len(Auc))\n",
    "    return sum(Auc) / len(Auc)\n",
    "\n",
    "# 定义搜索空间\n",
    "pbounds = {'param_c': (1e-3, 100), 'param_gamma': (1e-4, 20)}"
   ]
  },
  {
   "cell_type": "code",
   "execution_count": 57,
   "id": "24ddcf5e",
   "metadata": {
    "ExecuteTime": {
     "end_time": "2023-05-20T06:43:28.634940Z",
     "start_time": "2023-05-20T06:39:57.229435Z"
    }
   },
   "outputs": [
    {
     "name": "stdout",
     "output_type": "stream",
     "text": [
      "|   iter    |  target   |  param_c  | param_... |\n",
      "-------------------------------------------------\n"
     ]
    },
    {
     "name": "stderr",
     "output_type": "stream",
     "text": [
      "/data/xiayunpeng/anaconda3/envs/BERT/lib/python3.6/site-packages/sklearn/utils/validation.py:72: FutureWarning: Pass shuffle=True, random_state=0 as keyword args. From version 1.0 (renaming of 0.25) passing these as positional arguments will result in an error\n",
      "  \"will result in an error\", FutureWarning)\n"
     ]
    },
    {
     "name": "stdout",
     "output_type": "stream",
     "text": [
      "C;  37.454637344617396\n",
      "gamma:  19.014291056767682\n",
      "0.790634359689379\n",
      "| \u001b[0m1        \u001b[0m | \u001b[0m0.7906   \u001b[0m | \u001b[0m37.45    \u001b[0m | \u001b[0m19.01    \u001b[0m |\n"
     ]
    },
    {
     "name": "stderr",
     "output_type": "stream",
     "text": [
      "/data/xiayunpeng/anaconda3/envs/BERT/lib/python3.6/site-packages/sklearn/utils/validation.py:72: FutureWarning: Pass shuffle=True, random_state=0 as keyword args. From version 1.0 (renaming of 0.25) passing these as positional arguments will result in an error\n",
      "  \"will result in an error\", FutureWarning)\n"
     ]
    },
    {
     "name": "stdout",
     "output_type": "stream",
     "text": [
      "C;  73.1996621871987\n",
      "gamma:  11.973209818092313\n",
      "0.7953850947638776\n",
      "| \u001b[95m2        \u001b[0m | \u001b[95m0.7954   \u001b[0m | \u001b[95m73.2     \u001b[0m | \u001b[95m11.97    \u001b[0m |\n"
     ]
    },
    {
     "name": "stderr",
     "output_type": "stream",
     "text": [
      "/data/xiayunpeng/anaconda3/envs/BERT/lib/python3.6/site-packages/sklearn/utils/validation.py:72: FutureWarning: Pass shuffle=True, random_state=0 as keyword args. From version 1.0 (renaming of 0.25) passing these as positional arguments will result in an error\n",
      "  \"will result in an error\", FutureWarning)\n"
     ]
    },
    {
     "name": "stdout",
     "output_type": "stream",
     "text": [
      "C;  15.602708025603208\n",
      "gamma:  3.1199748072720195\n",
      "0.8362855828310213\n",
      "| \u001b[95m3        \u001b[0m | \u001b[95m0.8363   \u001b[0m | \u001b[95m15.6     \u001b[0m | \u001b[95m3.12     \u001b[0m |\n"
     ]
    },
    {
     "name": "stderr",
     "output_type": "stream",
     "text": [
      "/data/xiayunpeng/anaconda3/envs/BERT/lib/python3.6/site-packages/sklearn/utils/validation.py:72: FutureWarning: Pass shuffle=True, random_state=0 as keyword args. From version 1.0 (renaming of 0.25) passing these as positional arguments will result in an error\n",
      "  \"will result in an error\", FutureWarning)\n"
     ]
    },
    {
     "name": "stdout",
     "output_type": "stream",
     "text": [
      "C;  5.809303133207778\n",
      "gamma:  17.323536297884125\n",
      "0.8354957623597429\n",
      "| \u001b[0m4        \u001b[0m | \u001b[0m0.8355   \u001b[0m | \u001b[0m5.809    \u001b[0m | \u001b[0m17.32    \u001b[0m |\n"
     ]
    },
    {
     "name": "stderr",
     "output_type": "stream",
     "text": [
      "/data/xiayunpeng/anaconda3/envs/BERT/lib/python3.6/site-packages/sklearn/utils/validation.py:72: FutureWarning: Pass shuffle=True, random_state=0 as keyword args. From version 1.0 (renaming of 0.25) passing these as positional arguments will result in an error\n",
      "  \"will result in an error\", FutureWarning)\n"
     ]
    },
    {
     "name": "stdout",
     "output_type": "stream",
     "text": [
      "C;  60.11190005930913\n",
      "gamma:  14.16148074866313\n",
      "0.7917685010493182\n",
      "| \u001b[0m5        \u001b[0m | \u001b[0m0.7918   \u001b[0m | \u001b[0m60.11    \u001b[0m | \u001b[0m14.16    \u001b[0m |\n"
     ]
    },
    {
     "name": "stderr",
     "output_type": "stream",
     "text": [
      "/data/xiayunpeng/anaconda3/envs/BERT/lib/python3.6/site-packages/sklearn/utils/validation.py:72: FutureWarning: Pass shuffle=True, random_state=0 as keyword args. From version 1.0 (renaming of 0.25) passing these as positional arguments will result in an error\n",
      "  \"will result in an error\", FutureWarning)\n"
     ]
    },
    {
     "name": "stdout",
     "output_type": "stream",
     "text": [
      "C;  0.0010000000000047748\n",
      "gamma:  0.0001\n",
      "0.8243965835370941\n",
      "| \u001b[0m6        \u001b[0m | \u001b[0m0.8244   \u001b[0m | \u001b[0m0.001    \u001b[0m | \u001b[0m0.0001   \u001b[0m |\n"
     ]
    },
    {
     "name": "stderr",
     "output_type": "stream",
     "text": [
      "/data/xiayunpeng/anaconda3/envs/BERT/lib/python3.6/site-packages/sklearn/utils/validation.py:72: FutureWarning: Pass shuffle=True, random_state=0 as keyword args. From version 1.0 (renaming of 0.25) passing these as positional arguments will result in an error\n",
      "  \"will result in an error\", FutureWarning)\n"
     ]
    },
    {
     "name": "stdout",
     "output_type": "stream",
     "text": [
      "C;  16.290789919751614\n",
      "gamma:  4.081256436086181\n",
      "0.8366505358836719\n",
      "| \u001b[95m7        \u001b[0m | \u001b[95m0.8367   \u001b[0m | \u001b[95m16.29    \u001b[0m | \u001b[95m4.081    \u001b[0m |\n"
     ]
    },
    {
     "name": "stderr",
     "output_type": "stream",
     "text": [
      "/data/xiayunpeng/anaconda3/envs/BERT/lib/python3.6/site-packages/sklearn/utils/validation.py:72: FutureWarning: Pass shuffle=True, random_state=0 as keyword args. From version 1.0 (renaming of 0.25) passing these as positional arguments will result in an error\n",
      "  \"will result in an error\", FutureWarning)\n"
     ]
    },
    {
     "name": "stdout",
     "output_type": "stream",
     "text": [
      "C;  100.0\n",
      "gamma:  0.0001\n",
      "0.8340325363378718\n",
      "| \u001b[0m8        \u001b[0m | \u001b[0m0.834    \u001b[0m | \u001b[0m100.0    \u001b[0m | \u001b[0m0.0001   \u001b[0m |\n"
     ]
    },
    {
     "name": "stderr",
     "output_type": "stream",
     "text": [
      "/data/xiayunpeng/anaconda3/envs/BERT/lib/python3.6/site-packages/sklearn/utils/validation.py:72: FutureWarning: Pass shuffle=True, random_state=0 as keyword args. From version 1.0 (renaming of 0.25) passing these as positional arguments will result in an error\n",
      "  \"will result in an error\", FutureWarning)\n"
     ]
    },
    {
     "name": "stdout",
     "output_type": "stream",
     "text": [
      "C;  100.0\n",
      "gamma:  20.0\n",
      "0.7573857808742197\n",
      "| \u001b[0m9        \u001b[0m | \u001b[0m0.7574   \u001b[0m | \u001b[0m100.0    \u001b[0m | \u001b[0m20.0     \u001b[0m |\n"
     ]
    },
    {
     "name": "stderr",
     "output_type": "stream",
     "text": [
      "/data/xiayunpeng/anaconda3/envs/BERT/lib/python3.6/site-packages/sklearn/utils/validation.py:72: FutureWarning: Pass shuffle=True, random_state=0 as keyword args. From version 1.0 (renaming of 0.25) passing these as positional arguments will result in an error\n",
      "  \"will result in an error\", FutureWarning)\n"
     ]
    },
    {
     "name": "stdout",
     "output_type": "stream",
     "text": [
      "C;  30.80847851059352\n",
      "gamma:  0.0001\n",
      "0.8340308535095119\n",
      "| \u001b[0m10       \u001b[0m | \u001b[0m0.834    \u001b[0m | \u001b[0m30.81    \u001b[0m | \u001b[0m0.0001   \u001b[0m |\n"
     ]
    },
    {
     "name": "stderr",
     "output_type": "stream",
     "text": [
      "/data/xiayunpeng/anaconda3/envs/BERT/lib/python3.6/site-packages/sklearn/utils/validation.py:72: FutureWarning: Pass shuffle=True, random_state=0 as keyword args. From version 1.0 (renaming of 0.25) passing these as positional arguments will result in an error\n",
      "  \"will result in an error\", FutureWarning)\n"
     ]
    },
    {
     "name": "stdout",
     "output_type": "stream",
     "text": [
      "C;  86.71001934235983\n",
      "gamma:  0.0001\n",
      "0.8340320557898752\n",
      "| \u001b[0m11       \u001b[0m | \u001b[0m0.834    \u001b[0m | \u001b[0m86.71    \u001b[0m | \u001b[0m0.0001   \u001b[0m |\n"
     ]
    },
    {
     "name": "stderr",
     "output_type": "stream",
     "text": [
      "/data/xiayunpeng/anaconda3/envs/BERT/lib/python3.6/site-packages/sklearn/utils/validation.py:72: FutureWarning: Pass shuffle=True, random_state=0 as keyword args. From version 1.0 (renaming of 0.25) passing these as positional arguments will result in an error\n",
      "  \"will result in an error\", FutureWarning)\n"
     ]
    },
    {
     "name": "stdout",
     "output_type": "stream",
     "text": [
      "C;  16.118519504984427\n",
      "gamma:  20.0\n",
      "0.8148454019346272\n",
      "| \u001b[0m12       \u001b[0m | \u001b[0m0.8148   \u001b[0m | \u001b[0m16.12    \u001b[0m | \u001b[0m20.0     \u001b[0m |\n"
     ]
    },
    {
     "name": "stderr",
     "output_type": "stream",
     "text": [
      "/data/xiayunpeng/anaconda3/envs/BERT/lib/python3.6/site-packages/sklearn/utils/validation.py:72: FutureWarning: Pass shuffle=True, random_state=0 as keyword args. From version 1.0 (renaming of 0.25) passing these as positional arguments will result in an error\n",
      "  \"will result in an error\", FutureWarning)\n"
     ]
    },
    {
     "name": "stdout",
     "output_type": "stream",
     "text": [
      "C;  47.395027322377274\n",
      "gamma:  0.0001\n",
      "0.8340351732511417\n",
      "| \u001b[0m13       \u001b[0m | \u001b[0m0.834    \u001b[0m | \u001b[0m47.4     \u001b[0m | \u001b[0m0.0001   \u001b[0m |\n"
     ]
    },
    {
     "name": "stderr",
     "output_type": "stream",
     "text": [
      "/data/xiayunpeng/anaconda3/envs/BERT/lib/python3.6/site-packages/sklearn/utils/validation.py:72: FutureWarning: Pass shuffle=True, random_state=0 as keyword args. From version 1.0 (renaming of 0.25) passing these as positional arguments will result in an error\n",
      "  \"will result in an error\", FutureWarning)\n"
     ]
    },
    {
     "name": "stdout",
     "output_type": "stream",
     "text": [
      "C;  64.74266357600322\n",
      "gamma:  0.0001\n",
      "0.8340294169053198\n",
      "| \u001b[0m14       \u001b[0m | \u001b[0m0.834    \u001b[0m | \u001b[0m64.74    \u001b[0m | \u001b[0m0.0001   \u001b[0m |\n"
     ]
    },
    {
     "name": "stderr",
     "output_type": "stream",
     "text": [
      "/data/xiayunpeng/anaconda3/envs/BERT/lib/python3.6/site-packages/sklearn/utils/validation.py:72: FutureWarning: Pass shuffle=True, random_state=0 as keyword args. From version 1.0 (renaming of 0.25) passing these as positional arguments will result in an error\n",
      "  \"will result in an error\", FutureWarning)\n"
     ]
    },
    {
     "name": "stdout",
     "output_type": "stream",
     "text": [
      "C;  0.36715337272985327\n",
      "gamma:  19.558961283844322\n",
      "0.8349176271683744\n",
      "| \u001b[0m15       \u001b[0m | \u001b[0m0.8349   \u001b[0m | \u001b[0m0.3672   \u001b[0m | \u001b[0m19.56    \u001b[0m |\n"
     ]
    },
    {
     "name": "stderr",
     "output_type": "stream",
     "text": [
      "/data/xiayunpeng/anaconda3/envs/BERT/lib/python3.6/site-packages/sklearn/utils/validation.py:72: FutureWarning: Pass shuffle=True, random_state=0 as keyword args. From version 1.0 (renaming of 0.25) passing these as positional arguments will result in an error\n",
      "  \"will result in an error\", FutureWarning)\n"
     ]
    },
    {
     "name": "stdout",
     "output_type": "stream",
     "text": [
      "C;  0.001\n",
      "gamma:  11.166644340527716\n",
      "0.8342803593045511\n",
      "| \u001b[0m16       \u001b[0m | \u001b[0m0.8343   \u001b[0m | \u001b[0m0.001    \u001b[0m | \u001b[0m11.17    \u001b[0m |\n"
     ]
    },
    {
     "name": "stderr",
     "output_type": "stream",
     "text": [
      "/data/xiayunpeng/anaconda3/envs/BERT/lib/python3.6/site-packages/sklearn/utils/validation.py:72: FutureWarning: Pass shuffle=True, random_state=0 as keyword args. From version 1.0 (renaming of 0.25) passing these as positional arguments will result in an error\n",
      "  \"will result in an error\", FutureWarning)\n"
     ]
    },
    {
     "name": "stdout",
     "output_type": "stream",
     "text": [
      "C;  75.5976385961322\n",
      "gamma:  0.0001\n",
      "0.8340294169828102\n",
      "| \u001b[0m17       \u001b[0m | \u001b[0m0.834    \u001b[0m | \u001b[0m75.6     \u001b[0m | \u001b[0m0.0001   \u001b[0m |\n"
     ]
    },
    {
     "name": "stderr",
     "output_type": "stream",
     "text": [
      "/data/xiayunpeng/anaconda3/envs/BERT/lib/python3.6/site-packages/sklearn/utils/validation.py:72: FutureWarning: Pass shuffle=True, random_state=0 as keyword args. From version 1.0 (renaming of 0.25) passing these as positional arguments will result in an error\n",
      "  \"will result in an error\", FutureWarning)\n"
     ]
    },
    {
     "name": "stdout",
     "output_type": "stream",
     "text": [
      "C;  9.183327153749683\n",
      "gamma:  8.650912080939154\n",
      "0.8368688360883851\n",
      "| \u001b[95m18       \u001b[0m | \u001b[95m0.8369   \u001b[0m | \u001b[95m9.183    \u001b[0m | \u001b[95m8.651    \u001b[0m |\n"
     ]
    },
    {
     "name": "stderr",
     "output_type": "stream",
     "text": [
      "/data/xiayunpeng/anaconda3/envs/BERT/lib/python3.6/site-packages/sklearn/utils/validation.py:72: FutureWarning: Pass shuffle=True, random_state=0 as keyword args. From version 1.0 (renaming of 0.25) passing these as positional arguments will result in an error\n",
      "  \"will result in an error\", FutureWarning)\n"
     ]
    },
    {
     "name": "stdout",
     "output_type": "stream",
     "text": [
      "C;  22.467687255744398\n",
      "gamma:  0.0001\n",
      "0.8340188299463737\n",
      "| \u001b[0m19       \u001b[0m | \u001b[0m0.834    \u001b[0m | \u001b[0m22.47    \u001b[0m | \u001b[0m0.0001   \u001b[0m |\n"
     ]
    },
    {
     "name": "stderr",
     "output_type": "stream",
     "text": [
      "/data/xiayunpeng/anaconda3/envs/BERT/lib/python3.6/site-packages/sklearn/utils/validation.py:72: FutureWarning: Pass shuffle=True, random_state=0 as keyword args. From version 1.0 (renaming of 0.25) passing these as positional arguments will result in an error\n",
      "  \"will result in an error\", FutureWarning)\n"
     ]
    },
    {
     "name": "stdout",
     "output_type": "stream",
     "text": [
      "C;  55.79069337553597\n",
      "gamma:  0.0001\n",
      "0.8340373374237486\n",
      "| \u001b[0m20       \u001b[0m | \u001b[0m0.834    \u001b[0m | \u001b[0m55.79    \u001b[0m | \u001b[0m0.0001   \u001b[0m |\n"
     ]
    },
    {
     "name": "stderr",
     "output_type": "stream",
     "text": [
      "/data/xiayunpeng/anaconda3/envs/BERT/lib/python3.6/site-packages/sklearn/utils/validation.py:72: FutureWarning: Pass shuffle=True, random_state=0 as keyword args. From version 1.0 (renaming of 0.25) passing these as positional arguments will result in an error\n",
      "  \"will result in an error\", FutureWarning)\n"
     ]
    },
    {
     "name": "stdout",
     "output_type": "stream",
     "text": [
      "C;  39.03798383820023\n",
      "gamma:  0.0001\n",
      "0.8340327731574286\n",
      "| \u001b[0m21       \u001b[0m | \u001b[0m0.834    \u001b[0m | \u001b[0m39.04    \u001b[0m | \u001b[0m0.0001   \u001b[0m |\n"
     ]
    },
    {
     "name": "stderr",
     "output_type": "stream",
     "text": [
      "/data/xiayunpeng/anaconda3/envs/BERT/lib/python3.6/site-packages/sklearn/utils/validation.py:72: FutureWarning: Pass shuffle=True, random_state=0 as keyword args. From version 1.0 (renaming of 0.25) passing these as positional arguments will result in an error\n",
      "  \"will result in an error\", FutureWarning)\n"
     ]
    },
    {
     "name": "stdout",
     "output_type": "stream",
     "text": [
      "C;  94.06225909278959\n",
      "gamma:  0.0001\n",
      "0.8340325357098246\n",
      "| \u001b[0m22       \u001b[0m | \u001b[0m0.834    \u001b[0m | \u001b[0m94.06    \u001b[0m | \u001b[0m0.0001   \u001b[0m |\n"
     ]
    },
    {
     "name": "stderr",
     "output_type": "stream",
     "text": [
      "/data/xiayunpeng/anaconda3/envs/BERT/lib/python3.6/site-packages/sklearn/utils/validation.py:72: FutureWarning: Pass shuffle=True, random_state=0 as keyword args. From version 1.0 (renaming of 0.25) passing these as positional arguments will result in an error\n",
      "  \"will result in an error\", FutureWarning)\n"
     ]
    },
    {
     "name": "stdout",
     "output_type": "stream",
     "text": [
      "C;  4.904144476895672\n",
      "gamma:  13.001006325234139\n",
      "0.8368086751426862\n",
      "| \u001b[0m23       \u001b[0m | \u001b[0m0.8368   \u001b[0m | \u001b[0m4.904    \u001b[0m | \u001b[0m13.0     \u001b[0m |\n"
     ]
    },
    {
     "name": "stderr",
     "output_type": "stream",
     "text": [
      "/data/xiayunpeng/anaconda3/envs/BERT/lib/python3.6/site-packages/sklearn/utils/validation.py:72: FutureWarning: Pass shuffle=True, random_state=0 as keyword args. From version 1.0 (renaming of 0.25) passing these as positional arguments will result in an error\n",
      "  \"will result in an error\", FutureWarning)\n"
     ]
    },
    {
     "name": "stdout",
     "output_type": "stream",
     "text": [
      "C;  13.282470741573812\n",
      "gamma:  8.293214088205003\n",
      "0.836733192820887\n",
      "| \u001b[0m24       \u001b[0m | \u001b[0m0.8367   \u001b[0m | \u001b[0m13.28    \u001b[0m | \u001b[0m8.293    \u001b[0m |\n"
     ]
    },
    {
     "name": "stderr",
     "output_type": "stream",
     "text": [
      "/data/xiayunpeng/anaconda3/envs/BERT/lib/python3.6/site-packages/sklearn/utils/validation.py:72: FutureWarning: Pass shuffle=True, random_state=0 as keyword args. From version 1.0 (renaming of 0.25) passing these as positional arguments will result in an error\n",
      "  \"will result in an error\", FutureWarning)\n"
     ]
    },
    {
     "name": "stdout",
     "output_type": "stream",
     "text": [
      "C;  12.275235178043015\n",
      "gamma:  5.839146058655281\n",
      "0.8367675734235782\n",
      "| \u001b[0m25       \u001b[0m | \u001b[0m0.8368   \u001b[0m | \u001b[0m12.28    \u001b[0m | \u001b[0m5.839    \u001b[0m |\n"
     ]
    },
    {
     "name": "stderr",
     "output_type": "stream",
     "text": [
      "/data/xiayunpeng/anaconda3/envs/BERT/lib/python3.6/site-packages/sklearn/utils/validation.py:72: FutureWarning: Pass shuffle=True, random_state=0 as keyword args. From version 1.0 (renaming of 0.25) passing these as positional arguments will result in an error\n",
      "  \"will result in an error\", FutureWarning)\n"
     ]
    },
    {
     "name": "stdout",
     "output_type": "stream",
     "text": [
      "C;  8.746427083339903\n",
      "gamma:  11.992435379038012\n",
      "0.8363320742511282\n",
      "| \u001b[0m26       \u001b[0m | \u001b[0m0.8363   \u001b[0m | \u001b[0m8.746    \u001b[0m | \u001b[0m11.99    \u001b[0m |\n"
     ]
    },
    {
     "name": "stderr",
     "output_type": "stream",
     "text": [
      "/data/xiayunpeng/anaconda3/envs/BERT/lib/python3.6/site-packages/sklearn/utils/validation.py:72: FutureWarning: Pass shuffle=True, random_state=0 as keyword args. From version 1.0 (renaming of 0.25) passing these as positional arguments will result in an error\n",
      "  \"will result in an error\", FutureWarning)\n"
     ]
    },
    {
     "name": "stdout",
     "output_type": "stream",
     "text": [
      "C;  2.7279267791118103\n",
      "gamma:  15.545077674341302\n",
      "0.8368630876997182\n",
      "| \u001b[0m27       \u001b[0m | \u001b[0m0.8369   \u001b[0m | \u001b[0m2.728    \u001b[0m | \u001b[0m15.55    \u001b[0m |\n"
     ]
    },
    {
     "name": "stderr",
     "output_type": "stream",
     "text": [
      "/data/xiayunpeng/anaconda3/envs/BERT/lib/python3.6/site-packages/sklearn/utils/validation.py:72: FutureWarning: Pass shuffle=True, random_state=0 as keyword args. From version 1.0 (renaming of 0.25) passing these as positional arguments will result in an error\n",
      "  \"will result in an error\", FutureWarning)\n"
     ]
    },
    {
     "name": "stdout",
     "output_type": "stream",
     "text": [
      "C;  14.531517072921568\n",
      "gamma:  6.049100152360729\n",
      "0.8368497309863653\n",
      "| \u001b[0m28       \u001b[0m | \u001b[0m0.8368   \u001b[0m | \u001b[0m14.53    \u001b[0m | \u001b[0m6.049    \u001b[0m |\n"
     ]
    },
    {
     "name": "stderr",
     "output_type": "stream",
     "text": [
      "/data/xiayunpeng/anaconda3/envs/BERT/lib/python3.6/site-packages/sklearn/utils/validation.py:72: FutureWarning: Pass shuffle=True, random_state=0 as keyword args. From version 1.0 (renaming of 0.25) passing these as positional arguments will result in an error\n",
      "  \"will result in an error\", FutureWarning)\n"
     ]
    },
    {
     "name": "stdout",
     "output_type": "stream",
     "text": [
      "C;  11.266098258519854\n",
      "gamma:  8.144142673077573\n",
      "0.8368197932898612\n",
      "| \u001b[0m29       \u001b[0m | \u001b[0m0.8368   \u001b[0m | \u001b[0m11.27    \u001b[0m | \u001b[0m8.144    \u001b[0m |\n"
     ]
    },
    {
     "name": "stderr",
     "output_type": "stream",
     "text": [
      "/data/xiayunpeng/anaconda3/envs/BERT/lib/python3.6/site-packages/sklearn/utils/validation.py:72: FutureWarning: Pass shuffle=True, random_state=0 as keyword args. From version 1.0 (renaming of 0.25) passing these as positional arguments will result in an error\n",
      "  \"will result in an error\", FutureWarning)\n"
     ]
    },
    {
     "name": "stdout",
     "output_type": "stream",
     "text": [
      "C;  21.5237429100287\n",
      "gamma:  5.536621106133444\n",
      "0.8369111400555814\n",
      "| \u001b[95m30       \u001b[0m | \u001b[95m0.8369   \u001b[0m | \u001b[95m21.52    \u001b[0m | \u001b[95m5.537    \u001b[0m |\n",
      "=================================================\n"
     ]
    }
   ],
   "source": [
    "# 实例化贝叶斯优化对象，并运行优化过程\n",
    "optimizer = BayesianOptimization(f=svm_evaluate, pbounds=pbounds, random_state=42)\n",
    "optimizer.maximize(n_iter=25)#,allow_duplicate_points=True)"
   ]
  },
  {
   "cell_type": "code",
   "execution_count": 58,
   "id": "b6d42bd0",
   "metadata": {
    "ExecuteTime": {
     "end_time": "2023-05-20T06:43:28.879451Z",
     "start_time": "2023-05-20T06:43:28.860555Z"
    }
   },
   "outputs": [
    {
     "name": "stdout",
     "output_type": "stream",
     "text": [
      "{'target': 0.8369111400555814, 'params': {'param_c': 21.5237429100287, 'param_gamma': 5.536621106133444}}\n"
     ]
    }
   ],
   "source": [
    "# 打印最优结果\n",
    "print(optimizer.max)\n",
    "#SVM 优化结果\n",
    "#{'target': 0.8369111400555814, 'params': {'param_c': 21.5237429100287, 'param_gamma': 5.536621106133444}}"
   ]
  },
  {
   "cell_type": "markdown",
   "id": "c8e97c57",
   "metadata": {},
   "source": [
    "# CatBoost优化"
   ]
  },
  {
   "cell_type": "code",
   "execution_count": 11,
   "id": "618e2bfb",
   "metadata": {
    "ExecuteTime": {
     "end_time": "2023-05-22T03:02:31.074406Z",
     "start_time": "2023-05-22T03:02:31.030262Z"
    }
   },
   "outputs": [],
   "source": [
    "import catboost as cb\n",
    "from catboost import CatBoostClassifier"
   ]
  },
  {
   "cell_type": "code",
   "execution_count": 12,
   "id": "9c0272ce",
   "metadata": {
    "ExecuteTime": {
     "end_time": "2023-05-22T03:02:32.140847Z",
     "start_time": "2023-05-22T03:02:32.125260Z"
    }
   },
   "outputs": [],
   "source": [
    "# 定义目标函数，即SVM分类器的交叉验证准确率\n",
    "def catboost_evaluate(param_lr, param_depth, param_iterations,param_l2_leaf_reg):\n",
    "    Auc = []\n",
    "    kf = KFold(10,True,0)\n",
    "    for i,[train_index, test_index] in enumerate(kf.split(trainData)):\n",
    "        X_train = trainData[train_index]\n",
    "        X_test = trainData[test_index]\n",
    "        Y_train = trainLabel[train_index]\n",
    "        Y_test = trainLabel[test_index]\n",
    "        #clf = SVC(kernel='polynomial', C=C, gamma=gamma)\n",
    "        clf = CatBoostClassifier(learning_rate=param_lr,depth=int(param_depth),\n",
    "                                 iterations=int(param_iterations),l2_leaf_reg=param_l2_leaf_reg,task_type=\"GPU\",verbose=0)\n",
    "        \n",
    "        clf.fit(X_train,Y_train)\n",
    "        Auc.append(roc_auc_score(Y_test,clf.predict_proba(X_test)[:,1]))\n",
    "    print(\"learning_rate: \",param_lr)\n",
    "    print(\"depth: \",int(param_depth))\n",
    "    print(\"iterations: \",int(param_iterations))\n",
    "    print(\"l2_leaf_reg: \",param_l2_leaf_reg)\n",
    "    print(sum(Auc) / len(Auc))\n",
    "    return sum(Auc) / len(Auc)\n",
    "\n",
    "# 定义搜索空间\n",
    "pbounds = {'param_lr': (0.01, 0.3),'param_depth':(4,10),'param_iterations': (200,1200),\n",
    "           'param_l2_leaf_reg':(1,8)}"
   ]
  },
  {
   "cell_type": "code",
   "execution_count": 13,
   "id": "5ae36184",
   "metadata": {
    "ExecuteTime": {
     "end_time": "2023-05-22T05:47:09.500993Z",
     "start_time": "2023-05-22T03:02:35.073375Z"
    }
   },
   "outputs": [
    {
     "name": "stdout",
     "output_type": "stream",
     "text": [
      "|   iter    |  target   | param_... | param_... | param_... | param_lr  |\n",
      "-------------------------------------------------------------------------\n"
     ]
    },
    {
     "name": "stderr",
     "output_type": "stream",
     "text": [
      "/data/xiayunpeng/anaconda3/envs/BERT/lib/python3.6/site-packages/sklearn/utils/validation.py:72: FutureWarning: Pass shuffle=True, random_state=0 as keyword args. From version 1.0 (renaming of 0.25) passing these as positional arguments will result in an error\n",
      "  \"will result in an error\", FutureWarning)\n",
      "Warning: less than 75% gpu memory available for training. Free: 9118.9375 Total: 12196.125\n",
      "Warning: less than 75% gpu memory available for training. Free: 8708.9375 Total: 12196.125\n",
      "Warning: less than 75% gpu memory available for training. Free: 8338.9375 Total: 12196.125\n",
      "Warning: less than 75% gpu memory available for training. Free: 8002.9375 Total: 12196.125\n"
     ]
    },
    {
     "name": "stdout",
     "output_type": "stream",
     "text": [
      "learning_rate:  0.18361096041714062\n",
      "depth:  6\n",
      "iterations:  1150\n",
      "l2_leaf_reg:  6.123957592679836\n",
      "0.8058093628386299\n",
      "| \u001b[0m1        \u001b[0m | \u001b[0m0.8058   \u001b[0m | \u001b[0m6.247    \u001b[0m | \u001b[0m1.151e+03\u001b[0m | \u001b[0m6.124    \u001b[0m | \u001b[0m0.1836   \u001b[0m |\n"
     ]
    },
    {
     "name": "stderr",
     "output_type": "stream",
     "text": [
      "/data/xiayunpeng/anaconda3/envs/BERT/lib/python3.6/site-packages/sklearn/utils/validation.py:72: FutureWarning: Pass shuffle=True, random_state=0 as keyword args. From version 1.0 (renaming of 0.25) passing these as positional arguments will result in an error\n",
      "  \"will result in an error\", FutureWarning)\n",
      "Warning: less than 75% gpu memory available for training. Free: 7700.9375 Total: 12196.125\n",
      "Warning: less than 75% gpu memory available for training. Free: 7700.9375 Total: 12196.125\n",
      "Warning: less than 75% gpu memory available for training. Free: 476.9375 Total: 12196.125\n",
      "Warning: less than 75% gpu memory available for training. Free: 585 Total: 12196.125\n",
      "Warning: less than 75% gpu memory available for training. Free: 476.9375 Total: 12196.125\n",
      "Warning: less than 75% gpu memory available for training. Free: 585 Total: 12196.125\n",
      "Warning: less than 75% gpu memory available for training. Free: 476.9375 Total: 12196.125\n",
      "Warning: less than 75% gpu memory available for training. Free: 585 Total: 12196.125\n",
      "Warning: less than 75% gpu memory available for training. Free: 476.9375 Total: 12196.125\n",
      "Warning: less than 75% gpu memory available for training. Free: 585 Total: 12196.125\n",
      "Warning: less than 75% gpu memory available for training. Free: 476.9375 Total: 12196.125\n",
      "Warning: less than 75% gpu memory available for training. Free: 585 Total: 12196.125\n",
      "Warning: less than 75% gpu memory available for training. Free: 476.9375 Total: 12196.125\n",
      "Warning: less than 75% gpu memory available for training. Free: 585 Total: 12196.125\n",
      "Warning: less than 75% gpu memory available for training. Free: 476.9375 Total: 12196.125\n",
      "Warning: less than 75% gpu memory available for training. Free: 585 Total: 12196.125\n",
      "Warning: less than 75% gpu memory available for training. Free: 908.9375 Total: 12196.125\n",
      "Warning: less than 75% gpu memory available for training. Free: 1113 Total: 12196.125\n"
     ]
    },
    {
     "name": "stdout",
     "output_type": "stream",
     "text": [
      "learning_rate:  0.2611910822747312\n",
      "depth:  4\n",
      "iterations:  355\n",
      "l2_leaf_reg:  1.4065852851773961\n",
      "0.8080474686020738\n",
      "| \u001b[95m2        \u001b[0m | \u001b[95m0.808    \u001b[0m | \u001b[95m4.936    \u001b[0m | \u001b[95m356.0    \u001b[0m | \u001b[95m1.407    \u001b[0m | \u001b[95m0.2612   \u001b[0m |\n"
     ]
    },
    {
     "name": "stderr",
     "output_type": "stream",
     "text": [
      "/data/xiayunpeng/anaconda3/envs/BERT/lib/python3.6/site-packages/sklearn/utils/validation.py:72: FutureWarning: Pass shuffle=True, random_state=0 as keyword args. From version 1.0 (renaming of 0.25) passing these as positional arguments will result in an error\n",
      "  \"will result in an error\", FutureWarning)\n",
      "Warning: less than 75% gpu memory available for training. Free: 908.9375 Total: 12196.125\n",
      "Warning: less than 75% gpu memory available for training. Free: 1113 Total: 12196.125\n",
      "Warning: less than 75% gpu memory available for training. Free: 9118.9375 Total: 12196.125\n",
      "Warning: less than 75% gpu memory available for training. Free: 8708.9375 Total: 12196.125\n",
      "Warning: less than 75% gpu memory available for training. Free: 8338.9375 Total: 12196.125\n",
      "Warning: less than 75% gpu memory available for training. Free: 476.9375 Total: 12196.125\n",
      "Warning: less than 75% gpu memory available for training. Free: 585 Total: 12196.125\n",
      "Warning: less than 75% gpu memory available for training. Free: 476.9375 Total: 12196.125\n",
      "Warning: less than 75% gpu memory available for training. Free: 585 Total: 12196.125\n",
      "Warning: less than 75% gpu memory available for training. Free: 908.9375 Total: 12196.125\n",
      "Warning: less than 75% gpu memory available for training. Free: 1113 Total: 12196.125\n",
      "Warning: less than 75% gpu memory available for training. Free: 1298.9375 Total: 12196.125\n",
      "Warning: less than 75% gpu memory available for training. Free: 1591 Total: 12196.125\n",
      "Warning: less than 75% gpu memory available for training. Free: 1650.9375 Total: 12196.125\n",
      "Warning: less than 75% gpu memory available for training. Free: 2023 Total: 12196.125\n"
     ]
    },
    {
     "name": "stdout",
     "output_type": "stream",
     "text": [
      "learning_rate:  0.29127385712697834\n",
      "depth:  7\n",
      "iterations:  908\n",
      "l2_leaf_reg:  1.1440914600706171\n",
      "0.7890770834662362\n",
      "| \u001b[0m3        \u001b[0m | \u001b[0m0.7891   \u001b[0m | \u001b[0m7.607    \u001b[0m | \u001b[0m908.1    \u001b[0m | \u001b[0m1.144    \u001b[0m | \u001b[0m0.2913   \u001b[0m |\n"
     ]
    },
    {
     "name": "stderr",
     "output_type": "stream",
     "text": [
      "/data/xiayunpeng/anaconda3/envs/BERT/lib/python3.6/site-packages/sklearn/utils/validation.py:72: FutureWarning: Pass shuffle=True, random_state=0 as keyword args. From version 1.0 (renaming of 0.25) passing these as positional arguments will result in an error\n",
      "  \"will result in an error\", FutureWarning)\n",
      "Warning: less than 75% gpu memory available for training. Free: 1968.9375 Total: 12196.125\n",
      "Warning: less than 75% gpu memory available for training. Free: 2411 Total: 12196.125\n",
      "Warning: less than 75% gpu memory available for training. Free: 2256.9375 Total: 12196.125\n",
      "Warning: less than 75% gpu memory available for training. Free: 2763 Total: 12196.125\n",
      "Warning: less than 75% gpu memory available for training. Free: 2256.9375 Total: 12196.125\n",
      "Warning: less than 75% gpu memory available for training. Free: 2763 Total: 12196.125\n",
      "Warning: less than 75% gpu memory available for training. Free: 2256.9375 Total: 12196.125\n",
      "Warning: less than 75% gpu memory available for training. Free: 2763 Total: 12196.125\n",
      "Warning: less than 75% gpu memory available for training. Free: 2256.9375 Total: 12196.125\n",
      "Warning: less than 75% gpu memory available for training. Free: 2763 Total: 12196.125\n",
      "Warning: less than 75% gpu memory available for training. Free: 2516.9375 Total: 12196.125\n",
      "Warning: less than 75% gpu memory available for training. Free: 3081 Total: 12196.125\n",
      "Warning: less than 75% gpu memory available for training. Free: 2516.9375 Total: 12196.125\n",
      "Warning: less than 75% gpu memory available for training. Free: 3081 Total: 12196.125\n",
      "Warning: less than 75% gpu memory available for training. Free: 2516.9375 Total: 12196.125\n",
      "Warning: less than 75% gpu memory available for training. Free: 3081 Total: 12196.125\n",
      "Warning: less than 75% gpu memory available for training. Free: 2750.9375 Total: 12196.125\n",
      "Warning: less than 75% gpu memory available for training. Free: 3367 Total: 12196.125\n",
      "Warning: less than 75% gpu memory available for training. Free: 2750.9375 Total: 12196.125\n",
      "Warning: less than 75% gpu memory available for training. Free: 3367 Total: 12196.125\n"
     ]
    },
    {
     "name": "stdout",
     "output_type": "stream",
     "text": [
      "learning_rate:  0.06318730785749581\n",
      "depth:  8\n",
      "iterations:  412\n",
      "l2_leaf_reg:  2.272774770449704\n",
      "0.818666404837899\n",
      "| \u001b[95m4        \u001b[0m | \u001b[95m0.8187   \u001b[0m | \u001b[95m8.995    \u001b[0m | \u001b[95m412.3    \u001b[0m | \u001b[95m2.273    \u001b[0m | \u001b[95m0.06319  \u001b[0m |\n"
     ]
    },
    {
     "name": "stderr",
     "output_type": "stream",
     "text": [
      "/data/xiayunpeng/anaconda3/envs/BERT/lib/python3.6/site-packages/sklearn/utils/validation.py:72: FutureWarning: Pass shuffle=True, random_state=0 as keyword args. From version 1.0 (renaming of 0.25) passing these as positional arguments will result in an error\n",
      "  \"will result in an error\", FutureWarning)\n",
      "Warning: less than 75% gpu memory available for training. Free: 2750.9375 Total: 12196.125\n",
      "Warning: less than 75% gpu memory available for training. Free: 3367 Total: 12196.125\n",
      "Warning: less than 75% gpu memory available for training. Free: 2960.9375 Total: 12196.125\n",
      "Warning: less than 75% gpu memory available for training. Free: 3625 Total: 12196.125\n",
      "Warning: less than 75% gpu memory available for training. Free: 2960.9375 Total: 12196.125\n",
      "Warning: less than 75% gpu memory available for training. Free: 3625 Total: 12196.125\n",
      "Warning: less than 75% gpu memory available for training. Free: 3150.9375 Total: 12196.125\n",
      "Warning: less than 75% gpu memory available for training. Free: 3857 Total: 12196.125\n",
      "Warning: less than 75% gpu memory available for training. Free: 3322.9375 Total: 12196.125\n",
      "Warning: less than 75% gpu memory available for training. Free: 4069 Total: 12196.125\n",
      "Warning: less than 75% gpu memory available for training. Free: 3476.9375 Total: 12196.125\n",
      "Warning: less than 75% gpu memory available for training. Free: 4259 Total: 12196.125\n",
      "Warning: less than 75% gpu memory available for training. Free: 3616.9375 Total: 12196.125\n",
      "Warning: less than 75% gpu memory available for training. Free: 4431 Total: 12196.125\n",
      "Warning: less than 75% gpu memory available for training. Free: 3742.9375 Total: 12196.125\n",
      "Warning: less than 75% gpu memory available for training. Free: 4585 Total: 12196.125\n",
      "Warning: less than 75% gpu memory available for training. Free: 3854.9375 Total: 12196.125\n",
      "Warning: less than 75% gpu memory available for training. Free: 4723 Total: 12196.125\n"
     ]
    },
    {
     "name": "stdout",
     "output_type": "stream",
     "text": [
      "learning_rate:  0.09445645065743215\n",
      "depth:  5\n",
      "iterations:  724\n",
      "l2_leaf_reg:  4.023615130494811\n",
      "0.8207052290066592\n",
      "| \u001b[95m5        \u001b[0m | \u001b[95m0.8207   \u001b[0m | \u001b[95m5.825    \u001b[0m | \u001b[95m724.8    \u001b[0m | \u001b[95m4.024    \u001b[0m | \u001b[95m0.09446  \u001b[0m |\n"
     ]
    },
    {
     "name": "stderr",
     "output_type": "stream",
     "text": [
      "/data/xiayunpeng/anaconda3/envs/BERT/lib/python3.6/site-packages/sklearn/utils/validation.py:72: FutureWarning: Pass shuffle=True, random_state=0 as keyword args. From version 1.0 (renaming of 0.25) passing these as positional arguments will result in an error\n",
      "  \"will result in an error\", FutureWarning)\n",
      "Warning: less than 75% gpu memory available for training. Free: 9118.9375 Total: 12196.125\n",
      "Warning: less than 75% gpu memory available for training. Free: 8708.9375 Total: 12196.125\n",
      "Warning: less than 75% gpu memory available for training. Free: 8338.9375 Total: 12196.125\n",
      "Warning: less than 75% gpu memory available for training. Free: 8002.9375 Total: 12196.125\n",
      "Warning: less than 75% gpu memory available for training. Free: 7700.9375 Total: 12196.125\n",
      "Warning: less than 75% gpu memory available for training. Free: 7426.9375 Total: 12196.125\n",
      "Warning: less than 75% gpu memory available for training. Free: 9109 Total: 12196.125\n",
      "Warning: less than 75% gpu memory available for training. Free: 7180.9375 Total: 12196.125\n",
      "Warning: less than 75% gpu memory available for training. Free: 8807 Total: 12196.125\n",
      "Warning: less than 75% gpu memory available for training. Free: 6958.9375 Total: 12196.125\n",
      "Warning: less than 75% gpu memory available for training. Free: 8535 Total: 12196.125\n",
      "Warning: less than 75% gpu memory available for training. Free: 6758.9375 Total: 12196.125\n",
      "Warning: less than 75% gpu memory available for training. Free: 8291 Total: 12196.125\n",
      "Warning: less than 75% gpu memory available for training. Free: 6578.9375 Total: 12196.125\n",
      "Warning: less than 75% gpu memory available for training. Free: 8069 Total: 12196.125\n"
     ]
    },
    {
     "name": "stdout",
     "output_type": "stream",
     "text": [
      "learning_rate:  0.17433356158754773\n",
      "depth:  6\n",
      "iterations:  724\n",
      "l2_leaf_reg:  5.197481008482764\n",
      "0.811082237626556\n",
      "| \u001b[0m6        \u001b[0m | \u001b[0m0.8111   \u001b[0m | \u001b[0m6.122    \u001b[0m | \u001b[0m724.9    \u001b[0m | \u001b[0m5.197    \u001b[0m | \u001b[0m0.1743   \u001b[0m |\n"
     ]
    },
    {
     "name": "stderr",
     "output_type": "stream",
     "text": [
      "/data/xiayunpeng/anaconda3/envs/BERT/lib/python3.6/site-packages/sklearn/utils/validation.py:72: FutureWarning: Pass shuffle=True, random_state=0 as keyword args. From version 1.0 (renaming of 0.25) passing these as positional arguments will result in an error\n",
      "  \"will result in an error\", FutureWarning)\n",
      "Warning: less than 75% gpu memory available for training. Free: 6414.9375 Total: 12196.125\n",
      "Warning: less than 75% gpu memory available for training. Free: 7869 Total: 12196.125\n",
      "Warning: less than 75% gpu memory available for training. Free: 6268.9375 Total: 12196.125\n",
      "Warning: less than 75% gpu memory available for training. Free: 7687 Total: 12196.125\n",
      "Warning: less than 75% gpu memory available for training. Free: 6134.9375 Total: 12196.125\n",
      "Warning: less than 75% gpu memory available for training. Free: 7525 Total: 12196.125\n",
      "Warning: less than 75% gpu memory available for training. Free: 6016.9375 Total: 12196.125\n",
      "Warning: less than 75% gpu memory available for training. Free: 7379 Total: 12196.125\n",
      "Warning: less than 75% gpu memory available for training. Free: 5908.9375 Total: 12196.125\n",
      "Warning: less than 75% gpu memory available for training. Free: 7247 Total: 12196.125\n",
      "Warning: less than 75% gpu memory available for training. Free: 5810.9375 Total: 12196.125\n",
      "Warning: less than 75% gpu memory available for training. Free: 7127 Total: 12196.125\n",
      "Warning: less than 75% gpu memory available for training. Free: 5810.9375 Total: 12196.125\n",
      "Warning: less than 75% gpu memory available for training. Free: 7127 Total: 12196.125\n",
      "Warning: less than 75% gpu memory available for training. Free: 5722.9375 Total: 12196.125\n",
      "Warning: less than 75% gpu memory available for training. Free: 7019 Total: 12196.125\n",
      "Warning: less than 75% gpu memory available for training. Free: 5642.9375 Total: 12196.125\n",
      "Warning: less than 75% gpu memory available for training. Free: 6923 Total: 12196.125\n",
      "Warning: less than 75% gpu memory available for training. Free: 5570.9375 Total: 12196.125\n",
      "Warning: less than 75% gpu memory available for training. Free: 6835 Total: 12196.125\n"
     ]
    },
    {
     "name": "stdout",
     "output_type": "stream",
     "text": [
      "learning_rate:  0.03068077097080102\n",
      "depth:  4\n",
      "iterations:  724\n",
      "l2_leaf_reg:  3.1465019488895853\n",
      "0.8198661379445182\n",
      "| \u001b[0m7        \u001b[0m | \u001b[0m0.8199   \u001b[0m | \u001b[0m4.506    \u001b[0m | \u001b[0m724.8    \u001b[0m | \u001b[0m3.147    \u001b[0m | \u001b[0m0.03068  \u001b[0m |\n"
     ]
    },
    {
     "name": "stderr",
     "output_type": "stream",
     "text": [
      "/data/xiayunpeng/anaconda3/envs/BERT/lib/python3.6/site-packages/sklearn/utils/validation.py:72: FutureWarning: Pass shuffle=True, random_state=0 as keyword args. From version 1.0 (renaming of 0.25) passing these as positional arguments will result in an error\n",
      "  \"will result in an error\", FutureWarning)\n",
      "Warning: less than 75% gpu memory available for training. Free: 5506.9375 Total: 12196.125\n",
      "Warning: less than 75% gpu memory available for training. Free: 6755 Total: 12196.125\n",
      "Warning: less than 75% gpu memory available for training. Free: 5448.9375 Total: 12196.125\n",
      "Warning: less than 75% gpu memory available for training. Free: 6683 Total: 12196.125\n",
      "Warning: less than 75% gpu memory available for training. Free: 5396.9375 Total: 12196.125\n",
      "Warning: less than 75% gpu memory available for training. Free: 6619 Total: 12196.125\n",
      "Warning: less than 75% gpu memory available for training. Free: 5348.9375 Total: 12196.125\n",
      "Warning: less than 75% gpu memory available for training. Free: 6561 Total: 12196.125\n",
      "Warning: less than 75% gpu memory available for training. Free: 5304.9375 Total: 12196.125\n",
      "Warning: less than 75% gpu memory available for training. Free: 6509 Total: 12196.125\n",
      "Warning: less than 75% gpu memory available for training. Free: 5264.9375 Total: 12196.125\n",
      "Warning: less than 75% gpu memory available for training. Free: 6461 Total: 12196.125\n",
      "Warning: less than 75% gpu memory available for training. Free: 476.9375 Total: 12196.125\n",
      "Warning: less than 75% gpu memory available for training. Free: 585 Total: 12196.125\n",
      "Warning: less than 75% gpu memory available for training. Free: 908.9375 Total: 12196.125\n",
      "Warning: less than 75% gpu memory available for training. Free: 1113 Total: 12196.125\n",
      "Warning: less than 75% gpu memory available for training. Free: 1298.9375 Total: 12196.125\n",
      "Warning: less than 75% gpu memory available for training. Free: 1591 Total: 12196.125\n",
      "Warning: less than 75% gpu memory available for training. Free: 1650.9375 Total: 12196.125\n",
      "Warning: less than 75% gpu memory available for training. Free: 2023 Total: 12196.125\n"
     ]
    },
    {
     "name": "stdout",
     "output_type": "stream",
     "text": [
      "learning_rate:  0.2917334089926423\n",
      "depth:  7\n",
      "iterations:  725\n",
      "l2_leaf_reg:  1.46577200182942\n",
      "0.7890303495696261\n",
      "| \u001b[0m8        \u001b[0m | \u001b[0m0.789    \u001b[0m | \u001b[0m7.053    \u001b[0m | \u001b[0m725.8    \u001b[0m | \u001b[0m1.466    \u001b[0m | \u001b[0m0.2917   \u001b[0m |\n"
     ]
    },
    {
     "name": "stderr",
     "output_type": "stream",
     "text": [
      "/data/xiayunpeng/anaconda3/envs/BERT/lib/python3.6/site-packages/sklearn/utils/validation.py:72: FutureWarning: Pass shuffle=True, random_state=0 as keyword args. From version 1.0 (renaming of 0.25) passing these as positional arguments will result in an error\n",
      "  \"will result in an error\", FutureWarning)\n",
      "Warning: less than 75% gpu memory available for training. Free: 1968.9375 Total: 12196.125\n",
      "Warning: less than 75% gpu memory available for training. Free: 2411 Total: 12196.125\n",
      "Warning: less than 75% gpu memory available for training. Free: 2256.9375 Total: 12196.125\n",
      "Warning: less than 75% gpu memory available for training. Free: 2763 Total: 12196.125\n",
      "Warning: less than 75% gpu memory available for training. Free: 9118.9375 Total: 12196.125\n",
      "Warning: less than 75% gpu memory available for training. Free: 8708.9375 Total: 12196.125\n",
      "Warning: less than 75% gpu memory available for training. Free: 8338.9375 Total: 12196.125\n",
      "Warning: less than 75% gpu memory available for training. Free: 8002.9375 Total: 12196.125\n",
      "Warning: less than 75% gpu memory available for training. Free: 7700.9375 Total: 12196.125\n",
      "Warning: less than 75% gpu memory available for training. Free: 7426.9375 Total: 12196.125\n",
      "Warning: less than 75% gpu memory available for training. Free: 9109 Total: 12196.125\n",
      "Warning: less than 75% gpu memory available for training. Free: 7180.9375 Total: 12196.125\n",
      "Warning: less than 75% gpu memory available for training. Free: 8807 Total: 12196.125\n"
     ]
    },
    {
     "name": "stdout",
     "output_type": "stream",
     "text": [
      "learning_rate:  0.2993550481459203\n",
      "depth:  4\n",
      "iterations:  723\n",
      "l2_leaf_reg:  4.307921664525555\n",
      "0.8001172467071092\n",
      "| \u001b[0m9        \u001b[0m | \u001b[0m0.8001   \u001b[0m | \u001b[0m4.149    \u001b[0m | \u001b[0m723.5    \u001b[0m | \u001b[0m4.308    \u001b[0m | \u001b[0m0.2994   \u001b[0m |\n"
     ]
    },
    {
     "name": "stderr",
     "output_type": "stream",
     "text": [
      "/data/xiayunpeng/anaconda3/envs/BERT/lib/python3.6/site-packages/sklearn/utils/validation.py:72: FutureWarning: Pass shuffle=True, random_state=0 as keyword args. From version 1.0 (renaming of 0.25) passing these as positional arguments will result in an error\n",
      "  \"will result in an error\", FutureWarning)\n",
      "Warning: less than 75% gpu memory available for training. Free: 6958.9375 Total: 12196.125\n",
      "Warning: less than 75% gpu memory available for training. Free: 8535 Total: 12196.125\n",
      "Warning: less than 75% gpu memory available for training. Free: 6758.9375 Total: 12196.125\n",
      "Warning: less than 75% gpu memory available for training. Free: 8291 Total: 12196.125\n",
      "Warning: less than 75% gpu memory available for training. Free: 6578.9375 Total: 12196.125\n",
      "Warning: less than 75% gpu memory available for training. Free: 6414.9375 Total: 12196.125\n",
      "Warning: less than 75% gpu memory available for training. Free: 6268.9375 Total: 12196.125\n",
      "Warning: less than 75% gpu memory available for training. Free: 6134.9375 Total: 12196.125\n",
      "Warning: less than 75% gpu memory available for training. Free: 6016.9375 Total: 12196.125\n",
      "Warning: less than 75% gpu memory available for training. Free: 5908.9375 Total: 12196.125\n",
      "Warning: less than 75% gpu memory available for training. Free: 5810.9375 Total: 12196.125\n",
      "Warning: less than 75% gpu memory available for training. Free: 9109 Total: 12196.125\n",
      "Warning: less than 75% gpu memory available for training. Free: 5722.9375 Total: 12196.125\n",
      "Warning: less than 75% gpu memory available for training. Free: 8807 Total: 12196.125\n"
     ]
    },
    {
     "name": "stdout",
     "output_type": "stream",
     "text": [
      "learning_rate:  0.14824393044877432\n",
      "depth:  5\n",
      "iterations:  726\n",
      "l2_leaf_reg:  3.9817598744432496\n",
      "0.8129359064920028\n",
      "| \u001b[0m10       \u001b[0m | \u001b[0m0.8129   \u001b[0m | \u001b[0m5.023    \u001b[0m | \u001b[0m726.4    \u001b[0m | \u001b[0m3.982    \u001b[0m | \u001b[0m0.1482   \u001b[0m |\n"
     ]
    },
    {
     "name": "stderr",
     "output_type": "stream",
     "text": [
      "/data/xiayunpeng/anaconda3/envs/BERT/lib/python3.6/site-packages/sklearn/utils/validation.py:72: FutureWarning: Pass shuffle=True, random_state=0 as keyword args. From version 1.0 (renaming of 0.25) passing these as positional arguments will result in an error\n",
      "  \"will result in an error\", FutureWarning)\n",
      "Warning: less than 75% gpu memory available for training. Free: 5642.9375 Total: 12196.125\n",
      "Warning: less than 75% gpu memory available for training. Free: 8535 Total: 12196.125\n",
      "Warning: less than 75% gpu memory available for training. Free: 5642.9375 Total: 12196.125\n",
      "Warning: less than 75% gpu memory available for training. Free: 8535 Total: 12196.125\n",
      "Warning: less than 75% gpu memory available for training. Free: 5570.9375 Total: 12196.125\n",
      "Warning: less than 75% gpu memory available for training. Free: 8291 Total: 12196.125\n",
      "Warning: less than 75% gpu memory available for training. Free: 5570.9375 Total: 12196.125\n",
      "Warning: less than 75% gpu memory available for training. Free: 8291 Total: 12196.125\n",
      "Warning: less than 75% gpu memory available for training. Free: 5570.9375 Total: 12196.125\n",
      "Warning: less than 75% gpu memory available for training. Free: 8291 Total: 12196.125\n",
      "Warning: less than 75% gpu memory available for training. Free: 5506.9375 Total: 12196.125\n",
      "Warning: less than 75% gpu memory available for training. Free: 8069 Total: 12196.125\n",
      "Warning: less than 75% gpu memory available for training. Free: 5506.9375 Total: 12196.125\n",
      "Warning: less than 75% gpu memory available for training. Free: 8069 Total: 12196.125\n",
      "Warning: less than 75% gpu memory available for training. Free: 5448.9375 Total: 12196.125\n",
      "Warning: less than 75% gpu memory available for training. Free: 7869 Total: 12196.125\n",
      "Warning: less than 75% gpu memory available for training. Free: 5448.9375 Total: 12196.125\n",
      "Warning: less than 75% gpu memory available for training. Free: 7869 Total: 12196.125\n",
      "Warning: less than 75% gpu memory available for training. Free: 5448.9375 Total: 12196.125\n",
      "Warning: less than 75% gpu memory available for training. Free: 7869 Total: 12196.125\n"
     ]
    },
    {
     "name": "stdout",
     "output_type": "stream",
     "text": [
      "learning_rate:  0.13051642669778715\n",
      "depth:  7\n",
      "iterations:  411\n",
      "l2_leaf_reg:  2.6862610410788217\n",
      "0.8152696091425298\n",
      "| \u001b[0m11       \u001b[0m | \u001b[0m0.8153   \u001b[0m | \u001b[0m7.852    \u001b[0m | \u001b[0m411.8    \u001b[0m | \u001b[0m2.686    \u001b[0m | \u001b[0m0.1305   \u001b[0m |\n"
     ]
    },
    {
     "name": "stderr",
     "output_type": "stream",
     "text": [
      "/data/xiayunpeng/anaconda3/envs/BERT/lib/python3.6/site-packages/sklearn/utils/validation.py:72: FutureWarning: Pass shuffle=True, random_state=0 as keyword args. From version 1.0 (renaming of 0.25) passing these as positional arguments will result in an error\n",
      "  \"will result in an error\", FutureWarning)\n",
      "Warning: less than 75% gpu memory available for training. Free: 5396.9375 Total: 12196.125\n",
      "Warning: less than 75% gpu memory available for training. Free: 7687 Total: 12196.125\n",
      "Warning: less than 75% gpu memory available for training. Free: 5396.9375 Total: 12196.125\n",
      "Warning: less than 75% gpu memory available for training. Free: 7687 Total: 12196.125\n",
      "Warning: less than 75% gpu memory available for training. Free: 5348.9375 Total: 12196.125\n",
      "Warning: less than 75% gpu memory available for training. Free: 7525 Total: 12196.125\n",
      "Warning: less than 75% gpu memory available for training. Free: 5348.9375 Total: 12196.125\n",
      "Warning: less than 75% gpu memory available for training. Free: 7525 Total: 12196.125\n",
      "Warning: less than 75% gpu memory available for training. Free: 5304.9375 Total: 12196.125\n",
      "Warning: less than 75% gpu memory available for training. Free: 7379 Total: 12196.125\n",
      "Warning: less than 75% gpu memory available for training. Free: 5304.9375 Total: 12196.125\n",
      "Warning: less than 75% gpu memory available for training. Free: 7379 Total: 12196.125\n",
      "Warning: less than 75% gpu memory available for training. Free: 5264.9375 Total: 12196.125\n",
      "Warning: less than 75% gpu memory available for training. Free: 7247 Total: 12196.125\n",
      "Warning: less than 75% gpu memory available for training. Free: 5264.9375 Total: 12196.125\n",
      "Warning: less than 75% gpu memory available for training. Free: 7247 Total: 12196.125\n",
      "Warning: less than 75% gpu memory available for training. Free: 5228.9375 Total: 12196.125\n",
      "Warning: less than 75% gpu memory available for training. Free: 7127 Total: 12196.125\n",
      "Warning: less than 75% gpu memory available for training. Free: 5228.9375 Total: 12196.125\n",
      "Warning: less than 75% gpu memory available for training. Free: 7127 Total: 12196.125\n"
     ]
    },
    {
     "name": "stdout",
     "output_type": "stream",
     "text": [
      "learning_rate:  0.08352904127633767\n",
      "depth:  9\n",
      "iterations:  413\n",
      "l2_leaf_reg:  2.735140767273734\n",
      "0.8156391327115495\n",
      "| \u001b[0m12       \u001b[0m | \u001b[0m0.8156   \u001b[0m | \u001b[0m9.499    \u001b[0m | \u001b[0m413.6    \u001b[0m | \u001b[0m2.735    \u001b[0m | \u001b[0m0.08353  \u001b[0m |\n"
     ]
    },
    {
     "name": "stderr",
     "output_type": "stream",
     "text": [
      "/data/xiayunpeng/anaconda3/envs/BERT/lib/python3.6/site-packages/sklearn/utils/validation.py:72: FutureWarning: Pass shuffle=True, random_state=0 as keyword args. From version 1.0 (renaming of 0.25) passing these as positional arguments will result in an error\n",
      "  \"will result in an error\", FutureWarning)\n",
      "Warning: less than 75% gpu memory available for training. Free: 5196.9375 Total: 12196.125\n",
      "Warning: less than 75% gpu memory available for training. Free: 7019 Total: 12196.125\n",
      "Warning: less than 75% gpu memory available for training. Free: 5196.9375 Total: 12196.125\n",
      "Warning: less than 75% gpu memory available for training. Free: 7019 Total: 12196.125\n",
      "Warning: less than 75% gpu memory available for training. Free: 5168.9375 Total: 12196.125\n",
      "Warning: less than 75% gpu memory available for training. Free: 6923 Total: 12196.125\n",
      "Warning: less than 75% gpu memory available for training. Free: 5168.9375 Total: 12196.125\n",
      "Warning: less than 75% gpu memory available for training. Free: 6923 Total: 12196.125\n",
      "Warning: less than 75% gpu memory available for training. Free: 5144.9375 Total: 12196.125\n",
      "Warning: less than 75% gpu memory available for training. Free: 6835 Total: 12196.125\n",
      "Warning: less than 75% gpu memory available for training. Free: 5144.9375 Total: 12196.125\n",
      "Warning: less than 75% gpu memory available for training. Free: 6835 Total: 12196.125\n",
      "Warning: less than 75% gpu memory available for training. Free: 5120.9375 Total: 12196.125\n",
      "Warning: less than 75% gpu memory available for training. Free: 6755 Total: 12196.125\n",
      "Warning: less than 75% gpu memory available for training. Free: 5120.9375 Total: 12196.125\n",
      "Warning: less than 75% gpu memory available for training. Free: 6755 Total: 12196.125\n",
      "Warning: less than 75% gpu memory available for training. Free: 476.9375 Total: 12196.125\n",
      "Warning: less than 75% gpu memory available for training. Free: 585 Total: 12196.125\n",
      "Warning: less than 75% gpu memory available for training. Free: 476.9375 Total: 12196.125\n",
      "Warning: less than 75% gpu memory available for training. Free: 585 Total: 12196.125\n"
     ]
    },
    {
     "name": "stdout",
     "output_type": "stream",
     "text": [
      "learning_rate:  0.17221121441034795\n",
      "depth:  8\n",
      "iterations:  414\n",
      "l2_leaf_reg:  1.4386092229260719\n",
      "0.8138080523899424\n",
      "| \u001b[0m13       \u001b[0m | \u001b[0m0.8138   \u001b[0m | \u001b[0m8.676    \u001b[0m | \u001b[0m414.0    \u001b[0m | \u001b[0m1.439    \u001b[0m | \u001b[0m0.1722   \u001b[0m |\n"
     ]
    },
    {
     "name": "stderr",
     "output_type": "stream",
     "text": [
      "/data/xiayunpeng/anaconda3/envs/BERT/lib/python3.6/site-packages/sklearn/utils/validation.py:72: FutureWarning: Pass shuffle=True, random_state=0 as keyword args. From version 1.0 (renaming of 0.25) passing these as positional arguments will result in an error\n",
      "  \"will result in an error\", FutureWarning)\n",
      "Warning: less than 75% gpu memory available for training. Free: 476.9375 Total: 12196.125\n",
      "Warning: less than 75% gpu memory available for training. Free: 585 Total: 12196.125\n",
      "Warning: less than 75% gpu memory available for training. Free: 908.9375 Total: 12196.125\n",
      "Warning: less than 75% gpu memory available for training. Free: 1113 Total: 12196.125\n",
      "Warning: less than 75% gpu memory available for training. Free: 908.9375 Total: 12196.125\n",
      "Warning: less than 75% gpu memory available for training. Free: 1113 Total: 12196.125\n",
      "Warning: less than 75% gpu memory available for training. Free: 1298.9375 Total: 12196.125\n",
      "Warning: less than 75% gpu memory available for training. Free: 1591 Total: 12196.125\n",
      "Warning: less than 75% gpu memory available for training. Free: 1650.9375 Total: 12196.125\n",
      "Warning: less than 75% gpu memory available for training. Free: 2023 Total: 12196.125\n",
      "Warning: less than 75% gpu memory available for training. Free: 1968.9375 Total: 12196.125\n",
      "Warning: less than 75% gpu memory available for training. Free: 2411 Total: 12196.125\n",
      "Warning: less than 75% gpu memory available for training. Free: 2256.9375 Total: 12196.125\n",
      "Warning: less than 75% gpu memory available for training. Free: 2763 Total: 12196.125\n",
      "Warning: less than 75% gpu memory available for training. Free: 2516.9375 Total: 12196.125\n",
      "Warning: less than 75% gpu memory available for training. Free: 3081 Total: 12196.125\n",
      "Warning: less than 75% gpu memory available for training. Free: 2750.9375 Total: 12196.125\n",
      "Warning: less than 75% gpu memory available for training. Free: 3367 Total: 12196.125\n",
      "Warning: less than 75% gpu memory available for training. Free: 2960.9375 Total: 12196.125\n",
      "Warning: less than 75% gpu memory available for training. Free: 585 Total: 12196.125\n"
     ]
    },
    {
     "name": "stdout",
     "output_type": "stream",
     "text": [
      "learning_rate:  0.2749841299110411\n",
      "depth:  8\n",
      "iterations:  410\n",
      "l2_leaf_reg:  1.0771454890003822\n",
      "0.8081618397567448\n",
      "| \u001b[0m14       \u001b[0m | \u001b[0m0.8082   \u001b[0m | \u001b[0m8.651    \u001b[0m | \u001b[0m410.5    \u001b[0m | \u001b[0m1.077    \u001b[0m | \u001b[0m0.275    \u001b[0m |\n"
     ]
    },
    {
     "name": "stderr",
     "output_type": "stream",
     "text": [
      "/data/xiayunpeng/anaconda3/envs/BERT/lib/python3.6/site-packages/sklearn/utils/validation.py:72: FutureWarning: Pass shuffle=True, random_state=0 as keyword args. From version 1.0 (renaming of 0.25) passing these as positional arguments will result in an error\n",
      "  \"will result in an error\", FutureWarning)\n",
      "Warning: less than 75% gpu memory available for training. Free: 9118.9375 Total: 12196.125\n",
      "Warning: less than 75% gpu memory available for training. Free: 8708.9375 Total: 12196.125\n",
      "Warning: less than 75% gpu memory available for training. Free: 8338.9375 Total: 12196.125\n",
      "Warning: less than 75% gpu memory available for training. Free: 8002.9375 Total: 12196.125\n",
      "Warning: less than 75% gpu memory available for training. Free: 7700.9375 Total: 12196.125\n",
      "Warning: less than 75% gpu memory available for training. Free: 7426.9375 Total: 12196.125\n",
      "Warning: less than 75% gpu memory available for training. Free: 7180.9375 Total: 12196.125\n",
      "Warning: less than 75% gpu memory available for training. Free: 9109 Total: 12196.125\n",
      "Warning: less than 75% gpu memory available for training. Free: 7180.9375 Total: 12196.125\n",
      "Warning: less than 75% gpu memory available for training. Free: 9109 Total: 12196.125\n",
      "Warning: less than 75% gpu memory available for training. Free: 6958.9375 Total: 12196.125\n",
      "Warning: less than 75% gpu memory available for training. Free: 8807 Total: 12196.125\n"
     ]
    },
    {
     "name": "stdout",
     "output_type": "stream",
     "text": [
      "learning_rate:  0.01\n",
      "depth:  5\n",
      "iterations:  723\n",
      "l2_leaf_reg:  2.887892170773666\n",
      "0.8088938444181787\n",
      "| \u001b[0m15       \u001b[0m | \u001b[0m0.8089   \u001b[0m | \u001b[0m5.692    \u001b[0m | \u001b[0m724.0    \u001b[0m | \u001b[0m2.888    \u001b[0m | \u001b[0m0.01     \u001b[0m |\n"
     ]
    },
    {
     "name": "stderr",
     "output_type": "stream",
     "text": [
      "/data/xiayunpeng/anaconda3/envs/BERT/lib/python3.6/site-packages/sklearn/utils/validation.py:72: FutureWarning: Pass shuffle=True, random_state=0 as keyword args. From version 1.0 (renaming of 0.25) passing these as positional arguments will result in an error\n",
      "  \"will result in an error\", FutureWarning)\n",
      "Warning: less than 75% gpu memory available for training. Free: 6758.9375 Total: 12196.125\n",
      "Warning: less than 75% gpu memory available for training. Free: 8535 Total: 12196.125\n",
      "Warning: less than 75% gpu memory available for training. Free: 6758.9375 Total: 12196.125\n",
      "Warning: less than 75% gpu memory available for training. Free: 8535 Total: 12196.125\n",
      "Warning: less than 75% gpu memory available for training. Free: 6758.9375 Total: 12196.125\n",
      "Warning: less than 75% gpu memory available for training. Free: 8535 Total: 12196.125\n",
      "Warning: less than 75% gpu memory available for training. Free: 6578.9375 Total: 12196.125\n",
      "Warning: less than 75% gpu memory available for training. Free: 8291 Total: 12196.125\n",
      "Warning: less than 75% gpu memory available for training. Free: 6578.9375 Total: 12196.125\n",
      "Warning: less than 75% gpu memory available for training. Free: 8291 Total: 12196.125\n",
      "Warning: less than 75% gpu memory available for training. Free: 6578.9375 Total: 12196.125\n",
      "Warning: less than 75% gpu memory available for training. Free: 8291 Total: 12196.125\n",
      "Warning: less than 75% gpu memory available for training. Free: 6414.9375 Total: 12196.125\n",
      "Warning: less than 75% gpu memory available for training. Free: 8069 Total: 12196.125\n",
      "Warning: less than 75% gpu memory available for training. Free: 6414.9375 Total: 12196.125\n",
      "Warning: less than 75% gpu memory available for training. Free: 8069 Total: 12196.125\n",
      "Warning: less than 75% gpu memory available for training. Free: 6414.9375 Total: 12196.125\n",
      "Warning: less than 75% gpu memory available for training. Free: 8069 Total: 12196.125\n",
      "Warning: less than 75% gpu memory available for training. Free: 6268.9375 Total: 12196.125\n",
      "Warning: less than 75% gpu memory available for training. Free: 7869 Total: 12196.125\n"
     ]
    },
    {
     "name": "stdout",
     "output_type": "stream",
     "text": [
      "learning_rate:  0.27808498949157495\n",
      "depth:  9\n",
      "iterations:  412\n",
      "l2_leaf_reg:  4.151527317071416\n",
      "0.8066614843468635\n",
      "| \u001b[0m16       \u001b[0m | \u001b[0m0.8067   \u001b[0m | \u001b[0m9.558    \u001b[0m | \u001b[0m412.7    \u001b[0m | \u001b[0m4.152    \u001b[0m | \u001b[0m0.2781   \u001b[0m |\n"
     ]
    },
    {
     "name": "stderr",
     "output_type": "stream",
     "text": [
      "/data/xiayunpeng/anaconda3/envs/BERT/lib/python3.6/site-packages/sklearn/utils/validation.py:72: FutureWarning: Pass shuffle=True, random_state=0 as keyword args. From version 1.0 (renaming of 0.25) passing these as positional arguments will result in an error\n",
      "  \"will result in an error\", FutureWarning)\n",
      "Warning: less than 75% gpu memory available for training. Free: 6268.9375 Total: 12196.125\n",
      "Warning: less than 75% gpu memory available for training. Free: 7869 Total: 12196.125\n",
      "Warning: less than 75% gpu memory available for training. Free: 6268.9375 Total: 12196.125\n",
      "Warning: less than 75% gpu memory available for training. Free: 7869 Total: 12196.125\n",
      "Warning: less than 75% gpu memory available for training. Free: 6134.9375 Total: 12196.125\n",
      "Warning: less than 75% gpu memory available for training. Free: 7687 Total: 12196.125\n",
      "Warning: less than 75% gpu memory available for training. Free: 6134.9375 Total: 12196.125\n",
      "Warning: less than 75% gpu memory available for training. Free: 7687 Total: 12196.125\n",
      "Warning: less than 75% gpu memory available for training. Free: 6134.9375 Total: 12196.125\n",
      "Warning: less than 75% gpu memory available for training. Free: 7687 Total: 12196.125\n",
      "Warning: less than 75% gpu memory available for training. Free: 6134.9375 Total: 12196.125\n",
      "Warning: less than 75% gpu memory available for training. Free: 7687 Total: 12196.125\n",
      "Warning: less than 75% gpu memory available for training. Free: 6016.9375 Total: 12196.125\n",
      "Warning: less than 75% gpu memory available for training. Free: 7525 Total: 12196.125\n",
      "Warning: less than 75% gpu memory available for training. Free: 6016.9375 Total: 12196.125\n",
      "Warning: less than 75% gpu memory available for training. Free: 7525 Total: 12196.125\n",
      "Warning: less than 75% gpu memory available for training. Free: 6016.9375 Total: 12196.125\n",
      "Warning: less than 75% gpu memory available for training. Free: 7525 Total: 12196.125\n",
      "Warning: less than 75% gpu memory available for training. Free: 6016.9375 Total: 12196.125\n",
      "Warning: less than 75% gpu memory available for training. Free: 7525 Total: 12196.125\n"
     ]
    },
    {
     "name": "stdout",
     "output_type": "stream",
     "text": [
      "learning_rate:  0.2166595960907641\n",
      "depth:  7\n",
      "iterations:  413\n",
      "l2_leaf_reg:  2.788947580926926\n",
      "0.8091632343710936\n",
      "| \u001b[0m17       \u001b[0m | \u001b[0m0.8092   \u001b[0m | \u001b[0m7.348    \u001b[0m | \u001b[0m413.9    \u001b[0m | \u001b[0m2.789    \u001b[0m | \u001b[0m0.2167   \u001b[0m |\n"
     ]
    },
    {
     "name": "stderr",
     "output_type": "stream",
     "text": [
      "/data/xiayunpeng/anaconda3/envs/BERT/lib/python3.6/site-packages/sklearn/utils/validation.py:72: FutureWarning: Pass shuffle=True, random_state=0 as keyword args. From version 1.0 (renaming of 0.25) passing these as positional arguments will result in an error\n",
      "  \"will result in an error\", FutureWarning)\n",
      "Warning: less than 75% gpu memory available for training. Free: 5908.9375 Total: 12196.125\n",
      "Warning: less than 75% gpu memory available for training. Free: 7379 Total: 12196.125\n",
      "Warning: less than 75% gpu memory available for training. Free: 5908.9375 Total: 12196.125\n",
      "Warning: less than 75% gpu memory available for training. Free: 7379 Total: 12196.125\n",
      "Warning: less than 75% gpu memory available for training. Free: 5908.9375 Total: 12196.125\n",
      "Warning: less than 75% gpu memory available for training. Free: 7379 Total: 12196.125\n",
      "Warning: less than 75% gpu memory available for training. Free: 5810.9375 Total: 12196.125\n",
      "Warning: less than 75% gpu memory available for training. Free: 7247 Total: 12196.125\n",
      "Warning: less than 75% gpu memory available for training. Free: 5810.9375 Total: 12196.125\n",
      "Warning: less than 75% gpu memory available for training. Free: 7247 Total: 12196.125\n",
      "Warning: less than 75% gpu memory available for training. Free: 5810.9375 Total: 12196.125\n",
      "Warning: less than 75% gpu memory available for training. Free: 7247 Total: 12196.125\n",
      "Warning: less than 75% gpu memory available for training. Free: 5722.9375 Total: 12196.125\n",
      "Warning: less than 75% gpu memory available for training. Free: 7127 Total: 12196.125\n",
      "Warning: less than 75% gpu memory available for training. Free: 5722.9375 Total: 12196.125\n",
      "Warning: less than 75% gpu memory available for training. Free: 7127 Total: 12196.125\n",
      "Warning: less than 75% gpu memory available for training. Free: 5722.9375 Total: 12196.125\n",
      "Warning: less than 75% gpu memory available for training. Free: 7127 Total: 12196.125\n",
      "Warning: less than 75% gpu memory available for training. Free: 5642.9375 Total: 12196.125\n",
      "Warning: less than 75% gpu memory available for training. Free: 7019 Total: 12196.125\n"
     ]
    },
    {
     "name": "stdout",
     "output_type": "stream",
     "text": [
      "learning_rate:  0.14066040205430386\n",
      "depth:  9\n",
      "iterations:  412\n",
      "l2_leaf_reg:  1.0051430627831202\n",
      "0.8097105943697805\n",
      "| \u001b[0m18       \u001b[0m | \u001b[0m0.8097   \u001b[0m | \u001b[0m9.603    \u001b[0m | \u001b[0m412.3    \u001b[0m | \u001b[0m1.005    \u001b[0m | \u001b[0m0.1407   \u001b[0m |\n"
     ]
    },
    {
     "name": "stderr",
     "output_type": "stream",
     "text": [
      "/data/xiayunpeng/anaconda3/envs/BERT/lib/python3.6/site-packages/sklearn/utils/validation.py:72: FutureWarning: Pass shuffle=True, random_state=0 as keyword args. From version 1.0 (renaming of 0.25) passing these as positional arguments will result in an error\n",
      "  \"will result in an error\", FutureWarning)\n",
      "Warning: less than 75% gpu memory available for training. Free: 5642.9375 Total: 12196.125\n",
      "Warning: less than 75% gpu memory available for training. Free: 7019 Total: 12196.125\n",
      "Warning: less than 75% gpu memory available for training. Free: 5642.9375 Total: 12196.125\n",
      "Warning: less than 75% gpu memory available for training. Free: 7019 Total: 12196.125\n",
      "Warning: less than 75% gpu memory available for training. Free: 5642.9375 Total: 12196.125\n",
      "Warning: less than 75% gpu memory available for training. Free: 7019 Total: 12196.125\n",
      "Warning: less than 75% gpu memory available for training. Free: 5570.9375 Total: 12196.125\n",
      "Warning: less than 75% gpu memory available for training. Free: 6923 Total: 12196.125\n",
      "Warning: less than 75% gpu memory available for training. Free: 5570.9375 Total: 12196.125\n",
      "Warning: less than 75% gpu memory available for training. Free: 6923 Total: 12196.125\n",
      "Warning: less than 75% gpu memory available for training. Free: 5570.9375 Total: 12196.125\n",
      "Warning: less than 75% gpu memory available for training. Free: 6923 Total: 12196.125\n",
      "Warning: less than 75% gpu memory available for training. Free: 476.9375 Total: 12196.125\n",
      "Warning: less than 75% gpu memory available for training. Free: 585 Total: 12196.125\n",
      "Warning: less than 75% gpu memory available for training. Free: 476.9375 Total: 12196.125\n",
      "Warning: less than 75% gpu memory available for training. Free: 585 Total: 12196.125\n",
      "Warning: less than 75% gpu memory available for training. Free: 476.9375 Total: 12196.125\n",
      "Warning: less than 75% gpu memory available for training. Free: 585 Total: 12196.125\n",
      "Warning: less than 75% gpu memory available for training. Free: 476.9375 Total: 12196.125\n",
      "Warning: less than 75% gpu memory available for training. Free: 585 Total: 12196.125\n"
     ]
    },
    {
     "name": "stdout",
     "output_type": "stream",
     "text": [
      "learning_rate:  0.2660719311473726\n",
      "depth:  7\n",
      "iterations:  410\n",
      "l2_leaf_reg:  3.722932334519212\n",
      "0.8035589964356633\n",
      "| \u001b[0m19       \u001b[0m | \u001b[0m0.8036   \u001b[0m | \u001b[0m7.348    \u001b[0m | \u001b[0m410.1    \u001b[0m | \u001b[0m3.723    \u001b[0m | \u001b[0m0.2661   \u001b[0m |\n"
     ]
    },
    {
     "name": "stderr",
     "output_type": "stream",
     "text": [
      "/data/xiayunpeng/anaconda3/envs/BERT/lib/python3.6/site-packages/sklearn/utils/validation.py:72: FutureWarning: Pass shuffle=True, random_state=0 as keyword args. From version 1.0 (renaming of 0.25) passing these as positional arguments will result in an error\n",
      "  \"will result in an error\", FutureWarning)\n",
      "Warning: less than 75% gpu memory available for training. Free: 908.9375 Total: 12196.125\n",
      "Warning: less than 75% gpu memory available for training. Free: 1113 Total: 12196.125\n",
      "Warning: less than 75% gpu memory available for training. Free: 908.9375 Total: 12196.125\n",
      "Warning: less than 75% gpu memory available for training. Free: 1113 Total: 12196.125\n",
      "Warning: less than 75% gpu memory available for training. Free: 1298.9375 Total: 12196.125\n",
      "Warning: less than 75% gpu memory available for training. Free: 1591 Total: 12196.125\n",
      "Warning: less than 75% gpu memory available for training. Free: 1650.9375 Total: 12196.125\n",
      "Warning: less than 75% gpu memory available for training. Free: 2023 Total: 12196.125\n",
      "Warning: less than 75% gpu memory available for training. Free: 1650.9375 Total: 12196.125\n",
      "Warning: less than 75% gpu memory available for training. Free: 2023 Total: 12196.125\n",
      "Warning: less than 75% gpu memory available for training. Free: 1968.9375 Total: 12196.125\n",
      "Warning: less than 75% gpu memory available for training. Free: 2411 Total: 12196.125\n",
      "Warning: less than 75% gpu memory available for training. Free: 1968.9375 Total: 12196.125\n",
      "Warning: less than 75% gpu memory available for training. Free: 2411 Total: 12196.125\n",
      "Warning: less than 75% gpu memory available for training. Free: 2256.9375 Total: 12196.125\n",
      "Warning: less than 75% gpu memory available for training. Free: 2763 Total: 12196.125\n",
      "Warning: less than 75% gpu memory available for training. Free: 2516.9375 Total: 12196.125\n",
      "Warning: less than 75% gpu memory available for training. Free: 3081 Total: 12196.125\n",
      "Warning: less than 75% gpu memory available for training. Free: 2516.9375 Total: 12196.125\n",
      "Warning: less than 75% gpu memory available for training. Free: 3081 Total: 12196.125\n"
     ]
    },
    {
     "name": "stdout",
     "output_type": "stream",
     "text": [
      "learning_rate:  0.17351125449371413\n",
      "depth:  4\n",
      "iterations:  725\n",
      "l2_leaf_reg:  3.416992032665789\n",
      "0.8140571196241861\n",
      "| \u001b[0m20       \u001b[0m | \u001b[0m0.8141   \u001b[0m | \u001b[0m4.321    \u001b[0m | \u001b[0m725.7    \u001b[0m | \u001b[0m3.417    \u001b[0m | \u001b[0m0.1735   \u001b[0m |\n"
     ]
    },
    {
     "name": "stderr",
     "output_type": "stream",
     "text": [
      "/data/xiayunpeng/anaconda3/envs/BERT/lib/python3.6/site-packages/sklearn/utils/validation.py:72: FutureWarning: Pass shuffle=True, random_state=0 as keyword args. From version 1.0 (renaming of 0.25) passing these as positional arguments will result in an error\n",
      "  \"will result in an error\", FutureWarning)\n",
      "Warning: less than 75% gpu memory available for training. Free: 2750.9375 Total: 12196.125\n",
      "Warning: less than 75% gpu memory available for training. Free: 3367 Total: 12196.125\n",
      "Warning: less than 75% gpu memory available for training. Free: 2750.9375 Total: 12196.125\n",
      "Warning: less than 75% gpu memory available for training. Free: 3367 Total: 12196.125\n",
      "Warning: less than 75% gpu memory available for training. Free: 2960.9375 Total: 12196.125\n",
      "Warning: less than 75% gpu memory available for training. Free: 3625 Total: 12196.125\n",
      "Warning: less than 75% gpu memory available for training. Free: 2960.9375 Total: 12196.125\n",
      "Warning: less than 75% gpu memory available for training. Free: 3625 Total: 12196.125\n",
      "Warning: less than 75% gpu memory available for training. Free: 2960.9375 Total: 12196.125\n",
      "Warning: less than 75% gpu memory available for training. Free: 3625 Total: 12196.125\n",
      "Warning: less than 75% gpu memory available for training. Free: 2960.9375 Total: 12196.125\n",
      "Warning: less than 75% gpu memory available for training. Free: 3625 Total: 12196.125\n",
      "Warning: less than 75% gpu memory available for training. Free: 3150.9375 Total: 12196.125\n",
      "Warning: less than 75% gpu memory available for training. Free: 3857 Total: 12196.125\n",
      "Warning: less than 75% gpu memory available for training. Free: 3150.9375 Total: 12196.125\n",
      "Warning: less than 75% gpu memory available for training. Free: 3857 Total: 12196.125\n",
      "Warning: less than 75% gpu memory available for training. Free: 3150.9375 Total: 12196.125\n",
      "Warning: less than 75% gpu memory available for training. Free: 3857 Total: 12196.125\n",
      "Warning: less than 75% gpu memory available for training. Free: 3322.9375 Total: 12196.125\n",
      "Warning: less than 75% gpu memory available for training. Free: 4069 Total: 12196.125\n"
     ]
    },
    {
     "name": "stdout",
     "output_type": "stream",
     "text": [
      "learning_rate:  0.1518243296371522\n",
      "depth:  8\n",
      "iterations:  412\n",
      "l2_leaf_reg:  2.2282101473602336\n",
      "0.8101673087567225\n",
      "| \u001b[0m21       \u001b[0m | \u001b[0m0.8102   \u001b[0m | \u001b[0m8.297    \u001b[0m | \u001b[0m412.8    \u001b[0m | \u001b[0m2.228    \u001b[0m | \u001b[0m0.1518   \u001b[0m |\n"
     ]
    },
    {
     "name": "stderr",
     "output_type": "stream",
     "text": [
      "/data/xiayunpeng/anaconda3/envs/BERT/lib/python3.6/site-packages/sklearn/utils/validation.py:72: FutureWarning: Pass shuffle=True, random_state=0 as keyword args. From version 1.0 (renaming of 0.25) passing these as positional arguments will result in an error\n",
      "  \"will result in an error\", FutureWarning)\n",
      "Warning: less than 75% gpu memory available for training. Free: 3322.9375 Total: 12196.125\n",
      "Warning: less than 75% gpu memory available for training. Free: 4069 Total: 12196.125\n",
      "Warning: less than 75% gpu memory available for training. Free: 476.9375 Total: 12196.125\n",
      "Warning: less than 75% gpu memory available for training. Free: 585 Total: 12196.125\n",
      "Warning: less than 75% gpu memory available for training. Free: 476.9375 Total: 12196.125\n",
      "Warning: less than 75% gpu memory available for training. Free: 585 Total: 12196.125\n",
      "Warning: less than 75% gpu memory available for training. Free: 908.9375 Total: 12196.125\n",
      "Warning: less than 75% gpu memory available for training. Free: 1113 Total: 12196.125\n",
      "Warning: less than 75% gpu memory available for training. Free: 908.9375 Total: 12196.125\n",
      "Warning: less than 75% gpu memory available for training. Free: 1113 Total: 12196.125\n",
      "Warning: less than 75% gpu memory available for training. Free: 1298.9375 Total: 12196.125\n",
      "Warning: less than 75% gpu memory available for training. Free: 1591 Total: 12196.125\n",
      "Warning: less than 75% gpu memory available for training. Free: 1650.9375 Total: 12196.125\n",
      "Warning: less than 75% gpu memory available for training. Free: 2023 Total: 12196.125\n",
      "Warning: less than 75% gpu memory available for training. Free: 1650.9375 Total: 12196.125\n",
      "Warning: less than 75% gpu memory available for training. Free: 2023 Total: 12196.125\n",
      "Warning: less than 75% gpu memory available for training. Free: 1968.9375 Total: 12196.125\n",
      "Warning: less than 75% gpu memory available for training. Free: 2411 Total: 12196.125\n",
      "Warning: less than 75% gpu memory available for training. Free: 1968.9375 Total: 12196.125\n",
      "Warning: less than 75% gpu memory available for training. Free: 2411 Total: 12196.125\n"
     ]
    },
    {
     "name": "stdout",
     "output_type": "stream",
     "text": [
      "learning_rate:  0.025667140040931763\n",
      "depth:  4\n",
      "iterations:  725\n",
      "l2_leaf_reg:  3.698974563189353\n",
      "0.8181086277684317\n",
      "| \u001b[0m22       \u001b[0m | \u001b[0m0.8181   \u001b[0m | \u001b[0m4.852    \u001b[0m | \u001b[0m725.1    \u001b[0m | \u001b[0m3.699    \u001b[0m | \u001b[0m0.02567  \u001b[0m |\n"
     ]
    },
    {
     "name": "stderr",
     "output_type": "stream",
     "text": [
      "/data/xiayunpeng/anaconda3/envs/BERT/lib/python3.6/site-packages/sklearn/utils/validation.py:72: FutureWarning: Pass shuffle=True, random_state=0 as keyword args. From version 1.0 (renaming of 0.25) passing these as positional arguments will result in an error\n",
      "  \"will result in an error\", FutureWarning)\n",
      "Warning: less than 75% gpu memory available for training. Free: 2256.9375 Total: 12196.125\n",
      "Warning: less than 75% gpu memory available for training. Free: 2763 Total: 12196.125\n",
      "Warning: less than 75% gpu memory available for training. Free: 2516.9375 Total: 12196.125\n",
      "Warning: less than 75% gpu memory available for training. Free: 3081 Total: 12196.125\n",
      "Warning: less than 75% gpu memory available for training. Free: 2750.9375 Total: 12196.125\n",
      "Warning: less than 75% gpu memory available for training. Free: 3367 Total: 12196.125\n",
      "Warning: less than 75% gpu memory available for training. Free: 476.9375 Total: 12196.125\n",
      "Warning: less than 75% gpu memory available for training. Free: 585 Total: 12196.125\n",
      "Warning: less than 75% gpu memory available for training. Free: 476.9375 Total: 12196.125\n",
      "Warning: less than 75% gpu memory available for training. Free: 585 Total: 12196.125\n",
      "Warning: less than 75% gpu memory available for training. Free: 908.9375 Total: 12196.125\n",
      "Warning: less than 75% gpu memory available for training. Free: 1113 Total: 12196.125\n",
      "Warning: less than 75% gpu memory available for training. Free: 1298.9375 Total: 12196.125\n",
      "Warning: less than 75% gpu memory available for training. Free: 1591 Total: 12196.125\n",
      "Warning: less than 75% gpu memory available for training. Free: 1650.9375 Total: 12196.125\n",
      "Warning: less than 75% gpu memory available for training. Free: 2023 Total: 12196.125\n",
      "Warning: less than 75% gpu memory available for training. Free: 1650.9375 Total: 12196.125\n",
      "Warning: less than 75% gpu memory available for training. Free: 2023 Total: 12196.125\n",
      "Warning: less than 75% gpu memory available for training. Free: 1968.9375 Total: 12196.125\n",
      "Warning: less than 75% gpu memory available for training. Free: 2411 Total: 12196.125\n"
     ]
    },
    {
     "name": "stdout",
     "output_type": "stream",
     "text": [
      "learning_rate:  0.26602260905878716\n",
      "depth:  6\n",
      "iterations:  725\n",
      "l2_leaf_reg:  4.124519623989323\n",
      "0.8004433403319406\n",
      "| \u001b[0m23       \u001b[0m | \u001b[0m0.8004   \u001b[0m | \u001b[0m6.594    \u001b[0m | \u001b[0m725.5    \u001b[0m | \u001b[0m4.125    \u001b[0m | \u001b[0m0.266    \u001b[0m |\n"
     ]
    },
    {
     "name": "stderr",
     "output_type": "stream",
     "text": [
      "/data/xiayunpeng/anaconda3/envs/BERT/lib/python3.6/site-packages/sklearn/utils/validation.py:72: FutureWarning: Pass shuffle=True, random_state=0 as keyword args. From version 1.0 (renaming of 0.25) passing these as positional arguments will result in an error\n",
      "  \"will result in an error\", FutureWarning)\n",
      "Warning: less than 75% gpu memory available for training. Free: 2256.9375 Total: 12196.125\n",
      "Warning: less than 75% gpu memory available for training. Free: 2763 Total: 12196.125\n",
      "Warning: less than 75% gpu memory available for training. Free: 2256.9375 Total: 12196.125\n",
      "Warning: less than 75% gpu memory available for training. Free: 2763 Total: 12196.125\n",
      "Warning: less than 75% gpu memory available for training. Free: 2516.9375 Total: 12196.125\n",
      "Warning: less than 75% gpu memory available for training. Free: 3081 Total: 12196.125\n",
      "Warning: less than 75% gpu memory available for training. Free: 2750.9375 Total: 12196.125\n",
      "Warning: less than 75% gpu memory available for training. Free: 3367 Total: 12196.125\n",
      "Warning: less than 75% gpu memory available for training. Free: 2750.9375 Total: 12196.125\n",
      "Warning: less than 75% gpu memory available for training. Free: 3367 Total: 12196.125\n",
      "Warning: less than 75% gpu memory available for training. Free: 2960.9375 Total: 12196.125\n",
      "Warning: less than 75% gpu memory available for training. Free: 3625 Total: 12196.125\n",
      "Warning: less than 75% gpu memory available for training. Free: 3150.9375 Total: 12196.125\n",
      "Warning: less than 75% gpu memory available for training. Free: 3857 Total: 12196.125\n",
      "Warning: less than 75% gpu memory available for training. Free: 3150.9375 Total: 12196.125\n",
      "Warning: less than 75% gpu memory available for training. Free: 3857 Total: 12196.125\n",
      "Warning: less than 75% gpu memory available for training. Free: 3322.9375 Total: 12196.125\n",
      "Warning: less than 75% gpu memory available for training. Free: 4069 Total: 12196.125\n",
      "Warning: less than 75% gpu memory available for training. Free: 3476.9375 Total: 12196.125\n",
      "Warning: less than 75% gpu memory available for training. Free: 4259 Total: 12196.125\n"
     ]
    },
    {
     "name": "stdout",
     "output_type": "stream",
     "text": [
      "learning_rate:  0.15603237411014537\n",
      "depth:  5\n",
      "iterations:  724\n",
      "l2_leaf_reg:  3.956334561060502\n",
      "0.8150983202014416\n",
      "| \u001b[0m24       \u001b[0m | \u001b[0m0.8151   \u001b[0m | \u001b[0m5.215    \u001b[0m | \u001b[0m724.4    \u001b[0m | \u001b[0m3.956    \u001b[0m | \u001b[0m0.156    \u001b[0m |\n"
     ]
    },
    {
     "name": "stderr",
     "output_type": "stream",
     "text": [
      "/data/xiayunpeng/anaconda3/envs/BERT/lib/python3.6/site-packages/sklearn/utils/validation.py:72: FutureWarning: Pass shuffle=True, random_state=0 as keyword args. From version 1.0 (renaming of 0.25) passing these as positional arguments will result in an error\n",
      "  \"will result in an error\", FutureWarning)\n",
      "Warning: less than 75% gpu memory available for training. Free: 476.9375 Total: 12196.125\n",
      "Warning: less than 75% gpu memory available for training. Free: 585 Total: 12196.125\n",
      "Warning: less than 75% gpu memory available for training. Free: 908.9375 Total: 12196.125\n",
      "Warning: less than 75% gpu memory available for training. Free: 1113 Total: 12196.125\n",
      "Warning: less than 75% gpu memory available for training. Free: 1298.9375 Total: 12196.125\n",
      "Warning: less than 75% gpu memory available for training. Free: 1591 Total: 12196.125\n",
      "Warning: less than 75% gpu memory available for training. Free: 1650.9375 Total: 12196.125\n",
      "Warning: less than 75% gpu memory available for training. Free: 2023 Total: 12196.125\n",
      "Warning: less than 75% gpu memory available for training. Free: 1968.9375 Total: 12196.125\n",
      "Warning: less than 75% gpu memory available for training. Free: 2411 Total: 12196.125\n",
      "Warning: less than 75% gpu memory available for training. Free: 2256.9375 Total: 12196.125\n",
      "Warning: less than 75% gpu memory available for training. Free: 2763 Total: 12196.125\n",
      "Warning: less than 75% gpu memory available for training. Free: 2516.9375 Total: 12196.125\n",
      "Warning: less than 75% gpu memory available for training. Free: 3081 Total: 12196.125\n",
      "Warning: less than 75% gpu memory available for training. Free: 2750.9375 Total: 12196.125\n",
      "Warning: less than 75% gpu memory available for training. Free: 3367 Total: 12196.125\n",
      "Warning: less than 75% gpu memory available for training. Free: 2960.9375 Total: 12196.125\n",
      "Warning: less than 75% gpu memory available for training. Free: 3625 Total: 12196.125\n",
      "Warning: less than 75% gpu memory available for training. Free: 3150.9375 Total: 12196.125\n",
      "Warning: less than 75% gpu memory available for training. Free: 3857 Total: 12196.125\n"
     ]
    },
    {
     "name": "stdout",
     "output_type": "stream",
     "text": [
      "learning_rate:  0.23063551111639294\n",
      "depth:  4\n",
      "iterations:  724\n",
      "l2_leaf_reg:  2.495249988525358\n",
      "0.8123536413507784\n",
      "| \u001b[0m25       \u001b[0m | \u001b[0m0.8124   \u001b[0m | \u001b[0m4.592    \u001b[0m | \u001b[0m724.6    \u001b[0m | \u001b[0m2.495    \u001b[0m | \u001b[0m0.2306   \u001b[0m |\n"
     ]
    },
    {
     "name": "stderr",
     "output_type": "stream",
     "text": [
      "/data/xiayunpeng/anaconda3/envs/BERT/lib/python3.6/site-packages/sklearn/utils/validation.py:72: FutureWarning: Pass shuffle=True, random_state=0 as keyword args. From version 1.0 (renaming of 0.25) passing these as positional arguments will result in an error\n",
      "  \"will result in an error\", FutureWarning)\n",
      "Warning: less than 75% gpu memory available for training. Free: 3322.9375 Total: 12196.125\n",
      "Warning: less than 75% gpu memory available for training. Free: 4069 Total: 12196.125\n",
      "Warning: less than 75% gpu memory available for training. Free: 3476.9375 Total: 12196.125\n",
      "Warning: less than 75% gpu memory available for training. Free: 4259 Total: 12196.125\n",
      "Warning: less than 75% gpu memory available for training. Free: 3616.9375 Total: 12196.125\n",
      "Warning: less than 75% gpu memory available for training. Free: 4431 Total: 12196.125\n",
      "Warning: less than 75% gpu memory available for training. Free: 3616.9375 Total: 12196.125\n",
      "Warning: less than 75% gpu memory available for training. Free: 4431 Total: 12196.125\n",
      "Warning: less than 75% gpu memory available for training. Free: 3742.9375 Total: 12196.125\n",
      "Warning: less than 75% gpu memory available for training. Free: 4585 Total: 12196.125\n",
      "Warning: less than 75% gpu memory available for training. Free: 3742.9375 Total: 12196.125\n",
      "Warning: less than 75% gpu memory available for training. Free: 4585 Total: 12196.125\n",
      "Warning: less than 75% gpu memory available for training. Free: 3854.9375 Total: 12196.125\n",
      "Warning: less than 75% gpu memory available for training. Free: 4723 Total: 12196.125\n",
      "Warning: less than 75% gpu memory available for training. Free: 3958.9375 Total: 12196.125\n",
      "Warning: less than 75% gpu memory available for training. Free: 4849 Total: 12196.125\n",
      "Warning: less than 75% gpu memory available for training. Free: 3958.9375 Total: 12196.125\n",
      "Warning: less than 75% gpu memory available for training. Free: 4849 Total: 12196.125\n",
      "Warning: less than 75% gpu memory available for training. Free: 4050.9375 Total: 12196.125\n",
      "Warning: less than 75% gpu memory available for training. Free: 4963 Total: 12196.125\n"
     ]
    },
    {
     "name": "stdout",
     "output_type": "stream",
     "text": [
      "learning_rate:  0.049933322436247485\n",
      "depth:  6\n",
      "iterations:  723\n",
      "l2_leaf_reg:  4.967918190058223\n",
      "0.820760529873312\n",
      "| \u001b[95m26       \u001b[0m | \u001b[95m0.8208   \u001b[0m | \u001b[95m6.779    \u001b[0m | \u001b[95m723.5    \u001b[0m | \u001b[95m4.968    \u001b[0m | \u001b[95m0.04993  \u001b[0m |\n"
     ]
    },
    {
     "name": "stderr",
     "output_type": "stream",
     "text": [
      "/data/xiayunpeng/anaconda3/envs/BERT/lib/python3.6/site-packages/sklearn/utils/validation.py:72: FutureWarning: Pass shuffle=True, random_state=0 as keyword args. From version 1.0 (renaming of 0.25) passing these as positional arguments will result in an error\n",
      "  \"will result in an error\", FutureWarning)\n",
      "Warning: less than 75% gpu memory available for training. Free: 4050.9375 Total: 12196.125\n",
      "Warning: less than 75% gpu memory available for training. Free: 4963 Total: 12196.125\n",
      "Warning: less than 75% gpu memory available for training. Free: 4134.9375 Total: 12196.125\n",
      "Warning: less than 75% gpu memory available for training. Free: 5065 Total: 12196.125\n",
      "Warning: less than 75% gpu memory available for training. Free: 4134.9375 Total: 12196.125\n",
      "Warning: less than 75% gpu memory available for training. Free: 5065 Total: 12196.125\n",
      "Warning: less than 75% gpu memory available for training. Free: 4210.9375 Total: 12196.125\n",
      "Warning: less than 75% gpu memory available for training. Free: 5157 Total: 12196.125\n",
      "Warning: less than 75% gpu memory available for training. Free: 4278.9375 Total: 12196.125\n",
      "Warning: less than 75% gpu memory available for training. Free: 5241 Total: 12196.125\n",
      "Warning: less than 75% gpu memory available for training. Free: 4278.9375 Total: 12196.125\n",
      "Warning: less than 75% gpu memory available for training. Free: 5241 Total: 12196.125\n",
      "Warning: less than 75% gpu memory available for training. Free: 4340.9375 Total: 12196.125\n",
      "Warning: less than 75% gpu memory available for training. Free: 5317 Total: 12196.125\n",
      "Warning: less than 75% gpu memory available for training. Free: 4340.9375 Total: 12196.125\n",
      "Warning: less than 75% gpu memory available for training. Free: 5317 Total: 12196.125\n",
      "Warning: less than 75% gpu memory available for training. Free: 4394.9375 Total: 12196.125\n",
      "Warning: less than 75% gpu memory available for training. Free: 5385 Total: 12196.125\n",
      "Warning: less than 75% gpu memory available for training. Free: 4444.9375 Total: 12196.125\n",
      "Warning: less than 75% gpu memory available for training. Free: 5445 Total: 12196.125\n"
     ]
    },
    {
     "name": "stdout",
     "output_type": "stream",
     "text": [
      "learning_rate:  0.022929711810348117\n",
      "depth:  6\n",
      "iterations:  722\n",
      "l2_leaf_reg:  5.487557511185712\n",
      "0.8206261963622893\n",
      "| \u001b[0m27       \u001b[0m | \u001b[0m0.8206   \u001b[0m | \u001b[0m6.738    \u001b[0m | \u001b[0m722.7    \u001b[0m | \u001b[0m5.488    \u001b[0m | \u001b[0m0.02293  \u001b[0m |\n"
     ]
    },
    {
     "name": "stderr",
     "output_type": "stream",
     "text": [
      "/data/xiayunpeng/anaconda3/envs/BERT/lib/python3.6/site-packages/sklearn/utils/validation.py:72: FutureWarning: Pass shuffle=True, random_state=0 as keyword args. From version 1.0 (renaming of 0.25) passing these as positional arguments will result in an error\n",
      "  \"will result in an error\", FutureWarning)\n",
      "Warning: less than 75% gpu memory available for training. Free: 4444.9375 Total: 12196.125\n",
      "Warning: less than 75% gpu memory available for training. Free: 5445 Total: 12196.125\n",
      "Warning: less than 75% gpu memory available for training. Free: 4490.9375 Total: 12196.125\n",
      "Warning: less than 75% gpu memory available for training. Free: 5501 Total: 12196.125\n",
      "Warning: less than 75% gpu memory available for training. Free: 4490.9375 Total: 12196.125\n",
      "Warning: less than 75% gpu memory available for training. Free: 5501 Total: 12196.125\n",
      "Warning: less than 75% gpu memory available for training. Free: 4532.9375 Total: 12196.125\n",
      "Warning: less than 75% gpu memory available for training. Free: 5551 Total: 12196.125\n",
      "Warning: less than 75% gpu memory available for training. Free: 4532.9375 Total: 12196.125\n",
      "Warning: less than 75% gpu memory available for training. Free: 5551 Total: 12196.125\n",
      "Warning: less than 75% gpu memory available for training. Free: 4570.9375 Total: 12196.125\n",
      "Warning: less than 75% gpu memory available for training. Free: 5597 Total: 12196.125\n",
      "Warning: less than 75% gpu memory available for training. Free: 4570.9375 Total: 12196.125\n",
      "Warning: less than 75% gpu memory available for training. Free: 5597 Total: 12196.125\n",
      "Warning: less than 75% gpu memory available for training. Free: 4604.9375 Total: 12196.125\n",
      "Warning: less than 75% gpu memory available for training. Free: 5637 Total: 12196.125\n",
      "Warning: less than 75% gpu memory available for training. Free: 4604.9375 Total: 12196.125\n",
      "Warning: less than 75% gpu memory available for training. Free: 5637 Total: 12196.125\n",
      "Warning: less than 75% gpu memory available for training. Free: 4634.9375 Total: 12196.125\n",
      "Warning: less than 75% gpu memory available for training. Free: 5673 Total: 12196.125\n"
     ]
    },
    {
     "name": "stdout",
     "output_type": "stream",
     "text": [
      "learning_rate:  0.01\n",
      "depth:  7\n",
      "iterations:  722\n",
      "l2_leaf_reg:  4.653585581898909\n",
      "0.8127685874269035\n",
      "| \u001b[0m28       \u001b[0m | \u001b[0m0.8128   \u001b[0m | \u001b[0m7.308    \u001b[0m | \u001b[0m722.7    \u001b[0m | \u001b[0m4.654    \u001b[0m | \u001b[0m0.01     \u001b[0m |\n"
     ]
    },
    {
     "name": "stderr",
     "output_type": "stream",
     "text": [
      "/data/xiayunpeng/anaconda3/envs/BERT/lib/python3.6/site-packages/sklearn/utils/validation.py:72: FutureWarning: Pass shuffle=True, random_state=0 as keyword args. From version 1.0 (renaming of 0.25) passing these as positional arguments will result in an error\n",
      "  \"will result in an error\", FutureWarning)\n",
      "Warning: less than 75% gpu memory available for training. Free: 4660.9375 Total: 12196.125\n",
      "Warning: less than 75% gpu memory available for training. Free: 5707 Total: 12196.125\n",
      "Warning: less than 75% gpu memory available for training. Free: 4660.9375 Total: 12196.125\n",
      "Warning: less than 75% gpu memory available for training. Free: 5707 Total: 12196.125\n",
      "Warning: less than 75% gpu memory available for training. Free: 4684.9375 Total: 12196.125\n",
      "Warning: less than 75% gpu memory available for training. Free: 5737 Total: 12196.125\n",
      "Warning: less than 75% gpu memory available for training. Free: 4684.9375 Total: 12196.125\n",
      "Warning: less than 75% gpu memory available for training. Free: 5737 Total: 12196.125\n",
      "Warning: less than 75% gpu memory available for training. Free: 4706.9375 Total: 12196.125\n",
      "Warning: less than 75% gpu memory available for training. Free: 5765 Total: 12196.125\n",
      "Warning: less than 75% gpu memory available for training. Free: 4706.9375 Total: 12196.125\n",
      "Warning: less than 75% gpu memory available for training. Free: 5765 Total: 12196.125\n",
      "Warning: less than 75% gpu memory available for training. Free: 4726.9375 Total: 12196.125\n",
      "Warning: less than 75% gpu memory available for training. Free: 5789 Total: 12196.125\n",
      "Warning: less than 75% gpu memory available for training. Free: 4726.9375 Total: 12196.125\n",
      "Warning: less than 75% gpu memory available for training. Free: 5789 Total: 12196.125\n",
      "Warning: less than 75% gpu memory available for training. Free: 4744.9375 Total: 12196.125\n",
      "Warning: less than 75% gpu memory available for training. Free: 5811 Total: 12196.125\n",
      "Warning: less than 75% gpu memory available for training. Free: 4760.9375 Total: 12196.125\n",
      "Warning: less than 75% gpu memory available for training. Free: 5831 Total: 12196.125\n"
     ]
    },
    {
     "name": "stdout",
     "output_type": "stream",
     "text": [
      "learning_rate:  0.1342097963348748\n",
      "depth:  6\n",
      "iterations:  723\n",
      "l2_leaf_reg:  5.740931297059213\n",
      "0.8147340234199743\n",
      "| \u001b[0m29       \u001b[0m | \u001b[0m0.8147   \u001b[0m | \u001b[0m6.415    \u001b[0m | \u001b[0m723.4    \u001b[0m | \u001b[0m5.741    \u001b[0m | \u001b[0m0.1342   \u001b[0m |\n"
     ]
    },
    {
     "name": "stderr",
     "output_type": "stream",
     "text": [
      "/data/xiayunpeng/anaconda3/envs/BERT/lib/python3.6/site-packages/sklearn/utils/validation.py:72: FutureWarning: Pass shuffle=True, random_state=0 as keyword args. From version 1.0 (renaming of 0.25) passing these as positional arguments will result in an error\n",
      "  \"will result in an error\", FutureWarning)\n",
      "Warning: less than 75% gpu memory available for training. Free: 476.9375 Total: 12196.125\n",
      "Warning: less than 75% gpu memory available for training. Free: 585 Total: 12196.125\n",
      "Warning: less than 75% gpu memory available for training. Free: 908.9375 Total: 12196.125\n",
      "Warning: less than 75% gpu memory available for training. Free: 1113 Total: 12196.125\n",
      "Warning: less than 75% gpu memory available for training. Free: 1298.9375 Total: 12196.125\n",
      "Warning: less than 75% gpu memory available for training. Free: 1591 Total: 12196.125\n",
      "Warning: less than 75% gpu memory available for training. Free: 9118.9375 Total: 12196.125\n",
      "Warning: less than 75% gpu memory available for training. Free: 8708.9375 Total: 12196.125\n",
      "Warning: less than 75% gpu memory available for training. Free: 476.9375 Total: 12196.125\n",
      "Warning: less than 75% gpu memory available for training. Free: 585 Total: 12196.125\n",
      "Warning: less than 75% gpu memory available for training. Free: 908.9375 Total: 12196.125\n",
      "Warning: less than 75% gpu memory available for training. Free: 1113 Total: 12196.125\n",
      "Warning: less than 75% gpu memory available for training. Free: 1298.9375 Total: 12196.125\n",
      "Warning: less than 75% gpu memory available for training. Free: 1591 Total: 12196.125\n",
      "Warning: less than 75% gpu memory available for training. Free: 1650.9375 Total: 12196.125\n",
      "Warning: less than 75% gpu memory available for training. Free: 2023 Total: 12196.125\n"
     ]
    },
    {
     "name": "stdout",
     "output_type": "stream",
     "text": [
      "learning_rate:  0.251374744901722\n",
      "depth:  7\n",
      "iterations:  722\n",
      "l2_leaf_reg:  5.956838640290016\n",
      "0.8011260599445569\n",
      "| \u001b[0m30       \u001b[0m | \u001b[0m0.8011   \u001b[0m | \u001b[0m7.625    \u001b[0m | \u001b[0m722.4    \u001b[0m | \u001b[0m5.957    \u001b[0m | \u001b[0m0.2514   \u001b[0m |\n",
      "=========================================================================\n"
     ]
    }
   ],
   "source": [
    "# 实例化贝叶斯优化对象，并运行优化过程\n",
    "optimizer = BayesianOptimization(f=catboost_evaluate, pbounds=pbounds, random_state=42)\n",
    "optimizer.maximize(n_iter=25)"
   ]
  },
  {
   "cell_type": "code",
   "execution_count": 14,
   "id": "1f95f056",
   "metadata": {
    "ExecuteTime": {
     "end_time": "2023-05-22T05:47:09.648135Z",
     "start_time": "2023-05-22T05:47:09.644714Z"
    }
   },
   "outputs": [
    {
     "name": "stdout",
     "output_type": "stream",
     "text": [
      "{'target': 0.820760529873312, 'params': {'param_depth': 6.7793582738598595, 'param_iterations': 723.4748699393687, 'param_l2_leaf_reg': 4.967918190058223, 'param_lr': 0.049933322436247485}}\n"
     ]
    }
   ],
   "source": [
    "# 打印最优结果\n",
    "print(optimizer.max)\n",
    "#CatBoost 优化结果\n",
    "#{'target': 0.820760529873312, 'params': {'param_depth': 6.7793582738598595, 'param_iterations': 723.4748699393687, 'param_l2_leaf_reg': 4.967918190058223, 'param_lr': 0.049933322436247485}}"
   ]
  },
  {
   "cell_type": "markdown",
   "id": "e443706f",
   "metadata": {
    "ExecuteTime": {
     "end_time": "2023-05-22T05:58:33.132484Z",
     "start_time": "2023-05-22T05:58:33.128579Z"
    }
   },
   "source": [
    "# LGBM优化"
   ]
  },
  {
   "cell_type": "code",
   "execution_count": 16,
   "id": "4b2cad96",
   "metadata": {
    "ExecuteTime": {
     "end_time": "2023-05-22T05:58:39.553511Z",
     "start_time": "2023-05-22T05:58:39.496285Z"
    }
   },
   "outputs": [],
   "source": [
    "from lightgbm import LGBMClassifier"
   ]
  },
  {
   "cell_type": "code",
   "execution_count": 17,
   "id": "9ad9b99a",
   "metadata": {
    "ExecuteTime": {
     "end_time": "2023-05-22T05:58:40.194186Z",
     "start_time": "2023-05-22T05:58:40.177912Z"
    }
   },
   "outputs": [],
   "source": [
    "# 定义目标函数，即SVM分类器的交叉验证准确率\n",
    "def lgbm_evaluate(param_lr,param_depth,param_n_estimators,param_min_split_gain,\n",
    "                  param_subsample,param_colsample_bytree,param_lambda_l1,param_num_leaves):\n",
    "    Auc = []\n",
    "    kf = KFold(10,True,0)\n",
    "    for i,[train_index, test_index] in enumerate(kf.split(trainData)):\n",
    "        X_train = trainData[train_index]\n",
    "        X_test = trainData[test_index]\n",
    "        Y_train = trainLabel[train_index]\n",
    "        Y_test = trainLabel[test_index]\n",
    "        #clf = SVC(kernel='polynomial', C=C, gamma=gamma)\n",
    "        clf = LGBMClassifier(learning_rate=param_lr,max_depth=int(param_depth),n_estimators=int(param_n_estimators),\n",
    "                             min_split_gain=param_min_split_gain,subsample=param_subsample,\n",
    "                             colsample_bytree=param_colsample_bytree,lambda_l1=param_lambda_l1,\n",
    "                             num_leaves=int(param_num_leaves),verbose=0)\n",
    "        \n",
    "        clf.fit(X_train,Y_train)\n",
    "        Auc.append(roc_auc_score(Y_test,clf.predict_proba(X_test)[:,1]))\n",
    "        \n",
    "    print(\"learning_rate: \",param_lr)\n",
    "    print(\"max_depth: \",int(param_depth))\n",
    "    print(\"n_estimators: \",int(param_n_estimators))\n",
    "    print(\"min_split_gain: \",param_min_split_gain)\n",
    "    print(\"subsample: \",param_subsample)\n",
    "    print(\"colsample_bytree: \",param_colsample_bytree)\n",
    "    print(\"lambda_l1: \",param_lambda_l1)\n",
    "    print(\"num_leaves: \",int(param_num_leaves))\n",
    "    print(sum(Auc) / len(Auc))\n",
    "    return sum(Auc) / len(Auc)\n",
    "\n",
    "# 定义搜索空间\n",
    "pbounds = {'param_lr': (0.01, 0.2),'param_depth':(3,6),'param_n_estimators': (200,1200),\n",
    "           'param_min_split_gain':(0.01,0.2),'param_subsample':(0.7,1),'param_colsample_bytree':(0.8,1),\n",
    "          'param_lambda_l1':(0,10),'param_num_leaves':(0,63)}"
   ]
  },
  {
   "cell_type": "code",
   "execution_count": 59,
   "id": "fee76c04",
   "metadata": {
    "ExecuteTime": {
     "end_time": "2023-05-25T14:34:11.455939Z",
     "start_time": "2023-05-25T14:34:11.451822Z"
    }
   },
   "outputs": [],
   "source": [
    "# 实例化贝叶斯优化对象，并运行优化过程\n",
    "# optimizer = BayesianOptimization(f=lgbm_evaluate, pbounds=pbounds, random_state=42)\n",
    "# optimizer.maximize(n_iter=50)"
   ]
  },
  {
   "cell_type": "code",
   "execution_count": 19,
   "id": "50f821c6",
   "metadata": {
    "ExecuteTime": {
     "end_time": "2023-05-22T06:23:27.282441Z",
     "start_time": "2023-05-22T06:23:27.276183Z"
    }
   },
   "outputs": [
    {
     "name": "stdout",
     "output_type": "stream",
     "text": [
      "{'target': 0.8226275784103461, 'params': {'param_colsample_bytree': 0.8608484485919076, 'param_depth': 4.574269294896713, 'param_lambda_l1': 4.319450186421157, 'param_lr': 0.06533353663762796, 'param_min_split_gain': 0.1262520499972521, 'param_n_estimators': 339.4938606520418, 'param_num_leaves': 18.405112857718745, 'param_subsample': 0.8099085529881075}}\n"
     ]
    }
   ],
   "source": [
    "# 打印最优结果\n",
    "print(optimizer.max)\n",
    "#LightGBM 优化结果\n",
    "#{'target': 0.8226275784103461, 'params': {'param_colsample_bytree': 0.8608484485919076, 'param_depth': 4.574269294896713, 'param_lambda_l1': 4.319450186421157, 'param_lr': 0.06533353663762796, 'param_min_split_gain': 0.1262520499972521, 'param_n_estimators': 339.4938606520418, 'param_num_leaves': 18.405112857718745, 'param_subsample': 0.8099085529881075}}"
   ]
  },
  {
   "cell_type": "markdown",
   "id": "e86105eb",
   "metadata": {},
   "source": [
    "# GBDT优化"
   ]
  },
  {
   "cell_type": "code",
   "execution_count": 47,
   "id": "3e783229",
   "metadata": {
    "ExecuteTime": {
     "end_time": "2023-05-23T03:12:28.321354Z",
     "start_time": "2023-05-23T03:12:28.316235Z"
    }
   },
   "outputs": [],
   "source": [
    "from sklearn.ensemble import GradientBoostingClassifier"
   ]
  },
  {
   "cell_type": "code",
   "execution_count": 48,
   "id": "32c3a8c5",
   "metadata": {
    "ExecuteTime": {
     "end_time": "2023-05-23T03:12:36.333469Z",
     "start_time": "2023-05-23T03:12:36.319062Z"
    }
   },
   "outputs": [],
   "source": [
    "# 定义目标函数，即SVM分类器的交叉验证准确率\n",
    "def gbdt_evaluate(param_n_estimators,param_learning_rate,param_max_depth,param_min_samples_split):\n",
    "    Auc = []\n",
    "    kf = KFold(10,True,0)\n",
    "    for i,[train_index, test_index] in enumerate(kf.split(trainData)):\n",
    "        X_train = trainData[train_index]\n",
    "        X_test = trainData[test_index]\n",
    "        Y_train = trainLabel[train_index]\n",
    "        Y_test = trainLabel[test_index]\n",
    "        #clf = SVC(kernel='polynomial', C=C, gamma=gamma)\n",
    "        clf = GradientBoostingClassifier(n_estimators=int(param_n_estimators),learning_rate=param_learning_rate,\n",
    "                                 max_depth=param_max_depth,min_samples_split=int(param_min_samples_split))\n",
    "        \n",
    "        clf.fit(X_train,Y_train)\n",
    "        Auc.append(roc_auc_score(Y_test,clf.predict_proba(X_test)[:,1]))\n",
    "        \n",
    "    print(\"param_n_estimators: \",param_n_estimators)\n",
    "    print(\"param_learning_rate: \",param_learning_rate)\n",
    "    print(\"param_max_depth: \",param_max_depth)\n",
    "    print(\"param_min_samples_split: \",param_min_samples_split)\n",
    "    print(sum(Auc) / len(Auc))\n",
    "    return sum(Auc) / len(Auc)\n",
    "\n",
    "# 定义搜索空间\n",
    "pbounds = {'param_n_estimators': (50, 1200),'param_learning_rate':(0.01,0.2),'param_max_depth': (4,30),'param_min_samples_split':(10,100)}"
   ]
  },
  {
   "cell_type": "code",
   "execution_count": null,
   "id": "91e0bcff",
   "metadata": {
    "ExecuteTime": {
     "start_time": "2023-05-22T03:18:51.247Z"
    }
   },
   "outputs": [
    {
     "name": "stdout",
     "output_type": "stream",
     "text": [
      "|   iter    |  target   | param_... | param_... | param_... | param_... |\n",
      "-------------------------------------------------------------------------\n"
     ]
    },
    {
     "name": "stderr",
     "output_type": "stream",
     "text": [
      "/data/xiayunpeng/anaconda3/envs/BERT/lib/python3.6/site-packages/sklearn/utils/validation.py:72: FutureWarning: Pass shuffle=True, random_state=0 as keyword args. From version 1.0 (renaming of 0.25) passing these as positional arguments will result in an error\n",
      "  \"will result in an error\", FutureWarning)\n"
     ]
    },
    {
     "name": "stdout",
     "output_type": "stream",
     "text": [
      "param_n_estimators:  738.4572568265921\n",
      "param_learning_rate:  0.08116262258099886\n",
      "param_max_depth:  28.71857196665782\n",
      "param_min_samples_split:  75.87945476302646\n",
      "0.8160864556224012\n",
      "| \u001b[0m1        \u001b[0m | \u001b[0m0.8161   \u001b[0m | \u001b[0m0.08116  \u001b[0m | \u001b[0m28.72    \u001b[0m | \u001b[0m75.88    \u001b[0m | \u001b[0m738.5    \u001b[0m |\n"
     ]
    },
    {
     "name": "stderr",
     "output_type": "stream",
     "text": [
      "/data/xiayunpeng/anaconda3/envs/BERT/lib/python3.6/site-packages/sklearn/utils/validation.py:72: FutureWarning: Pass shuffle=True, random_state=0 as keyword args. From version 1.0 (renaming of 0.25) passing these as positional arguments will result in an error\n",
      "  \"will result in an error\", FutureWarning)\n"
     ]
    },
    {
     "name": "stdout",
     "output_type": "stream",
     "text": [
      "param_n_estimators:  1046.1025676411755\n",
      "param_learning_rate:  0.039643541684062936\n",
      "param_max_depth:  8.055857528741269\n",
      "param_min_samples_split:  15.227525095137953\n",
      "0.8207917095594599\n",
      "| \u001b[95m2        \u001b[0m | \u001b[95m0.8208   \u001b[0m | \u001b[95m0.03964  \u001b[0m | \u001b[95m8.056    \u001b[0m | \u001b[95m15.23    \u001b[0m | \u001b[95m1.046e+03\u001b[0m |\n"
     ]
    },
    {
     "name": "stderr",
     "output_type": "stream",
     "text": [
      "/data/xiayunpeng/anaconda3/envs/BERT/lib/python3.6/site-packages/sklearn/utils/validation.py:72: FutureWarning: Pass shuffle=True, random_state=0 as keyword args. From version 1.0 (renaming of 0.25) passing these as positional arguments will result in an error\n",
      "  \"will result in an error\", FutureWarning)\n"
     ]
    },
    {
     "name": "stdout",
     "output_type": "stream",
     "text": [
      "param_n_estimators:  1165.3963299862935\n",
      "param_learning_rate:  0.12421185223120967\n",
      "param_max_depth:  22.409887022697184\n",
      "param_min_samples_split:  11.85260448662222\n",
      "0.7732636052191391\n",
      "| \u001b[0m3        \u001b[0m | \u001b[0m0.7733   \u001b[0m | \u001b[0m0.1242   \u001b[0m | \u001b[0m22.41    \u001b[0m | \u001b[0m11.85    \u001b[0m | \u001b[0m1.165e+03\u001b[0m |\n"
     ]
    },
    {
     "name": "stderr",
     "output_type": "stream",
     "text": [
      "/data/xiayunpeng/anaconda3/envs/BERT/lib/python3.6/site-packages/sklearn/utils/validation.py:72: FutureWarning: Pass shuffle=True, random_state=0 as keyword args. From version 1.0 (renaming of 0.25) passing these as positional arguments will result in an error\n",
      "  \"will result in an error\", FutureWarning)\n"
     ]
    },
    {
     "name": "stdout",
     "output_type": "stream",
     "text": [
      "param_n_estimators:  260.9151863314489\n",
      "param_learning_rate:  0.16816410175208013\n",
      "param_max_depth:  9.52081687763518\n",
      "param_min_samples_split:  26.364247048639054\n",
      "0.8171207619712322\n",
      "| \u001b[0m4        \u001b[0m | \u001b[0m0.8171   \u001b[0m | \u001b[0m0.1682   \u001b[0m | \u001b[0m9.521    \u001b[0m | \u001b[0m26.36    \u001b[0m | \u001b[0m260.9    \u001b[0m |\n"
     ]
    },
    {
     "name": "stderr",
     "output_type": "stream",
     "text": [
      "/data/xiayunpeng/anaconda3/envs/BERT/lib/python3.6/site-packages/sklearn/utils/validation.py:72: FutureWarning: Pass shuffle=True, random_state=0 as keyword args. From version 1.0 (renaming of 0.25) passing these as positional arguments will result in an error\n",
      "  \"will result in an error\", FutureWarning)\n"
     ]
    },
    {
     "name": "stdout",
     "output_type": "stream",
     "text": [
      "param_n_estimators:  384.9135112277482\n",
      "param_learning_rate:  0.06780602616231217\n",
      "param_max_depth:  17.643667222438182\n",
      "param_min_samples_split:  48.87505167779042\n",
      "0.8125379782160513\n",
      "| \u001b[0m5        \u001b[0m | \u001b[0m0.8125   \u001b[0m | \u001b[0m0.06781  \u001b[0m | \u001b[0m17.64    \u001b[0m | \u001b[0m48.88    \u001b[0m | \u001b[0m384.9    \u001b[0m |\n"
     ]
    },
    {
     "name": "stderr",
     "output_type": "stream",
     "text": [
      "/data/xiayunpeng/anaconda3/envs/BERT/lib/python3.6/site-packages/sklearn/utils/validation.py:72: FutureWarning: Pass shuffle=True, random_state=0 as keyword args. From version 1.0 (renaming of 0.25) passing these as positional arguments will result in an error\n",
      "  \"will result in an error\", FutureWarning)\n"
     ]
    },
    {
     "name": "stdout",
     "output_type": "stream",
     "text": [
      "param_n_estimators:  262.3273259494746\n",
      "param_learning_rate:  0.14130060442045975\n",
      "param_max_depth:  11.06246271313361\n",
      "param_min_samples_split:  27.15488497670048\n",
      "0.8134746711465398\n",
      "| \u001b[0m6        \u001b[0m | \u001b[0m0.8135   \u001b[0m | \u001b[0m0.1413   \u001b[0m | \u001b[0m11.06    \u001b[0m | \u001b[0m27.15    \u001b[0m | \u001b[0m262.3    \u001b[0m |\n"
     ]
    },
    {
     "name": "stderr",
     "output_type": "stream",
     "text": [
      "/data/xiayunpeng/anaconda3/envs/BERT/lib/python3.6/site-packages/sklearn/utils/validation.py:72: FutureWarning: Pass shuffle=True, random_state=0 as keyword args. From version 1.0 (renaming of 0.25) passing these as positional arguments will result in an error\n",
      "  \"will result in an error\", FutureWarning)\n"
     ]
    },
    {
     "name": "stdout",
     "output_type": "stream",
     "text": [
      "param_n_estimators:  245.21608303105396\n",
      "param_learning_rate:  0.2\n",
      "param_max_depth:  4.0\n",
      "param_min_samples_split:  16.769209750544523\n",
      "0.81175460773675\n",
      "| \u001b[0m7        \u001b[0m | \u001b[0m0.8118   \u001b[0m | \u001b[0m0.2      \u001b[0m | \u001b[0m4.0      \u001b[0m | \u001b[0m16.77    \u001b[0m | \u001b[0m245.2    \u001b[0m |\n"
     ]
    },
    {
     "name": "stderr",
     "output_type": "stream",
     "text": [
      "/data/xiayunpeng/anaconda3/envs/BERT/lib/python3.6/site-packages/sklearn/utils/validation.py:72: FutureWarning: Pass shuffle=True, random_state=0 as keyword args. From version 1.0 (renaming of 0.25) passing these as positional arguments will result in an error\n",
      "  \"will result in an error\", FutureWarning)\n"
     ]
    }
   ],
   "source": [
    "# 实例化贝叶斯优化对象，并运行优化过程\n",
    "optimizer = BayesianOptimization(f=gbdt_evaluate, pbounds=pbounds, random_state=42)\n",
    "optimizer.maximize(n_iter=25)"
   ]
  },
  {
   "cell_type": "code",
   "execution_count": 58,
   "id": "e265167e",
   "metadata": {
    "ExecuteTime": {
     "end_time": "2023-05-25T12:56:38.689777Z",
     "start_time": "2023-05-25T12:56:38.684110Z"
    }
   },
   "outputs": [
    {
     "name": "stdout",
     "output_type": "stream",
     "text": [
      "{'target': 0.8231106871675493, 'params': {'param_learning_rate': 0.17659200841509837, 'param_max_depth': 8.972115135946286, 'param_min_samples_split': 23.339078467861945, 'param_n_estimators': 1061.9984805178046}}\n"
     ]
    }
   ],
   "source": [
    "# 打印最优结果\n",
    "print(optimizer.max)\n",
    "#GBDT 优化结果\n",
    "#{'target': 0.8231106871675493, 'params': {'param_learning_rate': 0.17659200841509837, 'param_max_depth': 8.972115135946286, 'param_min_samples_split': 23.339078467861945, 'param_n_estimators': 1061.9984805178046}}"
   ]
  },
  {
   "cell_type": "markdown",
   "id": "b92e4ddc",
   "metadata": {},
   "source": [
    "# AdaBoost优化"
   ]
  },
  {
   "cell_type": "code",
   "execution_count": 20,
   "id": "fe7b6494",
   "metadata": {
    "ExecuteTime": {
     "end_time": "2023-05-22T06:48:50.096061Z",
     "start_time": "2023-05-22T06:48:50.091430Z"
    }
   },
   "outputs": [],
   "source": [
    "from sklearn.ensemble import AdaBoostClassifier"
   ]
  },
  {
   "cell_type": "code",
   "execution_count": 40,
   "id": "db3a7984",
   "metadata": {
    "ExecuteTime": {
     "end_time": "2023-05-22T08:39:45.332844Z",
     "start_time": "2023-05-22T08:39:45.309200Z"
    }
   },
   "outputs": [],
   "source": [
    "# 定义目标函数，即SVM分类器的交叉验证准确率\n",
    "def ada_evaluate(param_n_estimators,param_learning_rate):#,param_depth,param_min_samples_split,param_min_samples_leaf,param_min_weight_fraction_leaf):\n",
    "    Auc = []\n",
    "    kf = KFold(10,True,0)\n",
    "    for i,[train_index, test_index] in enumerate(kf.split(trainData)):\n",
    "        X_train = trainData[train_index]\n",
    "        X_test = trainData[test_index]\n",
    "        Y_train = trainLabel[train_index]\n",
    "        Y_test = trainLabel[test_index]\n",
    "        #clf = SVC(kernel='polynomial', C=C, gamma=gamma)\n",
    "        clf = AdaBoostClassifier(n_estimators=int(param_n_estimators),learning_rate=param_learning_rate)#,depth=param_depth,\n",
    "                                #min_samples_split=param_min_samples_split,\n",
    "                                 #min_samples_leaf=param_min_samples_leaf,\n",
    "                                #min_weight_fraction_leaf=param_min_weight_fraction_leaf)\n",
    "        clf.fit(X_train,Y_train)\n",
    "        Auc.append(roc_auc_score(Y_test,clf.predict_proba(X_test)[:,1]))\n",
    "    \n",
    "    print(\"param_n_estimators: \",param_n_estimators)\n",
    "    print(\"param_learning_rate: \",param_learning_rate)\n",
    "#     print(\"param_depth: \",param_depth)\n",
    "#     print(\"param_min_samples_split: \",param_min_samples_split)\n",
    "#     print(\"param_min_samples_leaf: \",param_min_samples_leaf)\n",
    "#     print(\"param_min_weight_fraction_leaf: \",param_min_weight_fraction_leaf)\n",
    "    \n",
    "    print(sum(Auc) / len(Auc))\n",
    "    return sum(Auc) / len(Auc)\n",
    "\n",
    "# 定义搜索空间\n",
    "pbounds = {'param_n_estimators':(200,800),'param_learning_rate':(0.01,0.2)}#, 'param_depth': (10, 100),'param_min_samples_split':(1,10),'param_min_samples_leaf': (0.01,2),\n",
    "           #'param_min_weight_fraction_leaf':(0,1)}"
   ]
  },
  {
   "cell_type": "code",
   "execution_count": 41,
   "id": "1ebab867",
   "metadata": {
    "ExecuteTime": {
     "end_time": "2023-05-22T16:00:44.301333Z",
     "start_time": "2023-05-22T08:39:46.446168Z"
    }
   },
   "outputs": [
    {
     "name": "stdout",
     "output_type": "stream",
     "text": [
      "|   iter    |  target   | param_... | param_... |\n",
      "-------------------------------------------------\n"
     ]
    },
    {
     "name": "stderr",
     "output_type": "stream",
     "text": [
      "/data/xiayunpeng/anaconda3/envs/BERT/lib/python3.6/site-packages/sklearn/utils/validation.py:72: FutureWarning: Pass shuffle=True, random_state=0 as keyword args. From version 1.0 (renaming of 0.25) passing these as positional arguments will result in an error\n",
      "  \"will result in an error\", FutureWarning)\n"
     ]
    },
    {
     "name": "stdout",
     "output_type": "stream",
     "text": [
      "param_n_estimators:  770.4285838459497\n",
      "param_learning_rate:  0.08116262258099886\n",
      "0.8132235609585662\n",
      "| \u001b[0m1        \u001b[0m | \u001b[0m0.8132   \u001b[0m | \u001b[0m0.08116  \u001b[0m | \u001b[0m770.4    \u001b[0m |\n"
     ]
    },
    {
     "name": "stderr",
     "output_type": "stream",
     "text": [
      "/data/xiayunpeng/anaconda3/envs/BERT/lib/python3.6/site-packages/sklearn/utils/validation.py:72: FutureWarning: Pass shuffle=True, random_state=0 as keyword args. From version 1.0 (renaming of 0.25) passing these as positional arguments will result in an error\n",
      "  \"will result in an error\", FutureWarning)\n"
     ]
    },
    {
     "name": "stdout",
     "output_type": "stream",
     "text": [
      "param_n_estimators:  559.195090518222\n",
      "param_learning_rate:  0.14907884894416698\n",
      "0.8163124487117068\n",
      "| \u001b[95m2        \u001b[0m | \u001b[95m0.8163   \u001b[0m | \u001b[95m0.1491   \u001b[0m | \u001b[95m559.2    \u001b[0m |\n"
     ]
    },
    {
     "name": "stderr",
     "output_type": "stream",
     "text": [
      "/data/xiayunpeng/anaconda3/envs/BERT/lib/python3.6/site-packages/sklearn/utils/validation.py:72: FutureWarning: Pass shuffle=True, random_state=0 as keyword args. From version 1.0 (renaming of 0.25) passing these as positional arguments will result in an error\n",
      "  \"will result in an error\", FutureWarning)\n"
     ]
    },
    {
     "name": "stdout",
     "output_type": "stream",
     "text": [
      "param_n_estimators:  293.5967122017216\n",
      "param_learning_rate:  0.039643541684062936\n",
      "0.7738982350350542\n",
      "| \u001b[0m3        \u001b[0m | \u001b[0m0.7739   \u001b[0m | \u001b[0m0.03964  \u001b[0m | \u001b[0m293.6    \u001b[0m |\n"
     ]
    },
    {
     "name": "stderr",
     "output_type": "stream",
     "text": [
      "/data/xiayunpeng/anaconda3/envs/BERT/lib/python3.6/site-packages/sklearn/utils/validation.py:72: FutureWarning: Pass shuffle=True, random_state=0 as keyword args. From version 1.0 (renaming of 0.25) passing these as positional arguments will result in an error\n",
      "  \"will result in an error\", FutureWarning)\n"
     ]
    },
    {
     "name": "stdout",
     "output_type": "stream",
     "text": [
      "param_n_estimators:  719.7056874649611\n",
      "param_learning_rate:  0.021035886311957897\n",
      "0.7813003206800729\n",
      "| \u001b[0m4        \u001b[0m | \u001b[0m0.7813   \u001b[0m | \u001b[0m0.02104  \u001b[0m | \u001b[0m719.7    \u001b[0m |\n"
     ]
    },
    {
     "name": "stderr",
     "output_type": "stream",
     "text": [
      "/data/xiayunpeng/anaconda3/envs/BERT/lib/python3.6/site-packages/sklearn/utils/validation.py:72: FutureWarning: Pass shuffle=True, random_state=0 as keyword args. From version 1.0 (renaming of 0.25) passing these as positional arguments will result in an error\n",
      "  \"will result in an error\", FutureWarning)\n"
     ]
    },
    {
     "name": "stdout",
     "output_type": "stream",
     "text": [
      "param_n_estimators:  624.8435466776273\n",
      "param_learning_rate:  0.12421185223120967\n",
      "0.8155350476112266\n",
      "| \u001b[0m5        \u001b[0m | \u001b[0m0.8155   \u001b[0m | \u001b[0m0.1242   \u001b[0m | \u001b[0m624.8    \u001b[0m |\n"
     ]
    },
    {
     "name": "stderr",
     "output_type": "stream",
     "text": [
      "/data/xiayunpeng/anaconda3/envs/BERT/lib/python3.6/site-packages/sklearn/utils/validation.py:72: FutureWarning: Pass shuffle=True, random_state=0 as keyword args. From version 1.0 (renaming of 0.25) passing these as positional arguments will result in an error\n",
      "  \"will result in an error\", FutureWarning)\n"
     ]
    },
    {
     "name": "stdout",
     "output_type": "stream",
     "text": [
      "param_n_estimators:  560.5950528472505\n",
      "param_learning_rate:  0.2\n",
      "0.8173566919648032\n",
      "| \u001b[95m6        \u001b[0m | \u001b[95m0.8174   \u001b[0m | \u001b[95m0.2      \u001b[0m | \u001b[95m560.6    \u001b[0m |\n"
     ]
    },
    {
     "name": "stderr",
     "output_type": "stream",
     "text": [
      "/data/xiayunpeng/anaconda3/envs/BERT/lib/python3.6/site-packages/sklearn/utils/validation.py:72: FutureWarning: Pass shuffle=True, random_state=0 as keyword args. From version 1.0 (renaming of 0.25) passing these as positional arguments will result in an error\n",
      "  \"will result in an error\", FutureWarning)\n"
     ]
    },
    {
     "name": "stdout",
     "output_type": "stream",
     "text": [
      "param_n_estimators:  593.6568032628408\n",
      "param_learning_rate:  0.01\n",
      "0.7517612015195505\n",
      "| \u001b[0m7        \u001b[0m | \u001b[0m0.7518   \u001b[0m | \u001b[0m0.01     \u001b[0m | \u001b[0m593.7    \u001b[0m |\n"
     ]
    },
    {
     "name": "stderr",
     "output_type": "stream",
     "text": [
      "/data/xiayunpeng/anaconda3/envs/BERT/lib/python3.6/site-packages/sklearn/utils/validation.py:72: FutureWarning: Pass shuffle=True, random_state=0 as keyword args. From version 1.0 (renaming of 0.25) passing these as positional arguments will result in an error\n",
      "  \"will result in an error\", FutureWarning)\n"
     ]
    },
    {
     "name": "stdout",
     "output_type": "stream",
     "text": [
      "param_n_estimators:  641.8237611202444\n",
      "param_learning_rate:  0.2\n",
      "0.8173644228793637\n",
      "| \u001b[95m8        \u001b[0m | \u001b[95m0.8174   \u001b[0m | \u001b[95m0.2      \u001b[0m | \u001b[95m641.8    \u001b[0m |\n"
     ]
    },
    {
     "name": "stderr",
     "output_type": "stream",
     "text": [
      "/data/xiayunpeng/anaconda3/envs/BERT/lib/python3.6/site-packages/sklearn/utils/validation.py:72: FutureWarning: Pass shuffle=True, random_state=0 as keyword args. From version 1.0 (renaming of 0.25) passing these as positional arguments will result in an error\n",
      "  \"will result in an error\", FutureWarning)\n"
     ]
    },
    {
     "name": "stdout",
     "output_type": "stream",
     "text": [
      "param_n_estimators:  792.8508216995085\n",
      "param_learning_rate:  0.08243623003529521\n",
      "0.8137061469510988\n",
      "| \u001b[0m9        \u001b[0m | \u001b[0m0.8137   \u001b[0m | \u001b[0m0.08244  \u001b[0m | \u001b[0m792.9    \u001b[0m |\n"
     ]
    },
    {
     "name": "stderr",
     "output_type": "stream",
     "text": [
      "/data/xiayunpeng/anaconda3/envs/BERT/lib/python3.6/site-packages/sklearn/utils/validation.py:72: FutureWarning: Pass shuffle=True, random_state=0 as keyword args. From version 1.0 (renaming of 0.25) passing these as positional arguments will result in an error\n",
      "  \"will result in an error\", FutureWarning)\n"
     ]
    },
    {
     "name": "stdout",
     "output_type": "stream",
     "text": [
      "param_n_estimators:  665.3830592877966\n",
      "param_learning_rate:  0.04205995163015169\n",
      "0.7987177957700514\n",
      "| \u001b[0m10       \u001b[0m | \u001b[0m0.7987   \u001b[0m | \u001b[0m0.04206  \u001b[0m | \u001b[0m665.4    \u001b[0m |\n"
     ]
    },
    {
     "name": "stderr",
     "output_type": "stream",
     "text": [
      "/data/xiayunpeng/anaconda3/envs/BERT/lib/python3.6/site-packages/sklearn/utils/validation.py:72: FutureWarning: Pass shuffle=True, random_state=0 as keyword args. From version 1.0 (renaming of 0.25) passing these as positional arguments will result in an error\n",
      "  \"will result in an error\", FutureWarning)\n"
     ]
    },
    {
     "name": "stdout",
     "output_type": "stream",
     "text": [
      "param_n_estimators:  517.930741375691\n",
      "param_learning_rate:  0.19093541495117722\n",
      "0.8169959745573534\n",
      "| \u001b[0m11       \u001b[0m | \u001b[0m0.817    \u001b[0m | \u001b[0m0.1909   \u001b[0m | \u001b[0m517.9    \u001b[0m |\n"
     ]
    },
    {
     "name": "stderr",
     "output_type": "stream",
     "text": [
      "/data/xiayunpeng/anaconda3/envs/BERT/lib/python3.6/site-packages/sklearn/utils/validation.py:72: FutureWarning: Pass shuffle=True, random_state=0 as keyword args. From version 1.0 (renaming of 0.25) passing these as positional arguments will result in an error\n",
      "  \"will result in an error\", FutureWarning)\n"
     ]
    },
    {
     "name": "stdout",
     "output_type": "stream",
     "text": [
      "param_n_estimators:  496.96287395406915\n",
      "param_learning_rate:  0.0690153412203765\n",
      "0.8034262532712114\n",
      "| \u001b[0m12       \u001b[0m | \u001b[0m0.8034   \u001b[0m | \u001b[0m0.06902  \u001b[0m | \u001b[0m497.0    \u001b[0m |\n"
     ]
    },
    {
     "name": "stderr",
     "output_type": "stream",
     "text": [
      "/data/xiayunpeng/anaconda3/envs/BERT/lib/python3.6/site-packages/sklearn/utils/validation.py:72: FutureWarning: Pass shuffle=True, random_state=0 as keyword args. From version 1.0 (renaming of 0.25) passing these as positional arguments will result in an error\n",
      "  \"will result in an error\", FutureWarning)\n"
     ]
    },
    {
     "name": "stdout",
     "output_type": "stream",
     "text": [
      "param_n_estimators:  534.7766884374655\n",
      "param_learning_rate:  0.1632417719240083\n",
      "0.8167448273435184\n",
      "| \u001b[0m13       \u001b[0m | \u001b[0m0.8167   \u001b[0m | \u001b[0m0.1632   \u001b[0m | \u001b[0m534.8    \u001b[0m |\n"
     ]
    },
    {
     "name": "stderr",
     "output_type": "stream",
     "text": [
      "/data/xiayunpeng/anaconda3/envs/BERT/lib/python3.6/site-packages/sklearn/utils/validation.py:72: FutureWarning: Pass shuffle=True, random_state=0 as keyword args. From version 1.0 (renaming of 0.25) passing these as positional arguments will result in an error\n",
      "  \"will result in an error\", FutureWarning)\n"
     ]
    },
    {
     "name": "stdout",
     "output_type": "stream",
     "text": [
      "param_n_estimators:  404.25908241245804\n",
      "param_learning_rate:  0.023545135391998335\n",
      "0.7679667934685517\n",
      "| \u001b[0m14       \u001b[0m | \u001b[0m0.768    \u001b[0m | \u001b[0m0.02355  \u001b[0m | \u001b[0m404.3    \u001b[0m |\n"
     ]
    },
    {
     "name": "stderr",
     "output_type": "stream",
     "text": [
      "/data/xiayunpeng/anaconda3/envs/BERT/lib/python3.6/site-packages/sklearn/utils/validation.py:72: FutureWarning: Pass shuffle=True, random_state=0 as keyword args. From version 1.0 (renaming of 0.25) passing these as positional arguments will result in an error\n",
      "  \"will result in an error\", FutureWarning)\n"
     ]
    },
    {
     "name": "stdout",
     "output_type": "stream",
     "text": [
      "param_n_estimators:  200.02375105835938\n",
      "param_learning_rate:  0.16635745024509374\n",
      "0.803346848324075\n",
      "| \u001b[0m15       \u001b[0m | \u001b[0m0.8033   \u001b[0m | \u001b[0m0.1664   \u001b[0m | \u001b[0m200.0    \u001b[0m |\n"
     ]
    },
    {
     "name": "stderr",
     "output_type": "stream",
     "text": [
      "/data/xiayunpeng/anaconda3/envs/BERT/lib/python3.6/site-packages/sklearn/utils/validation.py:72: FutureWarning: Pass shuffle=True, random_state=0 as keyword args. From version 1.0 (renaming of 0.25) passing these as positional arguments will result in an error\n",
      "  \"will result in an error\", FutureWarning)\n"
     ]
    },
    {
     "name": "stdout",
     "output_type": "stream",
     "text": [
      "param_n_estimators:  234.66871189980534\n",
      "param_learning_rate:  0.053658257706490936\n",
      "0.7762605425689142\n",
      "| \u001b[0m16       \u001b[0m | \u001b[0m0.7763   \u001b[0m | \u001b[0m0.05366  \u001b[0m | \u001b[0m234.7    \u001b[0m |\n"
     ]
    },
    {
     "name": "stderr",
     "output_type": "stream",
     "text": [
      "/data/xiayunpeng/anaconda3/envs/BERT/lib/python3.6/site-packages/sklearn/utils/validation.py:72: FutureWarning: Pass shuffle=True, random_state=0 as keyword args. From version 1.0 (renaming of 0.25) passing these as positional arguments will result in an error\n",
      "  \"will result in an error\", FutureWarning)\n"
     ]
    },
    {
     "name": "stdout",
     "output_type": "stream",
     "text": [
      "param_n_estimators:  460.75941487702704\n",
      "param_learning_rate:  0.11084034649546386\n",
      "0.8104306594178634\n",
      "| \u001b[0m17       \u001b[0m | \u001b[0m0.8104   \u001b[0m | \u001b[0m0.1108   \u001b[0m | \u001b[0m460.8    \u001b[0m |\n"
     ]
    },
    {
     "name": "stderr",
     "output_type": "stream",
     "text": [
      "/data/xiayunpeng/anaconda3/envs/BERT/lib/python3.6/site-packages/sklearn/utils/validation.py:72: FutureWarning: Pass shuffle=True, random_state=0 as keyword args. From version 1.0 (renaming of 0.25) passing these as positional arguments will result in an error\n",
      "  \"will result in an error\", FutureWarning)\n"
     ]
    },
    {
     "name": "stdout",
     "output_type": "stream",
     "text": [
      "param_n_estimators:  348.0276587656475\n",
      "param_learning_rate:  0.13027522058287558\n",
      "0.808640723710982\n",
      "| \u001b[0m18       \u001b[0m | \u001b[0m0.8086   \u001b[0m | \u001b[0m0.1303   \u001b[0m | \u001b[0m348.0    \u001b[0m |\n"
     ]
    },
    {
     "name": "stderr",
     "output_type": "stream",
     "text": [
      "/data/xiayunpeng/anaconda3/envs/BERT/lib/python3.6/site-packages/sklearn/utils/validation.py:72: FutureWarning: Pass shuffle=True, random_state=0 as keyword args. From version 1.0 (renaming of 0.25) passing these as positional arguments will result in an error\n",
      "  \"will result in an error\", FutureWarning)\n"
     ]
    },
    {
     "name": "stdout",
     "output_type": "stream",
     "text": [
      "param_n_estimators:  440.9049780783629\n",
      "param_learning_rate:  0.15823530147564827\n",
      "0.8147524708784681\n",
      "| \u001b[0m19       \u001b[0m | \u001b[0m0.8148   \u001b[0m | \u001b[0m0.1582   \u001b[0m | \u001b[0m440.9    \u001b[0m |\n"
     ]
    },
    {
     "name": "stderr",
     "output_type": "stream",
     "text": [
      "/data/xiayunpeng/anaconda3/envs/BERT/lib/python3.6/site-packages/sklearn/utils/validation.py:72: FutureWarning: Pass shuffle=True, random_state=0 as keyword args. From version 1.0 (renaming of 0.25) passing these as positional arguments will result in an error\n",
      "  \"will result in an error\", FutureWarning)\n"
     ]
    },
    {
     "name": "stdout",
     "output_type": "stream",
     "text": [
      "param_n_estimators:  751.3097435832586\n",
      "param_learning_rate:  0.020041008959531998\n",
      "0.7811749140522719\n",
      "| \u001b[0m20       \u001b[0m | \u001b[0m0.7812   \u001b[0m | \u001b[0m0.02004  \u001b[0m | \u001b[0m751.3    \u001b[0m |\n"
     ]
    },
    {
     "name": "stderr",
     "output_type": "stream",
     "text": [
      "/data/xiayunpeng/anaconda3/envs/BERT/lib/python3.6/site-packages/sklearn/utils/validation.py:72: FutureWarning: Pass shuffle=True, random_state=0 as keyword args. From version 1.0 (renaming of 0.25) passing these as positional arguments will result in an error\n",
      "  \"will result in an error\", FutureWarning)\n"
     ]
    },
    {
     "name": "stdout",
     "output_type": "stream",
     "text": [
      "param_n_estimators:  327.96191292272204\n",
      "param_learning_rate:  0.13160611209382286\n",
      "0.8077357243551887\n",
      "| \u001b[0m21       \u001b[0m | \u001b[0m0.8077   \u001b[0m | \u001b[0m0.1316   \u001b[0m | \u001b[0m328.0    \u001b[0m |\n"
     ]
    },
    {
     "name": "stderr",
     "output_type": "stream",
     "text": [
      "/data/xiayunpeng/anaconda3/envs/BERT/lib/python3.6/site-packages/sklearn/utils/validation.py:72: FutureWarning: Pass shuffle=True, random_state=0 as keyword args. From version 1.0 (renaming of 0.25) passing these as positional arguments will result in an error\n",
      "  \"will result in an error\", FutureWarning)\n"
     ]
    },
    {
     "name": "stdout",
     "output_type": "stream",
     "text": [
      "param_n_estimators:  368.72993696268315\n",
      "param_learning_rate:  0.01\n",
      "0.73465497962437\n",
      "| \u001b[0m22       \u001b[0m | \u001b[0m0.7347   \u001b[0m | \u001b[0m0.01     \u001b[0m | \u001b[0m368.7    \u001b[0m |\n"
     ]
    },
    {
     "name": "stderr",
     "output_type": "stream",
     "text": [
      "/data/xiayunpeng/anaconda3/envs/BERT/lib/python3.6/site-packages/sklearn/utils/validation.py:72: FutureWarning: Pass shuffle=True, random_state=0 as keyword args. From version 1.0 (renaming of 0.25) passing these as positional arguments will result in an error\n",
      "  \"will result in an error\", FutureWarning)\n"
     ]
    },
    {
     "name": "stdout",
     "output_type": "stream",
     "text": [
      "param_n_estimators:  690.0302740471994\n",
      "param_learning_rate:  0.10249941256730973\n",
      "0.8146758396965765\n",
      "| \u001b[0m23       \u001b[0m | \u001b[0m0.8147   \u001b[0m | \u001b[0m0.1025   \u001b[0m | \u001b[0m690.0    \u001b[0m |\n"
     ]
    },
    {
     "name": "stderr",
     "output_type": "stream",
     "text": [
      "/data/xiayunpeng/anaconda3/envs/BERT/lib/python3.6/site-packages/sklearn/utils/validation.py:72: FutureWarning: Pass shuffle=True, random_state=0 as keyword args. From version 1.0 (renaming of 0.25) passing these as positional arguments will result in an error\n",
      "  \"will result in an error\", FutureWarning)\n"
     ]
    },
    {
     "name": "stdout",
     "output_type": "stream",
     "text": [
      "param_n_estimators:  477.8452508523669\n",
      "param_learning_rate:  0.01\n",
      "0.7440205819771981\n",
      "| \u001b[0m24       \u001b[0m | \u001b[0m0.744    \u001b[0m | \u001b[0m0.01     \u001b[0m | \u001b[0m477.8    \u001b[0m |\n"
     ]
    },
    {
     "name": "stderr",
     "output_type": "stream",
     "text": [
      "/data/xiayunpeng/anaconda3/envs/BERT/lib/python3.6/site-packages/sklearn/utils/validation.py:72: FutureWarning: Pass shuffle=True, random_state=0 as keyword args. From version 1.0 (renaming of 0.25) passing these as positional arguments will result in an error\n",
      "  \"will result in an error\", FutureWarning)\n"
     ]
    },
    {
     "name": "stdout",
     "output_type": "stream",
     "text": [
      "param_n_estimators:  781.5935263096853\n",
      "param_learning_rate:  0.1608548813008134\n",
      "0.817646776977616\n",
      "| \u001b[95m25       \u001b[0m | \u001b[95m0.8176   \u001b[0m | \u001b[95m0.1609   \u001b[0m | \u001b[95m781.6    \u001b[0m |\n"
     ]
    },
    {
     "name": "stderr",
     "output_type": "stream",
     "text": [
      "/data/xiayunpeng/anaconda3/envs/BERT/lib/python3.6/site-packages/sklearn/utils/validation.py:72: FutureWarning: Pass shuffle=True, random_state=0 as keyword args. From version 1.0 (renaming of 0.25) passing these as positional arguments will result in an error\n",
      "  \"will result in an error\", FutureWarning)\n"
     ]
    },
    {
     "name": "stdout",
     "output_type": "stream",
     "text": [
      "param_n_estimators:  263.7821377053856\n",
      "param_learning_rate:  0.11643268619953258\n",
      "0.8013581063975774\n",
      "| \u001b[0m26       \u001b[0m | \u001b[0m0.8014   \u001b[0m | \u001b[0m0.1164   \u001b[0m | \u001b[0m263.8    \u001b[0m |\n"
     ]
    },
    {
     "name": "stderr",
     "output_type": "stream",
     "text": [
      "/data/xiayunpeng/anaconda3/envs/BERT/lib/python3.6/site-packages/sklearn/utils/validation.py:72: FutureWarning: Pass shuffle=True, random_state=0 as keyword args. From version 1.0 (renaming of 0.25) passing these as positional arguments will result in an error\n",
      "  \"will result in an error\", FutureWarning)\n"
     ]
    },
    {
     "name": "stdout",
     "output_type": "stream",
     "text": [
      "param_n_estimators:  450.90493649175363\n",
      "param_learning_rate:  0.01\n",
      "0.7419922392786653\n",
      "| \u001b[0m27       \u001b[0m | \u001b[0m0.742    \u001b[0m | \u001b[0m0.01     \u001b[0m | \u001b[0m450.9    \u001b[0m |\n"
     ]
    },
    {
     "name": "stderr",
     "output_type": "stream",
     "text": [
      "/data/xiayunpeng/anaconda3/envs/BERT/lib/python3.6/site-packages/sklearn/utils/validation.py:72: FutureWarning: Pass shuffle=True, random_state=0 as keyword args. From version 1.0 (renaming of 0.25) passing these as positional arguments will result in an error\n",
      "  \"will result in an error\", FutureWarning)\n"
     ]
    },
    {
     "name": "stdout",
     "output_type": "stream",
     "text": [
      "param_n_estimators:  525.7997010897484\n",
      "param_learning_rate:  0.18721744424252812\n",
      "0.8167334875218104\n",
      "| \u001b[0m28       \u001b[0m | \u001b[0m0.8167   \u001b[0m | \u001b[0m0.1872   \u001b[0m | \u001b[0m525.8    \u001b[0m |\n"
     ]
    },
    {
     "name": "stderr",
     "output_type": "stream",
     "text": [
      "/data/xiayunpeng/anaconda3/envs/BERT/lib/python3.6/site-packages/sklearn/utils/validation.py:72: FutureWarning: Pass shuffle=True, random_state=0 as keyword args. From version 1.0 (renaming of 0.25) passing these as positional arguments will result in an error\n",
      "  \"will result in an error\", FutureWarning)\n"
     ]
    },
    {
     "name": "stdout",
     "output_type": "stream",
     "text": [
      "param_n_estimators:  633.6385080040905\n",
      "param_learning_rate:  0.18733244969706583\n",
      "0.8169330055698586\n",
      "| \u001b[0m29       \u001b[0m | \u001b[0m0.8169   \u001b[0m | \u001b[0m0.1873   \u001b[0m | \u001b[0m633.6    \u001b[0m |\n"
     ]
    },
    {
     "name": "stderr",
     "output_type": "stream",
     "text": [
      "/data/xiayunpeng/anaconda3/envs/BERT/lib/python3.6/site-packages/sklearn/utils/validation.py:72: FutureWarning: Pass shuffle=True, random_state=0 as keyword args. From version 1.0 (renaming of 0.25) passing these as positional arguments will result in an error\n",
      "  \"will result in an error\", FutureWarning)\n"
     ]
    },
    {
     "name": "stdout",
     "output_type": "stream",
     "text": [
      "param_n_estimators:  433.4631751344057\n",
      "param_learning_rate:  0.2\n",
      "0.8172021666078146\n",
      "| \u001b[0m30       \u001b[0m | \u001b[0m0.8172   \u001b[0m | \u001b[0m0.2      \u001b[0m | \u001b[0m433.5    \u001b[0m |\n",
      "=================================================\n"
     ]
    }
   ],
   "source": [
    "# 实例化贝叶斯优化对象，并运行优化过程\n",
    "optimizer = BayesianOptimization(f=ada_evaluate, pbounds=pbounds, random_state=42)\n",
    "optimizer.maximize(n_iter=25)"
   ]
  },
  {
   "cell_type": "code",
   "execution_count": 42,
   "id": "211a5899",
   "metadata": {
    "ExecuteTime": {
     "end_time": "2023-05-22T16:00:44.595948Z",
     "start_time": "2023-05-22T16:00:44.588674Z"
    }
   },
   "outputs": [
    {
     "name": "stdout",
     "output_type": "stream",
     "text": [
      "{'target': 0.817646776977616, 'params': {'param_learning_rate': 0.1608548813008134, 'param_n_estimators': 781.5935263096853}}\n"
     ]
    }
   ],
   "source": [
    "# 打印最优结果\n",
    "print(optimizer.max)\n",
    "#Adaboost 优化结果\n",
    "#{'target': 0.817646776977616, 'params': {'param_learning_rate': 0.1608548813008134, 'param_n_estimators': 781.5935263096853}}"
   ]
  },
  {
   "cell_type": "markdown",
   "id": "a08eac31",
   "metadata": {},
   "source": [
    "# ExtraTree优化"
   ]
  },
  {
   "cell_type": "code",
   "execution_count": 43,
   "id": "4e16ab88",
   "metadata": {
    "ExecuteTime": {
     "end_time": "2023-05-23T02:21:48.678415Z",
     "start_time": "2023-05-23T02:21:48.674321Z"
    }
   },
   "outputs": [],
   "source": [
    "from sklearn.ensemble import ExtraTreesClassifier"
   ]
  },
  {
   "cell_type": "code",
   "execution_count": 44,
   "id": "63864890",
   "metadata": {
    "ExecuteTime": {
     "end_time": "2023-05-23T02:21:55.500385Z",
     "start_time": "2023-05-23T02:21:55.491176Z"
    }
   },
   "outputs": [],
   "source": [
    "# 定义目标函数，即SVM分类器的交叉验证准确率\n",
    "def extra_evaluate(param_n_estimators,param_min_samples_split,param_max_depth):\n",
    "    Auc = []\n",
    "    kf = KFold(10,True,0)\n",
    "    for i,[train_index, test_index] in enumerate(kf.split(trainData)):\n",
    "        X_train = trainData[train_index]\n",
    "        X_test = trainData[test_index]\n",
    "        Y_train = trainLabel[train_index]\n",
    "        Y_test = trainLabel[test_index]\n",
    "        if param_min_samples_split>1:\n",
    "            param_min_samples_split=int(param_min_samples_split)\n",
    "        clf = ExtraTreesClassifier(n_estimators=int(param_n_estimators) ,\n",
    "                                   min_samples_split=param_min_samples_split,max_depth=param_max_depth)\n",
    "        \n",
    "        clf.fit(X_train,Y_train)\n",
    "        Auc.append(roc_auc_score(Y_test,clf.predict_proba(X_test)[:,1]))\n",
    "        \n",
    "    print(\"n_estimators: \",param_n_estimators)\n",
    "    print(\"min_samples_split: \",param_min_samples_split)\n",
    "    print(\"max_depth: \",param_max_depth)\n",
    "    print(sum(Auc) / len(Auc))\n",
    "    return sum(Auc) / len(Auc)\n",
    "\n",
    "# 定义搜索空间\n",
    "pbounds = {'param_n_estimators': (10, 1200),'param_min_samples_split':(2,20),'param_max_depth': (10,50)}"
   ]
  },
  {
   "cell_type": "code",
   "execution_count": 45,
   "id": "1cf23c8a",
   "metadata": {
    "ExecuteTime": {
     "end_time": "2023-05-23T03:09:02.136023Z",
     "start_time": "2023-05-23T02:22:05.308241Z"
    }
   },
   "outputs": [
    {
     "name": "stdout",
     "output_type": "stream",
     "text": [
      "|   iter    |  target   | param_... | param_... | param_... |\n",
      "-------------------------------------------------------------\n"
     ]
    },
    {
     "name": "stderr",
     "output_type": "stream",
     "text": [
      "/data/xiayunpeng/anaconda3/envs/BERT/lib/python3.6/site-packages/sklearn/utils/validation.py:72: FutureWarning: Pass shuffle=True, random_state=0 as keyword args. From version 1.0 (renaming of 0.25) passing these as positional arguments will result in an error\n",
      "  \"will result in an error\", FutureWarning)\n"
     ]
    },
    {
     "name": "stdout",
     "output_type": "stream",
     "text": [
      "n_estimators:  881.0727907555721\n",
      "min_samples_split:  19\n",
      "max_depth:  24.9816047538945\n",
      "0.8153310966819637\n",
      "| \u001b[0m1        \u001b[0m | \u001b[0m0.8153   \u001b[0m | \u001b[0m24.98    \u001b[0m | \u001b[0m19.11    \u001b[0m | \u001b[0m881.1    \u001b[0m |\n"
     ]
    },
    {
     "name": "stderr",
     "output_type": "stream",
     "text": [
      "/data/xiayunpeng/anaconda3/envs/BERT/lib/python3.6/site-packages/sklearn/utils/validation.py:72: FutureWarning: Pass shuffle=True, random_state=0 as keyword args. From version 1.0 (renaming of 0.25) passing these as positional arguments will result in an error\n",
      "  \"will result in an error\", FutureWarning)\n"
     ]
    },
    {
     "name": "stdout",
     "output_type": "stream",
     "text": [
      "n_estimators:  195.63347920008115\n",
      "min_samples_split:  4\n",
      "max_depth:  33.946339367881464\n",
      "0.8092615249464051\n",
      "| \u001b[0m2        \u001b[0m | \u001b[0m0.8093   \u001b[0m | \u001b[0m33.95    \u001b[0m | \u001b[0m4.808    \u001b[0m | \u001b[0m195.6    \u001b[0m |\n"
     ]
    },
    {
     "name": "stderr",
     "output_type": "stream",
     "text": [
      "/data/xiayunpeng/anaconda3/envs/BERT/lib/python3.6/site-packages/sklearn/utils/validation.py:72: FutureWarning: Pass shuffle=True, random_state=0 as keyword args. From version 1.0 (renaming of 0.25) passing these as positional arguments will result in an error\n",
      "  \"will result in an error\", FutureWarning)\n"
     ]
    },
    {
     "name": "stdout",
     "output_type": "stream",
     "text": [
      "n_estimators:  725.3268639744185\n",
      "min_samples_split:  17\n",
      "max_depth:  12.32334448672798\n",
      "0.8132860836547865\n",
      "| \u001b[0m3        \u001b[0m | \u001b[0m0.8133   \u001b[0m | \u001b[0m12.32    \u001b[0m | \u001b[0m17.59    \u001b[0m | \u001b[0m725.3    \u001b[0m |\n"
     ]
    },
    {
     "name": "stderr",
     "output_type": "stream",
     "text": [
      "/data/xiayunpeng/anaconda3/envs/BERT/lib/python3.6/site-packages/sklearn/utils/validation.py:72: FutureWarning: Pass shuffle=True, random_state=0 as keyword args. From version 1.0 (renaming of 0.25) passing these as positional arguments will result in an error\n",
      "  \"will result in an error\", FutureWarning)\n"
     ]
    },
    {
     "name": "stdout",
     "output_type": "stream",
     "text": [
      "n_estimators:  1164.1927240727732\n",
      "min_samples_split:  2\n",
      "max_depth:  38.32290311184182\n",
      "0.8174573482159977\n",
      "| \u001b[95m4        \u001b[0m | \u001b[95m0.8175   \u001b[0m | \u001b[95m38.32    \u001b[0m | \u001b[95m2.371    \u001b[0m | \u001b[95m1.164e+03\u001b[0m |\n"
     ]
    },
    {
     "name": "stderr",
     "output_type": "stream",
     "text": [
      "/data/xiayunpeng/anaconda3/envs/BERT/lib/python3.6/site-packages/sklearn/utils/validation.py:72: FutureWarning: Pass shuffle=True, random_state=0 as keyword args. From version 1.0 (renaming of 0.25) passing these as positional arguments will result in an error\n",
      "  \"will result in an error\", FutureWarning)\n"
     ]
    },
    {
     "name": "stdout",
     "output_type": "stream",
     "text": [
      "n_estimators:  226.37171097644975\n",
      "min_samples_split:  5\n",
      "max_depth:  43.29770563201687\n",
      "0.8095807899026914\n",
      "| \u001b[0m5        \u001b[0m | \u001b[0m0.8096   \u001b[0m | \u001b[0m43.3     \u001b[0m | \u001b[0m5.822    \u001b[0m | \u001b[0m226.4    \u001b[0m |\n"
     ]
    },
    {
     "name": "stderr",
     "output_type": "stream",
     "text": [
      "/data/xiayunpeng/anaconda3/envs/BERT/lib/python3.6/site-packages/sklearn/utils/validation.py:72: FutureWarning: Pass shuffle=True, random_state=0 as keyword args. From version 1.0 (renaming of 0.25) passing these as positional arguments will result in an error\n",
      "  \"will result in an error\", FutureWarning)\n"
     ]
    },
    {
     "name": "stdout",
     "output_type": "stream",
     "text": [
      "n_estimators:  1199.68118031185\n",
      "min_samples_split:  15\n",
      "max_depth:  10.335819683365667\n",
      "0.8107993719325901\n",
      "| \u001b[0m6        \u001b[0m | \u001b[0m0.8108   \u001b[0m | \u001b[0m10.34    \u001b[0m | \u001b[0m15.22    \u001b[0m | \u001b[0m1.2e+03  \u001b[0m |\n"
     ]
    },
    {
     "name": "stderr",
     "output_type": "stream",
     "text": [
      "/data/xiayunpeng/anaconda3/envs/BERT/lib/python3.6/site-packages/sklearn/utils/validation.py:72: FutureWarning: Pass shuffle=True, random_state=0 as keyword args. From version 1.0 (renaming of 0.25) passing these as positional arguments will result in an error\n",
      "  \"will result in an error\", FutureWarning)\n"
     ]
    },
    {
     "name": "stdout",
     "output_type": "stream",
     "text": [
      "n_estimators:  1164.0984611812682\n",
      "min_samples_split:  4\n",
      "max_depth:  40.866576594703616\n",
      "0.8179219859927791\n",
      "| \u001b[95m7        \u001b[0m | \u001b[95m0.8179   \u001b[0m | \u001b[95m40.87    \u001b[0m | \u001b[95m4.296    \u001b[0m | \u001b[95m1.164e+03\u001b[0m |\n"
     ]
    },
    {
     "name": "stderr",
     "output_type": "stream",
     "text": [
      "/data/xiayunpeng/anaconda3/envs/BERT/lib/python3.6/site-packages/sklearn/utils/validation.py:72: FutureWarning: Pass shuffle=True, random_state=0 as keyword args. From version 1.0 (renaming of 0.25) passing these as positional arguments will result in an error\n",
      "  \"will result in an error\", FutureWarning)\n"
     ]
    },
    {
     "name": "stdout",
     "output_type": "stream",
     "text": [
      "n_estimators:  1132.9202836649017\n",
      "min_samples_split:  17\n",
      "max_depth:  50.0\n",
      "0.8153352804211218\n",
      "| \u001b[0m8        \u001b[0m | \u001b[0m0.8153   \u001b[0m | \u001b[0m50.0     \u001b[0m | \u001b[0m17.35    \u001b[0m | \u001b[0m1.133e+03\u001b[0m |\n"
     ]
    },
    {
     "name": "stderr",
     "output_type": "stream",
     "text": [
      "/data/xiayunpeng/anaconda3/envs/BERT/lib/python3.6/site-packages/sklearn/utils/validation.py:72: FutureWarning: Pass shuffle=True, random_state=0 as keyword args. From version 1.0 (renaming of 0.25) passing these as positional arguments will result in an error\n",
      "  \"will result in an error\", FutureWarning)\n"
     ]
    },
    {
     "name": "stdout",
     "output_type": "stream",
     "text": [
      "n_estimators:  1182.5633737814953\n",
      "min_samples_split:  19\n",
      "max_depth:  48.776041320007685\n",
      "0.8161678061973424\n",
      "| \u001b[0m9        \u001b[0m | \u001b[0m0.8162   \u001b[0m | \u001b[0m48.78    \u001b[0m | \u001b[0m19.64    \u001b[0m | \u001b[0m1.183e+03\u001b[0m |\n"
     ]
    },
    {
     "name": "stderr",
     "output_type": "stream",
     "text": [
      "/data/xiayunpeng/anaconda3/envs/BERT/lib/python3.6/site-packages/sklearn/utils/validation.py:72: FutureWarning: Pass shuffle=True, random_state=0 as keyword args. From version 1.0 (renaming of 0.25) passing these as positional arguments will result in an error\n",
      "  \"will result in an error\", FutureWarning)\n"
     ]
    },
    {
     "name": "stdout",
     "output_type": "stream",
     "text": [
      "n_estimators:  938.4358803787146\n",
      "min_samples_split:  8\n",
      "max_depth:  12.000007112475476\n",
      "0.8141404240568286\n",
      "| \u001b[0m10       \u001b[0m | \u001b[0m0.8141   \u001b[0m | \u001b[0m12.0     \u001b[0m | \u001b[0m8.361    \u001b[0m | \u001b[0m938.4    \u001b[0m |\n"
     ]
    },
    {
     "name": "stderr",
     "output_type": "stream",
     "text": [
      "/data/xiayunpeng/anaconda3/envs/BERT/lib/python3.6/site-packages/sklearn/utils/validation.py:72: FutureWarning: Pass shuffle=True, random_state=0 as keyword args. From version 1.0 (renaming of 0.25) passing these as positional arguments will result in an error\n",
      "  \"will result in an error\", FutureWarning)\n"
     ]
    },
    {
     "name": "stdout",
     "output_type": "stream",
     "text": [
      "n_estimators:  831.9648747793835\n",
      "min_samples_split:  8\n",
      "max_depth:  49.58578102959142\n",
      "0.8173636794421993\n",
      "| \u001b[0m11       \u001b[0m | \u001b[0m0.8174   \u001b[0m | \u001b[0m49.59    \u001b[0m | \u001b[0m8.674    \u001b[0m | \u001b[0m832.0    \u001b[0m |\n"
     ]
    },
    {
     "name": "stderr",
     "output_type": "stream",
     "text": [
      "/data/xiayunpeng/anaconda3/envs/BERT/lib/python3.6/site-packages/sklearn/utils/validation.py:72: FutureWarning: Pass shuffle=True, random_state=0 as keyword args. From version 1.0 (renaming of 0.25) passing these as positional arguments will result in an error\n",
      "  \"will result in an error\", FutureWarning)\n"
     ]
    },
    {
     "name": "stdout",
     "output_type": "stream",
     "text": [
      "n_estimators:  822.5464116596374\n",
      "min_samples_split:  6\n",
      "max_depth:  10.315554367199189\n",
      "0.8107924881100714\n",
      "| \u001b[0m12       \u001b[0m | \u001b[0m0.8108   \u001b[0m | \u001b[0m10.32    \u001b[0m | \u001b[0m6.924    \u001b[0m | \u001b[0m822.5    \u001b[0m |\n"
     ]
    },
    {
     "name": "stderr",
     "output_type": "stream",
     "text": [
      "/data/xiayunpeng/anaconda3/envs/BERT/lib/python3.6/site-packages/sklearn/utils/validation.py:72: FutureWarning: Pass shuffle=True, random_state=0 as keyword args. From version 1.0 (renaming of 0.25) passing these as positional arguments will result in an error\n",
      "  \"will result in an error\", FutureWarning)\n"
     ]
    },
    {
     "name": "stdout",
     "output_type": "stream",
     "text": [
      "n_estimators:  858.9735777890905\n",
      "min_samples_split:  5\n",
      "max_depth:  48.991369712202776\n",
      "0.8176161010827627\n",
      "| \u001b[0m13       \u001b[0m | \u001b[0m0.8176   \u001b[0m | \u001b[0m48.99    \u001b[0m | \u001b[0m5.492    \u001b[0m | \u001b[0m859.0    \u001b[0m |\n"
     ]
    },
    {
     "name": "stderr",
     "output_type": "stream",
     "text": [
      "/data/xiayunpeng/anaconda3/envs/BERT/lib/python3.6/site-packages/sklearn/utils/validation.py:72: FutureWarning: Pass shuffle=True, random_state=0 as keyword args. From version 1.0 (renaming of 0.25) passing these as positional arguments will result in an error\n",
      "  \"will result in an error\", FutureWarning)\n"
     ]
    },
    {
     "name": "stdout",
     "output_type": "stream",
     "text": [
      "n_estimators:  488.3452812910055\n",
      "min_samples_split:  3\n",
      "max_depth:  48.1718022176726\n",
      "0.8156285665432866\n",
      "| \u001b[0m14       \u001b[0m | \u001b[0m0.8156   \u001b[0m | \u001b[0m48.17    \u001b[0m | \u001b[0m3.217    \u001b[0m | \u001b[0m488.3    \u001b[0m |\n"
     ]
    },
    {
     "name": "stderr",
     "output_type": "stream",
     "text": [
      "/data/xiayunpeng/anaconda3/envs/BERT/lib/python3.6/site-packages/sklearn/utils/validation.py:72: FutureWarning: Pass shuffle=True, random_state=0 as keyword args. From version 1.0 (renaming of 0.25) passing these as positional arguments will result in an error\n",
      "  \"will result in an error\", FutureWarning)\n"
     ]
    },
    {
     "name": "stdout",
     "output_type": "stream",
     "text": [
      "n_estimators:  444.30994855966895\n",
      "min_samples_split:  3\n",
      "max_depth:  11.93141662899508\n",
      "0.8111655402045128\n",
      "| \u001b[0m15       \u001b[0m | \u001b[0m0.8112   \u001b[0m | \u001b[0m11.93    \u001b[0m | \u001b[0m3.72     \u001b[0m | \u001b[0m444.3    \u001b[0m |\n"
     ]
    },
    {
     "name": "stderr",
     "output_type": "stream",
     "text": [
      "/data/xiayunpeng/anaconda3/envs/BERT/lib/python3.6/site-packages/sklearn/utils/validation.py:72: FutureWarning: Pass shuffle=True, random_state=0 as keyword args. From version 1.0 (renaming of 0.25) passing these as positional arguments will result in an error\n",
      "  \"will result in an error\", FutureWarning)\n"
     ]
    },
    {
     "name": "stdout",
     "output_type": "stream",
     "text": [
      "n_estimators:  537.3963103133344\n",
      "min_samples_split:  11\n",
      "max_depth:  48.49235697468981\n",
      "0.815581683184153\n",
      "| \u001b[0m16       \u001b[0m | \u001b[0m0.8156   \u001b[0m | \u001b[0m48.49    \u001b[0m | \u001b[0m11.36    \u001b[0m | \u001b[0m537.4    \u001b[0m |\n"
     ]
    },
    {
     "name": "stderr",
     "output_type": "stream",
     "text": [
      "/data/xiayunpeng/anaconda3/envs/BERT/lib/python3.6/site-packages/sklearn/utils/validation.py:72: FutureWarning: Pass shuffle=True, random_state=0 as keyword args. From version 1.0 (renaming of 0.25) passing these as positional arguments will result in an error\n",
      "  \"will result in an error\", FutureWarning)\n"
     ]
    },
    {
     "name": "stdout",
     "output_type": "stream",
     "text": [
      "n_estimators:  580.9562623074276\n",
      "min_samples_split:  6\n",
      "max_depth:  11.466686490398832\n",
      "0.8120205667930913\n",
      "| \u001b[0m17       \u001b[0m | \u001b[0m0.812    \u001b[0m | \u001b[0m11.47    \u001b[0m | \u001b[0m6.498    \u001b[0m | \u001b[0m581.0    \u001b[0m |\n"
     ]
    },
    {
     "name": "stderr",
     "output_type": "stream",
     "text": [
      "/data/xiayunpeng/anaconda3/envs/BERT/lib/python3.6/site-packages/sklearn/utils/validation.py:72: FutureWarning: Pass shuffle=True, random_state=0 as keyword args. From version 1.0 (renaming of 0.25) passing these as positional arguments will result in an error\n",
      "  \"will result in an error\", FutureWarning)\n"
     ]
    },
    {
     "name": "stdout",
     "output_type": "stream",
     "text": [
      "n_estimators:  902.4759666466175\n",
      "min_samples_split:  2\n",
      "max_depth:  49.83271855061808\n",
      "0.8162798571151659\n",
      "| \u001b[0m18       \u001b[0m | \u001b[0m0.8163   \u001b[0m | \u001b[0m49.83    \u001b[0m | \u001b[0m2.896    \u001b[0m | \u001b[0m902.5    \u001b[0m |\n"
     ]
    },
    {
     "name": "stderr",
     "output_type": "stream",
     "text": [
      "/data/xiayunpeng/anaconda3/envs/BERT/lib/python3.6/site-packages/sklearn/utils/validation.py:72: FutureWarning: Pass shuffle=True, random_state=0 as keyword args. From version 1.0 (renaming of 0.25) passing these as positional arguments will result in an error\n",
      "  \"will result in an error\", FutureWarning)\n"
     ]
    },
    {
     "name": "stdout",
     "output_type": "stream",
     "text": [
      "n_estimators:  10.516392200075925\n",
      "min_samples_split:  17\n",
      "max_depth:  48.78235322657878\n",
      "0.7486855613093553\n",
      "| \u001b[0m19       \u001b[0m | \u001b[0m0.7487   \u001b[0m | \u001b[0m48.78    \u001b[0m | \u001b[0m17.26    \u001b[0m | \u001b[0m10.52    \u001b[0m |\n"
     ]
    },
    {
     "name": "stderr",
     "output_type": "stream",
     "text": [
      "/data/xiayunpeng/anaconda3/envs/BERT/lib/python3.6/site-packages/sklearn/utils/validation.py:72: FutureWarning: Pass shuffle=True, random_state=0 as keyword args. From version 1.0 (renaming of 0.25) passing these as positional arguments will result in an error\n",
      "  \"will result in an error\", FutureWarning)\n"
     ]
    },
    {
     "name": "stdout",
     "output_type": "stream",
     "text": [
      "n_estimators:  660.6289874101922\n",
      "min_samples_split:  2\n",
      "max_depth:  50.0\n",
      "0.8166698470320609\n",
      "| \u001b[0m20       \u001b[0m | \u001b[0m0.8167   \u001b[0m | \u001b[0m50.0     \u001b[0m | \u001b[0m2.0      \u001b[0m | \u001b[0m660.6    \u001b[0m |\n"
     ]
    },
    {
     "name": "stderr",
     "output_type": "stream",
     "text": [
      "/data/xiayunpeng/anaconda3/envs/BERT/lib/python3.6/site-packages/sklearn/utils/validation.py:72: FutureWarning: Pass shuffle=True, random_state=0 as keyword args. From version 1.0 (renaming of 0.25) passing these as positional arguments will result in an error\n",
      "  \"will result in an error\", FutureWarning)\n"
     ]
    },
    {
     "name": "stdout",
     "output_type": "stream",
     "text": [
      "n_estimators:  352.4358939735725\n",
      "min_samples_split:  19\n",
      "max_depth:  47.8911802864906\n",
      "0.8147330392914961\n",
      "| \u001b[0m21       \u001b[0m | \u001b[0m0.8147   \u001b[0m | \u001b[0m47.89    \u001b[0m | \u001b[0m19.63    \u001b[0m | \u001b[0m352.4    \u001b[0m |\n"
     ]
    },
    {
     "name": "stderr",
     "output_type": "stream",
     "text": [
      "/data/xiayunpeng/anaconda3/envs/BERT/lib/python3.6/site-packages/sklearn/utils/validation.py:72: FutureWarning: Pass shuffle=True, random_state=0 as keyword args. From version 1.0 (renaming of 0.25) passing these as positional arguments will result in an error\n",
      "  \"will result in an error\", FutureWarning)\n"
     ]
    },
    {
     "name": "stdout",
     "output_type": "stream",
     "text": [
      "n_estimators:  1014.0668263894808\n",
      "min_samples_split:  3\n",
      "max_depth:  49.65122905511957\n",
      "0.8176566488817457\n",
      "| \u001b[0m22       \u001b[0m | \u001b[0m0.8177   \u001b[0m | \u001b[0m49.65    \u001b[0m | \u001b[0m3.681    \u001b[0m | \u001b[0m1.014e+03\u001b[0m |\n"
     ]
    },
    {
     "name": "stderr",
     "output_type": "stream",
     "text": [
      "/data/xiayunpeng/anaconda3/envs/BERT/lib/python3.6/site-packages/sklearn/utils/validation.py:72: FutureWarning: Pass shuffle=True, random_state=0 as keyword args. From version 1.0 (renaming of 0.25) passing these as positional arguments will result in an error\n",
      "  \"will result in an error\", FutureWarning)\n"
     ]
    },
    {
     "name": "stdout",
     "output_type": "stream",
     "text": [
      "n_estimators:  306.4387124727712\n",
      "min_samples_split:  2\n",
      "max_depth:  10.0\n",
      "0.8090930275130812\n",
      "| \u001b[0m23       \u001b[0m | \u001b[0m0.8091   \u001b[0m | \u001b[0m10.0     \u001b[0m | \u001b[0m2.0      \u001b[0m | \u001b[0m306.4    \u001b[0m |\n"
     ]
    },
    {
     "name": "stderr",
     "output_type": "stream",
     "text": [
      "/data/xiayunpeng/anaconda3/envs/BERT/lib/python3.6/site-packages/sklearn/utils/validation.py:72: FutureWarning: Pass shuffle=True, random_state=0 as keyword args. From version 1.0 (renaming of 0.25) passing these as positional arguments will result in an error\n",
      "  \"will result in an error\", FutureWarning)\n"
     ]
    },
    {
     "name": "stdout",
     "output_type": "stream",
     "text": [
      "n_estimators:  754.1569554039384\n",
      "min_samples_split:  4\n",
      "max_depth:  49.44264311624492\n",
      "0.8169404014187058\n",
      "| \u001b[0m24       \u001b[0m | \u001b[0m0.8169   \u001b[0m | \u001b[0m49.44    \u001b[0m | \u001b[0m4.144    \u001b[0m | \u001b[0m754.2    \u001b[0m |\n"
     ]
    },
    {
     "name": "stderr",
     "output_type": "stream",
     "text": [
      "/data/xiayunpeng/anaconda3/envs/BERT/lib/python3.6/site-packages/sklearn/utils/validation.py:72: FutureWarning: Pass shuffle=True, random_state=0 as keyword args. From version 1.0 (renaming of 0.25) passing these as positional arguments will result in an error\n",
      "  \"will result in an error\", FutureWarning)\n"
     ]
    },
    {
     "name": "stdout",
     "output_type": "stream",
     "text": [
      "n_estimators:  1029.5177345662917\n",
      "min_samples_split:  3\n",
      "max_depth:  10.065645541889499\n",
      "0.8103972665303664\n",
      "| \u001b[0m25       \u001b[0m | \u001b[0m0.8104   \u001b[0m | \u001b[0m10.07    \u001b[0m | \u001b[0m3.157    \u001b[0m | \u001b[0m1.03e+03 \u001b[0m |\n"
     ]
    },
    {
     "name": "stderr",
     "output_type": "stream",
     "text": [
      "/data/xiayunpeng/anaconda3/envs/BERT/lib/python3.6/site-packages/sklearn/utils/validation.py:72: FutureWarning: Pass shuffle=True, random_state=0 as keyword args. From version 1.0 (renaming of 0.25) passing these as positional arguments will result in an error\n",
      "  \"will result in an error\", FutureWarning)\n"
     ]
    },
    {
     "name": "stdout",
     "output_type": "stream",
     "text": [
      "n_estimators:  968.1160163836718\n",
      "min_samples_split:  20\n",
      "max_depth:  50.0\n",
      "0.8160152531121394\n",
      "| \u001b[0m26       \u001b[0m | \u001b[0m0.816    \u001b[0m | \u001b[0m50.0     \u001b[0m | \u001b[0m20.0     \u001b[0m | \u001b[0m968.1    \u001b[0m |\n"
     ]
    },
    {
     "name": "stderr",
     "output_type": "stream",
     "text": [
      "/data/xiayunpeng/anaconda3/envs/BERT/lib/python3.6/site-packages/sklearn/utils/validation.py:72: FutureWarning: Pass shuffle=True, random_state=0 as keyword args. From version 1.0 (renaming of 0.25) passing these as positional arguments will result in an error\n",
      "  \"will result in an error\", FutureWarning)\n"
     ]
    },
    {
     "name": "stdout",
     "output_type": "stream",
     "text": [
      "n_estimators:  413.902464616338\n",
      "min_samples_split:  19\n",
      "max_depth:  49.95992882295761\n",
      "0.8141421599410421\n",
      "| \u001b[0m27       \u001b[0m | \u001b[0m0.8141   \u001b[0m | \u001b[0m49.96    \u001b[0m | \u001b[0m19.13    \u001b[0m | \u001b[0m413.9    \u001b[0m |\n"
     ]
    },
    {
     "name": "stderr",
     "output_type": "stream",
     "text": [
      "/data/xiayunpeng/anaconda3/envs/BERT/lib/python3.6/site-packages/sklearn/utils/validation.py:72: FutureWarning: Pass shuffle=True, random_state=0 as keyword args. From version 1.0 (renaming of 0.25) passing these as positional arguments will result in an error\n",
      "  \"will result in an error\", FutureWarning)\n"
     ]
    },
    {
     "name": "stdout",
     "output_type": "stream",
     "text": [
      "n_estimators:  701.5359117391474\n",
      "min_samples_split:  19\n",
      "max_depth:  48.797517785015415\n",
      "0.8149966410771212\n",
      "| \u001b[0m28       \u001b[0m | \u001b[0m0.815    \u001b[0m | \u001b[0m48.8     \u001b[0m | \u001b[0m19.54    \u001b[0m | \u001b[0m701.5    \u001b[0m |\n"
     ]
    },
    {
     "name": "stderr",
     "output_type": "stream",
     "text": [
      "/data/xiayunpeng/anaconda3/envs/BERT/lib/python3.6/site-packages/sklearn/utils/validation.py:72: FutureWarning: Pass shuffle=True, random_state=0 as keyword args. From version 1.0 (renaming of 0.25) passing these as positional arguments will result in an error\n",
      "  \"will result in an error\", FutureWarning)\n"
     ]
    },
    {
     "name": "stdout",
     "output_type": "stream",
     "text": [
      "n_estimators:  611.0193695952843\n",
      "min_samples_split:  20\n",
      "max_depth:  50.0\n",
      "0.8156689548040333\n",
      "| \u001b[0m29       \u001b[0m | \u001b[0m0.8157   \u001b[0m | \u001b[0m50.0     \u001b[0m | \u001b[0m20.0     \u001b[0m | \u001b[0m611.0    \u001b[0m |\n"
     ]
    },
    {
     "name": "stderr",
     "output_type": "stream",
     "text": [
      "/data/xiayunpeng/anaconda3/envs/BERT/lib/python3.6/site-packages/sklearn/utils/validation.py:72: FutureWarning: Pass shuffle=True, random_state=0 as keyword args. From version 1.0 (renaming of 0.25) passing these as positional arguments will result in an error\n",
      "  \"will result in an error\", FutureWarning)\n"
     ]
    },
    {
     "name": "stdout",
     "output_type": "stream",
     "text": [
      "n_estimators:  1198.9301764395077\n",
      "min_samples_split:  3\n",
      "max_depth:  49.52796126612924\n",
      "0.8173092504363721\n",
      "| \u001b[0m30       \u001b[0m | \u001b[0m0.8173   \u001b[0m | \u001b[0m49.53    \u001b[0m | \u001b[0m3.785    \u001b[0m | \u001b[0m1.199e+03\u001b[0m |\n",
      "=============================================================\n"
     ]
    }
   ],
   "source": [
    "# 实例化贝叶斯优化对象，并运行优化过程\n",
    "optimizer = BayesianOptimization(f=extra_evaluate, pbounds=pbounds, random_state=42)\n",
    "optimizer.maximize(n_iter=25)"
   ]
  },
  {
   "cell_type": "code",
   "execution_count": 46,
   "id": "c9d7b015",
   "metadata": {
    "ExecuteTime": {
     "end_time": "2023-05-23T03:09:02.330192Z",
     "start_time": "2023-05-23T03:09:02.326725Z"
    }
   },
   "outputs": [
    {
     "name": "stdout",
     "output_type": "stream",
     "text": [
      "{'target': 0.8179219859927791, 'params': {'param_max_depth': 40.866576594703616, 'param_min_samples_split': 4.295678174414615, 'param_n_estimators': 1164.0984611812682}}\n"
     ]
    }
   ],
   "source": [
    "# 打印最优结果\n",
    "print(optimizer.max)\n",
    "#ExtraTree 优化结果\n",
    "#{'target': 0.8179219859927791, 'params': {'param_max_depth': 40.866576594703616, 'param_min_samples_split': 4.295678174414615, 'param_n_estimators': 1164.0984611812682}}"
   ]
  },
  {
   "cell_type": "code",
   "execution_count": null,
   "id": "23be5f34",
   "metadata": {},
   "outputs": [],
   "source": []
  }
 ],
 "metadata": {
  "kernelspec": {
   "display_name": "Python [conda env:BERT]",
   "language": "python",
   "name": "conda-env-BERT-py"
  },
  "language_info": {
   "codemirror_mode": {
    "name": "ipython",
    "version": 3
   },
   "file_extension": ".py",
   "mimetype": "text/x-python",
   "name": "python",
   "nbconvert_exporter": "python",
   "pygments_lexer": "ipython3",
   "version": "3.6.8"
  },
  "toc": {
   "base_numbering": 1,
   "nav_menu": {},
   "number_sections": true,
   "sideBar": true,
   "skip_h1_title": false,
   "title_cell": "Table of Contents",
   "title_sidebar": "Contents",
   "toc_cell": false,
   "toc_position": {},
   "toc_section_display": true,
   "toc_window_display": false
  },
  "varInspector": {
   "cols": {
    "lenName": 16,
    "lenType": 16,
    "lenVar": 40
   },
   "kernels_config": {
    "python": {
     "delete_cmd_postfix": "",
     "delete_cmd_prefix": "del ",
     "library": "var_list.py",
     "varRefreshCmd": "print(var_dic_list())"
    },
    "r": {
     "delete_cmd_postfix": ") ",
     "delete_cmd_prefix": "rm(",
     "library": "var_list.r",
     "varRefreshCmd": "cat(var_dic_list()) "
    }
   },
   "types_to_exclude": [
    "module",
    "function",
    "builtin_function_or_method",
    "instance",
    "_Feature"
   ],
   "window_display": false
  }
 },
 "nbformat": 4,
 "nbformat_minor": 5
}
