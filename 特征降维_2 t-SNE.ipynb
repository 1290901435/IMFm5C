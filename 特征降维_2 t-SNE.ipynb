{
 "cells": [
  {
   "cell_type": "code",
   "execution_count": 1,
   "id": "a728831a",
   "metadata": {
    "ExecuteTime": {
     "end_time": "2023-04-20T13:36:19.840580Z",
     "start_time": "2023-04-20T13:36:16.426541Z"
    }
   },
   "outputs": [],
   "source": [
    "from features import ensembleFeature\n",
    "import pandas as pd\n",
    "import numpy as np\n",
    "from utils import metricsCal\n",
    "from thundersvm import SVC\n",
    "from sklearn.model_selection import KFold"
   ]
  },
  {
   "cell_type": "code",
   "execution_count": 2,
   "id": "312c75c0",
   "metadata": {
    "ExecuteTime": {
     "end_time": "2023-04-20T13:36:20.284493Z",
     "start_time": "2023-04-20T13:36:20.275504Z"
    }
   },
   "outputs": [],
   "source": [
    "##将序列转化为词向量用到的函数\n",
    "def fa_seq(filepath):\n",
    "    f = open(filepath,'r')\n",
    "    x = []\n",
    "    for i in f:\n",
    "        x.append(i)\n",
    "    seq = []\n",
    "    for i in range(len(x)):\n",
    "        if i%2==1:\n",
    "            seq.append(x[i][:-1])\n",
    "    return seq"
   ]
  },
  {
   "cell_type": "code",
   "execution_count": 3,
   "id": "cb231c60",
   "metadata": {
    "ExecuteTime": {
     "end_time": "2023-04-20T13:44:35.154249Z",
     "start_time": "2023-04-20T13:36:24.692608Z"
    }
   },
   "outputs": [],
   "source": [
    "train_seq = fa_seq(\"data/Mouse/mouse_train.fasta\")\n",
    "trainLabel = np.append(np.ones(int(len(train_seq)/2)),np.zeros(int(len(train_seq)-len(train_seq)/2)),axis=0)\n",
    "trainData_EIIP = ensembleFeature.EIIP(train_seq)\n",
    "\n",
    "trainData_PseEIIP = ensembleFeature.PseEIIP(train_seq)\n",
    "\n",
    "trainData_PCP = ensembleFeature.PCP(train_seq)\n",
    "\n",
    "trainData_NCPA = ensembleFeature.NCPA(train_seq)\n",
    "trainData_NCPA = trainData_NCPA.reshape(trainData_NCPA.shape[0],-1)\n",
    "\n",
    "trainData_DBPF = ensembleFeature.DBPF(train_seq)\n",
    "trainData_DBPF = trainData_DBPF.reshape(trainData_DBPF.shape[0],-1)\n",
    "\n",
    "trainData = np.concatenate(  (trainData_EIIP,trainData_PseEIIP,trainData_PCP,trainData_NCPA,trainData_DBPF),axis=1)"
   ]
  },
  {
   "cell_type": "code",
   "execution_count": 8,
   "id": "bf0285e1",
   "metadata": {
    "ExecuteTime": {
     "end_time": "2023-04-20T13:54:04.896475Z",
     "start_time": "2023-04-20T13:47:05.665212Z"
    }
   },
   "outputs": [],
   "source": [
    "from sklearn.manifold import TSNE\n",
    "ts = TSNE(n_components=3, init='pca', random_state=0)\n",
    "reslut = ts.fit_transform(trainData)"
   ]
  },
  {
   "cell_type": "code",
   "execution_count": 13,
   "id": "5962abd7",
   "metadata": {
    "ExecuteTime": {
     "end_time": "2023-04-20T13:57:18.115726Z",
     "start_time": "2023-04-20T13:57:09.514265Z"
    }
   },
   "outputs": [
    {
     "name": "stderr",
     "output_type": "stream",
     "text": [
      "/data/xiayunpeng/anaconda3/envs/BERT/lib/python3.6/site-packages/sklearn/utils/validation.py:72: FutureWarning: Pass shuffle=True, random_state=10 as keyword args. From version 1.0 (renaming of 0.25) passing these as positional arguments will result in an error\n",
      "  \"will result in an error\", FutureWarning)\n"
     ]
    },
    {
     "data": {
      "text/plain": [
       "0.6237314368529492"
      ]
     },
     "execution_count": 13,
     "metadata": {},
     "output_type": "execute_result"
    }
   ],
   "source": [
    "#交叉验证\n",
    "rows = 10\n",
    "row = -1\n",
    "row_name = []\n",
    "Sen = np.zeros(rows)\n",
    "Spe = np.zeros(rows)\n",
    "Acc = np.zeros(rows)\n",
    "Mcc = np.zeros(rows)\n",
    "Auc = np.zeros(rows)\n",
    "\n",
    "kf = KFold(10,True,10)\n",
    "for i,[train_index, test_index] in enumerate(kf.split(reslut)):\n",
    "    row+=1\n",
    "    row_one = \"Bert6mA_origin_KFold_\" + str(i)\n",
    "    row_name.append(row_one)\n",
    "    X_train = reslut[train_index]\n",
    "    X_test = reslut[test_index]\n",
    "    Y_train = trainLabel[train_index]\n",
    "    Y_test = trainLabel[test_index]\n",
    "    \n",
    "    model = SVC(C=1.0,gamma=\"auto\")\n",
    "    \n",
    "    model.fit(X_train,Y_train)\n",
    "    th,_,_,_,_,_,_,_,_,_ = metricsCal.get_train_metrics( model.decision_function(X_train).reshape(-1), Y_train )\n",
    "    _,_,_,_,sen,spe,acc,mcc,auc = metricsCal.get_test_metrics( model.decision_function(X_test), Y_test,th )\n",
    "    Sen[row] = sen\n",
    "    Spe[row] = spe\n",
    "    Acc[row] = acc\n",
    "    Mcc[row] = mcc\n",
    "    Auc[row] = auc\n",
    "    \n",
    "All = np.vstack((Sen,Spe,Acc,Mcc,Auc))\n",
    "np.mean(All[4])"
   ]
  },
  {
   "cell_type": "code",
   "execution_count": 12,
   "id": "6a6bb095",
   "metadata": {
    "ExecuteTime": {
     "end_time": "2023-04-20T13:55:14.972360Z",
     "start_time": "2023-04-20T13:55:14.965454Z"
    }
   },
   "outputs": [
    {
     "data": {
      "text/plain": [
       "array([[-43.0365    ,   1.3645849 ,  25.712265  ],\n",
       "       [-31.5757    ,  41.565933  ,  -0.36372098],\n",
       "       [  4.920306  ,   8.533412  , -36.097176  ],\n",
       "       ...,\n",
       "       [ 62.108524  ,  -0.83823633,  20.48054   ],\n",
       "       [ -3.2842798 , -38.585526  , -13.183204  ],\n",
       "       [-51.368225  , -28.309515  , -10.514868  ]], dtype=float32)"
      ]
     },
     "execution_count": 12,
     "metadata": {},
     "output_type": "execute_result"
    }
   ],
   "source": [
    "reslut"
   ]
  },
  {
   "cell_type": "code",
   "execution_count": null,
   "id": "7689e21c",
   "metadata": {},
   "outputs": [],
   "source": []
  }
 ],
 "metadata": {
  "kernelspec": {
   "display_name": "Python [conda env:BERT]",
   "language": "python",
   "name": "conda-env-BERT-py"
  },
  "language_info": {
   "codemirror_mode": {
    "name": "ipython",
    "version": 3
   },
   "file_extension": ".py",
   "mimetype": "text/x-python",
   "name": "python",
   "nbconvert_exporter": "python",
   "pygments_lexer": "ipython3",
   "version": "3.6.8"
  },
  "toc": {
   "base_numbering": 1,
   "nav_menu": {},
   "number_sections": true,
   "sideBar": true,
   "skip_h1_title": false,
   "title_cell": "Table of Contents",
   "title_sidebar": "Contents",
   "toc_cell": false,
   "toc_position": {},
   "toc_section_display": true,
   "toc_window_display": false
  },
  "varInspector": {
   "cols": {
    "lenName": 16,
    "lenType": 16,
    "lenVar": 40
   },
   "kernels_config": {
    "python": {
     "delete_cmd_postfix": "",
     "delete_cmd_prefix": "del ",
     "library": "var_list.py",
     "varRefreshCmd": "print(var_dic_list())"
    },
    "r": {
     "delete_cmd_postfix": ") ",
     "delete_cmd_prefix": "rm(",
     "library": "var_list.r",
     "varRefreshCmd": "cat(var_dic_list()) "
    }
   },
   "types_to_exclude": [
    "module",
    "function",
    "builtin_function_or_method",
    "instance",
    "_Feature"
   ],
   "window_display": false
  }
 },
 "nbformat": 4,
 "nbformat_minor": 5
}
