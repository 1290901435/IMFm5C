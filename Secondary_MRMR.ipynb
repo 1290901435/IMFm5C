{
 "cells": [
  {
   "cell_type": "code",
   "execution_count": 24,
   "id": "e61ae54e",
   "metadata": {
    "ExecuteTime": {
     "end_time": "2023-05-17T13:18:28.662161Z",
     "start_time": "2023-05-17T13:18:28.656921Z"
    }
   },
   "outputs": [],
   "source": [
    "from features import ensembleFeature\n",
    "import pandas as pd\n",
    "import numpy as np\n",
    "from utils import metricsCal\n",
    "from thundersvm import SVC\n",
    "from sklearn.model_selection import KFold\n",
    "from features import ensembleFeature"
   ]
  },
  {
   "cell_type": "code",
   "execution_count": 25,
   "id": "fc670cdb",
   "metadata": {
    "ExecuteTime": {
     "end_time": "2023-05-17T13:18:32.498016Z",
     "start_time": "2023-05-17T13:18:32.461197Z"
    }
   },
   "outputs": [],
   "source": [
    "def file_va(filename):\n",
    "    f = open(filename,\"rb\")\n",
    "    m=0\n",
    "    name = []\n",
    "    seq = []\n",
    "    struc = []\n",
    "    for i in f:\n",
    "        #print(i)\n",
    "        m+=1\n",
    "        if m>2 and (m-2)%3==1:\n",
    "            name.append(str(i[1:-1],'utf-8'))\n",
    "        if m>3 and (m-2)%3==2:\n",
    "            seq.append(str(i[:-1],'utf-8'))\n",
    "        if m>3 and (m-2)%3==0:\n",
    "            struc.append(str(i,'utf-8')[:41])\n",
    "    return name,seq,struc\n",
    "\n",
    "def RNAfold_dot(filename):\n",
    "    f = open(filename,\"rb\")\n",
    "    m = 0\n",
    "    struc = []\n",
    "    seq = []\n",
    "    for i in f:\n",
    "        m+=1\n",
    "        if m%6==3:\n",
    "            struc.append(str(i[0:41],'utf-8'))\n",
    "        if m%6==2:\n",
    "            seq.append(str(i[0:41],'utf-8'))\n",
    "    return seq,struc\n",
    "\n",
    "def struc_01(data):\n",
    "    x = np.zeros(len(data)*2).reshape(-1,2)\n",
    "    for i in range(len(data)):\n",
    "        if data[i]==\"(\":\n",
    "            x[i][0]=1\n",
    "        elif data[i]==\")\":\n",
    "            x[i][1]=1\n",
    "    return x\n",
    "\n",
    "def struc_01_8(data):\n",
    "    x = np.zeros((len(data)-2)*8).reshape(-1,8)\n",
    "    for i in range(len(data)-2):\n",
    "        mm = 0\n",
    "        if data[i]==\"(\" or data[i]==\")\":\n",
    "            mm+=4\n",
    "        if data[i+1]==\"(\" or data[i]==\")\":\n",
    "            mm+=2\n",
    "        if data[i+2]==\"(\" or data[i]==\")\":\n",
    "            mm+=1\n",
    "        x[i][mm]=1\n",
    "    return x"
   ]
  },
  {
   "cell_type": "code",
   "execution_count": 26,
   "id": "d909f1a3",
   "metadata": {
    "ExecuteTime": {
     "end_time": "2023-05-17T13:18:36.597383Z",
     "start_time": "2023-05-17T13:18:34.020777Z"
    }
   },
   "outputs": [],
   "source": [
    "train_name,train_seq,train_struc = file_va(\"data/mouse_train.log\")\n",
    "trainPosLabel = np.ones(int(len(train_seq)/2))\n",
    "trainNegLabel = np.zeros(int(len(train_seq)/2))\n",
    "trainLabel = np.append(trainPosLabel,trainNegLabel)\n",
    "#获取01二级结构表示\n",
    "trainData = []\n",
    "for i in range(len(train_struc)):\n",
    "    trainData.append(struc_01(train_struc[i]))\n",
    "trainData = np.array(trainData)\n",
    "        \n",
    "#与单热编码结合\n",
    "trainData_origin = np.append(trainData,ensembleFeature.Binary(train_seq),axis=2).reshape(trainData.shape[0],-1)"
   ]
  },
  {
   "cell_type": "code",
   "execution_count": 4,
   "id": "ae1fe2d1",
   "metadata": {
    "ExecuteTime": {
     "end_time": "2023-04-20T14:08:33.572928Z",
     "start_time": "2023-04-20T14:08:33.563872Z"
    }
   },
   "outputs": [],
   "source": [
    "import pymrmr\n",
    "colu = [f'fea_{i}' for i in range(len(trainData_origin[0]))]\n",
    "trainData = pd.DataFrame(data = trainData_origin,columns=colu)"
   ]
  },
  {
   "cell_type": "code",
   "execution_count": 28,
   "id": "4475d4af",
   "metadata": {
    "ExecuteTime": {
     "end_time": "2023-05-17T13:20:13.136688Z",
     "start_time": "2023-05-17T13:20:13.133264Z"
    },
    "scrolled": false
   },
   "outputs": [],
   "source": [
    "# mr_MID = pymrmr.mRMR(trainData,'MID',246)\n",
    "# mr_MID"
   ]
  },
  {
   "cell_type": "code",
   "execution_count": 27,
   "id": "b2a9f289",
   "metadata": {
    "ExecuteTime": {
     "end_time": "2023-05-17T13:20:07.638126Z",
     "start_time": "2023-05-17T13:20:07.634786Z"
    }
   },
   "outputs": [],
   "source": [
    "#mr_MIQ = pymrmr.mRMR(trainData,'MIQ',246)\n",
    "#mr_MIQ"
   ]
  },
  {
   "cell_type": "code",
   "execution_count": 23,
   "id": "ceed19bd",
   "metadata": {
    "ExecuteTime": {
     "end_time": "2023-04-21T09:12:00.028170Z",
     "start_time": "2023-04-21T09:11:59.900805Z"
    }
   },
   "outputs": [],
   "source": [
    "pd.DataFrame(   np.hstack( (np.array([\"sec_MRMR_MID\",\"sec_MRMR_MIQ\"]).reshape(-1,1),np.append( np.array(mr_MID).reshape(1,-1),np.array(mr_MIQ).reshape(1,-1),axis=0)))).to_csv(\"Result/Secondary_MRMR.csv\")"
   ]
  },
  {
   "cell_type": "code",
   "execution_count": null,
   "id": "dfb5d756",
   "metadata": {},
   "outputs": [],
   "source": [
    "np.array(mr_MID).shape"
   ]
  },
  {
   "cell_type": "code",
   "execution_count": 30,
   "id": "35a7c343",
   "metadata": {
    "ExecuteTime": {
     "end_time": "2023-05-17T13:25:24.227859Z",
     "start_time": "2023-05-17T13:22:07.877669Z"
    }
   },
   "outputs": [],
   "source": [
    "from sklearn.decomposition import KernelPCA\n",
    "scikit_kpca = KernelPCA(n_components=100, kernel='linear', gamma=3)\n",
    "scikit_kpca.fit(trainData_origin)\n",
    "trainData = scikit_kpca.transform(trainData_origin)"
   ]
  },
  {
   "cell_type": "code",
   "execution_count": 31,
   "id": "c249d431",
   "metadata": {
    "ExecuteTime": {
     "end_time": "2023-05-17T13:25:24.314201Z",
     "start_time": "2023-05-17T13:25:24.290549Z"
    }
   },
   "outputs": [
    {
     "data": {
      "text/plain": [
       "(9126, 100)"
      ]
     },
     "execution_count": 31,
     "metadata": {},
     "output_type": "execute_result"
    }
   ],
   "source": [
    "trainData.shape"
   ]
  },
  {
   "cell_type": "code",
   "execution_count": null,
   "id": "b4009043",
   "metadata": {},
   "outputs": [],
   "source": []
  }
 ],
 "metadata": {
  "kernelspec": {
   "display_name": "Python [conda env:BERT]",
   "language": "python",
   "name": "conda-env-BERT-py"
  },
  "language_info": {
   "codemirror_mode": {
    "name": "ipython",
    "version": 3
   },
   "file_extension": ".py",
   "mimetype": "text/x-python",
   "name": "python",
   "nbconvert_exporter": "python",
   "pygments_lexer": "ipython3",
   "version": "3.6.8"
  },
  "toc": {
   "base_numbering": 1,
   "nav_menu": {},
   "number_sections": true,
   "sideBar": true,
   "skip_h1_title": false,
   "title_cell": "Table of Contents",
   "title_sidebar": "Contents",
   "toc_cell": false,
   "toc_position": {},
   "toc_section_display": true,
   "toc_window_display": false
  },
  "varInspector": {
   "cols": {
    "lenName": 16,
    "lenType": 16,
    "lenVar": 40
   },
   "kernels_config": {
    "python": {
     "delete_cmd_postfix": "",
     "delete_cmd_prefix": "del ",
     "library": "var_list.py",
     "varRefreshCmd": "print(var_dic_list())"
    },
    "r": {
     "delete_cmd_postfix": ") ",
     "delete_cmd_prefix": "rm(",
     "library": "var_list.r",
     "varRefreshCmd": "cat(var_dic_list()) "
    }
   },
   "types_to_exclude": [
    "module",
    "function",
    "builtin_function_or_method",
    "instance",
    "_Feature"
   ],
   "window_display": false
  }
 },
 "nbformat": 4,
 "nbformat_minor": 5
}
