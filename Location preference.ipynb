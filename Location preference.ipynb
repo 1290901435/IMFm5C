{
 "cells": [
  {
   "cell_type": "code",
   "execution_count": 15,
   "id": "b37aff05",
   "metadata": {
    "ExecuteTime": {
     "end_time": "2023-05-06T13:45:28.062637Z",
     "start_time": "2023-05-06T13:45:28.056200Z"
    }
   },
   "outputs": [],
   "source": [
    "import numpy as np\n",
    "import pandas as pd\n",
    "from sklearn.neighbors import NearestNeighbors\n",
    "from features import ensembleFeature\n",
    "import itertools\n",
    "from utils import metricsCal\n",
    "from thundersvm import SVC\n",
    "from sklearn.model_selection import KFold\n",
    "import pymrmr"
   ]
  },
  {
   "cell_type": "code",
   "execution_count": 16,
   "id": "4d0909b6",
   "metadata": {
    "ExecuteTime": {
     "end_time": "2023-05-06T13:45:29.669014Z",
     "start_time": "2023-05-06T13:45:29.656899Z"
    }
   },
   "outputs": [],
   "source": [
    "##将序列转化为词向量用到的函数\n",
    "def fa_seq(filepath):\n",
    "    f = open(filepath,'r')\n",
    "    x = []\n",
    "    for i in f:\n",
    "        x.append(i)\n",
    "    seq = []\n",
    "    for i in range(len(x)):\n",
    "        if i%2==1:\n",
    "            seq.append(x[i][:-1])\n",
    "    return seq"
   ]
  },
  {
   "cell_type": "code",
   "execution_count": 17,
   "id": "d20c1e4e",
   "metadata": {
    "ExecuteTime": {
     "end_time": "2023-05-06T13:45:31.278981Z",
     "start_time": "2023-05-06T13:45:31.079256Z"
    }
   },
   "outputs": [],
   "source": [
    "train_seq = fa_seq(\"data/Mouse/mouse_train.fasta\")\n",
    "test_seq = fa_seq(\"data/Mouse/mouse_indep.fasta\")\n",
    "trainPos_seq = train_seq[0:int(len(train_seq)/2)]\n",
    "trainNeg_seq = train_seq[int(len(train_seq)/2):]\n",
    "testPos_seq = test_seq[0:int(len(test_seq)/2)]\n",
    "testNeg_seq = test_seq[int(len(test_seq)/2):]\n",
    "trainLabel = np.append(np.ones(int(len(train_seq)/2)),np.zeros(int(len(train_seq)-len(train_seq)/2)),axis=0)\n",
    "testLabel = np.append(np.ones(int(len(test_seq)/2)),np.zeros(int(len(test_seq)-len(test_seq)/2)),axis=0)"
   ]
  },
  {
   "cell_type": "markdown",
   "id": "bf0b8d24",
   "metadata": {},
   "source": [
    "# 首先比较两种不同的KNN特征分类效果 （经过比较，最终选择按照值作为判断标准进行划分）"
   ]
  },
  {
   "cell_type": "code",
   "execution_count": 18,
   "id": "8b0608e1",
   "metadata": {
    "ExecuteTime": {
     "end_time": "2023-04-19T05:26:45.455159Z",
     "start_time": "2023-04-19T05:26:42.230120Z"
    }
   },
   "outputs": [
    {
     "name": "stderr",
     "output_type": "stream",
     "text": [
      "/data/xiayunpeng/anaconda3/envs/BERT/lib/python3.6/site-packages/sklearn/utils/validation.py:72: FutureWarning: Pass shuffle=True, random_state=10 as keyword args. From version 1.0 (renaming of 0.25) passing these as positional arguments will result in an error\n",
      "  \"will result in an error\", FutureWarning)\n"
     ]
    },
    {
     "data": {
      "text/plain": [
       "0.7993819847957707"
      ]
     },
     "execution_count": 18,
     "metadata": {},
     "output_type": "execute_result"
    }
   ],
   "source": [
    "#值\n",
    "trainData = np.array(pd.read_csv(\"features/KNN_value_train.csv\").iloc[:,1:])\n",
    "#交叉验证\n",
    "rows = 10\n",
    "row = -1\n",
    "row_name = []\n",
    "Sen = np.zeros(rows)\n",
    "Spe = np.zeros(rows)\n",
    "Acc = np.zeros(rows)\n",
    "Mcc = np.zeros(rows)\n",
    "Auc = np.zeros(rows)\n",
    "\n",
    "kf = KFold(10,True,10)\n",
    "for i,[train_index, test_index] in enumerate(kf.split(trainData)):\n",
    "    row+=1\n",
    "    row_one = \"Bert6mA_origin_KFold_\" + str(i)\n",
    "    row_name.append(row_one)\n",
    "    X_train = trainData[train_index]\n",
    "    X_test = trainData[test_index]\n",
    "    Y_train = trainLabel[train_index]\n",
    "    Y_test = trainLabel[test_index]\n",
    "    \n",
    "    model = SVC(C=1.0,gamma=\"auto\")\n",
    "    \n",
    "    model.fit(X_train,Y_train)\n",
    "    th,_,_,_,_,_,_,_,_,_ = metricsCal.get_train_metrics( model.decision_function(X_train).reshape(-1), Y_train )\n",
    "    _,_,_,_,sen,spe,acc,mcc,auc = metricsCal.get_test_metrics( model.decision_function(X_test), Y_test,th )\n",
    "    Sen[row] = sen\n",
    "    Spe[row] = spe\n",
    "    Acc[row] = acc\n",
    "    Mcc[row] = mcc\n",
    "    Auc[row] = auc\n",
    "    \n",
    "KNN_value = np.vstack((Sen,Spe,Acc,Mcc,Auc))\n",
    "np.mean(KNN_value[4])"
   ]
  },
  {
   "cell_type": "code",
   "execution_count": 19,
   "id": "b50ad644",
   "metadata": {
    "ExecuteTime": {
     "end_time": "2023-04-19T05:27:40.058466Z",
     "start_time": "2023-04-19T05:27:36.388299Z"
    }
   },
   "outputs": [
    {
     "name": "stderr",
     "output_type": "stream",
     "text": [
      "/data/xiayunpeng/anaconda3/envs/BERT/lib/python3.6/site-packages/sklearn/utils/validation.py:72: FutureWarning: Pass shuffle=True, random_state=10 as keyword args. From version 1.0 (renaming of 0.25) passing these as positional arguments will result in an error\n",
      "  \"will result in an error\", FutureWarning)\n"
     ]
    },
    {
     "data": {
      "text/plain": [
       "0.7971611671168912"
      ]
     },
     "execution_count": 19,
     "metadata": {},
     "output_type": "execute_result"
    }
   ],
   "source": [
    "#绝对位置\n",
    "trainData = np.array(pd.read_csv(\"features/KNN_position_train.csv\").iloc[:,1:])\n",
    "#交叉验证\n",
    "rows = 10\n",
    "row = -1\n",
    "row_name = []\n",
    "Sen = np.zeros(rows)\n",
    "Spe = np.zeros(rows)\n",
    "Acc = np.zeros(rows)\n",
    "Mcc = np.zeros(rows)\n",
    "Auc = np.zeros(rows)\n",
    "\n",
    "kf = KFold(10,True,10)\n",
    "for i,[train_index, test_index] in enumerate(kf.split(trainData)):\n",
    "    row+=1\n",
    "    row_one = \"Bert6mA_origin_KFold_\" + str(i)\n",
    "    row_name.append(row_one)\n",
    "    X_train = trainData[train_index]\n",
    "    X_test = trainData[test_index]\n",
    "    Y_train = trainLabel[train_index]\n",
    "    Y_test = trainLabel[test_index]\n",
    "    \n",
    "    model = SVC(C=1.0,gamma=\"auto\")\n",
    "    \n",
    "    model.fit(X_train,Y_train)\n",
    "    th,_,_,_,_,_,_,_,_,_ = metricsCal.get_train_metrics( model.decision_function(X_train).reshape(-1), Y_train )\n",
    "    _,_,_,_,sen,spe,acc,mcc,auc = metricsCal.get_test_metrics( model.decision_function(X_test), Y_test,th )\n",
    "    Sen[row] = sen\n",
    "    Spe[row] = spe\n",
    "    Acc[row] = acc\n",
    "    Mcc[row] = mcc\n",
    "    Auc[row] = auc\n",
    "    \n",
    "KNN_position = np.vstack((Sen,Spe,Acc,Mcc,Auc))\n",
    "np.mean(KNN_position[4])"
   ]
  },
  {
   "cell_type": "code",
   "execution_count": 21,
   "id": "f88137e2",
   "metadata": {
    "ExecuteTime": {
     "end_time": "2023-04-19T05:32:03.248471Z",
     "start_time": "2023-04-19T05:32:03.220484Z"
    }
   },
   "outputs": [],
   "source": [
    "result_one = np.vstack( (np.mean(KNN_value,axis=1),np.mean(KNN_position,axis=1)))\n",
    "pd.DataFrame( np.append( np.array([\"KNN_value\",\"KNN_position\"]).reshape(-1,1),result_one,axis=1)).to_csv(\"Result/KNN_value_and_position_comparison.csv\",header=[\"name\",\"Sen\",\"Spe\",\"Acc\",\"Mcc\",\"Auc\"])"
   ]
  },
  {
   "cell_type": "markdown",
   "id": "e2cce4f8",
   "metadata": {},
   "source": [
    "# 先对PSNP、PSDP、PSTP三者单独跟合并进行尝试"
   ]
  },
  {
   "cell_type": "code",
   "execution_count": 42,
   "id": "bc1fddd7",
   "metadata": {
    "ExecuteTime": {
     "end_time": "2023-04-19T05:53:45.793628Z",
     "start_time": "2023-04-19T05:53:40.711398Z"
    }
   },
   "outputs": [
    {
     "name": "stderr",
     "output_type": "stream",
     "text": [
      "/data/xiayunpeng/anaconda3/envs/BERT/lib/python3.6/site-packages/sklearn/utils/validation.py:72: FutureWarning: Pass shuffle=True, random_state=10 as keyword args. From version 1.0 (renaming of 0.25) passing these as positional arguments will result in an error\n",
      "  \"will result in an error\", FutureWarning)\n"
     ]
    },
    {
     "data": {
      "text/plain": [
       "0.7844440024574006"
      ]
     },
     "execution_count": 42,
     "metadata": {},
     "output_type": "execute_result"
    }
   ],
   "source": [
    "#PSNP\n",
    "trainPos,trainNeg,testPos,testNeg = ensembleFeature.PSKP(trainPos_seq,trainNeg_seq,testPos_seq,testNeg_seq,1) #3代表PSTP，2代表PSDP，1代表PSNP\n",
    "trainData = np.vstack((trainPos,trainNeg))\n",
    "#交叉验证\n",
    "rows = 10\n",
    "row = -1\n",
    "row_name = []\n",
    "Sen = np.zeros(rows)\n",
    "Spe = np.zeros(rows)\n",
    "Acc = np.zeros(rows)\n",
    "Mcc = np.zeros(rows)\n",
    "Auc = np.zeros(rows)\n",
    "\n",
    "kf = KFold(10,True,10)\n",
    "for i,[train_index, test_index] in enumerate(kf.split(trainData)):\n",
    "    row+=1\n",
    "    row_one = \"Bert6mA_origin_KFold_\" + str(i)\n",
    "    row_name.append(row_one)\n",
    "    X_train = trainData[train_index]\n",
    "    X_test = trainData[test_index]\n",
    "    Y_train = trainLabel[train_index]\n",
    "    Y_test = trainLabel[test_index]\n",
    "    \n",
    "    model = SVC(C=1.0,gamma=\"auto\")\n",
    "    \n",
    "    model.fit(X_train,Y_train)\n",
    "    th,_,_,_,_,_,_,_,_,_ = metricsCal.get_train_metrics( model.decision_function(X_train).reshape(-1), Y_train )\n",
    "    _,_,_,_,sen,spe,acc,mcc,auc = metricsCal.get_test_metrics( model.decision_function(X_test), Y_test,th )\n",
    "    Sen[row] = sen\n",
    "    Spe[row] = spe\n",
    "    Acc[row] = acc\n",
    "    Mcc[row] = mcc\n",
    "    Auc[row] = auc\n",
    "    \n",
    "PSNP = np.vstack((Sen,Spe,Acc,Mcc,Auc))\n",
    "np.mean(PSNP[4])"
   ]
  },
  {
   "cell_type": "code",
   "execution_count": 44,
   "id": "5061e0f0",
   "metadata": {
    "ExecuteTime": {
     "end_time": "2023-04-19T05:54:25.760903Z",
     "start_time": "2023-04-19T05:54:20.874092Z"
    }
   },
   "outputs": [
    {
     "name": "stderr",
     "output_type": "stream",
     "text": [
      "/data/xiayunpeng/anaconda3/envs/BERT/lib/python3.6/site-packages/sklearn/utils/validation.py:72: FutureWarning: Pass shuffle=True, random_state=10 as keyword args. From version 1.0 (renaming of 0.25) passing these as positional arguments will result in an error\n",
      "  \"will result in an error\", FutureWarning)\n"
     ]
    },
    {
     "data": {
      "text/plain": [
       "0.7673527673850818"
      ]
     },
     "execution_count": 44,
     "metadata": {},
     "output_type": "execute_result"
    }
   ],
   "source": [
    "#PSDP\n",
    "trainPos,trainNeg,testPos,testNeg = ensembleFeature.PSKP(trainPos_seq,trainNeg_seq,testPos_seq,testNeg_seq,2) #3代表PSTP，2代表PSDP，1代表PSNP\n",
    "trainData = np.vstack((trainPos,trainNeg))\n",
    "#交叉验证\n",
    "rows = 10\n",
    "row = -1\n",
    "row_name = []\n",
    "Sen = np.zeros(rows)\n",
    "Spe = np.zeros(rows)\n",
    "Acc = np.zeros(rows)\n",
    "Mcc = np.zeros(rows)\n",
    "Auc = np.zeros(rows)\n",
    "\n",
    "kf = KFold(10,True,10)\n",
    "for i,[train_index, test_index] in enumerate(kf.split(trainData)):\n",
    "    row+=1\n",
    "    row_one = \"Bert6mA_origin_KFold_\" + str(i)\n",
    "    row_name.append(row_one)\n",
    "    X_train = trainData[train_index]\n",
    "    X_test = trainData[test_index]\n",
    "    Y_train = trainLabel[train_index]\n",
    "    Y_test = trainLabel[test_index]\n",
    "    \n",
    "    model = SVC(C=1.0,gamma=\"auto\")\n",
    "    \n",
    "    model.fit(X_train,Y_train)\n",
    "    th,_,_,_,_,_,_,_,_,_ = metricsCal.get_train_metrics( model.decision_function(X_train).reshape(-1), Y_train )\n",
    "    _,_,_,_,sen,spe,acc,mcc,auc = metricsCal.get_test_metrics( model.decision_function(X_test), Y_test,th )\n",
    "    Sen[row] = sen\n",
    "    Spe[row] = spe\n",
    "    Acc[row] = acc\n",
    "    Mcc[row] = mcc\n",
    "    Auc[row] = auc\n",
    "    \n",
    "PSDP = np.vstack((Sen,Spe,Acc,Mcc,Auc))\n",
    "np.mean(PSDP[4])"
   ]
  },
  {
   "cell_type": "code",
   "execution_count": 47,
   "id": "da246cd6",
   "metadata": {
    "ExecuteTime": {
     "end_time": "2023-04-19T05:55:12.796425Z",
     "start_time": "2023-04-19T05:55:07.525101Z"
    }
   },
   "outputs": [
    {
     "name": "stderr",
     "output_type": "stream",
     "text": [
      "/data/xiayunpeng/anaconda3/envs/BERT/lib/python3.6/site-packages/sklearn/utils/validation.py:72: FutureWarning: Pass shuffle=True, random_state=10 as keyword args. From version 1.0 (renaming of 0.25) passing these as positional arguments will result in an error\n",
      "  \"will result in an error\", FutureWarning)\n"
     ]
    },
    {
     "data": {
      "text/plain": [
       "0.7700991585955691"
      ]
     },
     "execution_count": 47,
     "metadata": {},
     "output_type": "execute_result"
    }
   ],
   "source": [
    "#PSTP\n",
    "trainPos,trainNeg,testPos,testNeg = ensembleFeature.PSKP(trainPos_seq,trainNeg_seq,testPos_seq,testNeg_seq,3) #3代表PSTP，2代表PSDP，1代表PSNP\n",
    "trainData = np.vstack((trainPos,trainNeg))\n",
    "#交叉验证\n",
    "rows = 10\n",
    "row = -1\n",
    "row_name = []\n",
    "Sen = np.zeros(rows)\n",
    "Spe = np.zeros(rows)\n",
    "Acc = np.zeros(rows)\n",
    "Mcc = np.zeros(rows)\n",
    "Auc = np.zeros(rows)\n",
    "\n",
    "kf = KFold(10,True,10)\n",
    "for i,[train_index, test_index] in enumerate(kf.split(trainData)):\n",
    "    row+=1\n",
    "    row_one = \"Bert6mA_origin_KFold_\" + str(i)\n",
    "    row_name.append(row_one)\n",
    "    X_train = trainData[train_index]\n",
    "    X_test = trainData[test_index]\n",
    "    Y_train = trainLabel[train_index]\n",
    "    Y_test = trainLabel[test_index]\n",
    "    \n",
    "    model = SVC(C=1.0,gamma=\"auto\")\n",
    "    \n",
    "    model.fit(X_train,Y_train)\n",
    "    th,_,_,_,_,_,_,_,_,_ = metricsCal.get_train_metrics( model.decision_function(X_train).reshape(-1), Y_train )\n",
    "    _,_,_,_,sen,spe,acc,mcc,auc = metricsCal.get_test_metrics( model.decision_function(X_test), Y_test,th )\n",
    "    Sen[row] = sen\n",
    "    Spe[row] = spe\n",
    "    Acc[row] = acc\n",
    "    Mcc[row] = mcc\n",
    "    Auc[row] = auc\n",
    "    \n",
    "PSTP = np.vstack((Sen,Spe,Acc,Mcc,Auc))\n",
    "np.mean(PSTP[4])"
   ]
  },
  {
   "cell_type": "code",
   "execution_count": 33,
   "id": "42d2b3f5",
   "metadata": {
    "ExecuteTime": {
     "end_time": "2023-04-19T08:06:28.705594Z",
     "start_time": "2023-04-19T08:06:18.643631Z"
    }
   },
   "outputs": [
    {
     "name": "stderr",
     "output_type": "stream",
     "text": [
      "/data/xiayunpeng/anaconda3/envs/BERT/lib/python3.6/site-packages/sklearn/utils/validation.py:72: FutureWarning: Pass shuffle=True, random_state=10 as keyword args. From version 1.0 (renaming of 0.25) passing these as positional arguments will result in an error\n",
      "  \"will result in an error\", FutureWarning)\n"
     ]
    },
    {
     "data": {
      "text/plain": [
       "0.7818511582155997"
      ]
     },
     "execution_count": 33,
     "metadata": {},
     "output_type": "execute_result"
    }
   ],
   "source": [
    "#三者合并\n",
    "trainPos,trainNeg,testPos,testNeg = ensembleFeature.PSKP(trainPos_seq,trainNeg_seq,testPos_seq,testNeg_seq,1) #3代表PSTP，2代表PSDP，1代表PSNP\n",
    "trainData_PSNP = np.vstack((trainPos,trainNeg))\n",
    "trainPos,trainNeg,testPos,testNeg = ensembleFeature.PSKP(trainPos_seq,trainNeg_seq,testPos_seq,testNeg_seq,2) #3代表PSTP，2代表PSDP，1代表PSNP\n",
    "trainData_PSDP = np.vstack((trainPos,trainNeg))\n",
    "trainPos,trainNeg,testPos,testNeg = ensembleFeature.PSKP(trainPos_seq,trainNeg_seq,testPos_seq,testNeg_seq,3) #3代表PSTP，2代表PSDP，1代表PSNP\n",
    "trainData_PSTP = np.vstack((trainPos,trainNeg))\n",
    "trainData = np.hstack((trainData_PSNP,trainData_PSDP,trainData_PSTP))\n",
    "#交叉验证\n",
    "rows = 10\n",
    "row = -1\n",
    "row_name = []\n",
    "Sen = np.zeros(rows)\n",
    "Spe = np.zeros(rows)\n",
    "Acc = np.zeros(rows)\n",
    "Mcc = np.zeros(rows)\n",
    "Auc = np.zeros(rows)\n",
    "\n",
    "kf = KFold(10,True,10)\n",
    "for i,[train_index, test_index] in enumerate(kf.split(trainData)):\n",
    "    row+=1\n",
    "    row_one = \"Bert6mA_origin_KFold_\" + str(i)\n",
    "    row_name.append(row_one)\n",
    "    X_train = trainData[train_index]\n",
    "    X_test = trainData[test_index]\n",
    "    Y_train = trainLabel[train_index]\n",
    "    Y_test = trainLabel[test_index]\n",
    "    \n",
    "    model = SVC(C=1.0,gamma=\"auto\")\n",
    "    \n",
    "    model.fit(X_train,Y_train)\n",
    "    th,_,_,_,_,_,_,_,_,_ = metricsCal.get_train_metrics( model.decision_function(X_train).reshape(-1), Y_train )\n",
    "    _,_,_,_,sen,spe,acc,mcc,auc = metricsCal.get_test_metrics( model.decision_function(X_test), Y_test,th )\n",
    "    Sen[row] = sen\n",
    "    Spe[row] = spe\n",
    "    Acc[row] = acc\n",
    "    Mcc[row] = mcc\n",
    "    Auc[row] = auc\n",
    "    \n",
    "PSKP = np.vstack((Sen,Spe,Acc,Mcc,Auc))\n",
    "np.mean(PSKP[4])"
   ]
  },
  {
   "cell_type": "markdown",
   "id": "1641acd3",
   "metadata": {},
   "source": [
    "# PSCP特征计算"
   ]
  },
  {
   "cell_type": "code",
   "execution_count": 19,
   "id": "4f6f9b20",
   "metadata": {
    "ExecuteTime": {
     "end_time": "2023-04-19T07:46:10.003538Z",
     "start_time": "2023-04-19T07:44:54.266045Z"
    }
   },
   "outputs": [
    {
     "name": "stdout",
     "output_type": "stream",
     "text": [
      "(9126, 40)\n"
     ]
    },
    {
     "name": "stderr",
     "output_type": "stream",
     "text": [
      "/data/xiayunpeng/anaconda3/envs/BERT/lib/python3.6/site-packages/sklearn/utils/validation.py:72: FutureWarning: Pass shuffle=True, random_state=10 as keyword args. From version 1.0 (renaming of 0.25) passing these as positional arguments will result in an error\n",
      "  \"will result in an error\", FutureWarning)\n"
     ]
    },
    {
     "name": "stdout",
     "output_type": "stream",
     "text": [
      "0.8111602671544356\n",
      "(9126, 79)\n"
     ]
    },
    {
     "name": "stderr",
     "output_type": "stream",
     "text": [
      "/data/xiayunpeng/anaconda3/envs/BERT/lib/python3.6/site-packages/sklearn/utils/validation.py:72: FutureWarning: Pass shuffle=True, random_state=10 as keyword args. From version 1.0 (renaming of 0.25) passing these as positional arguments will result in an error\n",
      "  \"will result in an error\", FutureWarning)\n"
     ]
    },
    {
     "name": "stdout",
     "output_type": "stream",
     "text": [
      "0.8193186476017914\n",
      "(9126, 117)\n"
     ]
    },
    {
     "name": "stderr",
     "output_type": "stream",
     "text": [
      "/data/xiayunpeng/anaconda3/envs/BERT/lib/python3.6/site-packages/sklearn/utils/validation.py:72: FutureWarning: Pass shuffle=True, random_state=10 as keyword args. From version 1.0 (renaming of 0.25) passing these as positional arguments will result in an error\n",
      "  \"will result in an error\", FutureWarning)\n"
     ]
    },
    {
     "name": "stdout",
     "output_type": "stream",
     "text": [
      "0.8195997129404958\n",
      "(9126, 154)\n"
     ]
    },
    {
     "name": "stderr",
     "output_type": "stream",
     "text": [
      "/data/xiayunpeng/anaconda3/envs/BERT/lib/python3.6/site-packages/sklearn/utils/validation.py:72: FutureWarning: Pass shuffle=True, random_state=10 as keyword args. From version 1.0 (renaming of 0.25) passing these as positional arguments will result in an error\n",
      "  \"will result in an error\", FutureWarning)\n"
     ]
    },
    {
     "name": "stdout",
     "output_type": "stream",
     "text": [
      "0.8175351526187807\n",
      "(9126, 190)\n"
     ]
    },
    {
     "name": "stderr",
     "output_type": "stream",
     "text": [
      "/data/xiayunpeng/anaconda3/envs/BERT/lib/python3.6/site-packages/sklearn/utils/validation.py:72: FutureWarning: Pass shuffle=True, random_state=10 as keyword args. From version 1.0 (renaming of 0.25) passing these as positional arguments will result in an error\n",
      "  \"will result in an error\", FutureWarning)\n"
     ]
    },
    {
     "name": "stdout",
     "output_type": "stream",
     "text": [
      "0.8160119308668543\n",
      "(9126, 225)\n"
     ]
    },
    {
     "name": "stderr",
     "output_type": "stream",
     "text": [
      "/data/xiayunpeng/anaconda3/envs/BERT/lib/python3.6/site-packages/sklearn/utils/validation.py:72: FutureWarning: Pass shuffle=True, random_state=10 as keyword args. From version 1.0 (renaming of 0.25) passing these as positional arguments will result in an error\n",
      "  \"will result in an error\", FutureWarning)\n"
     ]
    },
    {
     "name": "stdout",
     "output_type": "stream",
     "text": [
      "0.814461053102651\n",
      "(9126, 259)\n"
     ]
    },
    {
     "name": "stderr",
     "output_type": "stream",
     "text": [
      "/data/xiayunpeng/anaconda3/envs/BERT/lib/python3.6/site-packages/sklearn/utils/validation.py:72: FutureWarning: Pass shuffle=True, random_state=10 as keyword args. From version 1.0 (renaming of 0.25) passing these as positional arguments will result in an error\n",
      "  \"will result in an error\", FutureWarning)\n"
     ]
    },
    {
     "name": "stdout",
     "output_type": "stream",
     "text": [
      "0.8130348091257084\n"
     ]
    }
   ],
   "source": [
    "#先计算各类空格，然后找到最优的特征\n",
    "All = []\n",
    "for kk in range(7):\n",
    "    trainPos,trainNeg,testPos,testNeg = ensembleFeature.PSCP(trainPos_seq,trainNeg_seq,testPos_seq,testNeg_seq,kk)\n",
    "    trainData_PSCP_kk = np.vstack((trainPos,trainNeg))\n",
    "    if kk == 0:\n",
    "        trainData = trainData_PSCP_kk\n",
    "    else:\n",
    "        trainData = np.hstack((trainData,trainData_PSCP_kk))\n",
    "    #trainData = np.vstack((trainPos,trainNeg))\n",
    "    print(trainData.shape)\n",
    "    \n",
    "    #交叉验证\n",
    "    rows = 10\n",
    "    row = -1\n",
    "    row_name = []\n",
    "    Sen = np.zeros(rows)\n",
    "    Spe = np.zeros(rows)\n",
    "    Acc = np.zeros(rows)\n",
    "    Mcc = np.zeros(rows)\n",
    "    Auc = np.zeros(rows)\n",
    "\n",
    "    kf = KFold(10,True,10)\n",
    "    for i,[train_index, test_index] in enumerate(kf.split(trainData)):\n",
    "        row+=1\n",
    "        row_one = \"Bert6mA_origin_KFold_\" + str(i)\n",
    "        row_name.append(row_one)\n",
    "        X_train = trainData[train_index]\n",
    "        X_test = trainData[test_index]\n",
    "        Y_train = trainLabel[train_index]\n",
    "        Y_test = trainLabel[test_index]\n",
    "\n",
    "        model = SVC(C=1.0,gamma=\"auto\")\n",
    "\n",
    "        model.fit(X_train,Y_train)\n",
    "        th,_,_,_,_,_,_,_,_,_ = metricsCal.get_train_metrics( model.decision_function(X_train).reshape(-1), Y_train )\n",
    "        _,_,_,_,sen,spe,acc,mcc,auc = metricsCal.get_test_metrics( model.decision_function(X_test), Y_test,th )\n",
    "        Sen[row] = sen\n",
    "        Spe[row] = spe\n",
    "        Acc[row] = acc\n",
    "        Mcc[row] = mcc\n",
    "        Auc[row] = auc\n",
    "\n",
    "    PSCP = np.vstack((Sen,Spe,Acc,Mcc,Auc))\n",
    "    if kk == 0:\n",
    "        All = np.mean(PSCP,axis=1)\n",
    "    else:\n",
    "        All = np.vstack((All,np.mean(PSCP,axis=1)))\n",
    "    print(np.mean(PSCP[4]))"
   ]
  },
  {
   "cell_type": "code",
   "execution_count": 20,
   "id": "90c68702",
   "metadata": {
    "ExecuteTime": {
     "end_time": "2023-04-19T07:49:21.267645Z",
     "start_time": "2023-04-19T07:49:21.029615Z"
    }
   },
   "outputs": [],
   "source": [
    "#保存不同k下的最优值\n",
    "#pd.DataFrame( np.append( np.array([\"0\",\"1\",\"2\",\"3\",\"4\",\"5\",\"6\"]).reshape(-1,1), All,axis=1)).to_csv(\"Result/PSCP_k_stack_value.csv\",header=[\"name\",\"Sen\",\"Spe\",\"Acc\",\"Mcc\",\"Auc\"])"
   ]
  },
  {
   "cell_type": "code",
   "execution_count": 21,
   "id": "d43280dc",
   "metadata": {
    "ExecuteTime": {
     "end_time": "2023-04-19T07:52:40.597304Z",
     "start_time": "2023-04-19T07:52:24.693130Z"
    }
   },
   "outputs": [
    {
     "name": "stderr",
     "output_type": "stream",
     "text": [
      "/data/xiayunpeng/anaconda3/envs/BERT/lib/python3.6/site-packages/sklearn/utils/validation.py:72: FutureWarning: Pass shuffle=True, random_state=10 as keyword args. From version 1.0 (renaming of 0.25) passing these as positional arguments will result in an error\n",
      "  \"will result in an error\", FutureWarning)\n"
     ]
    },
    {
     "name": "stdout",
     "output_type": "stream",
     "text": [
      "0.8195997129404958\n"
     ]
    }
   ],
   "source": [
    "#最终选择叠加0、1、2三种情况下的值进行合并\n",
    "trainPos,trainNeg,testPos,testNeg = ensembleFeature.PSCP(trainPos_seq,trainNeg_seq,testPos_seq,testNeg_seq,0)\n",
    "trainData_PSCP_0 = np.vstack((trainPos,trainNeg))\n",
    "\n",
    "trainPos,trainNeg,testPos,testNeg = ensembleFeature.PSCP(trainPos_seq,trainNeg_seq,testPos_seq,testNeg_seq,1)\n",
    "trainData_PSCP_1 = np.vstack((trainPos,trainNeg))\n",
    "\n",
    "trainPos,trainNeg,testPos,testNeg = ensembleFeature.PSCP(trainPos_seq,trainNeg_seq,testPos_seq,testNeg_seq,2)\n",
    "trainData_PSCP_2 = np.vstack((trainPos,trainNeg))\n",
    "\n",
    "trainData = np.hstack((trainData_PSCP_0,trainData_PSCP_1,trainData_PSCP_2))\n",
    "\n",
    "\n",
    "#交叉验证\n",
    "rows = 10\n",
    "row = -1\n",
    "row_name = []\n",
    "Sen = np.zeros(rows)\n",
    "Spe = np.zeros(rows)\n",
    "Acc = np.zeros(rows)\n",
    "Mcc = np.zeros(rows)\n",
    "Auc = np.zeros(rows)\n",
    "\n",
    "kf = KFold(10,True,10)\n",
    "for i,[train_index, test_index] in enumerate(kf.split(trainData)):\n",
    "    row+=1\n",
    "    row_one = \"Bert6mA_origin_KFold_\" + str(i)\n",
    "    row_name.append(row_one)\n",
    "    X_train = trainData[train_index]\n",
    "    X_test = trainData[test_index]\n",
    "    Y_train = trainLabel[train_index]\n",
    "    Y_test = trainLabel[test_index]\n",
    "\n",
    "    model = SVC(C=1.0,gamma=\"auto\")\n",
    "\n",
    "    model.fit(X_train,Y_train)\n",
    "    th,_,_,_,_,_,_,_,_,_ = metricsCal.get_train_metrics( model.decision_function(X_train).reshape(-1), Y_train )\n",
    "    _,_,_,_,sen,spe,acc,mcc,auc = metricsCal.get_test_metrics( model.decision_function(X_test), Y_test,th )\n",
    "    Sen[row] = sen\n",
    "    Spe[row] = spe\n",
    "    Acc[row] = acc\n",
    "    Mcc[row] = mcc\n",
    "    Auc[row] = auc\n",
    "\n",
    "PSCP = np.vstack((Sen,Spe,Acc,Mcc,Auc))\n",
    "print(np.mean(PSCP[4]))"
   ]
  },
  {
   "cell_type": "markdown",
   "id": "da8e2fd3",
   "metadata": {},
   "source": [
    "# BPB特征"
   ]
  },
  {
   "cell_type": "code",
   "execution_count": 28,
   "id": "d5c5007c",
   "metadata": {
    "ExecuteTime": {
     "end_time": "2023-04-19T08:02:17.784231Z",
     "start_time": "2023-04-19T08:02:10.564664Z"
    }
   },
   "outputs": [
    {
     "name": "stderr",
     "output_type": "stream",
     "text": [
      "/data/xiayunpeng/anaconda3/envs/BERT/lib/python3.6/site-packages/sklearn/utils/validation.py:72: FutureWarning: Pass shuffle=True, random_state=10 as keyword args. From version 1.0 (renaming of 0.25) passing these as positional arguments will result in an error\n",
      "  \"will result in an error\", FutureWarning)\n"
     ]
    },
    {
     "data": {
      "text/plain": [
       "0.7691185817710608"
      ]
     },
     "execution_count": 28,
     "metadata": {},
     "output_type": "execute_result"
    }
   ],
   "source": [
    "trainPos,trainNeg,testPos,testNeg = ensembleFeature.BPB(trainPos_seq,trainNeg_seq,testPos_seq,testNeg_seq)\n",
    "trainData = np.vstack((trainPos,trainNeg))\n",
    "#交叉验证\n",
    "rows = 10\n",
    "row = -1\n",
    "row_name = []\n",
    "Sen = np.zeros(rows)\n",
    "Spe = np.zeros(rows)\n",
    "Acc = np.zeros(rows)\n",
    "Mcc = np.zeros(rows)\n",
    "Auc = np.zeros(rows)\n",
    "\n",
    "kf = KFold(10,True,10)\n",
    "for i,[train_index, test_index] in enumerate(kf.split(trainData)):\n",
    "    row+=1\n",
    "    row_one = \"Bert6mA_origin_KFold_\" + str(i)\n",
    "    row_name.append(row_one)\n",
    "    X_train = trainData[train_index]\n",
    "    X_test = trainData[test_index]\n",
    "    Y_train = trainLabel[train_index]\n",
    "    Y_test = trainLabel[test_index]\n",
    "    \n",
    "    model = SVC(C=1.0,gamma=\"auto\")\n",
    "    \n",
    "    model.fit(X_train,Y_train)\n",
    "    th,_,_,_,_,_,_,_,_,_ = metricsCal.get_train_metrics( model.decision_function(X_train).reshape(-1), Y_train )\n",
    "    _,_,_,_,sen,spe,acc,mcc,auc = metricsCal.get_test_metrics( model.decision_function(X_test), Y_test,th )\n",
    "    Sen[row] = sen\n",
    "    Spe[row] = spe\n",
    "    Acc[row] = acc\n",
    "    Mcc[row] = mcc\n",
    "    Auc[row] = auc\n",
    "    \n",
    "BPB = np.vstack((Sen,Spe,Acc,Mcc,Auc))\n",
    "np.mean(BPB[4])\n"
   ]
  },
  {
   "cell_type": "markdown",
   "id": "b9ff8dee",
   "metadata": {},
   "source": [
    "# KNN，按值来"
   ]
  },
  {
   "cell_type": "code",
   "execution_count": 23,
   "id": "e6223b08",
   "metadata": {
    "ExecuteTime": {
     "end_time": "2023-04-19T07:58:39.001785Z",
     "start_time": "2023-04-19T07:58:35.881352Z"
    }
   },
   "outputs": [
    {
     "name": "stderr",
     "output_type": "stream",
     "text": [
      "/data/xiayunpeng/anaconda3/envs/BERT/lib/python3.6/site-packages/sklearn/utils/validation.py:72: FutureWarning: Pass shuffle=True, random_state=10 as keyword args. From version 1.0 (renaming of 0.25) passing these as positional arguments will result in an error\n",
      "  \"will result in an error\", FutureWarning)\n"
     ]
    },
    {
     "data": {
      "text/plain": [
       "0.7993819847957707"
      ]
     },
     "execution_count": 23,
     "metadata": {},
     "output_type": "execute_result"
    }
   ],
   "source": [
    "#值\n",
    "trainData = np.array(pd.read_csv(\"features/KNN_value_train.csv\").iloc[:,1:])\n",
    "#交叉验证\n",
    "rows = 10\n",
    "row = -1\n",
    "row_name = []\n",
    "Sen = np.zeros(rows)\n",
    "Spe = np.zeros(rows)\n",
    "Acc = np.zeros(rows)\n",
    "Mcc = np.zeros(rows)\n",
    "Auc = np.zeros(rows)\n",
    "\n",
    "kf = KFold(10,True,10)\n",
    "for i,[train_index, test_index] in enumerate(kf.split(trainData)):\n",
    "    row+=1\n",
    "    row_one = \"Bert6mA_origin_KFold_\" + str(i)\n",
    "    row_name.append(row_one)\n",
    "    X_train = trainData[train_index]\n",
    "    X_test = trainData[test_index]\n",
    "    Y_train = trainLabel[train_index]\n",
    "    Y_test = trainLabel[test_index]\n",
    "    \n",
    "    model = SVC(C=1.0,gamma=\"auto\")\n",
    "    \n",
    "    model.fit(X_train,Y_train)\n",
    "    th,_,_,_,_,_,_,_,_,_ = metricsCal.get_train_metrics( model.decision_function(X_train).reshape(-1), Y_train )\n",
    "    _,_,_,_,sen,spe,acc,mcc,auc = metricsCal.get_test_metrics( model.decision_function(X_test), Y_test,th )\n",
    "    Sen[row] = sen\n",
    "    Spe[row] = spe\n",
    "    Acc[row] = acc\n",
    "    Mcc[row] = mcc\n",
    "    Auc[row] = auc\n",
    "    \n",
    "KNN = np.vstack((Sen,Spe,Acc,Mcc,Auc))\n",
    "np.mean(KNN[4])"
   ]
  },
  {
   "cell_type": "markdown",
   "id": "77fd9ffb",
   "metadata": {},
   "source": [
    "# 合并所有特征 （PSKP、PSCP、BPB、KNN）"
   ]
  },
  {
   "cell_type": "code",
   "execution_count": 63,
   "id": "5d0e3cfd",
   "metadata": {
    "ExecuteTime": {
     "end_time": "2023-05-08T03:30:13.383017Z",
     "start_time": "2023-05-08T03:29:19.770476Z"
    }
   },
   "outputs": [
    {
     "name": "stderr",
     "output_type": "stream",
     "text": [
      "/data/xiayunpeng/anaconda3/envs/BERT/lib/python3.6/site-packages/sklearn/utils/validation.py:72: FutureWarning: Pass shuffle=True, random_state=10 as keyword args. From version 1.0 (renaming of 0.25) passing these as positional arguments will result in an error\n",
      "  \"will result in an error\", FutureWarning)\n"
     ]
    },
    {
     "data": {
      "text/plain": [
       "0.8122570792740131"
      ]
     },
     "execution_count": 63,
     "metadata": {},
     "output_type": "execute_result"
    }
   ],
   "source": [
    "# 值\n",
    "trainPos,trainNeg,testPos,testNeg = ensembleFeature.PSKP(trainPos_seq,trainNeg_seq,testPos_seq,testNeg_seq,1) #3代表PSTP，2代表PSDP，1代表PSNP\n",
    "trainData_PSNP = np.vstack((trainPos,trainNeg))\n",
    "testData_PSNP = np.vstack((testPos,testNeg))\n",
    "trainPos,trainNeg,testPos,testNeg = ensembleFeature.PSKP(trainPos_seq,trainNeg_seq,testPos_seq,testNeg_seq,2) #3代表PSTP，2代表PSDP，1代表PSNP\n",
    "trainData_PSDP = np.vstack((trainPos,trainNeg))\n",
    "testData_PSDP = np.vstack((testPos,testNeg))\n",
    "trainPos,trainNeg,testPos,testNeg = ensembleFeature.PSKP(trainPos_seq,trainNeg_seq,testPos_seq,testNeg_seq,3) #3代表PSTP，2代表PSDP，1代表PSNP\n",
    "trainData_PSTP = np.vstack((trainPos,trainNeg))\n",
    "testData_PSTP = np.vstack((testPos,testNeg))\n",
    "trainData_PSKP = np.hstack((trainData_PSNP,trainData_PSDP,trainData_PSTP))\n",
    "testData_PSKP = np.hstack((testData_PSNP,testData_PSDP,testData_PSTP))\n",
    "\n",
    "\n",
    "\n",
    "trainPos,trainNeg,testPos,testNeg = ensembleFeature.PSCP(trainPos_seq,trainNeg_seq,testPos_seq,testNeg_seq,0)\n",
    "trainData_PSCP_0 = np.vstack((trainPos,trainNeg))\n",
    "testData_PSCP_0 = np.vstack((testPos,testNeg))\n",
    "trainPos,trainNeg,testPos,testNeg = ensembleFeature.PSCP(trainPos_seq,trainNeg_seq,testPos_seq,testNeg_seq,1)\n",
    "trainData_PSCP_1 = np.vstack((trainPos,trainNeg))\n",
    "testData_PSCP_1 = np.vstack((testPos,testNeg))\n",
    "trainPos,trainNeg,testPos,testNeg = ensembleFeature.PSCP(trainPos_seq,trainNeg_seq,testPos_seq,testNeg_seq,2)\n",
    "trainData_PSCP_2 = np.vstack((trainPos,trainNeg))\n",
    "testData_PSCP_2 = np.vstack((testPos,testNeg))\n",
    "\n",
    "trainData_PSCP = np.hstack((trainData_PSCP_0,trainData_PSCP_1,trainData_PSCP_2))\n",
    "testData_PSCP = np.hstack((testData_PSCP_0,testData_PSCP_1,testData_PSCP_2))\n",
    "\n",
    "trainPos,trainNeg,testPos,testNeg = ensembleFeature.BPB(trainPos_seq,trainNeg_seq,testPos_seq,testNeg_seq)\n",
    "trainData_BPB = np.vstack((trainPos,trainNeg))\n",
    "testData_BPB = np.vstack((testPos,testNeg))\n",
    "\n",
    "trainData_KNN = np.array(pd.read_csv(\"features/KNN_value_train.csv\").iloc[:,1:])\n",
    "testData_KNN = np.array(pd.read_csv(\"features/KNN_value_test.csv\").iloc[:,1:])\n",
    "\n",
    "trainData = np.hstack((trainData_PSKP,trainData_PSCP,trainData_BPB,trainData_KNN))\n",
    "testData = np.hstack((testData_PSKP,testData_PSCP,testData_BPB,testData_KNN))\n",
    "\n",
    "#交叉验证\n",
    "rows = 10\n",
    "row = -1\n",
    "row_name = []\n",
    "Sen = np.zeros(rows)\n",
    "Spe = np.zeros(rows)\n",
    "Acc = np.zeros(rows)\n",
    "Mcc = np.zeros(rows)\n",
    "Auc = np.zeros(rows)\n",
    "\n",
    "kf = KFold(10,True,10)\n",
    "for i,[train_index, test_index] in enumerate(kf.split(trainData)):\n",
    "    row+=1\n",
    "    row_one = \"Bert6mA_origin_KFold_\" + str(i)\n",
    "    row_name.append(row_one)\n",
    "    X_train = trainData[train_index]\n",
    "    X_test = trainData[test_index]\n",
    "    Y_train = trainLabel[train_index]\n",
    "    Y_test = trainLabel[test_index]\n",
    "    \n",
    "    model = SVC(C=1.0,gamma=\"auto\")\n",
    "    \n",
    "    model.fit(X_train,Y_train)\n",
    "    th,_,_,_,_,_,_,_,_,_ = metricsCal.get_train_metrics( model.decision_function(X_train).reshape(-1), Y_train )\n",
    "    _,_,_,_,sen,spe,acc,mcc,auc = metricsCal.get_test_metrics( model.decision_function(X_test), Y_test,th )\n",
    "    Sen[row] = sen\n",
    "    Spe[row] = spe\n",
    "    Acc[row] = acc\n",
    "    Mcc[row] = mcc\n",
    "    Auc[row] = auc\n",
    "    \n",
    "All = np.vstack((Sen,Spe,Acc,Mcc,Auc))\n",
    "np.mean(All[4])"
   ]
  },
  {
   "cell_type": "code",
   "execution_count": 64,
   "id": "ab39ffb9",
   "metadata": {
    "ExecuteTime": {
     "end_time": "2023-05-08T03:35:56.950658Z",
     "start_time": "2023-05-08T03:31:21.584244Z"
    }
   },
   "outputs": [
    {
     "name": "stderr",
     "output_type": "stream",
     "text": [
      "/data/xiayunpeng/anaconda3/envs/BERT/lib/python3.6/site-packages/sklearn/utils/validation.py:72: FutureWarning: Pass shuffle=True, random_state=0 as keyword args. From version 1.0 (renaming of 0.25) passing these as positional arguments will result in an error\n",
      "  \"will result in an error\", FutureWarning)\n"
     ]
    },
    {
     "name": "stdout",
     "output_type": "stream",
     "text": [
      "0\n",
      "0.8123549794056665\n",
      "1\n"
     ]
    },
    {
     "name": "stderr",
     "output_type": "stream",
     "text": [
      "/data/xiayunpeng/anaconda3/envs/BERT/lib/python3.6/site-packages/sklearn/utils/validation.py:72: FutureWarning: Pass shuffle=True, random_state=1 as keyword args. From version 1.0 (renaming of 0.25) passing these as positional arguments will result in an error\n",
      "  \"will result in an error\", FutureWarning)\n"
     ]
    },
    {
     "name": "stdout",
     "output_type": "stream",
     "text": [
      "0.8118775652617704\n",
      "2\n"
     ]
    },
    {
     "name": "stderr",
     "output_type": "stream",
     "text": [
      "/data/xiayunpeng/anaconda3/envs/BERT/lib/python3.6/site-packages/sklearn/utils/validation.py:72: FutureWarning: Pass shuffle=True, random_state=2 as keyword args. From version 1.0 (renaming of 0.25) passing these as positional arguments will result in an error\n",
      "  \"will result in an error\", FutureWarning)\n"
     ]
    },
    {
     "name": "stdout",
     "output_type": "stream",
     "text": [
      "0.8121196282698817\n",
      "3\n"
     ]
    },
    {
     "name": "stderr",
     "output_type": "stream",
     "text": [
      "/data/xiayunpeng/anaconda3/envs/BERT/lib/python3.6/site-packages/sklearn/utils/validation.py:72: FutureWarning: Pass shuffle=True, random_state=3 as keyword args. From version 1.0 (renaming of 0.25) passing these as positional arguments will result in an error\n",
      "  \"will result in an error\", FutureWarning)\n"
     ]
    },
    {
     "name": "stdout",
     "output_type": "stream",
     "text": [
      "0.8119574741347062\n",
      "4\n"
     ]
    },
    {
     "name": "stderr",
     "output_type": "stream",
     "text": [
      "/data/xiayunpeng/anaconda3/envs/BERT/lib/python3.6/site-packages/sklearn/utils/validation.py:72: FutureWarning: Pass shuffle=True, random_state=4 as keyword args. From version 1.0 (renaming of 0.25) passing these as positional arguments will result in an error\n",
      "  \"will result in an error\", FutureWarning)\n"
     ]
    },
    {
     "name": "stdout",
     "output_type": "stream",
     "text": [
      "0.812159578708872\n",
      "5\n"
     ]
    },
    {
     "name": "stderr",
     "output_type": "stream",
     "text": [
      "/data/xiayunpeng/anaconda3/envs/BERT/lib/python3.6/site-packages/sklearn/utils/validation.py:72: FutureWarning: Pass shuffle=True, random_state=5 as keyword args. From version 1.0 (renaming of 0.25) passing these as positional arguments will result in an error\n",
      "  \"will result in an error\", FutureWarning)\n"
     ]
    },
    {
     "name": "stdout",
     "output_type": "stream",
     "text": [
      "0.8122062238793253\n",
      "6\n"
     ]
    },
    {
     "name": "stderr",
     "output_type": "stream",
     "text": [
      "/data/xiayunpeng/anaconda3/envs/BERT/lib/python3.6/site-packages/sklearn/utils/validation.py:72: FutureWarning: Pass shuffle=True, random_state=6 as keyword args. From version 1.0 (renaming of 0.25) passing these as positional arguments will result in an error\n",
      "  \"will result in an error\", FutureWarning)\n"
     ]
    },
    {
     "name": "stdout",
     "output_type": "stream",
     "text": [
      "0.8117089930165087\n",
      "7\n"
     ]
    },
    {
     "name": "stderr",
     "output_type": "stream",
     "text": [
      "/data/xiayunpeng/anaconda3/envs/BERT/lib/python3.6/site-packages/sklearn/utils/validation.py:72: FutureWarning: Pass shuffle=True, random_state=7 as keyword args. From version 1.0 (renaming of 0.25) passing these as positional arguments will result in an error\n",
      "  \"will result in an error\", FutureWarning)\n"
     ]
    },
    {
     "name": "stdout",
     "output_type": "stream",
     "text": [
      "0.812323907836741\n",
      "8\n"
     ]
    },
    {
     "name": "stderr",
     "output_type": "stream",
     "text": [
      "/data/xiayunpeng/anaconda3/envs/BERT/lib/python3.6/site-packages/sklearn/utils/validation.py:72: FutureWarning: Pass shuffle=True, random_state=8 as keyword args. From version 1.0 (renaming of 0.25) passing these as positional arguments will result in an error\n",
      "  \"will result in an error\", FutureWarning)\n"
     ]
    },
    {
     "name": "stdout",
     "output_type": "stream",
     "text": [
      "0.8118525470639956\n",
      "9\n"
     ]
    },
    {
     "name": "stderr",
     "output_type": "stream",
     "text": [
      "/data/xiayunpeng/anaconda3/envs/BERT/lib/python3.6/site-packages/sklearn/utils/validation.py:72: FutureWarning: Pass shuffle=True, random_state=9 as keyword args. From version 1.0 (renaming of 0.25) passing these as positional arguments will result in an error\n",
      "  \"will result in an error\", FutureWarning)\n"
     ]
    },
    {
     "name": "stdout",
     "output_type": "stream",
     "text": [
      "0.8122698685316664\n",
      "10\n"
     ]
    },
    {
     "name": "stderr",
     "output_type": "stream",
     "text": [
      "/data/xiayunpeng/anaconda3/envs/BERT/lib/python3.6/site-packages/sklearn/utils/validation.py:72: FutureWarning: Pass shuffle=True, random_state=10 as keyword args. From version 1.0 (renaming of 0.25) passing these as positional arguments will result in an error\n",
      "  \"will result in an error\", FutureWarning)\n"
     ]
    },
    {
     "name": "stdout",
     "output_type": "stream",
     "text": [
      "0.8122570792740131\n"
     ]
    }
   ],
   "source": [
    "Auc_All = []\n",
    "for kfo in range(0,11):\n",
    "    #交叉验证\n",
    "    rows = 10\n",
    "    row = -1\n",
    "    row_name = []\n",
    "    Sen = np.zeros(rows)\n",
    "    Spe = np.zeros(rows)\n",
    "    Acc = np.zeros(rows)\n",
    "    Mcc = np.zeros(rows)\n",
    "    Auc = np.zeros(rows)\n",
    "\n",
    "    kf = KFold(10,True,kfo)\n",
    "    print(kfo)\n",
    "    for i,[train_index, test_index] in enumerate(kf.split(trainData)):\n",
    "        row+=1\n",
    "        row_one = \"Bert6mA_origin_KFold_\" + str(i)\n",
    "        row_name.append(row_one)\n",
    "        print(test_index)\n",
    "        X_train = trainData[train_index]\n",
    "        X_test = trainData[test_index]\n",
    "        Y_train = trainLabel[train_index]\n",
    "        Y_test = trainLabel[test_index]\n",
    "\n",
    "        model = SVC(C=1.0,gamma=\"auto\")\n",
    "\n",
    "        model.fit(X_train,Y_train)\n",
    "        th,_,_,_,_,_,_,_,_,_ = metricsCal.get_train_metrics( model.decision_function(X_train).reshape(-1), Y_train )\n",
    "        _,_,_,_,sen,spe,acc,mcc,auc = metricsCal.get_test_metrics( model.decision_function(X_test), Y_test,th )\n",
    "        Sen[row] = sen\n",
    "        Spe[row] = spe\n",
    "        Acc[row] = acc\n",
    "        Mcc[row] = mcc\n",
    "        Auc[row] = auc\n",
    "\n",
    "    All = np.vstack((Sen,Spe,Acc,Mcc,Auc))\n",
    "    print(np.mean(Auc))\n",
    "    Auc_All.append(Auc)"
   ]
  },
  {
   "cell_type": "code",
   "execution_count": 67,
   "id": "2ecab0db",
   "metadata": {
    "ExecuteTime": {
     "end_time": "2023-05-08T03:36:33.108047Z",
     "start_time": "2023-05-08T03:36:32.949016Z"
    }
   },
   "outputs": [
    {
     "name": "stdout",
     "output_type": "stream",
     "text": [
      "0\n",
      "0.8123549794056665\n",
      "0.033796094022358725\n",
      "0.00016966908255427093\n",
      "1\n",
      "0.8118775652617704\n",
      "0.05132528569132888\n",
      "0.00021809980597770537\n",
      "2\n",
      "0.8121196282698817\n",
      "0.03924064518166537\n",
      "0.00016221778210369174\n",
      "3\n",
      "0.8119574741347062\n",
      "0.04485729788145432\n",
      "0.0002474068311858939\n",
      "4\n",
      "0.812159578708872\n",
      "0.039797687227394074\n",
      "0.0001675495104787733\n",
      "5\n",
      "0.8122062238793253\n",
      "0.06864748664981812\n",
      "0.0003828023567334408\n",
      "6\n",
      "0.8117089930165087\n",
      "0.037865910983921225\n",
      "0.00015178945539260304\n",
      "7\n",
      "0.812323907836741\n",
      "0.07989770775630123\n",
      "0.0005352118398646404\n",
      "8\n",
      "0.8118525470639956\n",
      "0.04984833370538111\n",
      "0.00023919939715270859\n",
      "9\n",
      "0.8122698685316664\n",
      "0.05186054671823248\n",
      "0.0002931823454061548\n",
      "10\n",
      "0.8122570792740131\n",
      "0.0365137160403497\n",
      "0.00013120361487827903\n"
     ]
    }
   ],
   "source": [
    "import statistics\n",
    "for i,k in enumerate(Auc_All):\n",
    "    print(i)\n",
    "    print(np.mean(k))\n",
    "    print(np.max(k)-np.min(k))\n",
    "    print(statistics.variance(k))"
   ]
  },
  {
   "cell_type": "code",
   "execution_count": 118,
   "id": "ed89c472",
   "metadata": {
    "ExecuteTime": {
     "end_time": "2023-05-17T12:35:01.675578Z",
     "start_time": "2023-05-17T12:35:01.672292Z"
    }
   },
   "outputs": [],
   "source": [
    "# kf = KFold(10,True,0)\n",
    "# for i,[train_index, test_index] in enumerate(kf.split(trainData)):\n",
    "#     print(test_index)"
   ]
  },
  {
   "cell_type": "code",
   "execution_count": 51,
   "id": "86cb645c",
   "metadata": {
    "ExecuteTime": {
     "end_time": "2023-04-19T08:40:56.039186Z",
     "start_time": "2023-04-19T08:40:56.029302Z"
    }
   },
   "outputs": [],
   "source": [
    "# result_one = np.vstack( (np.mean(PSKP,axis=1),np.mean(PSCP,axis=1),np.mean(BPB,axis=1),np.mean(KNN,axis=1),np.mean(All,axis=1)))\n",
    "# pd.DataFrame( np.append( np.array([\"PSKP\",\"PSCP\",\"BPB\",\"KNN\",\"All\"]).reshape(-1,1),result_one,axis=1)).to_csv(\"Result/Location_comparison.csv\",header=[\"name\",\"Sen\",\"Spe\",\"Acc\",\"Mcc\",\"Auc\"])"
   ]
  },
  {
   "cell_type": "markdown",
   "id": "9b79427f",
   "metadata": {
    "ExecuteTime": {
     "end_time": "2023-04-20T06:37:03.337681Z",
     "start_time": "2023-04-20T06:37:03.313124Z"
    }
   },
   "source": [
    "# 下一步需要来进行特征提取工作"
   ]
  },
  {
   "cell_type": "code",
   "execution_count": 18,
   "id": "41bd8e88",
   "metadata": {
    "ExecuteTime": {
     "end_time": "2023-05-06T13:46:22.988850Z",
     "start_time": "2023-05-06T13:45:53.447269Z"
    }
   },
   "outputs": [],
   "source": [
    "#首先把所有特征表示出来\n",
    "#值\n",
    "trainPos,trainNeg,testPos,testNeg = ensembleFeature.PSKP(trainPos_seq,trainNeg_seq,testPos_seq,testNeg_seq,1) #3代表PSTP，2代表PSDP，1代表PSNP\n",
    "trainData_PSNP = np.vstack((trainPos,trainNeg))\n",
    "testData_PSNP = np.vstack((testPos,testNeg))\n",
    "trainPos,trainNeg,testPos,testNeg = ensembleFeature.PSKP(trainPos_seq,trainNeg_seq,testPos_seq,testNeg_seq,2) #3代表PSTP，2代表PSDP，1代表PSNP\n",
    "trainData_PSDP = np.vstack((trainPos,trainNeg))\n",
    "testData_PSDP = np.vstack((testPos,testNeg))\n",
    "trainPos,trainNeg,testPos,testNeg = ensembleFeature.PSKP(trainPos_seq,trainNeg_seq,testPos_seq,testNeg_seq,3) #3代表PSTP，2代表PSDP，1代表PSNP\n",
    "trainData_PSTP = np.vstack((trainPos,trainNeg))\n",
    "testData_PSTP = np.vstack((testPos,testNeg))\n",
    "trainData_PSKP = np.hstack((trainData_PSNP,trainData_PSDP,trainData_PSTP))\n",
    "testData_PSKP = np.hstack((testData_PSNP,testData_PSDP,testData_PSTP))\n",
    "\n",
    "\n",
    "\n",
    "trainPos,trainNeg,testPos,testNeg = ensembleFeature.PSCP(trainPos_seq,trainNeg_seq,testPos_seq,testNeg_seq,0)\n",
    "trainData_PSCP_0 = np.vstack((trainPos,trainNeg))\n",
    "testData_PSCP_0 = np.vstack((testPos,testNeg))\n",
    "trainPos,trainNeg,testPos,testNeg = ensembleFeature.PSCP(trainPos_seq,trainNeg_seq,testPos_seq,testNeg_seq,1)\n",
    "trainData_PSCP_1 = np.vstack((trainPos,trainNeg))\n",
    "testData_PSCP_1 = np.vstack((testPos,testNeg))\n",
    "trainPos,trainNeg,testPos,testNeg = ensembleFeature.PSCP(trainPos_seq,trainNeg_seq,testPos_seq,testNeg_seq,2)\n",
    "trainData_PSCP_2 = np.vstack((trainPos,trainNeg))\n",
    "testData_PSCP_2 = np.vstack((testPos,testNeg))\n",
    "\n",
    "trainData_PSCP = np.hstack((trainData_PSCP_0,trainData_PSCP_1,trainData_PSCP_2))\n",
    "testData_PSCP = np.hstack((testData_PSCP_0,testData_PSCP_1,testData_PSCP_2))\n",
    "\n",
    "trainPos,trainNeg,testPos,testNeg = ensembleFeature.BPB(trainPos_seq,trainNeg_seq,testPos_seq,testNeg_seq)\n",
    "trainData_BPB = np.vstack((trainPos,trainNeg))\n",
    "testData_BPB = np.vstack((testPos,testNeg))\n",
    "\n",
    "trainData_KNN = np.array(pd.read_csv(\"features/KNN_value_train.csv\").iloc[:,1:])\n",
    "testData_KNN = np.array(pd.read_csv(\"features/KNN_value_test.csv\").iloc[:,1:])\n",
    "\n",
    "trainData_origin = np.hstack((trainData_PSKP,trainData_PSCP,trainData_BPB,trainData_KNN))\n",
    "testData = np.hstack((testData_PSKP,testData_PSCP,testData_BPB,testData_KNN))"
   ]
  },
  {
   "cell_type": "code",
   "execution_count": 20,
   "id": "5131af1f",
   "metadata": {
    "ExecuteTime": {
     "end_time": "2023-05-06T13:52:10.686457Z",
     "start_time": "2023-05-06T13:52:10.660170Z"
    }
   },
   "outputs": [],
   "source": [
    "colu = [f'fea_{i}' for i in range(len(trainData[0]))]"
   ]
  },
  {
   "cell_type": "code",
   "execution_count": 78,
   "id": "377c84b6",
   "metadata": {
    "ExecuteTime": {
     "end_time": "2023-04-20T06:58:30.166940Z",
     "start_time": "2023-04-20T06:58:30.162600Z"
    }
   },
   "outputs": [],
   "source": [
    "#column = ['Class']\n",
    "#column.append(colu)\n",
    "trainData = pd.DataFrame(data = trainData,columns=colu)"
   ]
  },
  {
   "cell_type": "code",
   "execution_count": 85,
   "id": "3390aa49",
   "metadata": {
    "ExecuteTime": {
     "end_time": "2023-04-22T02:07:45.799853Z",
     "start_time": "2023-04-22T02:07:45.795980Z"
    },
    "scrolled": false
   },
   "outputs": [],
   "source": [
    "# mr_339 = pymrmr.mRMR(trainData,'MIQ',339)\n",
    "# mr_339"
   ]
  },
  {
   "cell_type": "code",
   "execution_count": 86,
   "id": "b5960b9a",
   "metadata": {
    "ExecuteTime": {
     "end_time": "2023-04-22T02:07:55.145844Z",
     "start_time": "2023-04-22T02:07:55.141344Z"
    }
   },
   "outputs": [],
   "source": [
    "# mr_MID_339 = pymrmr.mRMR(trainData,'MID',339)\n",
    "# mr_MID_339"
   ]
  },
  {
   "cell_type": "code",
   "execution_count": 36,
   "id": "7aa5bd86",
   "metadata": {
    "ExecuteTime": {
     "end_time": "2023-05-06T14:11:08.138121Z",
     "start_time": "2023-05-06T14:11:08.133288Z"
    }
   },
   "outputs": [],
   "source": [
    "#ICA降维  sec_ICA  com_ICA loc_ICA\n",
    "from sklearn.decomposition import FastICA\n",
    "ica = FastICA(n_components= 100).fit(trainData_origin)\n",
    "trainData = ica.transform(trainData_origin)\n",
    "trainData=pd.DataFrame(trainData)\n",
    "colu = [f'fea_{i}' for i in range(len(trainData[0]))]\n",
    "traindata = pd.DataFrame(data = trainData,columns=colu)"
   ]
  },
  {
   "cell_type": "code",
   "execution_count": 42,
   "id": "effb20f9",
   "metadata": {
    "ExecuteTime": {
     "end_time": "2023-05-06T14:15:10.621865Z",
     "start_time": "2023-05-06T14:15:10.616256Z"
    }
   },
   "outputs": [],
   "source": [
    "traindata = pd.DataFrame(data = trainData,columns=colu)"
   ]
  },
  {
   "cell_type": "code",
   "execution_count": null,
   "id": "243bdb85",
   "metadata": {
    "ExecuteTime": {
     "start_time": "2023-05-05T14:21:29.647Z"
    }
   },
   "outputs": [],
   "source": [
    "mr_MIQ_100 = pymrmr.mRMR(traindata,'MIQ',100)\n",
    "#mr_MIQ_339\n",
    "mr_MID_100 = pymrmr.mRMR(traindata,'MID',100)\n",
    "mr_MID_100"
   ]
  },
  {
   "cell_type": "code",
   "execution_count": 47,
   "id": "ba737048",
   "metadata": {
    "ExecuteTime": {
     "end_time": "2023-05-07T01:43:28.763384Z",
     "start_time": "2023-05-07T01:43:28.648107Z"
    }
   },
   "outputs": [],
   "source": [
    "pd.DataFrame(   np.hstack( (np.array([\"Loc_MRMR_MID\",\"Loc_MRMR_MIQ\"]).reshape(-1,1),np.append( np.array(mr_MID_100).reshape(1,-1),np.array(mr_MIQ_100).reshape(1,-1),axis=0)))).to_csv(\"Result/Loc_ICA_MRMR.csv\")"
   ]
  },
  {
   "cell_type": "code",
   "execution_count": 41,
   "id": "75512b8b",
   "metadata": {
    "ExecuteTime": {
     "end_time": "2023-05-06T14:15:02.737977Z",
     "start_time": "2023-05-06T14:11:53.256520Z"
    }
   },
   "outputs": [
    {
     "name": "stderr",
     "output_type": "stream",
     "text": [
      "/data/xiayunpeng/anaconda3/envs/BERT/lib/python3.6/site-packages/sklearn/decomposition/_fastica.py:120: ConvergenceWarning: FastICA did not converge. Consider increasing tolerance or the maximum number of iterations.\n",
      "  ConvergenceWarning)\n"
     ]
    }
   ],
   "source": []
  },
  {
   "cell_type": "markdown",
   "id": "878a3e35",
   "metadata": {},
   "source": [
    "# F-score特征选择"
   ]
  },
  {
   "cell_type": "code",
   "execution_count": 48,
   "id": "f5186b32",
   "metadata": {
    "ExecuteTime": {
     "end_time": "2023-05-07T01:44:52.651938Z",
     "start_time": "2023-05-07T01:44:52.627614Z"
    }
   },
   "outputs": [],
   "source": [
    "def fscore_core(np,nn,xb,xbp,xbn,xkp,xkn):\n",
    "    '''\n",
    "    np: number of positive features\n",
    "    nn: number of negative features\n",
    "    xb: list of the average of each feature of the whole instances\n",
    "    xbp: list of the average of each feature of the positive instances\n",
    "    xbn: list of the average of each feature of the negative instances\n",
    "    xkp: list of each feature which is a list of each positive instance\n",
    "    xkn: list of each feature which is a list of each negatgive instance\n",
    "    reference: http://link.springer.com/chapter/10.1007/978-3-540-35488-8_13\n",
    "    '''\n",
    "    def sigmap (i,np,xbp,xkp):\n",
    "        return sum([(xkp[i][k]-xbp[i])**2 for k in range(int(np))])\n",
    "\n",
    "    def sigman (i,nn,xbn,xkn):\n",
    "        #print sum([(xkn[i][k]-xbn[i])**2 for k in range(nn)])\n",
    "        return sum([(xkn[i][k]-xbn[i])**2 for k in range(int(nn))])\n",
    "\n",
    "    n_feature = len(xb)\n",
    "    fscores = []\n",
    "    for i in range(n_feature):\n",
    "        fscore_numerator = (xbp[i]-xb[i])**2 + (xbn[i]-xb[i])**2\n",
    "        fscore_denominator = (1/float(np-1))*(sigmap(i,np,xbp,xkp))+(1/float(nn-1))*(sigman(i,nn,xbn,xkn))\n",
    "        fscores.append(fscore_numerator/fscore_denominator)\n",
    "\n",
    "    return fscores\n",
    "\n",
    "def fscore(feature,classindex):\n",
    "    '''\n",
    "    feature: a matrix whose row indicates instances, col indicates features\n",
    "    classindex: 1 indicates positive and 0 indicates negative\n",
    "    '''\n",
    "    n_instance = len(feature)\n",
    "    n_feature  = len(feature[0])\n",
    "    np = sum(classindex)\n",
    "    nn = n_instance - np\n",
    "    xkp =[];xkn =[];xbp =[];xbn =[];xb=[]\n",
    "    for i in range(n_feature):\n",
    "        xkp_i = [];xkn_i = []\n",
    "        for k in range(n_instance):\n",
    "            if classindex[k] == 1:\n",
    "                xkp_i.append(feature[k][i])\n",
    "            else:\n",
    "                xkn_i.append(feature[k][i])\n",
    "        xkp.append(xkp_i)\n",
    "        xkn.append(xkn_i)\n",
    "        sum_xkp_i = sum(xkp_i)\n",
    "        sum_xkn_i = sum(xkn_i)\n",
    "        xbp.append(sum_xkp_i/float(np))\n",
    "        xbn.append(sum_xkn_i/float(nn))\n",
    "        xb.append((sum_xkp_i+sum_xkn_i)/float(n_instance))\n",
    "    return fscore_core(np,nn,xb,xbp,xbn,xkp,xkn)"
   ]
  },
  {
   "cell_type": "code",
   "execution_count": 49,
   "id": "bc1f5255",
   "metadata": {
    "ExecuteTime": {
     "end_time": "2023-05-07T01:45:05.000652Z",
     "start_time": "2023-05-07T01:45:02.721453Z"
    }
   },
   "outputs": [],
   "source": [
    "f_score_rank = fscore(trainData,trainLabel)\n",
    "feature = []\n",
    "for i in range(len(f_score_rank)):\n",
    "    if not f_score_rank[i]>0:\n",
    "        f_score_rank[i] = 0\n",
    "sorted_id = sorted(range(len(f_score_rank)), key=lambda k: f_score_rank[k], reverse=True)"
   ]
  },
  {
   "cell_type": "code",
   "execution_count": 117,
   "id": "c528730e",
   "metadata": {
    "ExecuteTime": {
     "end_time": "2023-05-17T12:34:37.341491Z",
     "start_time": "2023-05-17T12:34:37.335940Z"
    }
   },
   "outputs": [],
   "source": [
    "All = []\n",
    "feature = []\n",
    "for i in range(len(sorted_id)):\n",
    "#for i in range(2):\n",
    "    feature.append(trainData[:,sorted_id[i]])\n",
    "    trainData_f = np.array(feature).T\n",
    "    print(trainData_f.shape)\n",
    "    \n",
    "    #交叉验证\n",
    "    rows = 10\n",
    "    row = -1\n",
    "    row_name = []\n",
    "    Sen = np.zeros(rows)\n",
    "    Spe = np.zeros(rows)\n",
    "    Acc = np.zeros(rows)\n",
    "    Mcc = np.zeros(rows)\n",
    "    Auc = np.zeros(rows)\n",
    "\n",
    "    kf = KFold(10,True,10)\n",
    "    for i,[train_index, test_index] in enumerate(kf.split(trainData_f)):\n",
    "        row+=1\n",
    "        row_one = \"Bert6mA_origin_KFold_\" + str(i)\n",
    "        row_name.append(row_one)\n",
    "        X_train = trainData_f[train_index]\n",
    "        X_test = trainData_f[test_index]\n",
    "        Y_train = trainLabel[train_index]\n",
    "        Y_test = trainLabel[test_index]\n",
    "\n",
    "        model = SVC(C=1.0,gamma=\"auto\")\n",
    "\n",
    "        model.fit(X_train,Y_train)\n",
    "        th,_,_,_,_,_,_,_,_,_ = metricsCal.get_train_metrics( model.decision_function(X_train).reshape(-1), Y_train )\n",
    "        _,_,_,_,sen,spe,acc,mcc,auc = metricsCal.get_test_metrics( model.decision_function(X_test), Y_test,th )\n",
    "        Sen[row] = sen\n",
    "        Spe[row] = spe\n",
    "        Acc[row] = acc\n",
    "        Mcc[row] = mcc\n",
    "        Auc[row] = auc\n",
    "    \n",
    "    print(np.mean(Auc))\n",
    "    All.append(np.mean(np.vstack((Sen,Spe,Acc,Mcc,Auc)),axis=1))"
   ]
  },
  {
   "cell_type": "code",
   "execution_count": 19,
   "id": "ff99a37e",
   "metadata": {
    "ExecuteTime": {
     "end_time": "2023-04-22T07:42:59.949419Z",
     "start_time": "2023-04-22T07:42:59.926023Z"
    }
   },
   "outputs": [],
   "source": [
    "pd.DataFrame(np.append(np.array(sorted_id).reshape(-1,1),np.array(All),axis=1)).to_csv(\"Result/Feature_Selection/Location_ICA_F-Score.csv\")\n",
    "#i=124,即使用125个特征的时候达到最优效果"
   ]
  },
  {
   "cell_type": "code",
   "execution_count": 18,
   "id": "a6e07918",
   "metadata": {
    "ExecuteTime": {
     "end_time": "2023-04-22T07:42:49.964375Z",
     "start_time": "2023-04-22T07:42:49.950882Z"
    }
   },
   "outputs": [
    {
     "name": "stdout",
     "output_type": "stream",
     "text": [
      "124\n"
     ]
    }
   ],
   "source": [
    "max_auc = np.max(np.array(All)[:,4])\n",
    "for i in range(len(All)):\n",
    "    if All[i][4]==max_auc:\n",
    "        print(i)"
   ]
  },
  {
   "cell_type": "markdown",
   "id": "c2aa8295",
   "metadata": {},
   "source": [
    "# 这一步进行SVM-RFE 特征选择"
   ]
  },
  {
   "cell_type": "code",
   "execution_count": 52,
   "id": "5b428b74",
   "metadata": {
    "ExecuteTime": {
     "end_time": "2023-05-07T02:13:56.208140Z",
     "start_time": "2023-05-07T02:12:58.696478Z"
    }
   },
   "outputs": [
    {
     "ename": "KeyboardInterrupt",
     "evalue": "",
     "output_type": "error",
     "traceback": [
      "\u001b[0;31m---------------------------------------------------------------------------\u001b[0m",
      "\u001b[0;31mKeyboardInterrupt\u001b[0m                         Traceback (most recent call last)",
      "\u001b[0;32m<ipython-input-52-63580d4c2a3e>\u001b[0m in \u001b[0;36m<module>\u001b[0;34m\u001b[0m\n\u001b[1;32m      6\u001b[0m \u001b[0mx\u001b[0m \u001b[0;34m=\u001b[0m \u001b[0mzscore_scaler\u001b[0m\u001b[0;34m.\u001b[0m\u001b[0mfit_transform\u001b[0m\u001b[0;34m(\u001b[0m\u001b[0mtrainData\u001b[0m\u001b[0;34m)\u001b[0m\u001b[0;34m\u001b[0m\u001b[0;34m\u001b[0m\u001b[0m\n\u001b[1;32m      7\u001b[0m \u001b[0mmodel\u001b[0m \u001b[0;34m=\u001b[0m \u001b[0mSVC\u001b[0m\u001b[0;34m(\u001b[0m\u001b[0mC\u001b[0m\u001b[0;34m=\u001b[0m\u001b[0;36m1.0\u001b[0m\u001b[0;34m,\u001b[0m\u001b[0mgamma\u001b[0m\u001b[0;34m=\u001b[0m\u001b[0;34m\"auto\"\u001b[0m\u001b[0;34m,\u001b[0m\u001b[0mkernel\u001b[0m\u001b[0;34m=\u001b[0m\u001b[0;34m\"linear\"\u001b[0m\u001b[0;34m)\u001b[0m\u001b[0;34m\u001b[0m\u001b[0;34m\u001b[0m\u001b[0m\n\u001b[0;32m----> 8\u001b[0;31m \u001b[0mmodel\u001b[0m\u001b[0;34m.\u001b[0m\u001b[0mfit\u001b[0m\u001b[0;34m(\u001b[0m\u001b[0mx\u001b[0m\u001b[0;34m,\u001b[0m \u001b[0mtrainLabel\u001b[0m\u001b[0;34m)\u001b[0m\u001b[0;34m\u001b[0m\u001b[0;34m\u001b[0m\u001b[0m\n\u001b[0m\u001b[1;32m      9\u001b[0m \u001b[0ma\u001b[0m \u001b[0;34m=\u001b[0m \u001b[0mmodel\u001b[0m\u001b[0;34m.\u001b[0m\u001b[0mcoef_\u001b[0m\u001b[0;34m\u001b[0m\u001b[0;34m\u001b[0m\u001b[0m\n",
      "\u001b[0;32m~/anaconda3/envs/BERT/lib/python3.6/site-packages/sklearn/svm/_base.py\u001b[0m in \u001b[0;36mfit\u001b[0;34m(self, X, y, sample_weight)\u001b[0m\n\u001b[1;32m    224\u001b[0m \u001b[0;34m\u001b[0m\u001b[0m\n\u001b[1;32m    225\u001b[0m         \u001b[0mseed\u001b[0m \u001b[0;34m=\u001b[0m \u001b[0mrnd\u001b[0m\u001b[0;34m.\u001b[0m\u001b[0mrandint\u001b[0m\u001b[0;34m(\u001b[0m\u001b[0mnp\u001b[0m\u001b[0;34m.\u001b[0m\u001b[0miinfo\u001b[0m\u001b[0;34m(\u001b[0m\u001b[0;34m'i'\u001b[0m\u001b[0;34m)\u001b[0m\u001b[0;34m.\u001b[0m\u001b[0mmax\u001b[0m\u001b[0;34m)\u001b[0m\u001b[0;34m\u001b[0m\u001b[0;34m\u001b[0m\u001b[0m\n\u001b[0;32m--> 226\u001b[0;31m         \u001b[0mfit\u001b[0m\u001b[0;34m(\u001b[0m\u001b[0mX\u001b[0m\u001b[0;34m,\u001b[0m \u001b[0my\u001b[0m\u001b[0;34m,\u001b[0m \u001b[0msample_weight\u001b[0m\u001b[0;34m,\u001b[0m \u001b[0msolver_type\u001b[0m\u001b[0;34m,\u001b[0m \u001b[0mkernel\u001b[0m\u001b[0;34m,\u001b[0m \u001b[0mrandom_seed\u001b[0m\u001b[0;34m=\u001b[0m\u001b[0mseed\u001b[0m\u001b[0;34m)\u001b[0m\u001b[0;34m\u001b[0m\u001b[0;34m\u001b[0m\u001b[0m\n\u001b[0m\u001b[1;32m    227\u001b[0m         \u001b[0;31m# see comment on the other call to np.iinfo in this file\u001b[0m\u001b[0;34m\u001b[0m\u001b[0;34m\u001b[0m\u001b[0;34m\u001b[0m\u001b[0m\n\u001b[1;32m    228\u001b[0m \u001b[0;34m\u001b[0m\u001b[0m\n",
      "\u001b[0;32m~/anaconda3/envs/BERT/lib/python3.6/site-packages/sklearn/svm/_base.py\u001b[0m in \u001b[0;36m_dense_fit\u001b[0;34m(self, X, y, sample_weight, solver_type, kernel, random_seed)\u001b[0m\n\u001b[1;32m    283\u001b[0m                 \u001b[0mcache_size\u001b[0m\u001b[0;34m=\u001b[0m\u001b[0mself\u001b[0m\u001b[0;34m.\u001b[0m\u001b[0mcache_size\u001b[0m\u001b[0;34m,\u001b[0m \u001b[0mcoef0\u001b[0m\u001b[0;34m=\u001b[0m\u001b[0mself\u001b[0m\u001b[0;34m.\u001b[0m\u001b[0mcoef0\u001b[0m\u001b[0;34m,\u001b[0m\u001b[0;34m\u001b[0m\u001b[0;34m\u001b[0m\u001b[0m\n\u001b[1;32m    284\u001b[0m                 \u001b[0mgamma\u001b[0m\u001b[0;34m=\u001b[0m\u001b[0mself\u001b[0m\u001b[0;34m.\u001b[0m\u001b[0m_gamma\u001b[0m\u001b[0;34m,\u001b[0m \u001b[0mepsilon\u001b[0m\u001b[0;34m=\u001b[0m\u001b[0mself\u001b[0m\u001b[0;34m.\u001b[0m\u001b[0mepsilon\u001b[0m\u001b[0;34m,\u001b[0m\u001b[0;34m\u001b[0m\u001b[0;34m\u001b[0m\u001b[0m\n\u001b[0;32m--> 285\u001b[0;31m                 max_iter=self.max_iter, random_seed=random_seed)\n\u001b[0m\u001b[1;32m    286\u001b[0m \u001b[0;34m\u001b[0m\u001b[0m\n\u001b[1;32m    287\u001b[0m         \u001b[0mself\u001b[0m\u001b[0;34m.\u001b[0m\u001b[0m_warn_from_fit_status\u001b[0m\u001b[0;34m(\u001b[0m\u001b[0;34m)\u001b[0m\u001b[0;34m\u001b[0m\u001b[0;34m\u001b[0m\u001b[0m\n",
      "\u001b[0;31mKeyboardInterrupt\u001b[0m: "
     ]
    }
   ],
   "source": [
    "from sklearn.feature_selection import RFE\n",
    "from sklearn.svm import SVC\n",
    "\n",
    "from sklearn import preprocessing\n",
    "zscore_scaler=preprocessing.StandardScaler()\n",
    "x = zscore_scaler.fit_transform(trainData)\n",
    "model = SVC(C=1.0,gamma=\"auto\",kernel=\"linear\")\n",
    "model.fit(x, trainLabel)\n",
    "a = model.coef_"
   ]
  },
  {
   "cell_type": "code",
   "execution_count": 7,
   "id": "c8fa125d",
   "metadata": {
    "ExecuteTime": {
     "end_time": "2023-04-22T04:58:52.987709Z",
     "start_time": "2023-04-22T04:58:52.977501Z"
    }
   },
   "outputs": [],
   "source": [
    "b = a.reshape(-1)\n",
    "sorted_id = sorted(range(len(b)), key=lambda k: b[k], reverse=True)\n",
    "#sorted_id"
   ]
  },
  {
   "cell_type": "code",
   "execution_count": 10,
   "id": "75d94cda",
   "metadata": {
    "ExecuteTime": {
     "end_time": "2023-04-22T06:29:04.796443Z",
     "start_time": "2023-04-22T05:18:48.930676Z"
    }
   },
   "outputs": [
    {
     "name": "stdout",
     "output_type": "stream",
     "text": [
      "(9126, 1)\n"
     ]
    },
    {
     "name": "stderr",
     "output_type": "stream",
     "text": [
      "/data/xiayunpeng/anaconda3/envs/BERT/lib/python3.6/site-packages/sklearn/utils/validation.py:72: FutureWarning: Pass shuffle=True, random_state=10 as keyword args. From version 1.0 (renaming of 0.25) passing these as positional arguments will result in an error\n",
      "  \"will result in an error\", FutureWarning)\n"
     ]
    },
    {
     "name": "stdout",
     "output_type": "stream",
     "text": [
      "(9126, 2)\n"
     ]
    },
    {
     "name": "stderr",
     "output_type": "stream",
     "text": [
      "/data/xiayunpeng/anaconda3/envs/BERT/lib/python3.6/site-packages/sklearn/utils/validation.py:72: FutureWarning: Pass shuffle=True, random_state=10 as keyword args. From version 1.0 (renaming of 0.25) passing these as positional arguments will result in an error\n",
      "  \"will result in an error\", FutureWarning)\n"
     ]
    },
    {
     "name": "stdout",
     "output_type": "stream",
     "text": [
      "(9126, 3)\n"
     ]
    },
    {
     "name": "stderr",
     "output_type": "stream",
     "text": [
      "/data/xiayunpeng/anaconda3/envs/BERT/lib/python3.6/site-packages/sklearn/utils/validation.py:72: FutureWarning: Pass shuffle=True, random_state=10 as keyword args. From version 1.0 (renaming of 0.25) passing these as positional arguments will result in an error\n",
      "  \"will result in an error\", FutureWarning)\n"
     ]
    },
    {
     "name": "stdout",
     "output_type": "stream",
     "text": [
      "(9126, 4)\n"
     ]
    },
    {
     "name": "stderr",
     "output_type": "stream",
     "text": [
      "/data/xiayunpeng/anaconda3/envs/BERT/lib/python3.6/site-packages/sklearn/utils/validation.py:72: FutureWarning: Pass shuffle=True, random_state=10 as keyword args. From version 1.0 (renaming of 0.25) passing these as positional arguments will result in an error\n",
      "  \"will result in an error\", FutureWarning)\n"
     ]
    },
    {
     "name": "stdout",
     "output_type": "stream",
     "text": [
      "(9126, 5)\n"
     ]
    },
    {
     "name": "stderr",
     "output_type": "stream",
     "text": [
      "/data/xiayunpeng/anaconda3/envs/BERT/lib/python3.6/site-packages/sklearn/utils/validation.py:72: FutureWarning: Pass shuffle=True, random_state=10 as keyword args. From version 1.0 (renaming of 0.25) passing these as positional arguments will result in an error\n",
      "  \"will result in an error\", FutureWarning)\n"
     ]
    },
    {
     "name": "stdout",
     "output_type": "stream",
     "text": [
      "(9126, 6)\n"
     ]
    },
    {
     "name": "stderr",
     "output_type": "stream",
     "text": [
      "/data/xiayunpeng/anaconda3/envs/BERT/lib/python3.6/site-packages/sklearn/utils/validation.py:72: FutureWarning: Pass shuffle=True, random_state=10 as keyword args. From version 1.0 (renaming of 0.25) passing these as positional arguments will result in an error\n",
      "  \"will result in an error\", FutureWarning)\n"
     ]
    },
    {
     "name": "stdout",
     "output_type": "stream",
     "text": [
      "(9126, 7)\n"
     ]
    },
    {
     "name": "stderr",
     "output_type": "stream",
     "text": [
      "/data/xiayunpeng/anaconda3/envs/BERT/lib/python3.6/site-packages/sklearn/utils/validation.py:72: FutureWarning: Pass shuffle=True, random_state=10 as keyword args. From version 1.0 (renaming of 0.25) passing these as positional arguments will result in an error\n",
      "  \"will result in an error\", FutureWarning)\n"
     ]
    },
    {
     "name": "stdout",
     "output_type": "stream",
     "text": [
      "(9126, 8)\n"
     ]
    },
    {
     "name": "stderr",
     "output_type": "stream",
     "text": [
      "/data/xiayunpeng/anaconda3/envs/BERT/lib/python3.6/site-packages/sklearn/utils/validation.py:72: FutureWarning: Pass shuffle=True, random_state=10 as keyword args. From version 1.0 (renaming of 0.25) passing these as positional arguments will result in an error\n",
      "  \"will result in an error\", FutureWarning)\n"
     ]
    },
    {
     "name": "stdout",
     "output_type": "stream",
     "text": [
      "(9126, 9)\n"
     ]
    },
    {
     "name": "stderr",
     "output_type": "stream",
     "text": [
      "/data/xiayunpeng/anaconda3/envs/BERT/lib/python3.6/site-packages/sklearn/utils/validation.py:72: FutureWarning: Pass shuffle=True, random_state=10 as keyword args. From version 1.0 (renaming of 0.25) passing these as positional arguments will result in an error\n",
      "  \"will result in an error\", FutureWarning)\n"
     ]
    },
    {
     "name": "stdout",
     "output_type": "stream",
     "text": [
      "(9126, 10)\n"
     ]
    },
    {
     "name": "stderr",
     "output_type": "stream",
     "text": [
      "/data/xiayunpeng/anaconda3/envs/BERT/lib/python3.6/site-packages/sklearn/utils/validation.py:72: FutureWarning: Pass shuffle=True, random_state=10 as keyword args. From version 1.0 (renaming of 0.25) passing these as positional arguments will result in an error\n",
      "  \"will result in an error\", FutureWarning)\n"
     ]
    },
    {
     "name": "stdout",
     "output_type": "stream",
     "text": [
      "(9126, 11)\n"
     ]
    },
    {
     "name": "stderr",
     "output_type": "stream",
     "text": [
      "/data/xiayunpeng/anaconda3/envs/BERT/lib/python3.6/site-packages/sklearn/utils/validation.py:72: FutureWarning: Pass shuffle=True, random_state=10 as keyword args. From version 1.0 (renaming of 0.25) passing these as positional arguments will result in an error\n",
      "  \"will result in an error\", FutureWarning)\n"
     ]
    },
    {
     "name": "stdout",
     "output_type": "stream",
     "text": [
      "(9126, 12)\n"
     ]
    },
    {
     "name": "stderr",
     "output_type": "stream",
     "text": [
      "/data/xiayunpeng/anaconda3/envs/BERT/lib/python3.6/site-packages/sklearn/utils/validation.py:72: FutureWarning: Pass shuffle=True, random_state=10 as keyword args. From version 1.0 (renaming of 0.25) passing these as positional arguments will result in an error\n",
      "  \"will result in an error\", FutureWarning)\n"
     ]
    },
    {
     "name": "stdout",
     "output_type": "stream",
     "text": [
      "(9126, 13)\n"
     ]
    },
    {
     "name": "stderr",
     "output_type": "stream",
     "text": [
      "/data/xiayunpeng/anaconda3/envs/BERT/lib/python3.6/site-packages/sklearn/utils/validation.py:72: FutureWarning: Pass shuffle=True, random_state=10 as keyword args. From version 1.0 (renaming of 0.25) passing these as positional arguments will result in an error\n",
      "  \"will result in an error\", FutureWarning)\n"
     ]
    },
    {
     "name": "stdout",
     "output_type": "stream",
     "text": [
      "(9126, 14)\n"
     ]
    },
    {
     "name": "stderr",
     "output_type": "stream",
     "text": [
      "/data/xiayunpeng/anaconda3/envs/BERT/lib/python3.6/site-packages/sklearn/utils/validation.py:72: FutureWarning: Pass shuffle=True, random_state=10 as keyword args. From version 1.0 (renaming of 0.25) passing these as positional arguments will result in an error\n",
      "  \"will result in an error\", FutureWarning)\n"
     ]
    },
    {
     "name": "stdout",
     "output_type": "stream",
     "text": [
      "(9126, 15)\n"
     ]
    },
    {
     "name": "stderr",
     "output_type": "stream",
     "text": [
      "/data/xiayunpeng/anaconda3/envs/BERT/lib/python3.6/site-packages/sklearn/utils/validation.py:72: FutureWarning: Pass shuffle=True, random_state=10 as keyword args. From version 1.0 (renaming of 0.25) passing these as positional arguments will result in an error\n",
      "  \"will result in an error\", FutureWarning)\n"
     ]
    },
    {
     "name": "stdout",
     "output_type": "stream",
     "text": [
      "(9126, 16)\n"
     ]
    },
    {
     "name": "stderr",
     "output_type": "stream",
     "text": [
      "/data/xiayunpeng/anaconda3/envs/BERT/lib/python3.6/site-packages/sklearn/utils/validation.py:72: FutureWarning: Pass shuffle=True, random_state=10 as keyword args. From version 1.0 (renaming of 0.25) passing these as positional arguments will result in an error\n",
      "  \"will result in an error\", FutureWarning)\n"
     ]
    },
    {
     "name": "stdout",
     "output_type": "stream",
     "text": [
      "(9126, 17)\n"
     ]
    },
    {
     "name": "stderr",
     "output_type": "stream",
     "text": [
      "/data/xiayunpeng/anaconda3/envs/BERT/lib/python3.6/site-packages/sklearn/utils/validation.py:72: FutureWarning: Pass shuffle=True, random_state=10 as keyword args. From version 1.0 (renaming of 0.25) passing these as positional arguments will result in an error\n",
      "  \"will result in an error\", FutureWarning)\n"
     ]
    },
    {
     "name": "stdout",
     "output_type": "stream",
     "text": [
      "(9126, 18)\n"
     ]
    },
    {
     "name": "stderr",
     "output_type": "stream",
     "text": [
      "/data/xiayunpeng/anaconda3/envs/BERT/lib/python3.6/site-packages/sklearn/utils/validation.py:72: FutureWarning: Pass shuffle=True, random_state=10 as keyword args. From version 1.0 (renaming of 0.25) passing these as positional arguments will result in an error\n",
      "  \"will result in an error\", FutureWarning)\n"
     ]
    },
    {
     "name": "stdout",
     "output_type": "stream",
     "text": [
      "(9126, 19)\n"
     ]
    },
    {
     "name": "stderr",
     "output_type": "stream",
     "text": [
      "/data/xiayunpeng/anaconda3/envs/BERT/lib/python3.6/site-packages/sklearn/utils/validation.py:72: FutureWarning: Pass shuffle=True, random_state=10 as keyword args. From version 1.0 (renaming of 0.25) passing these as positional arguments will result in an error\n",
      "  \"will result in an error\", FutureWarning)\n"
     ]
    },
    {
     "name": "stdout",
     "output_type": "stream",
     "text": [
      "(9126, 20)\n"
     ]
    },
    {
     "name": "stderr",
     "output_type": "stream",
     "text": [
      "/data/xiayunpeng/anaconda3/envs/BERT/lib/python3.6/site-packages/sklearn/utils/validation.py:72: FutureWarning: Pass shuffle=True, random_state=10 as keyword args. From version 1.0 (renaming of 0.25) passing these as positional arguments will result in an error\n",
      "  \"will result in an error\", FutureWarning)\n"
     ]
    },
    {
     "name": "stdout",
     "output_type": "stream",
     "text": [
      "(9126, 21)\n"
     ]
    },
    {
     "name": "stderr",
     "output_type": "stream",
     "text": [
      "/data/xiayunpeng/anaconda3/envs/BERT/lib/python3.6/site-packages/sklearn/utils/validation.py:72: FutureWarning: Pass shuffle=True, random_state=10 as keyword args. From version 1.0 (renaming of 0.25) passing these as positional arguments will result in an error\n",
      "  \"will result in an error\", FutureWarning)\n"
     ]
    },
    {
     "name": "stdout",
     "output_type": "stream",
     "text": [
      "(9126, 22)\n"
     ]
    },
    {
     "name": "stderr",
     "output_type": "stream",
     "text": [
      "/data/xiayunpeng/anaconda3/envs/BERT/lib/python3.6/site-packages/sklearn/utils/validation.py:72: FutureWarning: Pass shuffle=True, random_state=10 as keyword args. From version 1.0 (renaming of 0.25) passing these as positional arguments will result in an error\n",
      "  \"will result in an error\", FutureWarning)\n"
     ]
    },
    {
     "name": "stdout",
     "output_type": "stream",
     "text": [
      "(9126, 23)\n"
     ]
    },
    {
     "name": "stderr",
     "output_type": "stream",
     "text": [
      "/data/xiayunpeng/anaconda3/envs/BERT/lib/python3.6/site-packages/sklearn/utils/validation.py:72: FutureWarning: Pass shuffle=True, random_state=10 as keyword args. From version 1.0 (renaming of 0.25) passing these as positional arguments will result in an error\n",
      "  \"will result in an error\", FutureWarning)\n"
     ]
    },
    {
     "name": "stdout",
     "output_type": "stream",
     "text": [
      "(9126, 24)\n"
     ]
    },
    {
     "name": "stderr",
     "output_type": "stream",
     "text": [
      "/data/xiayunpeng/anaconda3/envs/BERT/lib/python3.6/site-packages/sklearn/utils/validation.py:72: FutureWarning: Pass shuffle=True, random_state=10 as keyword args. From version 1.0 (renaming of 0.25) passing these as positional arguments will result in an error\n",
      "  \"will result in an error\", FutureWarning)\n"
     ]
    },
    {
     "name": "stdout",
     "output_type": "stream",
     "text": [
      "(9126, 25)\n"
     ]
    },
    {
     "name": "stderr",
     "output_type": "stream",
     "text": [
      "/data/xiayunpeng/anaconda3/envs/BERT/lib/python3.6/site-packages/sklearn/utils/validation.py:72: FutureWarning: Pass shuffle=True, random_state=10 as keyword args. From version 1.0 (renaming of 0.25) passing these as positional arguments will result in an error\n",
      "  \"will result in an error\", FutureWarning)\n"
     ]
    },
    {
     "name": "stdout",
     "output_type": "stream",
     "text": [
      "(9126, 26)\n"
     ]
    },
    {
     "name": "stderr",
     "output_type": "stream",
     "text": [
      "/data/xiayunpeng/anaconda3/envs/BERT/lib/python3.6/site-packages/sklearn/utils/validation.py:72: FutureWarning: Pass shuffle=True, random_state=10 as keyword args. From version 1.0 (renaming of 0.25) passing these as positional arguments will result in an error\n",
      "  \"will result in an error\", FutureWarning)\n"
     ]
    },
    {
     "name": "stdout",
     "output_type": "stream",
     "text": [
      "(9126, 27)\n"
     ]
    },
    {
     "name": "stderr",
     "output_type": "stream",
     "text": [
      "/data/xiayunpeng/anaconda3/envs/BERT/lib/python3.6/site-packages/sklearn/utils/validation.py:72: FutureWarning: Pass shuffle=True, random_state=10 as keyword args. From version 1.0 (renaming of 0.25) passing these as positional arguments will result in an error\n",
      "  \"will result in an error\", FutureWarning)\n"
     ]
    },
    {
     "name": "stdout",
     "output_type": "stream",
     "text": [
      "(9126, 28)\n"
     ]
    },
    {
     "name": "stderr",
     "output_type": "stream",
     "text": [
      "/data/xiayunpeng/anaconda3/envs/BERT/lib/python3.6/site-packages/sklearn/utils/validation.py:72: FutureWarning: Pass shuffle=True, random_state=10 as keyword args. From version 1.0 (renaming of 0.25) passing these as positional arguments will result in an error\n",
      "  \"will result in an error\", FutureWarning)\n"
     ]
    },
    {
     "name": "stdout",
     "output_type": "stream",
     "text": [
      "(9126, 29)\n"
     ]
    },
    {
     "name": "stderr",
     "output_type": "stream",
     "text": [
      "/data/xiayunpeng/anaconda3/envs/BERT/lib/python3.6/site-packages/sklearn/utils/validation.py:72: FutureWarning: Pass shuffle=True, random_state=10 as keyword args. From version 1.0 (renaming of 0.25) passing these as positional arguments will result in an error\n",
      "  \"will result in an error\", FutureWarning)\n"
     ]
    },
    {
     "name": "stdout",
     "output_type": "stream",
     "text": [
      "(9126, 30)\n"
     ]
    },
    {
     "name": "stderr",
     "output_type": "stream",
     "text": [
      "/data/xiayunpeng/anaconda3/envs/BERT/lib/python3.6/site-packages/sklearn/utils/validation.py:72: FutureWarning: Pass shuffle=True, random_state=10 as keyword args. From version 1.0 (renaming of 0.25) passing these as positional arguments will result in an error\n",
      "  \"will result in an error\", FutureWarning)\n"
     ]
    },
    {
     "name": "stdout",
     "output_type": "stream",
     "text": [
      "(9126, 31)\n"
     ]
    },
    {
     "name": "stderr",
     "output_type": "stream",
     "text": [
      "/data/xiayunpeng/anaconda3/envs/BERT/lib/python3.6/site-packages/sklearn/utils/validation.py:72: FutureWarning: Pass shuffle=True, random_state=10 as keyword args. From version 1.0 (renaming of 0.25) passing these as positional arguments will result in an error\n",
      "  \"will result in an error\", FutureWarning)\n"
     ]
    },
    {
     "name": "stdout",
     "output_type": "stream",
     "text": [
      "(9126, 32)\n"
     ]
    },
    {
     "name": "stderr",
     "output_type": "stream",
     "text": [
      "/data/xiayunpeng/anaconda3/envs/BERT/lib/python3.6/site-packages/sklearn/utils/validation.py:72: FutureWarning: Pass shuffle=True, random_state=10 as keyword args. From version 1.0 (renaming of 0.25) passing these as positional arguments will result in an error\n",
      "  \"will result in an error\", FutureWarning)\n"
     ]
    },
    {
     "name": "stdout",
     "output_type": "stream",
     "text": [
      "(9126, 33)\n"
     ]
    },
    {
     "name": "stderr",
     "output_type": "stream",
     "text": [
      "/data/xiayunpeng/anaconda3/envs/BERT/lib/python3.6/site-packages/sklearn/utils/validation.py:72: FutureWarning: Pass shuffle=True, random_state=10 as keyword args. From version 1.0 (renaming of 0.25) passing these as positional arguments will result in an error\n",
      "  \"will result in an error\", FutureWarning)\n"
     ]
    },
    {
     "name": "stdout",
     "output_type": "stream",
     "text": [
      "(9126, 34)\n"
     ]
    },
    {
     "name": "stderr",
     "output_type": "stream",
     "text": [
      "/data/xiayunpeng/anaconda3/envs/BERT/lib/python3.6/site-packages/sklearn/utils/validation.py:72: FutureWarning: Pass shuffle=True, random_state=10 as keyword args. From version 1.0 (renaming of 0.25) passing these as positional arguments will result in an error\n",
      "  \"will result in an error\", FutureWarning)\n"
     ]
    },
    {
     "name": "stdout",
     "output_type": "stream",
     "text": [
      "(9126, 35)\n"
     ]
    },
    {
     "name": "stderr",
     "output_type": "stream",
     "text": [
      "/data/xiayunpeng/anaconda3/envs/BERT/lib/python3.6/site-packages/sklearn/utils/validation.py:72: FutureWarning: Pass shuffle=True, random_state=10 as keyword args. From version 1.0 (renaming of 0.25) passing these as positional arguments will result in an error\n",
      "  \"will result in an error\", FutureWarning)\n"
     ]
    },
    {
     "name": "stdout",
     "output_type": "stream",
     "text": [
      "(9126, 36)\n"
     ]
    },
    {
     "name": "stderr",
     "output_type": "stream",
     "text": [
      "/data/xiayunpeng/anaconda3/envs/BERT/lib/python3.6/site-packages/sklearn/utils/validation.py:72: FutureWarning: Pass shuffle=True, random_state=10 as keyword args. From version 1.0 (renaming of 0.25) passing these as positional arguments will result in an error\n",
      "  \"will result in an error\", FutureWarning)\n"
     ]
    },
    {
     "name": "stdout",
     "output_type": "stream",
     "text": [
      "(9126, 37)\n"
     ]
    },
    {
     "name": "stderr",
     "output_type": "stream",
     "text": [
      "/data/xiayunpeng/anaconda3/envs/BERT/lib/python3.6/site-packages/sklearn/utils/validation.py:72: FutureWarning: Pass shuffle=True, random_state=10 as keyword args. From version 1.0 (renaming of 0.25) passing these as positional arguments will result in an error\n",
      "  \"will result in an error\", FutureWarning)\n"
     ]
    },
    {
     "name": "stdout",
     "output_type": "stream",
     "text": [
      "(9126, 38)\n"
     ]
    },
    {
     "name": "stderr",
     "output_type": "stream",
     "text": [
      "/data/xiayunpeng/anaconda3/envs/BERT/lib/python3.6/site-packages/sklearn/utils/validation.py:72: FutureWarning: Pass shuffle=True, random_state=10 as keyword args. From version 1.0 (renaming of 0.25) passing these as positional arguments will result in an error\n",
      "  \"will result in an error\", FutureWarning)\n"
     ]
    },
    {
     "name": "stdout",
     "output_type": "stream",
     "text": [
      "(9126, 39)\n"
     ]
    },
    {
     "name": "stderr",
     "output_type": "stream",
     "text": [
      "/data/xiayunpeng/anaconda3/envs/BERT/lib/python3.6/site-packages/sklearn/utils/validation.py:72: FutureWarning: Pass shuffle=True, random_state=10 as keyword args. From version 1.0 (renaming of 0.25) passing these as positional arguments will result in an error\n",
      "  \"will result in an error\", FutureWarning)\n"
     ]
    },
    {
     "name": "stdout",
     "output_type": "stream",
     "text": [
      "(9126, 40)\n"
     ]
    },
    {
     "name": "stderr",
     "output_type": "stream",
     "text": [
      "/data/xiayunpeng/anaconda3/envs/BERT/lib/python3.6/site-packages/sklearn/utils/validation.py:72: FutureWarning: Pass shuffle=True, random_state=10 as keyword args. From version 1.0 (renaming of 0.25) passing these as positional arguments will result in an error\n",
      "  \"will result in an error\", FutureWarning)\n"
     ]
    },
    {
     "name": "stdout",
     "output_type": "stream",
     "text": [
      "(9126, 41)\n"
     ]
    },
    {
     "name": "stderr",
     "output_type": "stream",
     "text": [
      "/data/xiayunpeng/anaconda3/envs/BERT/lib/python3.6/site-packages/sklearn/utils/validation.py:72: FutureWarning: Pass shuffle=True, random_state=10 as keyword args. From version 1.0 (renaming of 0.25) passing these as positional arguments will result in an error\n",
      "  \"will result in an error\", FutureWarning)\n"
     ]
    },
    {
     "name": "stdout",
     "output_type": "stream",
     "text": [
      "(9126, 42)\n"
     ]
    },
    {
     "name": "stderr",
     "output_type": "stream",
     "text": [
      "/data/xiayunpeng/anaconda3/envs/BERT/lib/python3.6/site-packages/sklearn/utils/validation.py:72: FutureWarning: Pass shuffle=True, random_state=10 as keyword args. From version 1.0 (renaming of 0.25) passing these as positional arguments will result in an error\n",
      "  \"will result in an error\", FutureWarning)\n"
     ]
    },
    {
     "name": "stdout",
     "output_type": "stream",
     "text": [
      "(9126, 43)\n"
     ]
    },
    {
     "name": "stderr",
     "output_type": "stream",
     "text": [
      "/data/xiayunpeng/anaconda3/envs/BERT/lib/python3.6/site-packages/sklearn/utils/validation.py:72: FutureWarning: Pass shuffle=True, random_state=10 as keyword args. From version 1.0 (renaming of 0.25) passing these as positional arguments will result in an error\n",
      "  \"will result in an error\", FutureWarning)\n"
     ]
    },
    {
     "name": "stdout",
     "output_type": "stream",
     "text": [
      "(9126, 44)\n"
     ]
    },
    {
     "name": "stderr",
     "output_type": "stream",
     "text": [
      "/data/xiayunpeng/anaconda3/envs/BERT/lib/python3.6/site-packages/sklearn/utils/validation.py:72: FutureWarning: Pass shuffle=True, random_state=10 as keyword args. From version 1.0 (renaming of 0.25) passing these as positional arguments will result in an error\n",
      "  \"will result in an error\", FutureWarning)\n"
     ]
    },
    {
     "name": "stdout",
     "output_type": "stream",
     "text": [
      "(9126, 45)\n"
     ]
    },
    {
     "name": "stderr",
     "output_type": "stream",
     "text": [
      "/data/xiayunpeng/anaconda3/envs/BERT/lib/python3.6/site-packages/sklearn/utils/validation.py:72: FutureWarning: Pass shuffle=True, random_state=10 as keyword args. From version 1.0 (renaming of 0.25) passing these as positional arguments will result in an error\n",
      "  \"will result in an error\", FutureWarning)\n"
     ]
    },
    {
     "name": "stdout",
     "output_type": "stream",
     "text": [
      "(9126, 46)\n"
     ]
    },
    {
     "name": "stderr",
     "output_type": "stream",
     "text": [
      "/data/xiayunpeng/anaconda3/envs/BERT/lib/python3.6/site-packages/sklearn/utils/validation.py:72: FutureWarning: Pass shuffle=True, random_state=10 as keyword args. From version 1.0 (renaming of 0.25) passing these as positional arguments will result in an error\n",
      "  \"will result in an error\", FutureWarning)\n"
     ]
    },
    {
     "name": "stdout",
     "output_type": "stream",
     "text": [
      "(9126, 47)\n"
     ]
    },
    {
     "name": "stderr",
     "output_type": "stream",
     "text": [
      "/data/xiayunpeng/anaconda3/envs/BERT/lib/python3.6/site-packages/sklearn/utils/validation.py:72: FutureWarning: Pass shuffle=True, random_state=10 as keyword args. From version 1.0 (renaming of 0.25) passing these as positional arguments will result in an error\n",
      "  \"will result in an error\", FutureWarning)\n"
     ]
    },
    {
     "name": "stdout",
     "output_type": "stream",
     "text": [
      "(9126, 48)\n"
     ]
    },
    {
     "name": "stderr",
     "output_type": "stream",
     "text": [
      "/data/xiayunpeng/anaconda3/envs/BERT/lib/python3.6/site-packages/sklearn/utils/validation.py:72: FutureWarning: Pass shuffle=True, random_state=10 as keyword args. From version 1.0 (renaming of 0.25) passing these as positional arguments will result in an error\n",
      "  \"will result in an error\", FutureWarning)\n"
     ]
    },
    {
     "name": "stdout",
     "output_type": "stream",
     "text": [
      "(9126, 49)\n"
     ]
    },
    {
     "name": "stderr",
     "output_type": "stream",
     "text": [
      "/data/xiayunpeng/anaconda3/envs/BERT/lib/python3.6/site-packages/sklearn/utils/validation.py:72: FutureWarning: Pass shuffle=True, random_state=10 as keyword args. From version 1.0 (renaming of 0.25) passing these as positional arguments will result in an error\n",
      "  \"will result in an error\", FutureWarning)\n"
     ]
    },
    {
     "name": "stdout",
     "output_type": "stream",
     "text": [
      "(9126, 50)\n"
     ]
    },
    {
     "name": "stderr",
     "output_type": "stream",
     "text": [
      "/data/xiayunpeng/anaconda3/envs/BERT/lib/python3.6/site-packages/sklearn/utils/validation.py:72: FutureWarning: Pass shuffle=True, random_state=10 as keyword args. From version 1.0 (renaming of 0.25) passing these as positional arguments will result in an error\n",
      "  \"will result in an error\", FutureWarning)\n"
     ]
    },
    {
     "name": "stdout",
     "output_type": "stream",
     "text": [
      "(9126, 51)\n"
     ]
    },
    {
     "name": "stderr",
     "output_type": "stream",
     "text": [
      "/data/xiayunpeng/anaconda3/envs/BERT/lib/python3.6/site-packages/sklearn/utils/validation.py:72: FutureWarning: Pass shuffle=True, random_state=10 as keyword args. From version 1.0 (renaming of 0.25) passing these as positional arguments will result in an error\n",
      "  \"will result in an error\", FutureWarning)\n"
     ]
    },
    {
     "name": "stdout",
     "output_type": "stream",
     "text": [
      "(9126, 52)\n"
     ]
    },
    {
     "name": "stderr",
     "output_type": "stream",
     "text": [
      "/data/xiayunpeng/anaconda3/envs/BERT/lib/python3.6/site-packages/sklearn/utils/validation.py:72: FutureWarning: Pass shuffle=True, random_state=10 as keyword args. From version 1.0 (renaming of 0.25) passing these as positional arguments will result in an error\n",
      "  \"will result in an error\", FutureWarning)\n"
     ]
    },
    {
     "name": "stdout",
     "output_type": "stream",
     "text": [
      "(9126, 53)\n"
     ]
    },
    {
     "name": "stderr",
     "output_type": "stream",
     "text": [
      "/data/xiayunpeng/anaconda3/envs/BERT/lib/python3.6/site-packages/sklearn/utils/validation.py:72: FutureWarning: Pass shuffle=True, random_state=10 as keyword args. From version 1.0 (renaming of 0.25) passing these as positional arguments will result in an error\n",
      "  \"will result in an error\", FutureWarning)\n"
     ]
    },
    {
     "name": "stdout",
     "output_type": "stream",
     "text": [
      "(9126, 54)\n"
     ]
    },
    {
     "name": "stderr",
     "output_type": "stream",
     "text": [
      "/data/xiayunpeng/anaconda3/envs/BERT/lib/python3.6/site-packages/sklearn/utils/validation.py:72: FutureWarning: Pass shuffle=True, random_state=10 as keyword args. From version 1.0 (renaming of 0.25) passing these as positional arguments will result in an error\n",
      "  \"will result in an error\", FutureWarning)\n"
     ]
    },
    {
     "name": "stdout",
     "output_type": "stream",
     "text": [
      "(9126, 55)\n"
     ]
    },
    {
     "name": "stderr",
     "output_type": "stream",
     "text": [
      "/data/xiayunpeng/anaconda3/envs/BERT/lib/python3.6/site-packages/sklearn/utils/validation.py:72: FutureWarning: Pass shuffle=True, random_state=10 as keyword args. From version 1.0 (renaming of 0.25) passing these as positional arguments will result in an error\n",
      "  \"will result in an error\", FutureWarning)\n"
     ]
    },
    {
     "name": "stdout",
     "output_type": "stream",
     "text": [
      "(9126, 56)\n"
     ]
    },
    {
     "name": "stderr",
     "output_type": "stream",
     "text": [
      "/data/xiayunpeng/anaconda3/envs/BERT/lib/python3.6/site-packages/sklearn/utils/validation.py:72: FutureWarning: Pass shuffle=True, random_state=10 as keyword args. From version 1.0 (renaming of 0.25) passing these as positional arguments will result in an error\n",
      "  \"will result in an error\", FutureWarning)\n"
     ]
    },
    {
     "name": "stdout",
     "output_type": "stream",
     "text": [
      "(9126, 57)\n"
     ]
    },
    {
     "name": "stderr",
     "output_type": "stream",
     "text": [
      "/data/xiayunpeng/anaconda3/envs/BERT/lib/python3.6/site-packages/sklearn/utils/validation.py:72: FutureWarning: Pass shuffle=True, random_state=10 as keyword args. From version 1.0 (renaming of 0.25) passing these as positional arguments will result in an error\n",
      "  \"will result in an error\", FutureWarning)\n"
     ]
    },
    {
     "name": "stdout",
     "output_type": "stream",
     "text": [
      "(9126, 58)\n"
     ]
    },
    {
     "name": "stderr",
     "output_type": "stream",
     "text": [
      "/data/xiayunpeng/anaconda3/envs/BERT/lib/python3.6/site-packages/sklearn/utils/validation.py:72: FutureWarning: Pass shuffle=True, random_state=10 as keyword args. From version 1.0 (renaming of 0.25) passing these as positional arguments will result in an error\n",
      "  \"will result in an error\", FutureWarning)\n"
     ]
    },
    {
     "name": "stdout",
     "output_type": "stream",
     "text": [
      "(9126, 59)\n"
     ]
    },
    {
     "name": "stderr",
     "output_type": "stream",
     "text": [
      "/data/xiayunpeng/anaconda3/envs/BERT/lib/python3.6/site-packages/sklearn/utils/validation.py:72: FutureWarning: Pass shuffle=True, random_state=10 as keyword args. From version 1.0 (renaming of 0.25) passing these as positional arguments will result in an error\n",
      "  \"will result in an error\", FutureWarning)\n"
     ]
    },
    {
     "name": "stdout",
     "output_type": "stream",
     "text": [
      "(9126, 60)\n"
     ]
    },
    {
     "name": "stderr",
     "output_type": "stream",
     "text": [
      "/data/xiayunpeng/anaconda3/envs/BERT/lib/python3.6/site-packages/sklearn/utils/validation.py:72: FutureWarning: Pass shuffle=True, random_state=10 as keyword args. From version 1.0 (renaming of 0.25) passing these as positional arguments will result in an error\n",
      "  \"will result in an error\", FutureWarning)\n"
     ]
    },
    {
     "name": "stdout",
     "output_type": "stream",
     "text": [
      "(9126, 61)\n"
     ]
    },
    {
     "name": "stderr",
     "output_type": "stream",
     "text": [
      "/data/xiayunpeng/anaconda3/envs/BERT/lib/python3.6/site-packages/sklearn/utils/validation.py:72: FutureWarning: Pass shuffle=True, random_state=10 as keyword args. From version 1.0 (renaming of 0.25) passing these as positional arguments will result in an error\n",
      "  \"will result in an error\", FutureWarning)\n"
     ]
    },
    {
     "name": "stdout",
     "output_type": "stream",
     "text": [
      "(9126, 62)\n"
     ]
    },
    {
     "name": "stderr",
     "output_type": "stream",
     "text": [
      "/data/xiayunpeng/anaconda3/envs/BERT/lib/python3.6/site-packages/sklearn/utils/validation.py:72: FutureWarning: Pass shuffle=True, random_state=10 as keyword args. From version 1.0 (renaming of 0.25) passing these as positional arguments will result in an error\n",
      "  \"will result in an error\", FutureWarning)\n"
     ]
    },
    {
     "name": "stdout",
     "output_type": "stream",
     "text": [
      "(9126, 63)\n"
     ]
    },
    {
     "name": "stderr",
     "output_type": "stream",
     "text": [
      "/data/xiayunpeng/anaconda3/envs/BERT/lib/python3.6/site-packages/sklearn/utils/validation.py:72: FutureWarning: Pass shuffle=True, random_state=10 as keyword args. From version 1.0 (renaming of 0.25) passing these as positional arguments will result in an error\n",
      "  \"will result in an error\", FutureWarning)\n"
     ]
    },
    {
     "name": "stdout",
     "output_type": "stream",
     "text": [
      "(9126, 64)\n"
     ]
    },
    {
     "name": "stderr",
     "output_type": "stream",
     "text": [
      "/data/xiayunpeng/anaconda3/envs/BERT/lib/python3.6/site-packages/sklearn/utils/validation.py:72: FutureWarning: Pass shuffle=True, random_state=10 as keyword args. From version 1.0 (renaming of 0.25) passing these as positional arguments will result in an error\n",
      "  \"will result in an error\", FutureWarning)\n"
     ]
    },
    {
     "name": "stdout",
     "output_type": "stream",
     "text": [
      "(9126, 65)\n"
     ]
    },
    {
     "name": "stderr",
     "output_type": "stream",
     "text": [
      "/data/xiayunpeng/anaconda3/envs/BERT/lib/python3.6/site-packages/sklearn/utils/validation.py:72: FutureWarning: Pass shuffle=True, random_state=10 as keyword args. From version 1.0 (renaming of 0.25) passing these as positional arguments will result in an error\n",
      "  \"will result in an error\", FutureWarning)\n"
     ]
    },
    {
     "name": "stdout",
     "output_type": "stream",
     "text": [
      "(9126, 66)\n"
     ]
    },
    {
     "name": "stderr",
     "output_type": "stream",
     "text": [
      "/data/xiayunpeng/anaconda3/envs/BERT/lib/python3.6/site-packages/sklearn/utils/validation.py:72: FutureWarning: Pass shuffle=True, random_state=10 as keyword args. From version 1.0 (renaming of 0.25) passing these as positional arguments will result in an error\n",
      "  \"will result in an error\", FutureWarning)\n"
     ]
    },
    {
     "name": "stdout",
     "output_type": "stream",
     "text": [
      "(9126, 67)\n"
     ]
    },
    {
     "name": "stderr",
     "output_type": "stream",
     "text": [
      "/data/xiayunpeng/anaconda3/envs/BERT/lib/python3.6/site-packages/sklearn/utils/validation.py:72: FutureWarning: Pass shuffle=True, random_state=10 as keyword args. From version 1.0 (renaming of 0.25) passing these as positional arguments will result in an error\n",
      "  \"will result in an error\", FutureWarning)\n"
     ]
    },
    {
     "name": "stdout",
     "output_type": "stream",
     "text": [
      "(9126, 68)\n"
     ]
    },
    {
     "name": "stderr",
     "output_type": "stream",
     "text": [
      "/data/xiayunpeng/anaconda3/envs/BERT/lib/python3.6/site-packages/sklearn/utils/validation.py:72: FutureWarning: Pass shuffle=True, random_state=10 as keyword args. From version 1.0 (renaming of 0.25) passing these as positional arguments will result in an error\n",
      "  \"will result in an error\", FutureWarning)\n"
     ]
    },
    {
     "name": "stdout",
     "output_type": "stream",
     "text": [
      "(9126, 69)\n"
     ]
    },
    {
     "name": "stderr",
     "output_type": "stream",
     "text": [
      "/data/xiayunpeng/anaconda3/envs/BERT/lib/python3.6/site-packages/sklearn/utils/validation.py:72: FutureWarning: Pass shuffle=True, random_state=10 as keyword args. From version 1.0 (renaming of 0.25) passing these as positional arguments will result in an error\n",
      "  \"will result in an error\", FutureWarning)\n"
     ]
    },
    {
     "name": "stdout",
     "output_type": "stream",
     "text": [
      "(9126, 70)\n"
     ]
    },
    {
     "name": "stderr",
     "output_type": "stream",
     "text": [
      "/data/xiayunpeng/anaconda3/envs/BERT/lib/python3.6/site-packages/sklearn/utils/validation.py:72: FutureWarning: Pass shuffle=True, random_state=10 as keyword args. From version 1.0 (renaming of 0.25) passing these as positional arguments will result in an error\n",
      "  \"will result in an error\", FutureWarning)\n"
     ]
    },
    {
     "name": "stdout",
     "output_type": "stream",
     "text": [
      "(9126, 71)\n"
     ]
    },
    {
     "name": "stderr",
     "output_type": "stream",
     "text": [
      "/data/xiayunpeng/anaconda3/envs/BERT/lib/python3.6/site-packages/sklearn/utils/validation.py:72: FutureWarning: Pass shuffle=True, random_state=10 as keyword args. From version 1.0 (renaming of 0.25) passing these as positional arguments will result in an error\n",
      "  \"will result in an error\", FutureWarning)\n"
     ]
    },
    {
     "name": "stdout",
     "output_type": "stream",
     "text": [
      "(9126, 72)\n"
     ]
    },
    {
     "name": "stderr",
     "output_type": "stream",
     "text": [
      "/data/xiayunpeng/anaconda3/envs/BERT/lib/python3.6/site-packages/sklearn/utils/validation.py:72: FutureWarning: Pass shuffle=True, random_state=10 as keyword args. From version 1.0 (renaming of 0.25) passing these as positional arguments will result in an error\n",
      "  \"will result in an error\", FutureWarning)\n"
     ]
    },
    {
     "name": "stdout",
     "output_type": "stream",
     "text": [
      "(9126, 73)\n"
     ]
    },
    {
     "name": "stderr",
     "output_type": "stream",
     "text": [
      "/data/xiayunpeng/anaconda3/envs/BERT/lib/python3.6/site-packages/sklearn/utils/validation.py:72: FutureWarning: Pass shuffle=True, random_state=10 as keyword args. From version 1.0 (renaming of 0.25) passing these as positional arguments will result in an error\n",
      "  \"will result in an error\", FutureWarning)\n"
     ]
    },
    {
     "name": "stdout",
     "output_type": "stream",
     "text": [
      "(9126, 74)\n"
     ]
    },
    {
     "name": "stderr",
     "output_type": "stream",
     "text": [
      "/data/xiayunpeng/anaconda3/envs/BERT/lib/python3.6/site-packages/sklearn/utils/validation.py:72: FutureWarning: Pass shuffle=True, random_state=10 as keyword args. From version 1.0 (renaming of 0.25) passing these as positional arguments will result in an error\n",
      "  \"will result in an error\", FutureWarning)\n"
     ]
    },
    {
     "name": "stdout",
     "output_type": "stream",
     "text": [
      "(9126, 75)\n"
     ]
    },
    {
     "name": "stderr",
     "output_type": "stream",
     "text": [
      "/data/xiayunpeng/anaconda3/envs/BERT/lib/python3.6/site-packages/sklearn/utils/validation.py:72: FutureWarning: Pass shuffle=True, random_state=10 as keyword args. From version 1.0 (renaming of 0.25) passing these as positional arguments will result in an error\n",
      "  \"will result in an error\", FutureWarning)\n"
     ]
    },
    {
     "name": "stdout",
     "output_type": "stream",
     "text": [
      "(9126, 76)\n"
     ]
    },
    {
     "name": "stderr",
     "output_type": "stream",
     "text": [
      "/data/xiayunpeng/anaconda3/envs/BERT/lib/python3.6/site-packages/sklearn/utils/validation.py:72: FutureWarning: Pass shuffle=True, random_state=10 as keyword args. From version 1.0 (renaming of 0.25) passing these as positional arguments will result in an error\n",
      "  \"will result in an error\", FutureWarning)\n"
     ]
    },
    {
     "name": "stdout",
     "output_type": "stream",
     "text": [
      "(9126, 77)\n"
     ]
    },
    {
     "name": "stderr",
     "output_type": "stream",
     "text": [
      "/data/xiayunpeng/anaconda3/envs/BERT/lib/python3.6/site-packages/sklearn/utils/validation.py:72: FutureWarning: Pass shuffle=True, random_state=10 as keyword args. From version 1.0 (renaming of 0.25) passing these as positional arguments will result in an error\n",
      "  \"will result in an error\", FutureWarning)\n"
     ]
    },
    {
     "name": "stdout",
     "output_type": "stream",
     "text": [
      "(9126, 78)\n"
     ]
    },
    {
     "name": "stderr",
     "output_type": "stream",
     "text": [
      "/data/xiayunpeng/anaconda3/envs/BERT/lib/python3.6/site-packages/sklearn/utils/validation.py:72: FutureWarning: Pass shuffle=True, random_state=10 as keyword args. From version 1.0 (renaming of 0.25) passing these as positional arguments will result in an error\n",
      "  \"will result in an error\", FutureWarning)\n"
     ]
    },
    {
     "name": "stdout",
     "output_type": "stream",
     "text": [
      "(9126, 79)\n"
     ]
    },
    {
     "name": "stderr",
     "output_type": "stream",
     "text": [
      "/data/xiayunpeng/anaconda3/envs/BERT/lib/python3.6/site-packages/sklearn/utils/validation.py:72: FutureWarning: Pass shuffle=True, random_state=10 as keyword args. From version 1.0 (renaming of 0.25) passing these as positional arguments will result in an error\n",
      "  \"will result in an error\", FutureWarning)\n"
     ]
    },
    {
     "name": "stdout",
     "output_type": "stream",
     "text": [
      "(9126, 80)\n"
     ]
    },
    {
     "name": "stderr",
     "output_type": "stream",
     "text": [
      "/data/xiayunpeng/anaconda3/envs/BERT/lib/python3.6/site-packages/sklearn/utils/validation.py:72: FutureWarning: Pass shuffle=True, random_state=10 as keyword args. From version 1.0 (renaming of 0.25) passing these as positional arguments will result in an error\n",
      "  \"will result in an error\", FutureWarning)\n"
     ]
    },
    {
     "name": "stdout",
     "output_type": "stream",
     "text": [
      "(9126, 81)\n"
     ]
    },
    {
     "name": "stderr",
     "output_type": "stream",
     "text": [
      "/data/xiayunpeng/anaconda3/envs/BERT/lib/python3.6/site-packages/sklearn/utils/validation.py:72: FutureWarning: Pass shuffle=True, random_state=10 as keyword args. From version 1.0 (renaming of 0.25) passing these as positional arguments will result in an error\n",
      "  \"will result in an error\", FutureWarning)\n"
     ]
    },
    {
     "name": "stdout",
     "output_type": "stream",
     "text": [
      "(9126, 82)\n"
     ]
    },
    {
     "name": "stderr",
     "output_type": "stream",
     "text": [
      "/data/xiayunpeng/anaconda3/envs/BERT/lib/python3.6/site-packages/sklearn/utils/validation.py:72: FutureWarning: Pass shuffle=True, random_state=10 as keyword args. From version 1.0 (renaming of 0.25) passing these as positional arguments will result in an error\n",
      "  \"will result in an error\", FutureWarning)\n"
     ]
    },
    {
     "name": "stdout",
     "output_type": "stream",
     "text": [
      "(9126, 83)\n"
     ]
    },
    {
     "name": "stderr",
     "output_type": "stream",
     "text": [
      "/data/xiayunpeng/anaconda3/envs/BERT/lib/python3.6/site-packages/sklearn/utils/validation.py:72: FutureWarning: Pass shuffle=True, random_state=10 as keyword args. From version 1.0 (renaming of 0.25) passing these as positional arguments will result in an error\n",
      "  \"will result in an error\", FutureWarning)\n"
     ]
    },
    {
     "name": "stdout",
     "output_type": "stream",
     "text": [
      "(9126, 84)\n"
     ]
    },
    {
     "name": "stderr",
     "output_type": "stream",
     "text": [
      "/data/xiayunpeng/anaconda3/envs/BERT/lib/python3.6/site-packages/sklearn/utils/validation.py:72: FutureWarning: Pass shuffle=True, random_state=10 as keyword args. From version 1.0 (renaming of 0.25) passing these as positional arguments will result in an error\n",
      "  \"will result in an error\", FutureWarning)\n"
     ]
    },
    {
     "name": "stdout",
     "output_type": "stream",
     "text": [
      "(9126, 85)\n"
     ]
    },
    {
     "name": "stderr",
     "output_type": "stream",
     "text": [
      "/data/xiayunpeng/anaconda3/envs/BERT/lib/python3.6/site-packages/sklearn/utils/validation.py:72: FutureWarning: Pass shuffle=True, random_state=10 as keyword args. From version 1.0 (renaming of 0.25) passing these as positional arguments will result in an error\n",
      "  \"will result in an error\", FutureWarning)\n"
     ]
    },
    {
     "name": "stdout",
     "output_type": "stream",
     "text": [
      "(9126, 86)\n"
     ]
    },
    {
     "name": "stderr",
     "output_type": "stream",
     "text": [
      "/data/xiayunpeng/anaconda3/envs/BERT/lib/python3.6/site-packages/sklearn/utils/validation.py:72: FutureWarning: Pass shuffle=True, random_state=10 as keyword args. From version 1.0 (renaming of 0.25) passing these as positional arguments will result in an error\n",
      "  \"will result in an error\", FutureWarning)\n"
     ]
    },
    {
     "name": "stdout",
     "output_type": "stream",
     "text": [
      "(9126, 87)\n"
     ]
    },
    {
     "name": "stderr",
     "output_type": "stream",
     "text": [
      "/data/xiayunpeng/anaconda3/envs/BERT/lib/python3.6/site-packages/sklearn/utils/validation.py:72: FutureWarning: Pass shuffle=True, random_state=10 as keyword args. From version 1.0 (renaming of 0.25) passing these as positional arguments will result in an error\n",
      "  \"will result in an error\", FutureWarning)\n"
     ]
    },
    {
     "name": "stdout",
     "output_type": "stream",
     "text": [
      "(9126, 88)\n"
     ]
    },
    {
     "name": "stderr",
     "output_type": "stream",
     "text": [
      "/data/xiayunpeng/anaconda3/envs/BERT/lib/python3.6/site-packages/sklearn/utils/validation.py:72: FutureWarning: Pass shuffle=True, random_state=10 as keyword args. From version 1.0 (renaming of 0.25) passing these as positional arguments will result in an error\n",
      "  \"will result in an error\", FutureWarning)\n"
     ]
    },
    {
     "name": "stdout",
     "output_type": "stream",
     "text": [
      "(9126, 89)\n"
     ]
    },
    {
     "name": "stderr",
     "output_type": "stream",
     "text": [
      "/data/xiayunpeng/anaconda3/envs/BERT/lib/python3.6/site-packages/sklearn/utils/validation.py:72: FutureWarning: Pass shuffle=True, random_state=10 as keyword args. From version 1.0 (renaming of 0.25) passing these as positional arguments will result in an error\n",
      "  \"will result in an error\", FutureWarning)\n"
     ]
    },
    {
     "name": "stdout",
     "output_type": "stream",
     "text": [
      "(9126, 90)\n"
     ]
    },
    {
     "name": "stderr",
     "output_type": "stream",
     "text": [
      "/data/xiayunpeng/anaconda3/envs/BERT/lib/python3.6/site-packages/sklearn/utils/validation.py:72: FutureWarning: Pass shuffle=True, random_state=10 as keyword args. From version 1.0 (renaming of 0.25) passing these as positional arguments will result in an error\n",
      "  \"will result in an error\", FutureWarning)\n"
     ]
    },
    {
     "name": "stdout",
     "output_type": "stream",
     "text": [
      "(9126, 91)\n"
     ]
    },
    {
     "name": "stderr",
     "output_type": "stream",
     "text": [
      "/data/xiayunpeng/anaconda3/envs/BERT/lib/python3.6/site-packages/sklearn/utils/validation.py:72: FutureWarning: Pass shuffle=True, random_state=10 as keyword args. From version 1.0 (renaming of 0.25) passing these as positional arguments will result in an error\n",
      "  \"will result in an error\", FutureWarning)\n"
     ]
    },
    {
     "name": "stdout",
     "output_type": "stream",
     "text": [
      "(9126, 92)\n"
     ]
    },
    {
     "name": "stderr",
     "output_type": "stream",
     "text": [
      "/data/xiayunpeng/anaconda3/envs/BERT/lib/python3.6/site-packages/sklearn/utils/validation.py:72: FutureWarning: Pass shuffle=True, random_state=10 as keyword args. From version 1.0 (renaming of 0.25) passing these as positional arguments will result in an error\n",
      "  \"will result in an error\", FutureWarning)\n"
     ]
    },
    {
     "name": "stdout",
     "output_type": "stream",
     "text": [
      "(9126, 93)\n"
     ]
    },
    {
     "name": "stderr",
     "output_type": "stream",
     "text": [
      "/data/xiayunpeng/anaconda3/envs/BERT/lib/python3.6/site-packages/sklearn/utils/validation.py:72: FutureWarning: Pass shuffle=True, random_state=10 as keyword args. From version 1.0 (renaming of 0.25) passing these as positional arguments will result in an error\n",
      "  \"will result in an error\", FutureWarning)\n"
     ]
    },
    {
     "name": "stdout",
     "output_type": "stream",
     "text": [
      "(9126, 94)\n"
     ]
    },
    {
     "name": "stderr",
     "output_type": "stream",
     "text": [
      "/data/xiayunpeng/anaconda3/envs/BERT/lib/python3.6/site-packages/sklearn/utils/validation.py:72: FutureWarning: Pass shuffle=True, random_state=10 as keyword args. From version 1.0 (renaming of 0.25) passing these as positional arguments will result in an error\n",
      "  \"will result in an error\", FutureWarning)\n"
     ]
    },
    {
     "name": "stdout",
     "output_type": "stream",
     "text": [
      "(9126, 95)\n"
     ]
    },
    {
     "name": "stderr",
     "output_type": "stream",
     "text": [
      "/data/xiayunpeng/anaconda3/envs/BERT/lib/python3.6/site-packages/sklearn/utils/validation.py:72: FutureWarning: Pass shuffle=True, random_state=10 as keyword args. From version 1.0 (renaming of 0.25) passing these as positional arguments will result in an error\n",
      "  \"will result in an error\", FutureWarning)\n"
     ]
    },
    {
     "name": "stdout",
     "output_type": "stream",
     "text": [
      "(9126, 96)\n"
     ]
    },
    {
     "name": "stderr",
     "output_type": "stream",
     "text": [
      "/data/xiayunpeng/anaconda3/envs/BERT/lib/python3.6/site-packages/sklearn/utils/validation.py:72: FutureWarning: Pass shuffle=True, random_state=10 as keyword args. From version 1.0 (renaming of 0.25) passing these as positional arguments will result in an error\n",
      "  \"will result in an error\", FutureWarning)\n"
     ]
    },
    {
     "name": "stdout",
     "output_type": "stream",
     "text": [
      "(9126, 97)\n"
     ]
    },
    {
     "name": "stderr",
     "output_type": "stream",
     "text": [
      "/data/xiayunpeng/anaconda3/envs/BERT/lib/python3.6/site-packages/sklearn/utils/validation.py:72: FutureWarning: Pass shuffle=True, random_state=10 as keyword args. From version 1.0 (renaming of 0.25) passing these as positional arguments will result in an error\n",
      "  \"will result in an error\", FutureWarning)\n"
     ]
    },
    {
     "name": "stdout",
     "output_type": "stream",
     "text": [
      "(9126, 98)\n"
     ]
    },
    {
     "name": "stderr",
     "output_type": "stream",
     "text": [
      "/data/xiayunpeng/anaconda3/envs/BERT/lib/python3.6/site-packages/sklearn/utils/validation.py:72: FutureWarning: Pass shuffle=True, random_state=10 as keyword args. From version 1.0 (renaming of 0.25) passing these as positional arguments will result in an error\n",
      "  \"will result in an error\", FutureWarning)\n"
     ]
    },
    {
     "name": "stdout",
     "output_type": "stream",
     "text": [
      "(9126, 99)\n"
     ]
    },
    {
     "name": "stderr",
     "output_type": "stream",
     "text": [
      "/data/xiayunpeng/anaconda3/envs/BERT/lib/python3.6/site-packages/sklearn/utils/validation.py:72: FutureWarning: Pass shuffle=True, random_state=10 as keyword args. From version 1.0 (renaming of 0.25) passing these as positional arguments will result in an error\n",
      "  \"will result in an error\", FutureWarning)\n"
     ]
    },
    {
     "name": "stdout",
     "output_type": "stream",
     "text": [
      "(9126, 100)\n"
     ]
    },
    {
     "name": "stderr",
     "output_type": "stream",
     "text": [
      "/data/xiayunpeng/anaconda3/envs/BERT/lib/python3.6/site-packages/sklearn/utils/validation.py:72: FutureWarning: Pass shuffle=True, random_state=10 as keyword args. From version 1.0 (renaming of 0.25) passing these as positional arguments will result in an error\n",
      "  \"will result in an error\", FutureWarning)\n"
     ]
    },
    {
     "name": "stdout",
     "output_type": "stream",
     "text": [
      "(9126, 101)\n"
     ]
    },
    {
     "name": "stderr",
     "output_type": "stream",
     "text": [
      "/data/xiayunpeng/anaconda3/envs/BERT/lib/python3.6/site-packages/sklearn/utils/validation.py:72: FutureWarning: Pass shuffle=True, random_state=10 as keyword args. From version 1.0 (renaming of 0.25) passing these as positional arguments will result in an error\n",
      "  \"will result in an error\", FutureWarning)\n"
     ]
    },
    {
     "name": "stdout",
     "output_type": "stream",
     "text": [
      "(9126, 102)\n"
     ]
    },
    {
     "name": "stderr",
     "output_type": "stream",
     "text": [
      "/data/xiayunpeng/anaconda3/envs/BERT/lib/python3.6/site-packages/sklearn/utils/validation.py:72: FutureWarning: Pass shuffle=True, random_state=10 as keyword args. From version 1.0 (renaming of 0.25) passing these as positional arguments will result in an error\n",
      "  \"will result in an error\", FutureWarning)\n"
     ]
    },
    {
     "name": "stdout",
     "output_type": "stream",
     "text": [
      "(9126, 103)\n"
     ]
    },
    {
     "name": "stderr",
     "output_type": "stream",
     "text": [
      "/data/xiayunpeng/anaconda3/envs/BERT/lib/python3.6/site-packages/sklearn/utils/validation.py:72: FutureWarning: Pass shuffle=True, random_state=10 as keyword args. From version 1.0 (renaming of 0.25) passing these as positional arguments will result in an error\n",
      "  \"will result in an error\", FutureWarning)\n"
     ]
    },
    {
     "name": "stdout",
     "output_type": "stream",
     "text": [
      "(9126, 104)\n"
     ]
    },
    {
     "name": "stderr",
     "output_type": "stream",
     "text": [
      "/data/xiayunpeng/anaconda3/envs/BERT/lib/python3.6/site-packages/sklearn/utils/validation.py:72: FutureWarning: Pass shuffle=True, random_state=10 as keyword args. From version 1.0 (renaming of 0.25) passing these as positional arguments will result in an error\n",
      "  \"will result in an error\", FutureWarning)\n"
     ]
    },
    {
     "name": "stdout",
     "output_type": "stream",
     "text": [
      "(9126, 105)\n"
     ]
    },
    {
     "name": "stderr",
     "output_type": "stream",
     "text": [
      "/data/xiayunpeng/anaconda3/envs/BERT/lib/python3.6/site-packages/sklearn/utils/validation.py:72: FutureWarning: Pass shuffle=True, random_state=10 as keyword args. From version 1.0 (renaming of 0.25) passing these as positional arguments will result in an error\n",
      "  \"will result in an error\", FutureWarning)\n"
     ]
    },
    {
     "name": "stdout",
     "output_type": "stream",
     "text": [
      "(9126, 106)\n"
     ]
    },
    {
     "name": "stderr",
     "output_type": "stream",
     "text": [
      "/data/xiayunpeng/anaconda3/envs/BERT/lib/python3.6/site-packages/sklearn/utils/validation.py:72: FutureWarning: Pass shuffle=True, random_state=10 as keyword args. From version 1.0 (renaming of 0.25) passing these as positional arguments will result in an error\n",
      "  \"will result in an error\", FutureWarning)\n"
     ]
    },
    {
     "name": "stdout",
     "output_type": "stream",
     "text": [
      "(9126, 107)\n"
     ]
    },
    {
     "name": "stderr",
     "output_type": "stream",
     "text": [
      "/data/xiayunpeng/anaconda3/envs/BERT/lib/python3.6/site-packages/sklearn/utils/validation.py:72: FutureWarning: Pass shuffle=True, random_state=10 as keyword args. From version 1.0 (renaming of 0.25) passing these as positional arguments will result in an error\n",
      "  \"will result in an error\", FutureWarning)\n"
     ]
    },
    {
     "name": "stdout",
     "output_type": "stream",
     "text": [
      "(9126, 108)\n"
     ]
    },
    {
     "name": "stderr",
     "output_type": "stream",
     "text": [
      "/data/xiayunpeng/anaconda3/envs/BERT/lib/python3.6/site-packages/sklearn/utils/validation.py:72: FutureWarning: Pass shuffle=True, random_state=10 as keyword args. From version 1.0 (renaming of 0.25) passing these as positional arguments will result in an error\n",
      "  \"will result in an error\", FutureWarning)\n"
     ]
    },
    {
     "name": "stdout",
     "output_type": "stream",
     "text": [
      "(9126, 109)\n"
     ]
    },
    {
     "name": "stderr",
     "output_type": "stream",
     "text": [
      "/data/xiayunpeng/anaconda3/envs/BERT/lib/python3.6/site-packages/sklearn/utils/validation.py:72: FutureWarning: Pass shuffle=True, random_state=10 as keyword args. From version 1.0 (renaming of 0.25) passing these as positional arguments will result in an error\n",
      "  \"will result in an error\", FutureWarning)\n"
     ]
    },
    {
     "name": "stdout",
     "output_type": "stream",
     "text": [
      "(9126, 110)\n"
     ]
    },
    {
     "name": "stderr",
     "output_type": "stream",
     "text": [
      "/data/xiayunpeng/anaconda3/envs/BERT/lib/python3.6/site-packages/sklearn/utils/validation.py:72: FutureWarning: Pass shuffle=True, random_state=10 as keyword args. From version 1.0 (renaming of 0.25) passing these as positional arguments will result in an error\n",
      "  \"will result in an error\", FutureWarning)\n"
     ]
    },
    {
     "name": "stdout",
     "output_type": "stream",
     "text": [
      "(9126, 111)\n"
     ]
    },
    {
     "name": "stderr",
     "output_type": "stream",
     "text": [
      "/data/xiayunpeng/anaconda3/envs/BERT/lib/python3.6/site-packages/sklearn/utils/validation.py:72: FutureWarning: Pass shuffle=True, random_state=10 as keyword args. From version 1.0 (renaming of 0.25) passing these as positional arguments will result in an error\n",
      "  \"will result in an error\", FutureWarning)\n"
     ]
    },
    {
     "name": "stdout",
     "output_type": "stream",
     "text": [
      "(9126, 112)\n"
     ]
    },
    {
     "name": "stderr",
     "output_type": "stream",
     "text": [
      "/data/xiayunpeng/anaconda3/envs/BERT/lib/python3.6/site-packages/sklearn/utils/validation.py:72: FutureWarning: Pass shuffle=True, random_state=10 as keyword args. From version 1.0 (renaming of 0.25) passing these as positional arguments will result in an error\n",
      "  \"will result in an error\", FutureWarning)\n"
     ]
    },
    {
     "name": "stdout",
     "output_type": "stream",
     "text": [
      "(9126, 113)\n"
     ]
    },
    {
     "name": "stderr",
     "output_type": "stream",
     "text": [
      "/data/xiayunpeng/anaconda3/envs/BERT/lib/python3.6/site-packages/sklearn/utils/validation.py:72: FutureWarning: Pass shuffle=True, random_state=10 as keyword args. From version 1.0 (renaming of 0.25) passing these as positional arguments will result in an error\n",
      "  \"will result in an error\", FutureWarning)\n"
     ]
    },
    {
     "name": "stdout",
     "output_type": "stream",
     "text": [
      "(9126, 114)\n"
     ]
    },
    {
     "name": "stderr",
     "output_type": "stream",
     "text": [
      "/data/xiayunpeng/anaconda3/envs/BERT/lib/python3.6/site-packages/sklearn/utils/validation.py:72: FutureWarning: Pass shuffle=True, random_state=10 as keyword args. From version 1.0 (renaming of 0.25) passing these as positional arguments will result in an error\n",
      "  \"will result in an error\", FutureWarning)\n"
     ]
    },
    {
     "name": "stdout",
     "output_type": "stream",
     "text": [
      "(9126, 115)\n"
     ]
    },
    {
     "name": "stderr",
     "output_type": "stream",
     "text": [
      "/data/xiayunpeng/anaconda3/envs/BERT/lib/python3.6/site-packages/sklearn/utils/validation.py:72: FutureWarning: Pass shuffle=True, random_state=10 as keyword args. From version 1.0 (renaming of 0.25) passing these as positional arguments will result in an error\n",
      "  \"will result in an error\", FutureWarning)\n"
     ]
    },
    {
     "name": "stdout",
     "output_type": "stream",
     "text": [
      "(9126, 116)\n"
     ]
    },
    {
     "name": "stderr",
     "output_type": "stream",
     "text": [
      "/data/xiayunpeng/anaconda3/envs/BERT/lib/python3.6/site-packages/sklearn/utils/validation.py:72: FutureWarning: Pass shuffle=True, random_state=10 as keyword args. From version 1.0 (renaming of 0.25) passing these as positional arguments will result in an error\n",
      "  \"will result in an error\", FutureWarning)\n"
     ]
    },
    {
     "name": "stdout",
     "output_type": "stream",
     "text": [
      "(9126, 117)\n"
     ]
    },
    {
     "name": "stderr",
     "output_type": "stream",
     "text": [
      "/data/xiayunpeng/anaconda3/envs/BERT/lib/python3.6/site-packages/sklearn/utils/validation.py:72: FutureWarning: Pass shuffle=True, random_state=10 as keyword args. From version 1.0 (renaming of 0.25) passing these as positional arguments will result in an error\n",
      "  \"will result in an error\", FutureWarning)\n"
     ]
    },
    {
     "name": "stdout",
     "output_type": "stream",
     "text": [
      "(9126, 118)\n"
     ]
    },
    {
     "name": "stderr",
     "output_type": "stream",
     "text": [
      "/data/xiayunpeng/anaconda3/envs/BERT/lib/python3.6/site-packages/sklearn/utils/validation.py:72: FutureWarning: Pass shuffle=True, random_state=10 as keyword args. From version 1.0 (renaming of 0.25) passing these as positional arguments will result in an error\n",
      "  \"will result in an error\", FutureWarning)\n"
     ]
    },
    {
     "name": "stdout",
     "output_type": "stream",
     "text": [
      "(9126, 119)\n"
     ]
    },
    {
     "name": "stderr",
     "output_type": "stream",
     "text": [
      "/data/xiayunpeng/anaconda3/envs/BERT/lib/python3.6/site-packages/sklearn/utils/validation.py:72: FutureWarning: Pass shuffle=True, random_state=10 as keyword args. From version 1.0 (renaming of 0.25) passing these as positional arguments will result in an error\n",
      "  \"will result in an error\", FutureWarning)\n"
     ]
    },
    {
     "name": "stdout",
     "output_type": "stream",
     "text": [
      "(9126, 120)\n"
     ]
    },
    {
     "name": "stderr",
     "output_type": "stream",
     "text": [
      "/data/xiayunpeng/anaconda3/envs/BERT/lib/python3.6/site-packages/sklearn/utils/validation.py:72: FutureWarning: Pass shuffle=True, random_state=10 as keyword args. From version 1.0 (renaming of 0.25) passing these as positional arguments will result in an error\n",
      "  \"will result in an error\", FutureWarning)\n"
     ]
    },
    {
     "name": "stdout",
     "output_type": "stream",
     "text": [
      "(9126, 121)\n"
     ]
    },
    {
     "name": "stderr",
     "output_type": "stream",
     "text": [
      "/data/xiayunpeng/anaconda3/envs/BERT/lib/python3.6/site-packages/sklearn/utils/validation.py:72: FutureWarning: Pass shuffle=True, random_state=10 as keyword args. From version 1.0 (renaming of 0.25) passing these as positional arguments will result in an error\n",
      "  \"will result in an error\", FutureWarning)\n"
     ]
    },
    {
     "name": "stdout",
     "output_type": "stream",
     "text": [
      "(9126, 122)\n"
     ]
    },
    {
     "name": "stderr",
     "output_type": "stream",
     "text": [
      "/data/xiayunpeng/anaconda3/envs/BERT/lib/python3.6/site-packages/sklearn/utils/validation.py:72: FutureWarning: Pass shuffle=True, random_state=10 as keyword args. From version 1.0 (renaming of 0.25) passing these as positional arguments will result in an error\n",
      "  \"will result in an error\", FutureWarning)\n"
     ]
    },
    {
     "name": "stdout",
     "output_type": "stream",
     "text": [
      "(9126, 123)\n"
     ]
    },
    {
     "name": "stderr",
     "output_type": "stream",
     "text": [
      "/data/xiayunpeng/anaconda3/envs/BERT/lib/python3.6/site-packages/sklearn/utils/validation.py:72: FutureWarning: Pass shuffle=True, random_state=10 as keyword args. From version 1.0 (renaming of 0.25) passing these as positional arguments will result in an error\n",
      "  \"will result in an error\", FutureWarning)\n"
     ]
    },
    {
     "name": "stdout",
     "output_type": "stream",
     "text": [
      "(9126, 124)\n"
     ]
    },
    {
     "name": "stderr",
     "output_type": "stream",
     "text": [
      "/data/xiayunpeng/anaconda3/envs/BERT/lib/python3.6/site-packages/sklearn/utils/validation.py:72: FutureWarning: Pass shuffle=True, random_state=10 as keyword args. From version 1.0 (renaming of 0.25) passing these as positional arguments will result in an error\n",
      "  \"will result in an error\", FutureWarning)\n"
     ]
    },
    {
     "name": "stdout",
     "output_type": "stream",
     "text": [
      "(9126, 125)\n"
     ]
    },
    {
     "name": "stderr",
     "output_type": "stream",
     "text": [
      "/data/xiayunpeng/anaconda3/envs/BERT/lib/python3.6/site-packages/sklearn/utils/validation.py:72: FutureWarning: Pass shuffle=True, random_state=10 as keyword args. From version 1.0 (renaming of 0.25) passing these as positional arguments will result in an error\n",
      "  \"will result in an error\", FutureWarning)\n"
     ]
    },
    {
     "name": "stdout",
     "output_type": "stream",
     "text": [
      "(9126, 126)\n"
     ]
    },
    {
     "name": "stderr",
     "output_type": "stream",
     "text": [
      "/data/xiayunpeng/anaconda3/envs/BERT/lib/python3.6/site-packages/sklearn/utils/validation.py:72: FutureWarning: Pass shuffle=True, random_state=10 as keyword args. From version 1.0 (renaming of 0.25) passing these as positional arguments will result in an error\n",
      "  \"will result in an error\", FutureWarning)\n"
     ]
    },
    {
     "name": "stdout",
     "output_type": "stream",
     "text": [
      "(9126, 127)\n"
     ]
    },
    {
     "name": "stderr",
     "output_type": "stream",
     "text": [
      "/data/xiayunpeng/anaconda3/envs/BERT/lib/python3.6/site-packages/sklearn/utils/validation.py:72: FutureWarning: Pass shuffle=True, random_state=10 as keyword args. From version 1.0 (renaming of 0.25) passing these as positional arguments will result in an error\n",
      "  \"will result in an error\", FutureWarning)\n"
     ]
    },
    {
     "name": "stdout",
     "output_type": "stream",
     "text": [
      "(9126, 128)\n"
     ]
    },
    {
     "name": "stderr",
     "output_type": "stream",
     "text": [
      "/data/xiayunpeng/anaconda3/envs/BERT/lib/python3.6/site-packages/sklearn/utils/validation.py:72: FutureWarning: Pass shuffle=True, random_state=10 as keyword args. From version 1.0 (renaming of 0.25) passing these as positional arguments will result in an error\n",
      "  \"will result in an error\", FutureWarning)\n"
     ]
    },
    {
     "name": "stdout",
     "output_type": "stream",
     "text": [
      "(9126, 129)\n"
     ]
    },
    {
     "name": "stderr",
     "output_type": "stream",
     "text": [
      "/data/xiayunpeng/anaconda3/envs/BERT/lib/python3.6/site-packages/sklearn/utils/validation.py:72: FutureWarning: Pass shuffle=True, random_state=10 as keyword args. From version 1.0 (renaming of 0.25) passing these as positional arguments will result in an error\n",
      "  \"will result in an error\", FutureWarning)\n"
     ]
    },
    {
     "name": "stdout",
     "output_type": "stream",
     "text": [
      "(9126, 130)\n"
     ]
    },
    {
     "name": "stderr",
     "output_type": "stream",
     "text": [
      "/data/xiayunpeng/anaconda3/envs/BERT/lib/python3.6/site-packages/sklearn/utils/validation.py:72: FutureWarning: Pass shuffle=True, random_state=10 as keyword args. From version 1.0 (renaming of 0.25) passing these as positional arguments will result in an error\n",
      "  \"will result in an error\", FutureWarning)\n"
     ]
    },
    {
     "name": "stdout",
     "output_type": "stream",
     "text": [
      "(9126, 131)\n"
     ]
    },
    {
     "name": "stderr",
     "output_type": "stream",
     "text": [
      "/data/xiayunpeng/anaconda3/envs/BERT/lib/python3.6/site-packages/sklearn/utils/validation.py:72: FutureWarning: Pass shuffle=True, random_state=10 as keyword args. From version 1.0 (renaming of 0.25) passing these as positional arguments will result in an error\n",
      "  \"will result in an error\", FutureWarning)\n"
     ]
    },
    {
     "name": "stdout",
     "output_type": "stream",
     "text": [
      "(9126, 132)\n"
     ]
    },
    {
     "name": "stderr",
     "output_type": "stream",
     "text": [
      "/data/xiayunpeng/anaconda3/envs/BERT/lib/python3.6/site-packages/sklearn/utils/validation.py:72: FutureWarning: Pass shuffle=True, random_state=10 as keyword args. From version 1.0 (renaming of 0.25) passing these as positional arguments will result in an error\n",
      "  \"will result in an error\", FutureWarning)\n"
     ]
    },
    {
     "name": "stdout",
     "output_type": "stream",
     "text": [
      "(9126, 133)\n"
     ]
    },
    {
     "name": "stderr",
     "output_type": "stream",
     "text": [
      "/data/xiayunpeng/anaconda3/envs/BERT/lib/python3.6/site-packages/sklearn/utils/validation.py:72: FutureWarning: Pass shuffle=True, random_state=10 as keyword args. From version 1.0 (renaming of 0.25) passing these as positional arguments will result in an error\n",
      "  \"will result in an error\", FutureWarning)\n"
     ]
    },
    {
     "name": "stdout",
     "output_type": "stream",
     "text": [
      "(9126, 134)\n"
     ]
    },
    {
     "name": "stderr",
     "output_type": "stream",
     "text": [
      "/data/xiayunpeng/anaconda3/envs/BERT/lib/python3.6/site-packages/sklearn/utils/validation.py:72: FutureWarning: Pass shuffle=True, random_state=10 as keyword args. From version 1.0 (renaming of 0.25) passing these as positional arguments will result in an error\n",
      "  \"will result in an error\", FutureWarning)\n"
     ]
    },
    {
     "name": "stdout",
     "output_type": "stream",
     "text": [
      "(9126, 135)\n"
     ]
    },
    {
     "name": "stderr",
     "output_type": "stream",
     "text": [
      "/data/xiayunpeng/anaconda3/envs/BERT/lib/python3.6/site-packages/sklearn/utils/validation.py:72: FutureWarning: Pass shuffle=True, random_state=10 as keyword args. From version 1.0 (renaming of 0.25) passing these as positional arguments will result in an error\n",
      "  \"will result in an error\", FutureWarning)\n"
     ]
    },
    {
     "name": "stdout",
     "output_type": "stream",
     "text": [
      "(9126, 136)\n"
     ]
    },
    {
     "name": "stderr",
     "output_type": "stream",
     "text": [
      "/data/xiayunpeng/anaconda3/envs/BERT/lib/python3.6/site-packages/sklearn/utils/validation.py:72: FutureWarning: Pass shuffle=True, random_state=10 as keyword args. From version 1.0 (renaming of 0.25) passing these as positional arguments will result in an error\n",
      "  \"will result in an error\", FutureWarning)\n"
     ]
    },
    {
     "name": "stdout",
     "output_type": "stream",
     "text": [
      "(9126, 137)\n"
     ]
    },
    {
     "name": "stderr",
     "output_type": "stream",
     "text": [
      "/data/xiayunpeng/anaconda3/envs/BERT/lib/python3.6/site-packages/sklearn/utils/validation.py:72: FutureWarning: Pass shuffle=True, random_state=10 as keyword args. From version 1.0 (renaming of 0.25) passing these as positional arguments will result in an error\n",
      "  \"will result in an error\", FutureWarning)\n"
     ]
    },
    {
     "name": "stdout",
     "output_type": "stream",
     "text": [
      "(9126, 138)\n"
     ]
    },
    {
     "name": "stderr",
     "output_type": "stream",
     "text": [
      "/data/xiayunpeng/anaconda3/envs/BERT/lib/python3.6/site-packages/sklearn/utils/validation.py:72: FutureWarning: Pass shuffle=True, random_state=10 as keyword args. From version 1.0 (renaming of 0.25) passing these as positional arguments will result in an error\n",
      "  \"will result in an error\", FutureWarning)\n"
     ]
    },
    {
     "name": "stdout",
     "output_type": "stream",
     "text": [
      "(9126, 139)\n"
     ]
    },
    {
     "name": "stderr",
     "output_type": "stream",
     "text": [
      "/data/xiayunpeng/anaconda3/envs/BERT/lib/python3.6/site-packages/sklearn/utils/validation.py:72: FutureWarning: Pass shuffle=True, random_state=10 as keyword args. From version 1.0 (renaming of 0.25) passing these as positional arguments will result in an error\n",
      "  \"will result in an error\", FutureWarning)\n"
     ]
    },
    {
     "name": "stdout",
     "output_type": "stream",
     "text": [
      "(9126, 140)\n"
     ]
    },
    {
     "name": "stderr",
     "output_type": "stream",
     "text": [
      "/data/xiayunpeng/anaconda3/envs/BERT/lib/python3.6/site-packages/sklearn/utils/validation.py:72: FutureWarning: Pass shuffle=True, random_state=10 as keyword args. From version 1.0 (renaming of 0.25) passing these as positional arguments will result in an error\n",
      "  \"will result in an error\", FutureWarning)\n"
     ]
    },
    {
     "name": "stdout",
     "output_type": "stream",
     "text": [
      "(9126, 141)\n"
     ]
    },
    {
     "name": "stderr",
     "output_type": "stream",
     "text": [
      "/data/xiayunpeng/anaconda3/envs/BERT/lib/python3.6/site-packages/sklearn/utils/validation.py:72: FutureWarning: Pass shuffle=True, random_state=10 as keyword args. From version 1.0 (renaming of 0.25) passing these as positional arguments will result in an error\n",
      "  \"will result in an error\", FutureWarning)\n"
     ]
    },
    {
     "name": "stdout",
     "output_type": "stream",
     "text": [
      "(9126, 142)\n"
     ]
    },
    {
     "name": "stderr",
     "output_type": "stream",
     "text": [
      "/data/xiayunpeng/anaconda3/envs/BERT/lib/python3.6/site-packages/sklearn/utils/validation.py:72: FutureWarning: Pass shuffle=True, random_state=10 as keyword args. From version 1.0 (renaming of 0.25) passing these as positional arguments will result in an error\n",
      "  \"will result in an error\", FutureWarning)\n"
     ]
    },
    {
     "name": "stdout",
     "output_type": "stream",
     "text": [
      "(9126, 143)\n"
     ]
    },
    {
     "name": "stderr",
     "output_type": "stream",
     "text": [
      "/data/xiayunpeng/anaconda3/envs/BERT/lib/python3.6/site-packages/sklearn/utils/validation.py:72: FutureWarning: Pass shuffle=True, random_state=10 as keyword args. From version 1.0 (renaming of 0.25) passing these as positional arguments will result in an error\n",
      "  \"will result in an error\", FutureWarning)\n"
     ]
    },
    {
     "name": "stdout",
     "output_type": "stream",
     "text": [
      "(9126, 144)\n"
     ]
    },
    {
     "name": "stderr",
     "output_type": "stream",
     "text": [
      "/data/xiayunpeng/anaconda3/envs/BERT/lib/python3.6/site-packages/sklearn/utils/validation.py:72: FutureWarning: Pass shuffle=True, random_state=10 as keyword args. From version 1.0 (renaming of 0.25) passing these as positional arguments will result in an error\n",
      "  \"will result in an error\", FutureWarning)\n"
     ]
    },
    {
     "name": "stdout",
     "output_type": "stream",
     "text": [
      "(9126, 145)\n"
     ]
    },
    {
     "name": "stderr",
     "output_type": "stream",
     "text": [
      "/data/xiayunpeng/anaconda3/envs/BERT/lib/python3.6/site-packages/sklearn/utils/validation.py:72: FutureWarning: Pass shuffle=True, random_state=10 as keyword args. From version 1.0 (renaming of 0.25) passing these as positional arguments will result in an error\n",
      "  \"will result in an error\", FutureWarning)\n"
     ]
    },
    {
     "name": "stdout",
     "output_type": "stream",
     "text": [
      "(9126, 146)\n"
     ]
    },
    {
     "name": "stderr",
     "output_type": "stream",
     "text": [
      "/data/xiayunpeng/anaconda3/envs/BERT/lib/python3.6/site-packages/sklearn/utils/validation.py:72: FutureWarning: Pass shuffle=True, random_state=10 as keyword args. From version 1.0 (renaming of 0.25) passing these as positional arguments will result in an error\n",
      "  \"will result in an error\", FutureWarning)\n"
     ]
    },
    {
     "name": "stdout",
     "output_type": "stream",
     "text": [
      "(9126, 147)\n"
     ]
    },
    {
     "name": "stderr",
     "output_type": "stream",
     "text": [
      "/data/xiayunpeng/anaconda3/envs/BERT/lib/python3.6/site-packages/sklearn/utils/validation.py:72: FutureWarning: Pass shuffle=True, random_state=10 as keyword args. From version 1.0 (renaming of 0.25) passing these as positional arguments will result in an error\n",
      "  \"will result in an error\", FutureWarning)\n"
     ]
    },
    {
     "name": "stdout",
     "output_type": "stream",
     "text": [
      "(9126, 148)\n"
     ]
    },
    {
     "name": "stderr",
     "output_type": "stream",
     "text": [
      "/data/xiayunpeng/anaconda3/envs/BERT/lib/python3.6/site-packages/sklearn/utils/validation.py:72: FutureWarning: Pass shuffle=True, random_state=10 as keyword args. From version 1.0 (renaming of 0.25) passing these as positional arguments will result in an error\n",
      "  \"will result in an error\", FutureWarning)\n"
     ]
    },
    {
     "name": "stdout",
     "output_type": "stream",
     "text": [
      "(9126, 149)\n"
     ]
    },
    {
     "name": "stderr",
     "output_type": "stream",
     "text": [
      "/data/xiayunpeng/anaconda3/envs/BERT/lib/python3.6/site-packages/sklearn/utils/validation.py:72: FutureWarning: Pass shuffle=True, random_state=10 as keyword args. From version 1.0 (renaming of 0.25) passing these as positional arguments will result in an error\n",
      "  \"will result in an error\", FutureWarning)\n"
     ]
    },
    {
     "name": "stdout",
     "output_type": "stream",
     "text": [
      "(9126, 150)\n"
     ]
    },
    {
     "name": "stderr",
     "output_type": "stream",
     "text": [
      "/data/xiayunpeng/anaconda3/envs/BERT/lib/python3.6/site-packages/sklearn/utils/validation.py:72: FutureWarning: Pass shuffle=True, random_state=10 as keyword args. From version 1.0 (renaming of 0.25) passing these as positional arguments will result in an error\n",
      "  \"will result in an error\", FutureWarning)\n"
     ]
    },
    {
     "name": "stdout",
     "output_type": "stream",
     "text": [
      "(9126, 151)\n"
     ]
    },
    {
     "name": "stderr",
     "output_type": "stream",
     "text": [
      "/data/xiayunpeng/anaconda3/envs/BERT/lib/python3.6/site-packages/sklearn/utils/validation.py:72: FutureWarning: Pass shuffle=True, random_state=10 as keyword args. From version 1.0 (renaming of 0.25) passing these as positional arguments will result in an error\n",
      "  \"will result in an error\", FutureWarning)\n"
     ]
    },
    {
     "name": "stdout",
     "output_type": "stream",
     "text": [
      "(9126, 152)\n"
     ]
    },
    {
     "name": "stderr",
     "output_type": "stream",
     "text": [
      "/data/xiayunpeng/anaconda3/envs/BERT/lib/python3.6/site-packages/sklearn/utils/validation.py:72: FutureWarning: Pass shuffle=True, random_state=10 as keyword args. From version 1.0 (renaming of 0.25) passing these as positional arguments will result in an error\n",
      "  \"will result in an error\", FutureWarning)\n"
     ]
    },
    {
     "name": "stdout",
     "output_type": "stream",
     "text": [
      "(9126, 153)\n"
     ]
    },
    {
     "name": "stderr",
     "output_type": "stream",
     "text": [
      "/data/xiayunpeng/anaconda3/envs/BERT/lib/python3.6/site-packages/sklearn/utils/validation.py:72: FutureWarning: Pass shuffle=True, random_state=10 as keyword args. From version 1.0 (renaming of 0.25) passing these as positional arguments will result in an error\n",
      "  \"will result in an error\", FutureWarning)\n"
     ]
    },
    {
     "name": "stdout",
     "output_type": "stream",
     "text": [
      "(9126, 154)\n"
     ]
    },
    {
     "name": "stderr",
     "output_type": "stream",
     "text": [
      "/data/xiayunpeng/anaconda3/envs/BERT/lib/python3.6/site-packages/sklearn/utils/validation.py:72: FutureWarning: Pass shuffle=True, random_state=10 as keyword args. From version 1.0 (renaming of 0.25) passing these as positional arguments will result in an error\n",
      "  \"will result in an error\", FutureWarning)\n"
     ]
    },
    {
     "name": "stdout",
     "output_type": "stream",
     "text": [
      "(9126, 155)\n"
     ]
    },
    {
     "name": "stderr",
     "output_type": "stream",
     "text": [
      "/data/xiayunpeng/anaconda3/envs/BERT/lib/python3.6/site-packages/sklearn/utils/validation.py:72: FutureWarning: Pass shuffle=True, random_state=10 as keyword args. From version 1.0 (renaming of 0.25) passing these as positional arguments will result in an error\n",
      "  \"will result in an error\", FutureWarning)\n"
     ]
    },
    {
     "name": "stdout",
     "output_type": "stream",
     "text": [
      "(9126, 156)\n"
     ]
    },
    {
     "name": "stderr",
     "output_type": "stream",
     "text": [
      "/data/xiayunpeng/anaconda3/envs/BERT/lib/python3.6/site-packages/sklearn/utils/validation.py:72: FutureWarning: Pass shuffle=True, random_state=10 as keyword args. From version 1.0 (renaming of 0.25) passing these as positional arguments will result in an error\n",
      "  \"will result in an error\", FutureWarning)\n"
     ]
    },
    {
     "name": "stdout",
     "output_type": "stream",
     "text": [
      "(9126, 157)\n"
     ]
    },
    {
     "name": "stderr",
     "output_type": "stream",
     "text": [
      "/data/xiayunpeng/anaconda3/envs/BERT/lib/python3.6/site-packages/sklearn/utils/validation.py:72: FutureWarning: Pass shuffle=True, random_state=10 as keyword args. From version 1.0 (renaming of 0.25) passing these as positional arguments will result in an error\n",
      "  \"will result in an error\", FutureWarning)\n"
     ]
    },
    {
     "name": "stdout",
     "output_type": "stream",
     "text": [
      "(9126, 158)\n"
     ]
    },
    {
     "name": "stderr",
     "output_type": "stream",
     "text": [
      "/data/xiayunpeng/anaconda3/envs/BERT/lib/python3.6/site-packages/sklearn/utils/validation.py:72: FutureWarning: Pass shuffle=True, random_state=10 as keyword args. From version 1.0 (renaming of 0.25) passing these as positional arguments will result in an error\n",
      "  \"will result in an error\", FutureWarning)\n"
     ]
    },
    {
     "name": "stdout",
     "output_type": "stream",
     "text": [
      "(9126, 159)\n"
     ]
    },
    {
     "name": "stderr",
     "output_type": "stream",
     "text": [
      "/data/xiayunpeng/anaconda3/envs/BERT/lib/python3.6/site-packages/sklearn/utils/validation.py:72: FutureWarning: Pass shuffle=True, random_state=10 as keyword args. From version 1.0 (renaming of 0.25) passing these as positional arguments will result in an error\n",
      "  \"will result in an error\", FutureWarning)\n"
     ]
    },
    {
     "name": "stdout",
     "output_type": "stream",
     "text": [
      "(9126, 160)\n"
     ]
    },
    {
     "name": "stderr",
     "output_type": "stream",
     "text": [
      "/data/xiayunpeng/anaconda3/envs/BERT/lib/python3.6/site-packages/sklearn/utils/validation.py:72: FutureWarning: Pass shuffle=True, random_state=10 as keyword args. From version 1.0 (renaming of 0.25) passing these as positional arguments will result in an error\n",
      "  \"will result in an error\", FutureWarning)\n"
     ]
    },
    {
     "name": "stdout",
     "output_type": "stream",
     "text": [
      "(9126, 161)\n"
     ]
    },
    {
     "name": "stderr",
     "output_type": "stream",
     "text": [
      "/data/xiayunpeng/anaconda3/envs/BERT/lib/python3.6/site-packages/sklearn/utils/validation.py:72: FutureWarning: Pass shuffle=True, random_state=10 as keyword args. From version 1.0 (renaming of 0.25) passing these as positional arguments will result in an error\n",
      "  \"will result in an error\", FutureWarning)\n"
     ]
    },
    {
     "name": "stdout",
     "output_type": "stream",
     "text": [
      "(9126, 162)\n"
     ]
    },
    {
     "name": "stderr",
     "output_type": "stream",
     "text": [
      "/data/xiayunpeng/anaconda3/envs/BERT/lib/python3.6/site-packages/sklearn/utils/validation.py:72: FutureWarning: Pass shuffle=True, random_state=10 as keyword args. From version 1.0 (renaming of 0.25) passing these as positional arguments will result in an error\n",
      "  \"will result in an error\", FutureWarning)\n"
     ]
    },
    {
     "name": "stdout",
     "output_type": "stream",
     "text": [
      "(9126, 163)\n"
     ]
    },
    {
     "name": "stderr",
     "output_type": "stream",
     "text": [
      "/data/xiayunpeng/anaconda3/envs/BERT/lib/python3.6/site-packages/sklearn/utils/validation.py:72: FutureWarning: Pass shuffle=True, random_state=10 as keyword args. From version 1.0 (renaming of 0.25) passing these as positional arguments will result in an error\n",
      "  \"will result in an error\", FutureWarning)\n"
     ]
    },
    {
     "name": "stdout",
     "output_type": "stream",
     "text": [
      "(9126, 164)\n"
     ]
    },
    {
     "name": "stderr",
     "output_type": "stream",
     "text": [
      "/data/xiayunpeng/anaconda3/envs/BERT/lib/python3.6/site-packages/sklearn/utils/validation.py:72: FutureWarning: Pass shuffle=True, random_state=10 as keyword args. From version 1.0 (renaming of 0.25) passing these as positional arguments will result in an error\n",
      "  \"will result in an error\", FutureWarning)\n"
     ]
    },
    {
     "name": "stdout",
     "output_type": "stream",
     "text": [
      "(9126, 165)\n"
     ]
    },
    {
     "name": "stderr",
     "output_type": "stream",
     "text": [
      "/data/xiayunpeng/anaconda3/envs/BERT/lib/python3.6/site-packages/sklearn/utils/validation.py:72: FutureWarning: Pass shuffle=True, random_state=10 as keyword args. From version 1.0 (renaming of 0.25) passing these as positional arguments will result in an error\n",
      "  \"will result in an error\", FutureWarning)\n"
     ]
    },
    {
     "name": "stdout",
     "output_type": "stream",
     "text": [
      "(9126, 166)\n"
     ]
    },
    {
     "name": "stderr",
     "output_type": "stream",
     "text": [
      "/data/xiayunpeng/anaconda3/envs/BERT/lib/python3.6/site-packages/sklearn/utils/validation.py:72: FutureWarning: Pass shuffle=True, random_state=10 as keyword args. From version 1.0 (renaming of 0.25) passing these as positional arguments will result in an error\n",
      "  \"will result in an error\", FutureWarning)\n"
     ]
    },
    {
     "name": "stdout",
     "output_type": "stream",
     "text": [
      "(9126, 167)\n"
     ]
    },
    {
     "name": "stderr",
     "output_type": "stream",
     "text": [
      "/data/xiayunpeng/anaconda3/envs/BERT/lib/python3.6/site-packages/sklearn/utils/validation.py:72: FutureWarning: Pass shuffle=True, random_state=10 as keyword args. From version 1.0 (renaming of 0.25) passing these as positional arguments will result in an error\n",
      "  \"will result in an error\", FutureWarning)\n"
     ]
    },
    {
     "name": "stdout",
     "output_type": "stream",
     "text": [
      "(9126, 168)\n"
     ]
    },
    {
     "name": "stderr",
     "output_type": "stream",
     "text": [
      "/data/xiayunpeng/anaconda3/envs/BERT/lib/python3.6/site-packages/sklearn/utils/validation.py:72: FutureWarning: Pass shuffle=True, random_state=10 as keyword args. From version 1.0 (renaming of 0.25) passing these as positional arguments will result in an error\n",
      "  \"will result in an error\", FutureWarning)\n"
     ]
    },
    {
     "name": "stdout",
     "output_type": "stream",
     "text": [
      "(9126, 169)\n"
     ]
    },
    {
     "name": "stderr",
     "output_type": "stream",
     "text": [
      "/data/xiayunpeng/anaconda3/envs/BERT/lib/python3.6/site-packages/sklearn/utils/validation.py:72: FutureWarning: Pass shuffle=True, random_state=10 as keyword args. From version 1.0 (renaming of 0.25) passing these as positional arguments will result in an error\n",
      "  \"will result in an error\", FutureWarning)\n"
     ]
    },
    {
     "name": "stdout",
     "output_type": "stream",
     "text": [
      "(9126, 170)\n"
     ]
    },
    {
     "name": "stderr",
     "output_type": "stream",
     "text": [
      "/data/xiayunpeng/anaconda3/envs/BERT/lib/python3.6/site-packages/sklearn/utils/validation.py:72: FutureWarning: Pass shuffle=True, random_state=10 as keyword args. From version 1.0 (renaming of 0.25) passing these as positional arguments will result in an error\n",
      "  \"will result in an error\", FutureWarning)\n"
     ]
    },
    {
     "name": "stdout",
     "output_type": "stream",
     "text": [
      "(9126, 171)\n"
     ]
    },
    {
     "name": "stderr",
     "output_type": "stream",
     "text": [
      "/data/xiayunpeng/anaconda3/envs/BERT/lib/python3.6/site-packages/sklearn/utils/validation.py:72: FutureWarning: Pass shuffle=True, random_state=10 as keyword args. From version 1.0 (renaming of 0.25) passing these as positional arguments will result in an error\n",
      "  \"will result in an error\", FutureWarning)\n"
     ]
    },
    {
     "name": "stdout",
     "output_type": "stream",
     "text": [
      "(9126, 172)\n"
     ]
    },
    {
     "name": "stderr",
     "output_type": "stream",
     "text": [
      "/data/xiayunpeng/anaconda3/envs/BERT/lib/python3.6/site-packages/sklearn/utils/validation.py:72: FutureWarning: Pass shuffle=True, random_state=10 as keyword args. From version 1.0 (renaming of 0.25) passing these as positional arguments will result in an error\n",
      "  \"will result in an error\", FutureWarning)\n"
     ]
    },
    {
     "name": "stdout",
     "output_type": "stream",
     "text": [
      "(9126, 173)\n"
     ]
    },
    {
     "name": "stderr",
     "output_type": "stream",
     "text": [
      "/data/xiayunpeng/anaconda3/envs/BERT/lib/python3.6/site-packages/sklearn/utils/validation.py:72: FutureWarning: Pass shuffle=True, random_state=10 as keyword args. From version 1.0 (renaming of 0.25) passing these as positional arguments will result in an error\n",
      "  \"will result in an error\", FutureWarning)\n"
     ]
    },
    {
     "name": "stdout",
     "output_type": "stream",
     "text": [
      "(9126, 174)\n"
     ]
    },
    {
     "name": "stderr",
     "output_type": "stream",
     "text": [
      "/data/xiayunpeng/anaconda3/envs/BERT/lib/python3.6/site-packages/sklearn/utils/validation.py:72: FutureWarning: Pass shuffle=True, random_state=10 as keyword args. From version 1.0 (renaming of 0.25) passing these as positional arguments will result in an error\n",
      "  \"will result in an error\", FutureWarning)\n"
     ]
    },
    {
     "name": "stdout",
     "output_type": "stream",
     "text": [
      "(9126, 175)\n"
     ]
    },
    {
     "name": "stderr",
     "output_type": "stream",
     "text": [
      "/data/xiayunpeng/anaconda3/envs/BERT/lib/python3.6/site-packages/sklearn/utils/validation.py:72: FutureWarning: Pass shuffle=True, random_state=10 as keyword args. From version 1.0 (renaming of 0.25) passing these as positional arguments will result in an error\n",
      "  \"will result in an error\", FutureWarning)\n"
     ]
    },
    {
     "name": "stdout",
     "output_type": "stream",
     "text": [
      "(9126, 176)\n"
     ]
    },
    {
     "name": "stderr",
     "output_type": "stream",
     "text": [
      "/data/xiayunpeng/anaconda3/envs/BERT/lib/python3.6/site-packages/sklearn/utils/validation.py:72: FutureWarning: Pass shuffle=True, random_state=10 as keyword args. From version 1.0 (renaming of 0.25) passing these as positional arguments will result in an error\n",
      "  \"will result in an error\", FutureWarning)\n"
     ]
    },
    {
     "name": "stdout",
     "output_type": "stream",
     "text": [
      "(9126, 177)\n"
     ]
    },
    {
     "name": "stderr",
     "output_type": "stream",
     "text": [
      "/data/xiayunpeng/anaconda3/envs/BERT/lib/python3.6/site-packages/sklearn/utils/validation.py:72: FutureWarning: Pass shuffle=True, random_state=10 as keyword args. From version 1.0 (renaming of 0.25) passing these as positional arguments will result in an error\n",
      "  \"will result in an error\", FutureWarning)\n"
     ]
    },
    {
     "name": "stdout",
     "output_type": "stream",
     "text": [
      "(9126, 178)\n"
     ]
    },
    {
     "name": "stderr",
     "output_type": "stream",
     "text": [
      "/data/xiayunpeng/anaconda3/envs/BERT/lib/python3.6/site-packages/sklearn/utils/validation.py:72: FutureWarning: Pass shuffle=True, random_state=10 as keyword args. From version 1.0 (renaming of 0.25) passing these as positional arguments will result in an error\n",
      "  \"will result in an error\", FutureWarning)\n"
     ]
    },
    {
     "name": "stdout",
     "output_type": "stream",
     "text": [
      "(9126, 179)\n"
     ]
    },
    {
     "name": "stderr",
     "output_type": "stream",
     "text": [
      "/data/xiayunpeng/anaconda3/envs/BERT/lib/python3.6/site-packages/sklearn/utils/validation.py:72: FutureWarning: Pass shuffle=True, random_state=10 as keyword args. From version 1.0 (renaming of 0.25) passing these as positional arguments will result in an error\n",
      "  \"will result in an error\", FutureWarning)\n"
     ]
    },
    {
     "name": "stdout",
     "output_type": "stream",
     "text": [
      "(9126, 180)\n"
     ]
    },
    {
     "name": "stderr",
     "output_type": "stream",
     "text": [
      "/data/xiayunpeng/anaconda3/envs/BERT/lib/python3.6/site-packages/sklearn/utils/validation.py:72: FutureWarning: Pass shuffle=True, random_state=10 as keyword args. From version 1.0 (renaming of 0.25) passing these as positional arguments will result in an error\n",
      "  \"will result in an error\", FutureWarning)\n"
     ]
    },
    {
     "name": "stdout",
     "output_type": "stream",
     "text": [
      "(9126, 181)\n"
     ]
    },
    {
     "name": "stderr",
     "output_type": "stream",
     "text": [
      "/data/xiayunpeng/anaconda3/envs/BERT/lib/python3.6/site-packages/sklearn/utils/validation.py:72: FutureWarning: Pass shuffle=True, random_state=10 as keyword args. From version 1.0 (renaming of 0.25) passing these as positional arguments will result in an error\n",
      "  \"will result in an error\", FutureWarning)\n"
     ]
    },
    {
     "name": "stdout",
     "output_type": "stream",
     "text": [
      "(9126, 182)\n"
     ]
    },
    {
     "name": "stderr",
     "output_type": "stream",
     "text": [
      "/data/xiayunpeng/anaconda3/envs/BERT/lib/python3.6/site-packages/sklearn/utils/validation.py:72: FutureWarning: Pass shuffle=True, random_state=10 as keyword args. From version 1.0 (renaming of 0.25) passing these as positional arguments will result in an error\n",
      "  \"will result in an error\", FutureWarning)\n"
     ]
    },
    {
     "name": "stdout",
     "output_type": "stream",
     "text": [
      "(9126, 183)\n"
     ]
    },
    {
     "name": "stderr",
     "output_type": "stream",
     "text": [
      "/data/xiayunpeng/anaconda3/envs/BERT/lib/python3.6/site-packages/sklearn/utils/validation.py:72: FutureWarning: Pass shuffle=True, random_state=10 as keyword args. From version 1.0 (renaming of 0.25) passing these as positional arguments will result in an error\n",
      "  \"will result in an error\", FutureWarning)\n"
     ]
    },
    {
     "name": "stdout",
     "output_type": "stream",
     "text": [
      "(9126, 184)\n"
     ]
    },
    {
     "name": "stderr",
     "output_type": "stream",
     "text": [
      "/data/xiayunpeng/anaconda3/envs/BERT/lib/python3.6/site-packages/sklearn/utils/validation.py:72: FutureWarning: Pass shuffle=True, random_state=10 as keyword args. From version 1.0 (renaming of 0.25) passing these as positional arguments will result in an error\n",
      "  \"will result in an error\", FutureWarning)\n"
     ]
    },
    {
     "name": "stdout",
     "output_type": "stream",
     "text": [
      "(9126, 185)\n"
     ]
    },
    {
     "name": "stderr",
     "output_type": "stream",
     "text": [
      "/data/xiayunpeng/anaconda3/envs/BERT/lib/python3.6/site-packages/sklearn/utils/validation.py:72: FutureWarning: Pass shuffle=True, random_state=10 as keyword args. From version 1.0 (renaming of 0.25) passing these as positional arguments will result in an error\n",
      "  \"will result in an error\", FutureWarning)\n"
     ]
    },
    {
     "name": "stdout",
     "output_type": "stream",
     "text": [
      "(9126, 186)\n"
     ]
    },
    {
     "name": "stderr",
     "output_type": "stream",
     "text": [
      "/data/xiayunpeng/anaconda3/envs/BERT/lib/python3.6/site-packages/sklearn/utils/validation.py:72: FutureWarning: Pass shuffle=True, random_state=10 as keyword args. From version 1.0 (renaming of 0.25) passing these as positional arguments will result in an error\n",
      "  \"will result in an error\", FutureWarning)\n"
     ]
    },
    {
     "name": "stdout",
     "output_type": "stream",
     "text": [
      "(9126, 187)\n"
     ]
    },
    {
     "name": "stderr",
     "output_type": "stream",
     "text": [
      "/data/xiayunpeng/anaconda3/envs/BERT/lib/python3.6/site-packages/sklearn/utils/validation.py:72: FutureWarning: Pass shuffle=True, random_state=10 as keyword args. From version 1.0 (renaming of 0.25) passing these as positional arguments will result in an error\n",
      "  \"will result in an error\", FutureWarning)\n"
     ]
    },
    {
     "name": "stdout",
     "output_type": "stream",
     "text": [
      "(9126, 188)\n"
     ]
    },
    {
     "name": "stderr",
     "output_type": "stream",
     "text": [
      "/data/xiayunpeng/anaconda3/envs/BERT/lib/python3.6/site-packages/sklearn/utils/validation.py:72: FutureWarning: Pass shuffle=True, random_state=10 as keyword args. From version 1.0 (renaming of 0.25) passing these as positional arguments will result in an error\n",
      "  \"will result in an error\", FutureWarning)\n"
     ]
    },
    {
     "name": "stdout",
     "output_type": "stream",
     "text": [
      "(9126, 189)\n"
     ]
    },
    {
     "name": "stderr",
     "output_type": "stream",
     "text": [
      "/data/xiayunpeng/anaconda3/envs/BERT/lib/python3.6/site-packages/sklearn/utils/validation.py:72: FutureWarning: Pass shuffle=True, random_state=10 as keyword args. From version 1.0 (renaming of 0.25) passing these as positional arguments will result in an error\n",
      "  \"will result in an error\", FutureWarning)\n"
     ]
    },
    {
     "name": "stdout",
     "output_type": "stream",
     "text": [
      "(9126, 190)\n"
     ]
    },
    {
     "name": "stderr",
     "output_type": "stream",
     "text": [
      "/data/xiayunpeng/anaconda3/envs/BERT/lib/python3.6/site-packages/sklearn/utils/validation.py:72: FutureWarning: Pass shuffle=True, random_state=10 as keyword args. From version 1.0 (renaming of 0.25) passing these as positional arguments will result in an error\n",
      "  \"will result in an error\", FutureWarning)\n"
     ]
    },
    {
     "name": "stdout",
     "output_type": "stream",
     "text": [
      "(9126, 191)\n"
     ]
    },
    {
     "name": "stderr",
     "output_type": "stream",
     "text": [
      "/data/xiayunpeng/anaconda3/envs/BERT/lib/python3.6/site-packages/sklearn/utils/validation.py:72: FutureWarning: Pass shuffle=True, random_state=10 as keyword args. From version 1.0 (renaming of 0.25) passing these as positional arguments will result in an error\n",
      "  \"will result in an error\", FutureWarning)\n"
     ]
    },
    {
     "name": "stdout",
     "output_type": "stream",
     "text": [
      "(9126, 192)\n"
     ]
    },
    {
     "name": "stderr",
     "output_type": "stream",
     "text": [
      "/data/xiayunpeng/anaconda3/envs/BERT/lib/python3.6/site-packages/sklearn/utils/validation.py:72: FutureWarning: Pass shuffle=True, random_state=10 as keyword args. From version 1.0 (renaming of 0.25) passing these as positional arguments will result in an error\n",
      "  \"will result in an error\", FutureWarning)\n"
     ]
    },
    {
     "name": "stdout",
     "output_type": "stream",
     "text": [
      "(9126, 193)\n"
     ]
    },
    {
     "name": "stderr",
     "output_type": "stream",
     "text": [
      "/data/xiayunpeng/anaconda3/envs/BERT/lib/python3.6/site-packages/sklearn/utils/validation.py:72: FutureWarning: Pass shuffle=True, random_state=10 as keyword args. From version 1.0 (renaming of 0.25) passing these as positional arguments will result in an error\n",
      "  \"will result in an error\", FutureWarning)\n"
     ]
    },
    {
     "name": "stdout",
     "output_type": "stream",
     "text": [
      "(9126, 194)\n"
     ]
    },
    {
     "name": "stderr",
     "output_type": "stream",
     "text": [
      "/data/xiayunpeng/anaconda3/envs/BERT/lib/python3.6/site-packages/sklearn/utils/validation.py:72: FutureWarning: Pass shuffle=True, random_state=10 as keyword args. From version 1.0 (renaming of 0.25) passing these as positional arguments will result in an error\n",
      "  \"will result in an error\", FutureWarning)\n"
     ]
    },
    {
     "name": "stdout",
     "output_type": "stream",
     "text": [
      "(9126, 195)\n"
     ]
    },
    {
     "name": "stderr",
     "output_type": "stream",
     "text": [
      "/data/xiayunpeng/anaconda3/envs/BERT/lib/python3.6/site-packages/sklearn/utils/validation.py:72: FutureWarning: Pass shuffle=True, random_state=10 as keyword args. From version 1.0 (renaming of 0.25) passing these as positional arguments will result in an error\n",
      "  \"will result in an error\", FutureWarning)\n"
     ]
    },
    {
     "name": "stdout",
     "output_type": "stream",
     "text": [
      "(9126, 196)\n"
     ]
    },
    {
     "name": "stderr",
     "output_type": "stream",
     "text": [
      "/data/xiayunpeng/anaconda3/envs/BERT/lib/python3.6/site-packages/sklearn/utils/validation.py:72: FutureWarning: Pass shuffle=True, random_state=10 as keyword args. From version 1.0 (renaming of 0.25) passing these as positional arguments will result in an error\n",
      "  \"will result in an error\", FutureWarning)\n"
     ]
    },
    {
     "name": "stdout",
     "output_type": "stream",
     "text": [
      "(9126, 197)\n"
     ]
    },
    {
     "name": "stderr",
     "output_type": "stream",
     "text": [
      "/data/xiayunpeng/anaconda3/envs/BERT/lib/python3.6/site-packages/sklearn/utils/validation.py:72: FutureWarning: Pass shuffle=True, random_state=10 as keyword args. From version 1.0 (renaming of 0.25) passing these as positional arguments will result in an error\n",
      "  \"will result in an error\", FutureWarning)\n"
     ]
    },
    {
     "name": "stdout",
     "output_type": "stream",
     "text": [
      "(9126, 198)\n"
     ]
    },
    {
     "name": "stderr",
     "output_type": "stream",
     "text": [
      "/data/xiayunpeng/anaconda3/envs/BERT/lib/python3.6/site-packages/sklearn/utils/validation.py:72: FutureWarning: Pass shuffle=True, random_state=10 as keyword args. From version 1.0 (renaming of 0.25) passing these as positional arguments will result in an error\n",
      "  \"will result in an error\", FutureWarning)\n"
     ]
    },
    {
     "name": "stdout",
     "output_type": "stream",
     "text": [
      "(9126, 199)\n"
     ]
    },
    {
     "name": "stderr",
     "output_type": "stream",
     "text": [
      "/data/xiayunpeng/anaconda3/envs/BERT/lib/python3.6/site-packages/sklearn/utils/validation.py:72: FutureWarning: Pass shuffle=True, random_state=10 as keyword args. From version 1.0 (renaming of 0.25) passing these as positional arguments will result in an error\n",
      "  \"will result in an error\", FutureWarning)\n"
     ]
    },
    {
     "name": "stdout",
     "output_type": "stream",
     "text": [
      "(9126, 200)\n"
     ]
    },
    {
     "name": "stderr",
     "output_type": "stream",
     "text": [
      "/data/xiayunpeng/anaconda3/envs/BERT/lib/python3.6/site-packages/sklearn/utils/validation.py:72: FutureWarning: Pass shuffle=True, random_state=10 as keyword args. From version 1.0 (renaming of 0.25) passing these as positional arguments will result in an error\n",
      "  \"will result in an error\", FutureWarning)\n"
     ]
    },
    {
     "name": "stdout",
     "output_type": "stream",
     "text": [
      "(9126, 201)\n"
     ]
    },
    {
     "name": "stderr",
     "output_type": "stream",
     "text": [
      "/data/xiayunpeng/anaconda3/envs/BERT/lib/python3.6/site-packages/sklearn/utils/validation.py:72: FutureWarning: Pass shuffle=True, random_state=10 as keyword args. From version 1.0 (renaming of 0.25) passing these as positional arguments will result in an error\n",
      "  \"will result in an error\", FutureWarning)\n"
     ]
    },
    {
     "name": "stdout",
     "output_type": "stream",
     "text": [
      "(9126, 202)\n"
     ]
    },
    {
     "name": "stderr",
     "output_type": "stream",
     "text": [
      "/data/xiayunpeng/anaconda3/envs/BERT/lib/python3.6/site-packages/sklearn/utils/validation.py:72: FutureWarning: Pass shuffle=True, random_state=10 as keyword args. From version 1.0 (renaming of 0.25) passing these as positional arguments will result in an error\n",
      "  \"will result in an error\", FutureWarning)\n"
     ]
    },
    {
     "name": "stdout",
     "output_type": "stream",
     "text": [
      "(9126, 203)\n"
     ]
    },
    {
     "name": "stderr",
     "output_type": "stream",
     "text": [
      "/data/xiayunpeng/anaconda3/envs/BERT/lib/python3.6/site-packages/sklearn/utils/validation.py:72: FutureWarning: Pass shuffle=True, random_state=10 as keyword args. From version 1.0 (renaming of 0.25) passing these as positional arguments will result in an error\n",
      "  \"will result in an error\", FutureWarning)\n"
     ]
    },
    {
     "name": "stdout",
     "output_type": "stream",
     "text": [
      "(9126, 204)\n"
     ]
    },
    {
     "name": "stderr",
     "output_type": "stream",
     "text": [
      "/data/xiayunpeng/anaconda3/envs/BERT/lib/python3.6/site-packages/sklearn/utils/validation.py:72: FutureWarning: Pass shuffle=True, random_state=10 as keyword args. From version 1.0 (renaming of 0.25) passing these as positional arguments will result in an error\n",
      "  \"will result in an error\", FutureWarning)\n"
     ]
    },
    {
     "name": "stdout",
     "output_type": "stream",
     "text": [
      "(9126, 205)\n"
     ]
    },
    {
     "name": "stderr",
     "output_type": "stream",
     "text": [
      "/data/xiayunpeng/anaconda3/envs/BERT/lib/python3.6/site-packages/sklearn/utils/validation.py:72: FutureWarning: Pass shuffle=True, random_state=10 as keyword args. From version 1.0 (renaming of 0.25) passing these as positional arguments will result in an error\n",
      "  \"will result in an error\", FutureWarning)\n"
     ]
    },
    {
     "name": "stdout",
     "output_type": "stream",
     "text": [
      "(9126, 206)\n"
     ]
    },
    {
     "name": "stderr",
     "output_type": "stream",
     "text": [
      "/data/xiayunpeng/anaconda3/envs/BERT/lib/python3.6/site-packages/sklearn/utils/validation.py:72: FutureWarning: Pass shuffle=True, random_state=10 as keyword args. From version 1.0 (renaming of 0.25) passing these as positional arguments will result in an error\n",
      "  \"will result in an error\", FutureWarning)\n"
     ]
    },
    {
     "name": "stdout",
     "output_type": "stream",
     "text": [
      "(9126, 207)\n"
     ]
    },
    {
     "name": "stderr",
     "output_type": "stream",
     "text": [
      "/data/xiayunpeng/anaconda3/envs/BERT/lib/python3.6/site-packages/sklearn/utils/validation.py:72: FutureWarning: Pass shuffle=True, random_state=10 as keyword args. From version 1.0 (renaming of 0.25) passing these as positional arguments will result in an error\n",
      "  \"will result in an error\", FutureWarning)\n"
     ]
    },
    {
     "name": "stdout",
     "output_type": "stream",
     "text": [
      "(9126, 208)\n"
     ]
    },
    {
     "name": "stderr",
     "output_type": "stream",
     "text": [
      "/data/xiayunpeng/anaconda3/envs/BERT/lib/python3.6/site-packages/sklearn/utils/validation.py:72: FutureWarning: Pass shuffle=True, random_state=10 as keyword args. From version 1.0 (renaming of 0.25) passing these as positional arguments will result in an error\n",
      "  \"will result in an error\", FutureWarning)\n"
     ]
    },
    {
     "name": "stdout",
     "output_type": "stream",
     "text": [
      "(9126, 209)\n"
     ]
    },
    {
     "name": "stderr",
     "output_type": "stream",
     "text": [
      "/data/xiayunpeng/anaconda3/envs/BERT/lib/python3.6/site-packages/sklearn/utils/validation.py:72: FutureWarning: Pass shuffle=True, random_state=10 as keyword args. From version 1.0 (renaming of 0.25) passing these as positional arguments will result in an error\n",
      "  \"will result in an error\", FutureWarning)\n"
     ]
    },
    {
     "name": "stdout",
     "output_type": "stream",
     "text": [
      "(9126, 210)\n"
     ]
    },
    {
     "name": "stderr",
     "output_type": "stream",
     "text": [
      "/data/xiayunpeng/anaconda3/envs/BERT/lib/python3.6/site-packages/sklearn/utils/validation.py:72: FutureWarning: Pass shuffle=True, random_state=10 as keyword args. From version 1.0 (renaming of 0.25) passing these as positional arguments will result in an error\n",
      "  \"will result in an error\", FutureWarning)\n"
     ]
    },
    {
     "name": "stdout",
     "output_type": "stream",
     "text": [
      "(9126, 211)\n"
     ]
    },
    {
     "name": "stderr",
     "output_type": "stream",
     "text": [
      "/data/xiayunpeng/anaconda3/envs/BERT/lib/python3.6/site-packages/sklearn/utils/validation.py:72: FutureWarning: Pass shuffle=True, random_state=10 as keyword args. From version 1.0 (renaming of 0.25) passing these as positional arguments will result in an error\n",
      "  \"will result in an error\", FutureWarning)\n"
     ]
    },
    {
     "name": "stdout",
     "output_type": "stream",
     "text": [
      "(9126, 212)\n"
     ]
    },
    {
     "name": "stderr",
     "output_type": "stream",
     "text": [
      "/data/xiayunpeng/anaconda3/envs/BERT/lib/python3.6/site-packages/sklearn/utils/validation.py:72: FutureWarning: Pass shuffle=True, random_state=10 as keyword args. From version 1.0 (renaming of 0.25) passing these as positional arguments will result in an error\n",
      "  \"will result in an error\", FutureWarning)\n"
     ]
    },
    {
     "name": "stdout",
     "output_type": "stream",
     "text": [
      "(9126, 213)\n"
     ]
    },
    {
     "name": "stderr",
     "output_type": "stream",
     "text": [
      "/data/xiayunpeng/anaconda3/envs/BERT/lib/python3.6/site-packages/sklearn/utils/validation.py:72: FutureWarning: Pass shuffle=True, random_state=10 as keyword args. From version 1.0 (renaming of 0.25) passing these as positional arguments will result in an error\n",
      "  \"will result in an error\", FutureWarning)\n"
     ]
    },
    {
     "name": "stdout",
     "output_type": "stream",
     "text": [
      "(9126, 214)\n"
     ]
    },
    {
     "name": "stderr",
     "output_type": "stream",
     "text": [
      "/data/xiayunpeng/anaconda3/envs/BERT/lib/python3.6/site-packages/sklearn/utils/validation.py:72: FutureWarning: Pass shuffle=True, random_state=10 as keyword args. From version 1.0 (renaming of 0.25) passing these as positional arguments will result in an error\n",
      "  \"will result in an error\", FutureWarning)\n"
     ]
    },
    {
     "name": "stdout",
     "output_type": "stream",
     "text": [
      "(9126, 215)\n"
     ]
    },
    {
     "name": "stderr",
     "output_type": "stream",
     "text": [
      "/data/xiayunpeng/anaconda3/envs/BERT/lib/python3.6/site-packages/sklearn/utils/validation.py:72: FutureWarning: Pass shuffle=True, random_state=10 as keyword args. From version 1.0 (renaming of 0.25) passing these as positional arguments will result in an error\n",
      "  \"will result in an error\", FutureWarning)\n"
     ]
    },
    {
     "name": "stdout",
     "output_type": "stream",
     "text": [
      "(9126, 216)\n"
     ]
    },
    {
     "name": "stderr",
     "output_type": "stream",
     "text": [
      "/data/xiayunpeng/anaconda3/envs/BERT/lib/python3.6/site-packages/sklearn/utils/validation.py:72: FutureWarning: Pass shuffle=True, random_state=10 as keyword args. From version 1.0 (renaming of 0.25) passing these as positional arguments will result in an error\n",
      "  \"will result in an error\", FutureWarning)\n"
     ]
    },
    {
     "name": "stdout",
     "output_type": "stream",
     "text": [
      "(9126, 217)\n"
     ]
    },
    {
     "name": "stderr",
     "output_type": "stream",
     "text": [
      "/data/xiayunpeng/anaconda3/envs/BERT/lib/python3.6/site-packages/sklearn/utils/validation.py:72: FutureWarning: Pass shuffle=True, random_state=10 as keyword args. From version 1.0 (renaming of 0.25) passing these as positional arguments will result in an error\n",
      "  \"will result in an error\", FutureWarning)\n"
     ]
    },
    {
     "name": "stdout",
     "output_type": "stream",
     "text": [
      "(9126, 218)\n"
     ]
    },
    {
     "name": "stderr",
     "output_type": "stream",
     "text": [
      "/data/xiayunpeng/anaconda3/envs/BERT/lib/python3.6/site-packages/sklearn/utils/validation.py:72: FutureWarning: Pass shuffle=True, random_state=10 as keyword args. From version 1.0 (renaming of 0.25) passing these as positional arguments will result in an error\n",
      "  \"will result in an error\", FutureWarning)\n"
     ]
    },
    {
     "name": "stdout",
     "output_type": "stream",
     "text": [
      "(9126, 219)\n"
     ]
    },
    {
     "name": "stderr",
     "output_type": "stream",
     "text": [
      "/data/xiayunpeng/anaconda3/envs/BERT/lib/python3.6/site-packages/sklearn/utils/validation.py:72: FutureWarning: Pass shuffle=True, random_state=10 as keyword args. From version 1.0 (renaming of 0.25) passing these as positional arguments will result in an error\n",
      "  \"will result in an error\", FutureWarning)\n"
     ]
    },
    {
     "name": "stdout",
     "output_type": "stream",
     "text": [
      "(9126, 220)\n"
     ]
    },
    {
     "name": "stderr",
     "output_type": "stream",
     "text": [
      "/data/xiayunpeng/anaconda3/envs/BERT/lib/python3.6/site-packages/sklearn/utils/validation.py:72: FutureWarning: Pass shuffle=True, random_state=10 as keyword args. From version 1.0 (renaming of 0.25) passing these as positional arguments will result in an error\n",
      "  \"will result in an error\", FutureWarning)\n"
     ]
    },
    {
     "name": "stdout",
     "output_type": "stream",
     "text": [
      "(9126, 221)\n"
     ]
    },
    {
     "name": "stderr",
     "output_type": "stream",
     "text": [
      "/data/xiayunpeng/anaconda3/envs/BERT/lib/python3.6/site-packages/sklearn/utils/validation.py:72: FutureWarning: Pass shuffle=True, random_state=10 as keyword args. From version 1.0 (renaming of 0.25) passing these as positional arguments will result in an error\n",
      "  \"will result in an error\", FutureWarning)\n"
     ]
    },
    {
     "name": "stdout",
     "output_type": "stream",
     "text": [
      "(9126, 222)\n"
     ]
    },
    {
     "name": "stderr",
     "output_type": "stream",
     "text": [
      "/data/xiayunpeng/anaconda3/envs/BERT/lib/python3.6/site-packages/sklearn/utils/validation.py:72: FutureWarning: Pass shuffle=True, random_state=10 as keyword args. From version 1.0 (renaming of 0.25) passing these as positional arguments will result in an error\n",
      "  \"will result in an error\", FutureWarning)\n"
     ]
    },
    {
     "name": "stdout",
     "output_type": "stream",
     "text": [
      "(9126, 223)\n"
     ]
    },
    {
     "name": "stderr",
     "output_type": "stream",
     "text": [
      "/data/xiayunpeng/anaconda3/envs/BERT/lib/python3.6/site-packages/sklearn/utils/validation.py:72: FutureWarning: Pass shuffle=True, random_state=10 as keyword args. From version 1.0 (renaming of 0.25) passing these as positional arguments will result in an error\n",
      "  \"will result in an error\", FutureWarning)\n"
     ]
    },
    {
     "name": "stdout",
     "output_type": "stream",
     "text": [
      "(9126, 224)\n"
     ]
    },
    {
     "name": "stderr",
     "output_type": "stream",
     "text": [
      "/data/xiayunpeng/anaconda3/envs/BERT/lib/python3.6/site-packages/sklearn/utils/validation.py:72: FutureWarning: Pass shuffle=True, random_state=10 as keyword args. From version 1.0 (renaming of 0.25) passing these as positional arguments will result in an error\n",
      "  \"will result in an error\", FutureWarning)\n"
     ]
    },
    {
     "name": "stdout",
     "output_type": "stream",
     "text": [
      "(9126, 225)\n"
     ]
    },
    {
     "name": "stderr",
     "output_type": "stream",
     "text": [
      "/data/xiayunpeng/anaconda3/envs/BERT/lib/python3.6/site-packages/sklearn/utils/validation.py:72: FutureWarning: Pass shuffle=True, random_state=10 as keyword args. From version 1.0 (renaming of 0.25) passing these as positional arguments will result in an error\n",
      "  \"will result in an error\", FutureWarning)\n"
     ]
    },
    {
     "name": "stdout",
     "output_type": "stream",
     "text": [
      "(9126, 226)\n"
     ]
    },
    {
     "name": "stderr",
     "output_type": "stream",
     "text": [
      "/data/xiayunpeng/anaconda3/envs/BERT/lib/python3.6/site-packages/sklearn/utils/validation.py:72: FutureWarning: Pass shuffle=True, random_state=10 as keyword args. From version 1.0 (renaming of 0.25) passing these as positional arguments will result in an error\n",
      "  \"will result in an error\", FutureWarning)\n"
     ]
    },
    {
     "name": "stdout",
     "output_type": "stream",
     "text": [
      "(9126, 227)\n"
     ]
    },
    {
     "name": "stderr",
     "output_type": "stream",
     "text": [
      "/data/xiayunpeng/anaconda3/envs/BERT/lib/python3.6/site-packages/sklearn/utils/validation.py:72: FutureWarning: Pass shuffle=True, random_state=10 as keyword args. From version 1.0 (renaming of 0.25) passing these as positional arguments will result in an error\n",
      "  \"will result in an error\", FutureWarning)\n"
     ]
    },
    {
     "name": "stdout",
     "output_type": "stream",
     "text": [
      "(9126, 228)\n"
     ]
    },
    {
     "name": "stderr",
     "output_type": "stream",
     "text": [
      "/data/xiayunpeng/anaconda3/envs/BERT/lib/python3.6/site-packages/sklearn/utils/validation.py:72: FutureWarning: Pass shuffle=True, random_state=10 as keyword args. From version 1.0 (renaming of 0.25) passing these as positional arguments will result in an error\n",
      "  \"will result in an error\", FutureWarning)\n"
     ]
    },
    {
     "name": "stdout",
     "output_type": "stream",
     "text": [
      "(9126, 229)\n"
     ]
    },
    {
     "name": "stderr",
     "output_type": "stream",
     "text": [
      "/data/xiayunpeng/anaconda3/envs/BERT/lib/python3.6/site-packages/sklearn/utils/validation.py:72: FutureWarning: Pass shuffle=True, random_state=10 as keyword args. From version 1.0 (renaming of 0.25) passing these as positional arguments will result in an error\n",
      "  \"will result in an error\", FutureWarning)\n"
     ]
    },
    {
     "name": "stdout",
     "output_type": "stream",
     "text": [
      "(9126, 230)\n"
     ]
    },
    {
     "name": "stderr",
     "output_type": "stream",
     "text": [
      "/data/xiayunpeng/anaconda3/envs/BERT/lib/python3.6/site-packages/sklearn/utils/validation.py:72: FutureWarning: Pass shuffle=True, random_state=10 as keyword args. From version 1.0 (renaming of 0.25) passing these as positional arguments will result in an error\n",
      "  \"will result in an error\", FutureWarning)\n"
     ]
    },
    {
     "name": "stdout",
     "output_type": "stream",
     "text": [
      "(9126, 231)\n"
     ]
    },
    {
     "name": "stderr",
     "output_type": "stream",
     "text": [
      "/data/xiayunpeng/anaconda3/envs/BERT/lib/python3.6/site-packages/sklearn/utils/validation.py:72: FutureWarning: Pass shuffle=True, random_state=10 as keyword args. From version 1.0 (renaming of 0.25) passing these as positional arguments will result in an error\n",
      "  \"will result in an error\", FutureWarning)\n"
     ]
    },
    {
     "name": "stdout",
     "output_type": "stream",
     "text": [
      "(9126, 232)\n"
     ]
    },
    {
     "name": "stderr",
     "output_type": "stream",
     "text": [
      "/data/xiayunpeng/anaconda3/envs/BERT/lib/python3.6/site-packages/sklearn/utils/validation.py:72: FutureWarning: Pass shuffle=True, random_state=10 as keyword args. From version 1.0 (renaming of 0.25) passing these as positional arguments will result in an error\n",
      "  \"will result in an error\", FutureWarning)\n"
     ]
    },
    {
     "name": "stdout",
     "output_type": "stream",
     "text": [
      "(9126, 233)\n"
     ]
    },
    {
     "name": "stderr",
     "output_type": "stream",
     "text": [
      "/data/xiayunpeng/anaconda3/envs/BERT/lib/python3.6/site-packages/sklearn/utils/validation.py:72: FutureWarning: Pass shuffle=True, random_state=10 as keyword args. From version 1.0 (renaming of 0.25) passing these as positional arguments will result in an error\n",
      "  \"will result in an error\", FutureWarning)\n"
     ]
    },
    {
     "name": "stdout",
     "output_type": "stream",
     "text": [
      "(9126, 234)\n"
     ]
    },
    {
     "name": "stderr",
     "output_type": "stream",
     "text": [
      "/data/xiayunpeng/anaconda3/envs/BERT/lib/python3.6/site-packages/sklearn/utils/validation.py:72: FutureWarning: Pass shuffle=True, random_state=10 as keyword args. From version 1.0 (renaming of 0.25) passing these as positional arguments will result in an error\n",
      "  \"will result in an error\", FutureWarning)\n"
     ]
    },
    {
     "name": "stdout",
     "output_type": "stream",
     "text": [
      "(9126, 235)\n"
     ]
    },
    {
     "name": "stderr",
     "output_type": "stream",
     "text": [
      "/data/xiayunpeng/anaconda3/envs/BERT/lib/python3.6/site-packages/sklearn/utils/validation.py:72: FutureWarning: Pass shuffle=True, random_state=10 as keyword args. From version 1.0 (renaming of 0.25) passing these as positional arguments will result in an error\n",
      "  \"will result in an error\", FutureWarning)\n"
     ]
    },
    {
     "name": "stdout",
     "output_type": "stream",
     "text": [
      "(9126, 236)\n"
     ]
    },
    {
     "name": "stderr",
     "output_type": "stream",
     "text": [
      "/data/xiayunpeng/anaconda3/envs/BERT/lib/python3.6/site-packages/sklearn/utils/validation.py:72: FutureWarning: Pass shuffle=True, random_state=10 as keyword args. From version 1.0 (renaming of 0.25) passing these as positional arguments will result in an error\n",
      "  \"will result in an error\", FutureWarning)\n"
     ]
    },
    {
     "name": "stdout",
     "output_type": "stream",
     "text": [
      "(9126, 237)\n"
     ]
    },
    {
     "name": "stderr",
     "output_type": "stream",
     "text": [
      "/data/xiayunpeng/anaconda3/envs/BERT/lib/python3.6/site-packages/sklearn/utils/validation.py:72: FutureWarning: Pass shuffle=True, random_state=10 as keyword args. From version 1.0 (renaming of 0.25) passing these as positional arguments will result in an error\n",
      "  \"will result in an error\", FutureWarning)\n"
     ]
    },
    {
     "name": "stdout",
     "output_type": "stream",
     "text": [
      "(9126, 238)\n"
     ]
    },
    {
     "name": "stderr",
     "output_type": "stream",
     "text": [
      "/data/xiayunpeng/anaconda3/envs/BERT/lib/python3.6/site-packages/sklearn/utils/validation.py:72: FutureWarning: Pass shuffle=True, random_state=10 as keyword args. From version 1.0 (renaming of 0.25) passing these as positional arguments will result in an error\n",
      "  \"will result in an error\", FutureWarning)\n"
     ]
    },
    {
     "name": "stdout",
     "output_type": "stream",
     "text": [
      "(9126, 239)\n"
     ]
    },
    {
     "name": "stderr",
     "output_type": "stream",
     "text": [
      "/data/xiayunpeng/anaconda3/envs/BERT/lib/python3.6/site-packages/sklearn/utils/validation.py:72: FutureWarning: Pass shuffle=True, random_state=10 as keyword args. From version 1.0 (renaming of 0.25) passing these as positional arguments will result in an error\n",
      "  \"will result in an error\", FutureWarning)\n"
     ]
    },
    {
     "name": "stdout",
     "output_type": "stream",
     "text": [
      "(9126, 240)\n"
     ]
    },
    {
     "name": "stderr",
     "output_type": "stream",
     "text": [
      "/data/xiayunpeng/anaconda3/envs/BERT/lib/python3.6/site-packages/sklearn/utils/validation.py:72: FutureWarning: Pass shuffle=True, random_state=10 as keyword args. From version 1.0 (renaming of 0.25) passing these as positional arguments will result in an error\n",
      "  \"will result in an error\", FutureWarning)\n"
     ]
    },
    {
     "name": "stdout",
     "output_type": "stream",
     "text": [
      "(9126, 241)\n"
     ]
    },
    {
     "name": "stderr",
     "output_type": "stream",
     "text": [
      "/data/xiayunpeng/anaconda3/envs/BERT/lib/python3.6/site-packages/sklearn/utils/validation.py:72: FutureWarning: Pass shuffle=True, random_state=10 as keyword args. From version 1.0 (renaming of 0.25) passing these as positional arguments will result in an error\n",
      "  \"will result in an error\", FutureWarning)\n"
     ]
    },
    {
     "name": "stdout",
     "output_type": "stream",
     "text": [
      "(9126, 242)\n"
     ]
    },
    {
     "name": "stderr",
     "output_type": "stream",
     "text": [
      "/data/xiayunpeng/anaconda3/envs/BERT/lib/python3.6/site-packages/sklearn/utils/validation.py:72: FutureWarning: Pass shuffle=True, random_state=10 as keyword args. From version 1.0 (renaming of 0.25) passing these as positional arguments will result in an error\n",
      "  \"will result in an error\", FutureWarning)\n"
     ]
    },
    {
     "name": "stdout",
     "output_type": "stream",
     "text": [
      "(9126, 243)\n"
     ]
    },
    {
     "name": "stderr",
     "output_type": "stream",
     "text": [
      "/data/xiayunpeng/anaconda3/envs/BERT/lib/python3.6/site-packages/sklearn/utils/validation.py:72: FutureWarning: Pass shuffle=True, random_state=10 as keyword args. From version 1.0 (renaming of 0.25) passing these as positional arguments will result in an error\n",
      "  \"will result in an error\", FutureWarning)\n"
     ]
    },
    {
     "name": "stdout",
     "output_type": "stream",
     "text": [
      "(9126, 244)\n"
     ]
    },
    {
     "name": "stderr",
     "output_type": "stream",
     "text": [
      "/data/xiayunpeng/anaconda3/envs/BERT/lib/python3.6/site-packages/sklearn/utils/validation.py:72: FutureWarning: Pass shuffle=True, random_state=10 as keyword args. From version 1.0 (renaming of 0.25) passing these as positional arguments will result in an error\n",
      "  \"will result in an error\", FutureWarning)\n"
     ]
    },
    {
     "name": "stdout",
     "output_type": "stream",
     "text": [
      "(9126, 245)\n"
     ]
    },
    {
     "name": "stderr",
     "output_type": "stream",
     "text": [
      "/data/xiayunpeng/anaconda3/envs/BERT/lib/python3.6/site-packages/sklearn/utils/validation.py:72: FutureWarning: Pass shuffle=True, random_state=10 as keyword args. From version 1.0 (renaming of 0.25) passing these as positional arguments will result in an error\n",
      "  \"will result in an error\", FutureWarning)\n"
     ]
    },
    {
     "name": "stdout",
     "output_type": "stream",
     "text": [
      "(9126, 246)\n"
     ]
    },
    {
     "name": "stderr",
     "output_type": "stream",
     "text": [
      "/data/xiayunpeng/anaconda3/envs/BERT/lib/python3.6/site-packages/sklearn/utils/validation.py:72: FutureWarning: Pass shuffle=True, random_state=10 as keyword args. From version 1.0 (renaming of 0.25) passing these as positional arguments will result in an error\n",
      "  \"will result in an error\", FutureWarning)\n"
     ]
    },
    {
     "name": "stdout",
     "output_type": "stream",
     "text": [
      "(9126, 247)\n"
     ]
    },
    {
     "name": "stderr",
     "output_type": "stream",
     "text": [
      "/data/xiayunpeng/anaconda3/envs/BERT/lib/python3.6/site-packages/sklearn/utils/validation.py:72: FutureWarning: Pass shuffle=True, random_state=10 as keyword args. From version 1.0 (renaming of 0.25) passing these as positional arguments will result in an error\n",
      "  \"will result in an error\", FutureWarning)\n"
     ]
    },
    {
     "name": "stdout",
     "output_type": "stream",
     "text": [
      "(9126, 248)\n"
     ]
    },
    {
     "name": "stderr",
     "output_type": "stream",
     "text": [
      "/data/xiayunpeng/anaconda3/envs/BERT/lib/python3.6/site-packages/sklearn/utils/validation.py:72: FutureWarning: Pass shuffle=True, random_state=10 as keyword args. From version 1.0 (renaming of 0.25) passing these as positional arguments will result in an error\n",
      "  \"will result in an error\", FutureWarning)\n"
     ]
    },
    {
     "name": "stdout",
     "output_type": "stream",
     "text": [
      "(9126, 249)\n"
     ]
    },
    {
     "name": "stderr",
     "output_type": "stream",
     "text": [
      "/data/xiayunpeng/anaconda3/envs/BERT/lib/python3.6/site-packages/sklearn/utils/validation.py:72: FutureWarning: Pass shuffle=True, random_state=10 as keyword args. From version 1.0 (renaming of 0.25) passing these as positional arguments will result in an error\n",
      "  \"will result in an error\", FutureWarning)\n"
     ]
    },
    {
     "name": "stdout",
     "output_type": "stream",
     "text": [
      "(9126, 250)\n"
     ]
    },
    {
     "name": "stderr",
     "output_type": "stream",
     "text": [
      "/data/xiayunpeng/anaconda3/envs/BERT/lib/python3.6/site-packages/sklearn/utils/validation.py:72: FutureWarning: Pass shuffle=True, random_state=10 as keyword args. From version 1.0 (renaming of 0.25) passing these as positional arguments will result in an error\n",
      "  \"will result in an error\", FutureWarning)\n"
     ]
    },
    {
     "name": "stdout",
     "output_type": "stream",
     "text": [
      "(9126, 251)\n"
     ]
    },
    {
     "name": "stderr",
     "output_type": "stream",
     "text": [
      "/data/xiayunpeng/anaconda3/envs/BERT/lib/python3.6/site-packages/sklearn/utils/validation.py:72: FutureWarning: Pass shuffle=True, random_state=10 as keyword args. From version 1.0 (renaming of 0.25) passing these as positional arguments will result in an error\n",
      "  \"will result in an error\", FutureWarning)\n"
     ]
    },
    {
     "name": "stdout",
     "output_type": "stream",
     "text": [
      "(9126, 252)\n"
     ]
    },
    {
     "name": "stderr",
     "output_type": "stream",
     "text": [
      "/data/xiayunpeng/anaconda3/envs/BERT/lib/python3.6/site-packages/sklearn/utils/validation.py:72: FutureWarning: Pass shuffle=True, random_state=10 as keyword args. From version 1.0 (renaming of 0.25) passing these as positional arguments will result in an error\n",
      "  \"will result in an error\", FutureWarning)\n"
     ]
    },
    {
     "name": "stdout",
     "output_type": "stream",
     "text": [
      "(9126, 253)\n"
     ]
    },
    {
     "name": "stderr",
     "output_type": "stream",
     "text": [
      "/data/xiayunpeng/anaconda3/envs/BERT/lib/python3.6/site-packages/sklearn/utils/validation.py:72: FutureWarning: Pass shuffle=True, random_state=10 as keyword args. From version 1.0 (renaming of 0.25) passing these as positional arguments will result in an error\n",
      "  \"will result in an error\", FutureWarning)\n"
     ]
    },
    {
     "name": "stdout",
     "output_type": "stream",
     "text": [
      "(9126, 254)\n"
     ]
    },
    {
     "name": "stderr",
     "output_type": "stream",
     "text": [
      "/data/xiayunpeng/anaconda3/envs/BERT/lib/python3.6/site-packages/sklearn/utils/validation.py:72: FutureWarning: Pass shuffle=True, random_state=10 as keyword args. From version 1.0 (renaming of 0.25) passing these as positional arguments will result in an error\n",
      "  \"will result in an error\", FutureWarning)\n"
     ]
    },
    {
     "name": "stdout",
     "output_type": "stream",
     "text": [
      "(9126, 255)\n"
     ]
    },
    {
     "name": "stderr",
     "output_type": "stream",
     "text": [
      "/data/xiayunpeng/anaconda3/envs/BERT/lib/python3.6/site-packages/sklearn/utils/validation.py:72: FutureWarning: Pass shuffle=True, random_state=10 as keyword args. From version 1.0 (renaming of 0.25) passing these as positional arguments will result in an error\n",
      "  \"will result in an error\", FutureWarning)\n"
     ]
    },
    {
     "name": "stdout",
     "output_type": "stream",
     "text": [
      "(9126, 256)\n"
     ]
    },
    {
     "name": "stderr",
     "output_type": "stream",
     "text": [
      "/data/xiayunpeng/anaconda3/envs/BERT/lib/python3.6/site-packages/sklearn/utils/validation.py:72: FutureWarning: Pass shuffle=True, random_state=10 as keyword args. From version 1.0 (renaming of 0.25) passing these as positional arguments will result in an error\n",
      "  \"will result in an error\", FutureWarning)\n"
     ]
    },
    {
     "name": "stdout",
     "output_type": "stream",
     "text": [
      "(9126, 257)\n"
     ]
    },
    {
     "name": "stderr",
     "output_type": "stream",
     "text": [
      "/data/xiayunpeng/anaconda3/envs/BERT/lib/python3.6/site-packages/sklearn/utils/validation.py:72: FutureWarning: Pass shuffle=True, random_state=10 as keyword args. From version 1.0 (renaming of 0.25) passing these as positional arguments will result in an error\n",
      "  \"will result in an error\", FutureWarning)\n"
     ]
    },
    {
     "name": "stdout",
     "output_type": "stream",
     "text": [
      "(9126, 258)\n"
     ]
    },
    {
     "name": "stderr",
     "output_type": "stream",
     "text": [
      "/data/xiayunpeng/anaconda3/envs/BERT/lib/python3.6/site-packages/sklearn/utils/validation.py:72: FutureWarning: Pass shuffle=True, random_state=10 as keyword args. From version 1.0 (renaming of 0.25) passing these as positional arguments will result in an error\n",
      "  \"will result in an error\", FutureWarning)\n"
     ]
    },
    {
     "name": "stdout",
     "output_type": "stream",
     "text": [
      "(9126, 259)\n"
     ]
    },
    {
     "name": "stderr",
     "output_type": "stream",
     "text": [
      "/data/xiayunpeng/anaconda3/envs/BERT/lib/python3.6/site-packages/sklearn/utils/validation.py:72: FutureWarning: Pass shuffle=True, random_state=10 as keyword args. From version 1.0 (renaming of 0.25) passing these as positional arguments will result in an error\n",
      "  \"will result in an error\", FutureWarning)\n"
     ]
    },
    {
     "name": "stdout",
     "output_type": "stream",
     "text": [
      "(9126, 260)\n"
     ]
    },
    {
     "name": "stderr",
     "output_type": "stream",
     "text": [
      "/data/xiayunpeng/anaconda3/envs/BERT/lib/python3.6/site-packages/sklearn/utils/validation.py:72: FutureWarning: Pass shuffle=True, random_state=10 as keyword args. From version 1.0 (renaming of 0.25) passing these as positional arguments will result in an error\n",
      "  \"will result in an error\", FutureWarning)\n"
     ]
    },
    {
     "name": "stdout",
     "output_type": "stream",
     "text": [
      "(9126, 261)\n"
     ]
    },
    {
     "name": "stderr",
     "output_type": "stream",
     "text": [
      "/data/xiayunpeng/anaconda3/envs/BERT/lib/python3.6/site-packages/sklearn/utils/validation.py:72: FutureWarning: Pass shuffle=True, random_state=10 as keyword args. From version 1.0 (renaming of 0.25) passing these as positional arguments will result in an error\n",
      "  \"will result in an error\", FutureWarning)\n"
     ]
    },
    {
     "name": "stdout",
     "output_type": "stream",
     "text": [
      "(9126, 262)\n"
     ]
    },
    {
     "name": "stderr",
     "output_type": "stream",
     "text": [
      "/data/xiayunpeng/anaconda3/envs/BERT/lib/python3.6/site-packages/sklearn/utils/validation.py:72: FutureWarning: Pass shuffle=True, random_state=10 as keyword args. From version 1.0 (renaming of 0.25) passing these as positional arguments will result in an error\n",
      "  \"will result in an error\", FutureWarning)\n"
     ]
    },
    {
     "name": "stdout",
     "output_type": "stream",
     "text": [
      "(9126, 263)\n"
     ]
    },
    {
     "name": "stderr",
     "output_type": "stream",
     "text": [
      "/data/xiayunpeng/anaconda3/envs/BERT/lib/python3.6/site-packages/sklearn/utils/validation.py:72: FutureWarning: Pass shuffle=True, random_state=10 as keyword args. From version 1.0 (renaming of 0.25) passing these as positional arguments will result in an error\n",
      "  \"will result in an error\", FutureWarning)\n"
     ]
    },
    {
     "name": "stdout",
     "output_type": "stream",
     "text": [
      "(9126, 264)\n"
     ]
    },
    {
     "name": "stderr",
     "output_type": "stream",
     "text": [
      "/data/xiayunpeng/anaconda3/envs/BERT/lib/python3.6/site-packages/sklearn/utils/validation.py:72: FutureWarning: Pass shuffle=True, random_state=10 as keyword args. From version 1.0 (renaming of 0.25) passing these as positional arguments will result in an error\n",
      "  \"will result in an error\", FutureWarning)\n"
     ]
    },
    {
     "name": "stdout",
     "output_type": "stream",
     "text": [
      "(9126, 265)\n"
     ]
    },
    {
     "name": "stderr",
     "output_type": "stream",
     "text": [
      "/data/xiayunpeng/anaconda3/envs/BERT/lib/python3.6/site-packages/sklearn/utils/validation.py:72: FutureWarning: Pass shuffle=True, random_state=10 as keyword args. From version 1.0 (renaming of 0.25) passing these as positional arguments will result in an error\n",
      "  \"will result in an error\", FutureWarning)\n"
     ]
    },
    {
     "name": "stdout",
     "output_type": "stream",
     "text": [
      "(9126, 266)\n"
     ]
    },
    {
     "name": "stderr",
     "output_type": "stream",
     "text": [
      "/data/xiayunpeng/anaconda3/envs/BERT/lib/python3.6/site-packages/sklearn/utils/validation.py:72: FutureWarning: Pass shuffle=True, random_state=10 as keyword args. From version 1.0 (renaming of 0.25) passing these as positional arguments will result in an error\n",
      "  \"will result in an error\", FutureWarning)\n"
     ]
    },
    {
     "name": "stdout",
     "output_type": "stream",
     "text": [
      "(9126, 267)\n"
     ]
    },
    {
     "name": "stderr",
     "output_type": "stream",
     "text": [
      "/data/xiayunpeng/anaconda3/envs/BERT/lib/python3.6/site-packages/sklearn/utils/validation.py:72: FutureWarning: Pass shuffle=True, random_state=10 as keyword args. From version 1.0 (renaming of 0.25) passing these as positional arguments will result in an error\n",
      "  \"will result in an error\", FutureWarning)\n"
     ]
    },
    {
     "name": "stdout",
     "output_type": "stream",
     "text": [
      "(9126, 268)\n"
     ]
    },
    {
     "name": "stderr",
     "output_type": "stream",
     "text": [
      "/data/xiayunpeng/anaconda3/envs/BERT/lib/python3.6/site-packages/sklearn/utils/validation.py:72: FutureWarning: Pass shuffle=True, random_state=10 as keyword args. From version 1.0 (renaming of 0.25) passing these as positional arguments will result in an error\n",
      "  \"will result in an error\", FutureWarning)\n"
     ]
    },
    {
     "name": "stdout",
     "output_type": "stream",
     "text": [
      "(9126, 269)\n"
     ]
    },
    {
     "name": "stderr",
     "output_type": "stream",
     "text": [
      "/data/xiayunpeng/anaconda3/envs/BERT/lib/python3.6/site-packages/sklearn/utils/validation.py:72: FutureWarning: Pass shuffle=True, random_state=10 as keyword args. From version 1.0 (renaming of 0.25) passing these as positional arguments will result in an error\n",
      "  \"will result in an error\", FutureWarning)\n"
     ]
    },
    {
     "name": "stdout",
     "output_type": "stream",
     "text": [
      "(9126, 270)\n"
     ]
    },
    {
     "name": "stderr",
     "output_type": "stream",
     "text": [
      "/data/xiayunpeng/anaconda3/envs/BERT/lib/python3.6/site-packages/sklearn/utils/validation.py:72: FutureWarning: Pass shuffle=True, random_state=10 as keyword args. From version 1.0 (renaming of 0.25) passing these as positional arguments will result in an error\n",
      "  \"will result in an error\", FutureWarning)\n"
     ]
    },
    {
     "name": "stdout",
     "output_type": "stream",
     "text": [
      "(9126, 271)\n"
     ]
    },
    {
     "name": "stderr",
     "output_type": "stream",
     "text": [
      "/data/xiayunpeng/anaconda3/envs/BERT/lib/python3.6/site-packages/sklearn/utils/validation.py:72: FutureWarning: Pass shuffle=True, random_state=10 as keyword args. From version 1.0 (renaming of 0.25) passing these as positional arguments will result in an error\n",
      "  \"will result in an error\", FutureWarning)\n"
     ]
    },
    {
     "name": "stdout",
     "output_type": "stream",
     "text": [
      "(9126, 272)\n"
     ]
    },
    {
     "name": "stderr",
     "output_type": "stream",
     "text": [
      "/data/xiayunpeng/anaconda3/envs/BERT/lib/python3.6/site-packages/sklearn/utils/validation.py:72: FutureWarning: Pass shuffle=True, random_state=10 as keyword args. From version 1.0 (renaming of 0.25) passing these as positional arguments will result in an error\n",
      "  \"will result in an error\", FutureWarning)\n"
     ]
    },
    {
     "name": "stdout",
     "output_type": "stream",
     "text": [
      "(9126, 273)\n"
     ]
    },
    {
     "name": "stderr",
     "output_type": "stream",
     "text": [
      "/data/xiayunpeng/anaconda3/envs/BERT/lib/python3.6/site-packages/sklearn/utils/validation.py:72: FutureWarning: Pass shuffle=True, random_state=10 as keyword args. From version 1.0 (renaming of 0.25) passing these as positional arguments will result in an error\n",
      "  \"will result in an error\", FutureWarning)\n"
     ]
    },
    {
     "name": "stdout",
     "output_type": "stream",
     "text": [
      "(9126, 274)\n"
     ]
    },
    {
     "name": "stderr",
     "output_type": "stream",
     "text": [
      "/data/xiayunpeng/anaconda3/envs/BERT/lib/python3.6/site-packages/sklearn/utils/validation.py:72: FutureWarning: Pass shuffle=True, random_state=10 as keyword args. From version 1.0 (renaming of 0.25) passing these as positional arguments will result in an error\n",
      "  \"will result in an error\", FutureWarning)\n"
     ]
    },
    {
     "name": "stdout",
     "output_type": "stream",
     "text": [
      "(9126, 275)\n"
     ]
    },
    {
     "name": "stderr",
     "output_type": "stream",
     "text": [
      "/data/xiayunpeng/anaconda3/envs/BERT/lib/python3.6/site-packages/sklearn/utils/validation.py:72: FutureWarning: Pass shuffle=True, random_state=10 as keyword args. From version 1.0 (renaming of 0.25) passing these as positional arguments will result in an error\n",
      "  \"will result in an error\", FutureWarning)\n"
     ]
    },
    {
     "name": "stdout",
     "output_type": "stream",
     "text": [
      "(9126, 276)\n"
     ]
    },
    {
     "name": "stderr",
     "output_type": "stream",
     "text": [
      "/data/xiayunpeng/anaconda3/envs/BERT/lib/python3.6/site-packages/sklearn/utils/validation.py:72: FutureWarning: Pass shuffle=True, random_state=10 as keyword args. From version 1.0 (renaming of 0.25) passing these as positional arguments will result in an error\n",
      "  \"will result in an error\", FutureWarning)\n"
     ]
    },
    {
     "name": "stdout",
     "output_type": "stream",
     "text": [
      "(9126, 277)\n"
     ]
    },
    {
     "name": "stderr",
     "output_type": "stream",
     "text": [
      "/data/xiayunpeng/anaconda3/envs/BERT/lib/python3.6/site-packages/sklearn/utils/validation.py:72: FutureWarning: Pass shuffle=True, random_state=10 as keyword args. From version 1.0 (renaming of 0.25) passing these as positional arguments will result in an error\n",
      "  \"will result in an error\", FutureWarning)\n"
     ]
    },
    {
     "name": "stdout",
     "output_type": "stream",
     "text": [
      "(9126, 278)\n"
     ]
    },
    {
     "name": "stderr",
     "output_type": "stream",
     "text": [
      "/data/xiayunpeng/anaconda3/envs/BERT/lib/python3.6/site-packages/sklearn/utils/validation.py:72: FutureWarning: Pass shuffle=True, random_state=10 as keyword args. From version 1.0 (renaming of 0.25) passing these as positional arguments will result in an error\n",
      "  \"will result in an error\", FutureWarning)\n"
     ]
    },
    {
     "name": "stdout",
     "output_type": "stream",
     "text": [
      "(9126, 279)\n"
     ]
    },
    {
     "name": "stderr",
     "output_type": "stream",
     "text": [
      "/data/xiayunpeng/anaconda3/envs/BERT/lib/python3.6/site-packages/sklearn/utils/validation.py:72: FutureWarning: Pass shuffle=True, random_state=10 as keyword args. From version 1.0 (renaming of 0.25) passing these as positional arguments will result in an error\n",
      "  \"will result in an error\", FutureWarning)\n"
     ]
    },
    {
     "name": "stdout",
     "output_type": "stream",
     "text": [
      "(9126, 280)\n"
     ]
    },
    {
     "name": "stderr",
     "output_type": "stream",
     "text": [
      "/data/xiayunpeng/anaconda3/envs/BERT/lib/python3.6/site-packages/sklearn/utils/validation.py:72: FutureWarning: Pass shuffle=True, random_state=10 as keyword args. From version 1.0 (renaming of 0.25) passing these as positional arguments will result in an error\n",
      "  \"will result in an error\", FutureWarning)\n"
     ]
    },
    {
     "name": "stdout",
     "output_type": "stream",
     "text": [
      "(9126, 281)\n"
     ]
    },
    {
     "name": "stderr",
     "output_type": "stream",
     "text": [
      "/data/xiayunpeng/anaconda3/envs/BERT/lib/python3.6/site-packages/sklearn/utils/validation.py:72: FutureWarning: Pass shuffle=True, random_state=10 as keyword args. From version 1.0 (renaming of 0.25) passing these as positional arguments will result in an error\n",
      "  \"will result in an error\", FutureWarning)\n"
     ]
    },
    {
     "name": "stdout",
     "output_type": "stream",
     "text": [
      "(9126, 282)\n"
     ]
    },
    {
     "name": "stderr",
     "output_type": "stream",
     "text": [
      "/data/xiayunpeng/anaconda3/envs/BERT/lib/python3.6/site-packages/sklearn/utils/validation.py:72: FutureWarning: Pass shuffle=True, random_state=10 as keyword args. From version 1.0 (renaming of 0.25) passing these as positional arguments will result in an error\n",
      "  \"will result in an error\", FutureWarning)\n"
     ]
    },
    {
     "name": "stdout",
     "output_type": "stream",
     "text": [
      "(9126, 283)\n"
     ]
    },
    {
     "name": "stderr",
     "output_type": "stream",
     "text": [
      "/data/xiayunpeng/anaconda3/envs/BERT/lib/python3.6/site-packages/sklearn/utils/validation.py:72: FutureWarning: Pass shuffle=True, random_state=10 as keyword args. From version 1.0 (renaming of 0.25) passing these as positional arguments will result in an error\n",
      "  \"will result in an error\", FutureWarning)\n"
     ]
    },
    {
     "name": "stdout",
     "output_type": "stream",
     "text": [
      "(9126, 284)\n"
     ]
    },
    {
     "name": "stderr",
     "output_type": "stream",
     "text": [
      "/data/xiayunpeng/anaconda3/envs/BERT/lib/python3.6/site-packages/sklearn/utils/validation.py:72: FutureWarning: Pass shuffle=True, random_state=10 as keyword args. From version 1.0 (renaming of 0.25) passing these as positional arguments will result in an error\n",
      "  \"will result in an error\", FutureWarning)\n"
     ]
    },
    {
     "name": "stdout",
     "output_type": "stream",
     "text": [
      "(9126, 285)\n"
     ]
    },
    {
     "name": "stderr",
     "output_type": "stream",
     "text": [
      "/data/xiayunpeng/anaconda3/envs/BERT/lib/python3.6/site-packages/sklearn/utils/validation.py:72: FutureWarning: Pass shuffle=True, random_state=10 as keyword args. From version 1.0 (renaming of 0.25) passing these as positional arguments will result in an error\n",
      "  \"will result in an error\", FutureWarning)\n"
     ]
    },
    {
     "name": "stdout",
     "output_type": "stream",
     "text": [
      "(9126, 286)\n"
     ]
    },
    {
     "name": "stderr",
     "output_type": "stream",
     "text": [
      "/data/xiayunpeng/anaconda3/envs/BERT/lib/python3.6/site-packages/sklearn/utils/validation.py:72: FutureWarning: Pass shuffle=True, random_state=10 as keyword args. From version 1.0 (renaming of 0.25) passing these as positional arguments will result in an error\n",
      "  \"will result in an error\", FutureWarning)\n"
     ]
    },
    {
     "name": "stdout",
     "output_type": "stream",
     "text": [
      "(9126, 287)\n"
     ]
    },
    {
     "name": "stderr",
     "output_type": "stream",
     "text": [
      "/data/xiayunpeng/anaconda3/envs/BERT/lib/python3.6/site-packages/sklearn/utils/validation.py:72: FutureWarning: Pass shuffle=True, random_state=10 as keyword args. From version 1.0 (renaming of 0.25) passing these as positional arguments will result in an error\n",
      "  \"will result in an error\", FutureWarning)\n"
     ]
    },
    {
     "name": "stdout",
     "output_type": "stream",
     "text": [
      "(9126, 288)\n"
     ]
    },
    {
     "name": "stderr",
     "output_type": "stream",
     "text": [
      "/data/xiayunpeng/anaconda3/envs/BERT/lib/python3.6/site-packages/sklearn/utils/validation.py:72: FutureWarning: Pass shuffle=True, random_state=10 as keyword args. From version 1.0 (renaming of 0.25) passing these as positional arguments will result in an error\n",
      "  \"will result in an error\", FutureWarning)\n"
     ]
    },
    {
     "name": "stdout",
     "output_type": "stream",
     "text": [
      "(9126, 289)\n"
     ]
    },
    {
     "name": "stderr",
     "output_type": "stream",
     "text": [
      "/data/xiayunpeng/anaconda3/envs/BERT/lib/python3.6/site-packages/sklearn/utils/validation.py:72: FutureWarning: Pass shuffle=True, random_state=10 as keyword args. From version 1.0 (renaming of 0.25) passing these as positional arguments will result in an error\n",
      "  \"will result in an error\", FutureWarning)\n"
     ]
    },
    {
     "name": "stdout",
     "output_type": "stream",
     "text": [
      "(9126, 290)\n"
     ]
    },
    {
     "name": "stderr",
     "output_type": "stream",
     "text": [
      "/data/xiayunpeng/anaconda3/envs/BERT/lib/python3.6/site-packages/sklearn/utils/validation.py:72: FutureWarning: Pass shuffle=True, random_state=10 as keyword args. From version 1.0 (renaming of 0.25) passing these as positional arguments will result in an error\n",
      "  \"will result in an error\", FutureWarning)\n"
     ]
    },
    {
     "name": "stdout",
     "output_type": "stream",
     "text": [
      "(9126, 291)\n"
     ]
    },
    {
     "name": "stderr",
     "output_type": "stream",
     "text": [
      "/data/xiayunpeng/anaconda3/envs/BERT/lib/python3.6/site-packages/sklearn/utils/validation.py:72: FutureWarning: Pass shuffle=True, random_state=10 as keyword args. From version 1.0 (renaming of 0.25) passing these as positional arguments will result in an error\n",
      "  \"will result in an error\", FutureWarning)\n"
     ]
    },
    {
     "name": "stdout",
     "output_type": "stream",
     "text": [
      "(9126, 292)\n"
     ]
    },
    {
     "name": "stderr",
     "output_type": "stream",
     "text": [
      "/data/xiayunpeng/anaconda3/envs/BERT/lib/python3.6/site-packages/sklearn/utils/validation.py:72: FutureWarning: Pass shuffle=True, random_state=10 as keyword args. From version 1.0 (renaming of 0.25) passing these as positional arguments will result in an error\n",
      "  \"will result in an error\", FutureWarning)\n"
     ]
    },
    {
     "name": "stdout",
     "output_type": "stream",
     "text": [
      "(9126, 293)\n"
     ]
    },
    {
     "name": "stderr",
     "output_type": "stream",
     "text": [
      "/data/xiayunpeng/anaconda3/envs/BERT/lib/python3.6/site-packages/sklearn/utils/validation.py:72: FutureWarning: Pass shuffle=True, random_state=10 as keyword args. From version 1.0 (renaming of 0.25) passing these as positional arguments will result in an error\n",
      "  \"will result in an error\", FutureWarning)\n"
     ]
    },
    {
     "name": "stdout",
     "output_type": "stream",
     "text": [
      "(9126, 294)\n"
     ]
    },
    {
     "name": "stderr",
     "output_type": "stream",
     "text": [
      "/data/xiayunpeng/anaconda3/envs/BERT/lib/python3.6/site-packages/sklearn/utils/validation.py:72: FutureWarning: Pass shuffle=True, random_state=10 as keyword args. From version 1.0 (renaming of 0.25) passing these as positional arguments will result in an error\n",
      "  \"will result in an error\", FutureWarning)\n"
     ]
    },
    {
     "name": "stdout",
     "output_type": "stream",
     "text": [
      "(9126, 295)\n"
     ]
    },
    {
     "name": "stderr",
     "output_type": "stream",
     "text": [
      "/data/xiayunpeng/anaconda3/envs/BERT/lib/python3.6/site-packages/sklearn/utils/validation.py:72: FutureWarning: Pass shuffle=True, random_state=10 as keyword args. From version 1.0 (renaming of 0.25) passing these as positional arguments will result in an error\n",
      "  \"will result in an error\", FutureWarning)\n"
     ]
    },
    {
     "name": "stdout",
     "output_type": "stream",
     "text": [
      "(9126, 296)\n"
     ]
    },
    {
     "name": "stderr",
     "output_type": "stream",
     "text": [
      "/data/xiayunpeng/anaconda3/envs/BERT/lib/python3.6/site-packages/sklearn/utils/validation.py:72: FutureWarning: Pass shuffle=True, random_state=10 as keyword args. From version 1.0 (renaming of 0.25) passing these as positional arguments will result in an error\n",
      "  \"will result in an error\", FutureWarning)\n"
     ]
    },
    {
     "name": "stdout",
     "output_type": "stream",
     "text": [
      "(9126, 297)\n"
     ]
    },
    {
     "name": "stderr",
     "output_type": "stream",
     "text": [
      "/data/xiayunpeng/anaconda3/envs/BERT/lib/python3.6/site-packages/sklearn/utils/validation.py:72: FutureWarning: Pass shuffle=True, random_state=10 as keyword args. From version 1.0 (renaming of 0.25) passing these as positional arguments will result in an error\n",
      "  \"will result in an error\", FutureWarning)\n"
     ]
    },
    {
     "name": "stdout",
     "output_type": "stream",
     "text": [
      "(9126, 298)\n"
     ]
    },
    {
     "name": "stderr",
     "output_type": "stream",
     "text": [
      "/data/xiayunpeng/anaconda3/envs/BERT/lib/python3.6/site-packages/sklearn/utils/validation.py:72: FutureWarning: Pass shuffle=True, random_state=10 as keyword args. From version 1.0 (renaming of 0.25) passing these as positional arguments will result in an error\n",
      "  \"will result in an error\", FutureWarning)\n"
     ]
    },
    {
     "name": "stdout",
     "output_type": "stream",
     "text": [
      "(9126, 299)\n"
     ]
    },
    {
     "name": "stderr",
     "output_type": "stream",
     "text": [
      "/data/xiayunpeng/anaconda3/envs/BERT/lib/python3.6/site-packages/sklearn/utils/validation.py:72: FutureWarning: Pass shuffle=True, random_state=10 as keyword args. From version 1.0 (renaming of 0.25) passing these as positional arguments will result in an error\n",
      "  \"will result in an error\", FutureWarning)\n"
     ]
    },
    {
     "name": "stdout",
     "output_type": "stream",
     "text": [
      "(9126, 300)\n"
     ]
    },
    {
     "name": "stderr",
     "output_type": "stream",
     "text": [
      "/data/xiayunpeng/anaconda3/envs/BERT/lib/python3.6/site-packages/sklearn/utils/validation.py:72: FutureWarning: Pass shuffle=True, random_state=10 as keyword args. From version 1.0 (renaming of 0.25) passing these as positional arguments will result in an error\n",
      "  \"will result in an error\", FutureWarning)\n"
     ]
    },
    {
     "name": "stdout",
     "output_type": "stream",
     "text": [
      "(9126, 301)\n"
     ]
    },
    {
     "name": "stderr",
     "output_type": "stream",
     "text": [
      "/data/xiayunpeng/anaconda3/envs/BERT/lib/python3.6/site-packages/sklearn/utils/validation.py:72: FutureWarning: Pass shuffle=True, random_state=10 as keyword args. From version 1.0 (renaming of 0.25) passing these as positional arguments will result in an error\n",
      "  \"will result in an error\", FutureWarning)\n"
     ]
    },
    {
     "name": "stdout",
     "output_type": "stream",
     "text": [
      "(9126, 302)\n"
     ]
    },
    {
     "name": "stderr",
     "output_type": "stream",
     "text": [
      "/data/xiayunpeng/anaconda3/envs/BERT/lib/python3.6/site-packages/sklearn/utils/validation.py:72: FutureWarning: Pass shuffle=True, random_state=10 as keyword args. From version 1.0 (renaming of 0.25) passing these as positional arguments will result in an error\n",
      "  \"will result in an error\", FutureWarning)\n"
     ]
    },
    {
     "name": "stdout",
     "output_type": "stream",
     "text": [
      "(9126, 303)\n"
     ]
    },
    {
     "name": "stderr",
     "output_type": "stream",
     "text": [
      "/data/xiayunpeng/anaconda3/envs/BERT/lib/python3.6/site-packages/sklearn/utils/validation.py:72: FutureWarning: Pass shuffle=True, random_state=10 as keyword args. From version 1.0 (renaming of 0.25) passing these as positional arguments will result in an error\n",
      "  \"will result in an error\", FutureWarning)\n"
     ]
    },
    {
     "name": "stdout",
     "output_type": "stream",
     "text": [
      "(9126, 304)\n"
     ]
    },
    {
     "name": "stderr",
     "output_type": "stream",
     "text": [
      "/data/xiayunpeng/anaconda3/envs/BERT/lib/python3.6/site-packages/sklearn/utils/validation.py:72: FutureWarning: Pass shuffle=True, random_state=10 as keyword args. From version 1.0 (renaming of 0.25) passing these as positional arguments will result in an error\n",
      "  \"will result in an error\", FutureWarning)\n"
     ]
    },
    {
     "name": "stdout",
     "output_type": "stream",
     "text": [
      "(9126, 305)\n"
     ]
    },
    {
     "name": "stderr",
     "output_type": "stream",
     "text": [
      "/data/xiayunpeng/anaconda3/envs/BERT/lib/python3.6/site-packages/sklearn/utils/validation.py:72: FutureWarning: Pass shuffle=True, random_state=10 as keyword args. From version 1.0 (renaming of 0.25) passing these as positional arguments will result in an error\n",
      "  \"will result in an error\", FutureWarning)\n"
     ]
    },
    {
     "name": "stdout",
     "output_type": "stream",
     "text": [
      "(9126, 306)\n"
     ]
    },
    {
     "name": "stderr",
     "output_type": "stream",
     "text": [
      "/data/xiayunpeng/anaconda3/envs/BERT/lib/python3.6/site-packages/sklearn/utils/validation.py:72: FutureWarning: Pass shuffle=True, random_state=10 as keyword args. From version 1.0 (renaming of 0.25) passing these as positional arguments will result in an error\n",
      "  \"will result in an error\", FutureWarning)\n"
     ]
    },
    {
     "name": "stdout",
     "output_type": "stream",
     "text": [
      "(9126, 307)\n"
     ]
    },
    {
     "name": "stderr",
     "output_type": "stream",
     "text": [
      "/data/xiayunpeng/anaconda3/envs/BERT/lib/python3.6/site-packages/sklearn/utils/validation.py:72: FutureWarning: Pass shuffle=True, random_state=10 as keyword args. From version 1.0 (renaming of 0.25) passing these as positional arguments will result in an error\n",
      "  \"will result in an error\", FutureWarning)\n"
     ]
    },
    {
     "name": "stdout",
     "output_type": "stream",
     "text": [
      "(9126, 308)\n"
     ]
    },
    {
     "name": "stderr",
     "output_type": "stream",
     "text": [
      "/data/xiayunpeng/anaconda3/envs/BERT/lib/python3.6/site-packages/sklearn/utils/validation.py:72: FutureWarning: Pass shuffle=True, random_state=10 as keyword args. From version 1.0 (renaming of 0.25) passing these as positional arguments will result in an error\n",
      "  \"will result in an error\", FutureWarning)\n"
     ]
    },
    {
     "name": "stdout",
     "output_type": "stream",
     "text": [
      "(9126, 309)\n"
     ]
    },
    {
     "name": "stderr",
     "output_type": "stream",
     "text": [
      "/data/xiayunpeng/anaconda3/envs/BERT/lib/python3.6/site-packages/sklearn/utils/validation.py:72: FutureWarning: Pass shuffle=True, random_state=10 as keyword args. From version 1.0 (renaming of 0.25) passing these as positional arguments will result in an error\n",
      "  \"will result in an error\", FutureWarning)\n"
     ]
    },
    {
     "name": "stdout",
     "output_type": "stream",
     "text": [
      "(9126, 310)\n"
     ]
    },
    {
     "name": "stderr",
     "output_type": "stream",
     "text": [
      "/data/xiayunpeng/anaconda3/envs/BERT/lib/python3.6/site-packages/sklearn/utils/validation.py:72: FutureWarning: Pass shuffle=True, random_state=10 as keyword args. From version 1.0 (renaming of 0.25) passing these as positional arguments will result in an error\n",
      "  \"will result in an error\", FutureWarning)\n"
     ]
    },
    {
     "name": "stdout",
     "output_type": "stream",
     "text": [
      "(9126, 311)\n"
     ]
    },
    {
     "name": "stderr",
     "output_type": "stream",
     "text": [
      "/data/xiayunpeng/anaconda3/envs/BERT/lib/python3.6/site-packages/sklearn/utils/validation.py:72: FutureWarning: Pass shuffle=True, random_state=10 as keyword args. From version 1.0 (renaming of 0.25) passing these as positional arguments will result in an error\n",
      "  \"will result in an error\", FutureWarning)\n"
     ]
    },
    {
     "name": "stdout",
     "output_type": "stream",
     "text": [
      "(9126, 312)\n"
     ]
    },
    {
     "name": "stderr",
     "output_type": "stream",
     "text": [
      "/data/xiayunpeng/anaconda3/envs/BERT/lib/python3.6/site-packages/sklearn/utils/validation.py:72: FutureWarning: Pass shuffle=True, random_state=10 as keyword args. From version 1.0 (renaming of 0.25) passing these as positional arguments will result in an error\n",
      "  \"will result in an error\", FutureWarning)\n"
     ]
    },
    {
     "name": "stdout",
     "output_type": "stream",
     "text": [
      "(9126, 313)\n"
     ]
    },
    {
     "name": "stderr",
     "output_type": "stream",
     "text": [
      "/data/xiayunpeng/anaconda3/envs/BERT/lib/python3.6/site-packages/sklearn/utils/validation.py:72: FutureWarning: Pass shuffle=True, random_state=10 as keyword args. From version 1.0 (renaming of 0.25) passing these as positional arguments will result in an error\n",
      "  \"will result in an error\", FutureWarning)\n"
     ]
    },
    {
     "name": "stdout",
     "output_type": "stream",
     "text": [
      "(9126, 314)\n"
     ]
    },
    {
     "name": "stderr",
     "output_type": "stream",
     "text": [
      "/data/xiayunpeng/anaconda3/envs/BERT/lib/python3.6/site-packages/sklearn/utils/validation.py:72: FutureWarning: Pass shuffle=True, random_state=10 as keyword args. From version 1.0 (renaming of 0.25) passing these as positional arguments will result in an error\n",
      "  \"will result in an error\", FutureWarning)\n"
     ]
    },
    {
     "name": "stdout",
     "output_type": "stream",
     "text": [
      "(9126, 315)\n"
     ]
    },
    {
     "name": "stderr",
     "output_type": "stream",
     "text": [
      "/data/xiayunpeng/anaconda3/envs/BERT/lib/python3.6/site-packages/sklearn/utils/validation.py:72: FutureWarning: Pass shuffle=True, random_state=10 as keyword args. From version 1.0 (renaming of 0.25) passing these as positional arguments will result in an error\n",
      "  \"will result in an error\", FutureWarning)\n"
     ]
    },
    {
     "name": "stdout",
     "output_type": "stream",
     "text": [
      "(9126, 316)\n"
     ]
    },
    {
     "name": "stderr",
     "output_type": "stream",
     "text": [
      "/data/xiayunpeng/anaconda3/envs/BERT/lib/python3.6/site-packages/sklearn/utils/validation.py:72: FutureWarning: Pass shuffle=True, random_state=10 as keyword args. From version 1.0 (renaming of 0.25) passing these as positional arguments will result in an error\n",
      "  \"will result in an error\", FutureWarning)\n"
     ]
    },
    {
     "name": "stdout",
     "output_type": "stream",
     "text": [
      "(9126, 317)\n"
     ]
    },
    {
     "name": "stderr",
     "output_type": "stream",
     "text": [
      "/data/xiayunpeng/anaconda3/envs/BERT/lib/python3.6/site-packages/sklearn/utils/validation.py:72: FutureWarning: Pass shuffle=True, random_state=10 as keyword args. From version 1.0 (renaming of 0.25) passing these as positional arguments will result in an error\n",
      "  \"will result in an error\", FutureWarning)\n"
     ]
    },
    {
     "name": "stdout",
     "output_type": "stream",
     "text": [
      "(9126, 318)\n"
     ]
    },
    {
     "name": "stderr",
     "output_type": "stream",
     "text": [
      "/data/xiayunpeng/anaconda3/envs/BERT/lib/python3.6/site-packages/sklearn/utils/validation.py:72: FutureWarning: Pass shuffle=True, random_state=10 as keyword args. From version 1.0 (renaming of 0.25) passing these as positional arguments will result in an error\n",
      "  \"will result in an error\", FutureWarning)\n"
     ]
    },
    {
     "name": "stdout",
     "output_type": "stream",
     "text": [
      "(9126, 319)\n"
     ]
    },
    {
     "name": "stderr",
     "output_type": "stream",
     "text": [
      "/data/xiayunpeng/anaconda3/envs/BERT/lib/python3.6/site-packages/sklearn/utils/validation.py:72: FutureWarning: Pass shuffle=True, random_state=10 as keyword args. From version 1.0 (renaming of 0.25) passing these as positional arguments will result in an error\n",
      "  \"will result in an error\", FutureWarning)\n"
     ]
    },
    {
     "name": "stdout",
     "output_type": "stream",
     "text": [
      "(9126, 320)\n"
     ]
    },
    {
     "name": "stderr",
     "output_type": "stream",
     "text": [
      "/data/xiayunpeng/anaconda3/envs/BERT/lib/python3.6/site-packages/sklearn/utils/validation.py:72: FutureWarning: Pass shuffle=True, random_state=10 as keyword args. From version 1.0 (renaming of 0.25) passing these as positional arguments will result in an error\n",
      "  \"will result in an error\", FutureWarning)\n"
     ]
    },
    {
     "name": "stdout",
     "output_type": "stream",
     "text": [
      "(9126, 321)\n"
     ]
    },
    {
     "name": "stderr",
     "output_type": "stream",
     "text": [
      "/data/xiayunpeng/anaconda3/envs/BERT/lib/python3.6/site-packages/sklearn/utils/validation.py:72: FutureWarning: Pass shuffle=True, random_state=10 as keyword args. From version 1.0 (renaming of 0.25) passing these as positional arguments will result in an error\n",
      "  \"will result in an error\", FutureWarning)\n"
     ]
    },
    {
     "name": "stdout",
     "output_type": "stream",
     "text": [
      "(9126, 322)\n"
     ]
    },
    {
     "name": "stderr",
     "output_type": "stream",
     "text": [
      "/data/xiayunpeng/anaconda3/envs/BERT/lib/python3.6/site-packages/sklearn/utils/validation.py:72: FutureWarning: Pass shuffle=True, random_state=10 as keyword args. From version 1.0 (renaming of 0.25) passing these as positional arguments will result in an error\n",
      "  \"will result in an error\", FutureWarning)\n"
     ]
    },
    {
     "name": "stdout",
     "output_type": "stream",
     "text": [
      "(9126, 323)\n"
     ]
    },
    {
     "name": "stderr",
     "output_type": "stream",
     "text": [
      "/data/xiayunpeng/anaconda3/envs/BERT/lib/python3.6/site-packages/sklearn/utils/validation.py:72: FutureWarning: Pass shuffle=True, random_state=10 as keyword args. From version 1.0 (renaming of 0.25) passing these as positional arguments will result in an error\n",
      "  \"will result in an error\", FutureWarning)\n"
     ]
    },
    {
     "name": "stdout",
     "output_type": "stream",
     "text": [
      "(9126, 324)\n"
     ]
    },
    {
     "name": "stderr",
     "output_type": "stream",
     "text": [
      "/data/xiayunpeng/anaconda3/envs/BERT/lib/python3.6/site-packages/sklearn/utils/validation.py:72: FutureWarning: Pass shuffle=True, random_state=10 as keyword args. From version 1.0 (renaming of 0.25) passing these as positional arguments will result in an error\n",
      "  \"will result in an error\", FutureWarning)\n"
     ]
    },
    {
     "name": "stdout",
     "output_type": "stream",
     "text": [
      "(9126, 325)\n"
     ]
    },
    {
     "name": "stderr",
     "output_type": "stream",
     "text": [
      "/data/xiayunpeng/anaconda3/envs/BERT/lib/python3.6/site-packages/sklearn/utils/validation.py:72: FutureWarning: Pass shuffle=True, random_state=10 as keyword args. From version 1.0 (renaming of 0.25) passing these as positional arguments will result in an error\n",
      "  \"will result in an error\", FutureWarning)\n"
     ]
    },
    {
     "name": "stdout",
     "output_type": "stream",
     "text": [
      "(9126, 326)\n"
     ]
    },
    {
     "name": "stderr",
     "output_type": "stream",
     "text": [
      "/data/xiayunpeng/anaconda3/envs/BERT/lib/python3.6/site-packages/sklearn/utils/validation.py:72: FutureWarning: Pass shuffle=True, random_state=10 as keyword args. From version 1.0 (renaming of 0.25) passing these as positional arguments will result in an error\n",
      "  \"will result in an error\", FutureWarning)\n"
     ]
    },
    {
     "name": "stdout",
     "output_type": "stream",
     "text": [
      "(9126, 327)\n"
     ]
    },
    {
     "name": "stderr",
     "output_type": "stream",
     "text": [
      "/data/xiayunpeng/anaconda3/envs/BERT/lib/python3.6/site-packages/sklearn/utils/validation.py:72: FutureWarning: Pass shuffle=True, random_state=10 as keyword args. From version 1.0 (renaming of 0.25) passing these as positional arguments will result in an error\n",
      "  \"will result in an error\", FutureWarning)\n"
     ]
    },
    {
     "name": "stdout",
     "output_type": "stream",
     "text": [
      "(9126, 328)\n"
     ]
    },
    {
     "name": "stderr",
     "output_type": "stream",
     "text": [
      "/data/xiayunpeng/anaconda3/envs/BERT/lib/python3.6/site-packages/sklearn/utils/validation.py:72: FutureWarning: Pass shuffle=True, random_state=10 as keyword args. From version 1.0 (renaming of 0.25) passing these as positional arguments will result in an error\n",
      "  \"will result in an error\", FutureWarning)\n"
     ]
    },
    {
     "name": "stdout",
     "output_type": "stream",
     "text": [
      "(9126, 329)\n"
     ]
    },
    {
     "name": "stderr",
     "output_type": "stream",
     "text": [
      "/data/xiayunpeng/anaconda3/envs/BERT/lib/python3.6/site-packages/sklearn/utils/validation.py:72: FutureWarning: Pass shuffle=True, random_state=10 as keyword args. From version 1.0 (renaming of 0.25) passing these as positional arguments will result in an error\n",
      "  \"will result in an error\", FutureWarning)\n"
     ]
    },
    {
     "name": "stdout",
     "output_type": "stream",
     "text": [
      "(9126, 330)\n"
     ]
    },
    {
     "name": "stderr",
     "output_type": "stream",
     "text": [
      "/data/xiayunpeng/anaconda3/envs/BERT/lib/python3.6/site-packages/sklearn/utils/validation.py:72: FutureWarning: Pass shuffle=True, random_state=10 as keyword args. From version 1.0 (renaming of 0.25) passing these as positional arguments will result in an error\n",
      "  \"will result in an error\", FutureWarning)\n"
     ]
    },
    {
     "name": "stdout",
     "output_type": "stream",
     "text": [
      "(9126, 331)\n"
     ]
    },
    {
     "name": "stderr",
     "output_type": "stream",
     "text": [
      "/data/xiayunpeng/anaconda3/envs/BERT/lib/python3.6/site-packages/sklearn/utils/validation.py:72: FutureWarning: Pass shuffle=True, random_state=10 as keyword args. From version 1.0 (renaming of 0.25) passing these as positional arguments will result in an error\n",
      "  \"will result in an error\", FutureWarning)\n"
     ]
    },
    {
     "name": "stdout",
     "output_type": "stream",
     "text": [
      "(9126, 332)\n"
     ]
    },
    {
     "name": "stderr",
     "output_type": "stream",
     "text": [
      "/data/xiayunpeng/anaconda3/envs/BERT/lib/python3.6/site-packages/sklearn/utils/validation.py:72: FutureWarning: Pass shuffle=True, random_state=10 as keyword args. From version 1.0 (renaming of 0.25) passing these as positional arguments will result in an error\n",
      "  \"will result in an error\", FutureWarning)\n"
     ]
    },
    {
     "name": "stdout",
     "output_type": "stream",
     "text": [
      "(9126, 333)\n"
     ]
    },
    {
     "name": "stderr",
     "output_type": "stream",
     "text": [
      "/data/xiayunpeng/anaconda3/envs/BERT/lib/python3.6/site-packages/sklearn/utils/validation.py:72: FutureWarning: Pass shuffle=True, random_state=10 as keyword args. From version 1.0 (renaming of 0.25) passing these as positional arguments will result in an error\n",
      "  \"will result in an error\", FutureWarning)\n"
     ]
    },
    {
     "name": "stdout",
     "output_type": "stream",
     "text": [
      "(9126, 334)\n"
     ]
    },
    {
     "name": "stderr",
     "output_type": "stream",
     "text": [
      "/data/xiayunpeng/anaconda3/envs/BERT/lib/python3.6/site-packages/sklearn/utils/validation.py:72: FutureWarning: Pass shuffle=True, random_state=10 as keyword args. From version 1.0 (renaming of 0.25) passing these as positional arguments will result in an error\n",
      "  \"will result in an error\", FutureWarning)\n"
     ]
    },
    {
     "name": "stdout",
     "output_type": "stream",
     "text": [
      "(9126, 335)\n"
     ]
    },
    {
     "name": "stderr",
     "output_type": "stream",
     "text": [
      "/data/xiayunpeng/anaconda3/envs/BERT/lib/python3.6/site-packages/sklearn/utils/validation.py:72: FutureWarning: Pass shuffle=True, random_state=10 as keyword args. From version 1.0 (renaming of 0.25) passing these as positional arguments will result in an error\n",
      "  \"will result in an error\", FutureWarning)\n"
     ]
    },
    {
     "name": "stdout",
     "output_type": "stream",
     "text": [
      "(9126, 336)\n"
     ]
    },
    {
     "name": "stderr",
     "output_type": "stream",
     "text": [
      "/data/xiayunpeng/anaconda3/envs/BERT/lib/python3.6/site-packages/sklearn/utils/validation.py:72: FutureWarning: Pass shuffle=True, random_state=10 as keyword args. From version 1.0 (renaming of 0.25) passing these as positional arguments will result in an error\n",
      "  \"will result in an error\", FutureWarning)\n"
     ]
    },
    {
     "name": "stdout",
     "output_type": "stream",
     "text": [
      "(9126, 337)\n"
     ]
    },
    {
     "name": "stderr",
     "output_type": "stream",
     "text": [
      "/data/xiayunpeng/anaconda3/envs/BERT/lib/python3.6/site-packages/sklearn/utils/validation.py:72: FutureWarning: Pass shuffle=True, random_state=10 as keyword args. From version 1.0 (renaming of 0.25) passing these as positional arguments will result in an error\n",
      "  \"will result in an error\", FutureWarning)\n"
     ]
    },
    {
     "name": "stdout",
     "output_type": "stream",
     "text": [
      "(9126, 338)\n"
     ]
    },
    {
     "name": "stderr",
     "output_type": "stream",
     "text": [
      "/data/xiayunpeng/anaconda3/envs/BERT/lib/python3.6/site-packages/sklearn/utils/validation.py:72: FutureWarning: Pass shuffle=True, random_state=10 as keyword args. From version 1.0 (renaming of 0.25) passing these as positional arguments will result in an error\n",
      "  \"will result in an error\", FutureWarning)\n"
     ]
    },
    {
     "name": "stdout",
     "output_type": "stream",
     "text": [
      "(9126, 339)\n"
     ]
    },
    {
     "name": "stderr",
     "output_type": "stream",
     "text": [
      "/data/xiayunpeng/anaconda3/envs/BERT/lib/python3.6/site-packages/sklearn/utils/validation.py:72: FutureWarning: Pass shuffle=True, random_state=10 as keyword args. From version 1.0 (renaming of 0.25) passing these as positional arguments will result in an error\n",
      "  \"will result in an error\", FutureWarning)\n"
     ]
    }
   ],
   "source": [
    "#SVM-RFE\n",
    "All = []\n",
    "feature = []\n",
    "for i in range(len(sorted_id)):\n",
    "    feature.append(trainData[:,sorted_id[i]])\n",
    "    trainData_svm = np.array(feature).T\n",
    "    print(trainData.shape)\n",
    "    #交叉验证\n",
    "    rows = 10\n",
    "    row = -1\n",
    "    row_name = []\n",
    "    Sen = np.zeros(rows)\n",
    "    Spe = np.zeros(rows)\n",
    "    Acc = np.zeros(rows)\n",
    "    Mcc = np.zeros(rows)\n",
    "    Auc = np.zeros(rows)\n",
    "\n",
    "    kf = KFold(10,True,10)\n",
    "    for i,[train_index, test_index] in enumerate(kf.split(trainData)):\n",
    "        row+=1\n",
    "        row_one = \"Bert6mA_origin_KFold_\" + str(i)\n",
    "        row_name.append(row_one)\n",
    "        X_train = trainData[train_index]\n",
    "        X_test = trainData[test_index]\n",
    "        Y_train = trainLabel[train_index]\n",
    "        Y_test = trainLabel[test_index]\n",
    "\n",
    "        model = SVC(C=1.0,gamma=\"auto\")\n",
    "\n",
    "        model.fit(X_train,Y_train)\n",
    "        th,_,_,_,_,_,_,_,_,_ = metricsCal.get_train_metrics( model.decision_function(X_train).reshape(-1), Y_train )\n",
    "        _,_,_,_,sen,spe,acc,mcc,auc = metricsCal.get_test_metrics( model.decision_function(X_test), Y_test,th )\n",
    "        Sen[row] = sen\n",
    "        Spe[row] = spe\n",
    "        Acc[row] = acc\n",
    "        Mcc[row] = mcc\n",
    "        Auc[row] = auc\n",
    "\n",
    "    All.append(np.mean(np.vstack((Sen,Spe,Acc,Mcc,Auc)),axis=1) )"
   ]
  },
  {
   "cell_type": "code",
   "execution_count": 11,
   "id": "d492cf63",
   "metadata": {
    "ExecuteTime": {
     "end_time": "2023-04-22T06:31:50.714140Z",
     "start_time": "2023-04-22T06:31:50.706175Z"
    }
   },
   "outputs": [
    {
     "name": "stdout",
     "output_type": "stream",
     "text": [
      "98\n"
     ]
    }
   ],
   "source": [
    "max_auc = np.max(np.array(All)[:,4])\n",
    "for i in range(len(All)):\n",
    "    if All[i][4]==max_auc:\n",
    "        print(i)"
   ]
  },
  {
   "cell_type": "code",
   "execution_count": 13,
   "id": "57643774",
   "metadata": {
    "ExecuteTime": {
     "end_time": "2023-04-22T06:33:40.698284Z",
     "start_time": "2023-04-22T06:33:40.659815Z"
    }
   },
   "outputs": [],
   "source": [
    "pd.DataFrame(np.append(np.array(sorted_id).reshape(-1,1),np.array(All),axis=1)).to_csv(\"Result/Feature_Selection/Location_SVM-RFE.csv\")\n",
    "#i=98,即使用99个特征的时候达到最优效果"
   ]
  },
  {
   "cell_type": "markdown",
   "id": "d8e265ec",
   "metadata": {},
   "source": [
    "# MRMR特征选择，包括MRMRMID和MRMRMIQ"
   ]
  },
  {
   "cell_type": "code",
   "execution_count": 53,
   "id": "d4e974e1",
   "metadata": {
    "ExecuteTime": {
     "end_time": "2023-05-07T02:14:45.585719Z",
     "start_time": "2023-05-07T02:14:45.490021Z"
    }
   },
   "outputs": [],
   "source": [
    "MRMR_MID = pd.read_csv(\"Result/Loc_ICA_MRMR.csv\").iloc[0]\n",
    "MRMR_MIQ = pd.read_csv(\"Result/Loc_ICA_MRMR.csv\").iloc[1]"
   ]
  },
  {
   "cell_type": "code",
   "execution_count": 54,
   "id": "3d9a2402",
   "metadata": {
    "ExecuteTime": {
     "end_time": "2023-05-07T02:14:46.165351Z",
     "start_time": "2023-05-07T02:14:46.151527Z"
    }
   },
   "outputs": [],
   "source": [
    "list_MID = [int(str(i)[4:]) for i in MRMR_MID[2:] ]\n",
    "list_MIQ = [int(str(i)[4:]) for i in MRMR_MIQ[2:] ]"
   ]
  },
  {
   "cell_type": "code",
   "execution_count": 176,
   "id": "f8f4f790",
   "metadata": {
    "ExecuteTime": {
     "end_time": "2023-05-20T05:20:28.838437Z",
     "start_time": "2023-05-20T05:13:06.124463Z"
    }
   },
   "outputs": [
    {
     "name": "stdout",
     "output_type": "stream",
     "text": [
      "(9126, 1)\n",
      "0.523156916294414\n",
      "(9126, 2)\n",
      "0.523108686762986\n",
      "(9126, 3)\n",
      "0.5448848993953148\n",
      "(9126, 4)\n",
      "0.5445206157968737\n",
      "(9126, 5)\n",
      "0.5544970843206852\n",
      "(9126, 6)\n",
      "0.557076120912401\n",
      "(9126, 7)\n",
      "0.5581025232356787\n",
      "(9126, 8)\n",
      "0.5621483317299862\n",
      "(9126, 9)\n",
      "0.5621487565760741\n",
      "(9126, 10)\n",
      "0.5642444906966996\n",
      "(9126, 11)\n",
      "0.5700706717805322\n",
      "(9126, 12)\n",
      "0.5737679750600838\n",
      "(9126, 13)\n",
      "0.5779462227759968\n",
      "(9126, 14)\n",
      "0.5806201649913777\n",
      "(9126, 15)\n",
      "0.5994534237800669\n",
      "(9126, 16)\n",
      "0.5995903346924171\n",
      "(9126, 17)\n",
      "0.6002766724381405\n",
      "(9126, 18)\n",
      "0.6049168862199051\n",
      "(9126, 19)\n",
      "0.6068192107671616\n",
      "(9126, 20)\n",
      "0.6075141444714676\n",
      "(9126, 21)\n",
      "0.609338697224412\n",
      "(9126, 22)\n",
      "0.61603233801552\n",
      "(9126, 23)\n",
      "0.6210992788605538\n",
      "(9126, 24)\n",
      "0.6225699957948331\n",
      "(9126, 25)\n",
      "0.6528843855008224\n",
      "(9126, 26)\n",
      "0.6526395717826141\n",
      "(9126, 27)\n",
      "0.6531914388142421\n",
      "(9126, 28)\n",
      "0.6548201480175931\n",
      "(9126, 29)\n",
      "0.6583539064652709\n",
      "(9126, 30)\n",
      "0.6873819886760337\n",
      "(9126, 31)\n",
      "0.6967483351837915\n",
      "(9126, 32)\n",
      "0.7026910763702816\n",
      "(9126, 33)\n",
      "0.7126697584571404\n",
      "(9126, 34)\n",
      "0.7129880163937825\n",
      "(9126, 35)\n",
      "0.7134721854697464\n",
      "(9126, 36)\n",
      "0.713372555595537\n",
      "(9126, 37)\n",
      "0.7137359991322538\n",
      "(9126, 38)\n",
      "0.7167209996914263\n",
      "(9126, 39)\n",
      "0.7180827560172034\n",
      "(9126, 40)\n",
      "0.721678415654611\n",
      "(9126, 41)\n",
      "0.7515369680102274\n",
      "(9126, 42)\n",
      "0.7513422224384843\n",
      "(9126, 43)\n",
      "0.7512353339041052\n",
      "(9126, 44)\n",
      "0.7530331413468743\n",
      "(9126, 45)\n",
      "0.7562775580105426\n",
      "(9126, 46)\n",
      "0.757256768566027\n",
      "(9126, 47)\n",
      "0.7595870083879139\n",
      "(9126, 48)\n",
      "0.7626855806385503\n",
      "(9126, 49)\n",
      "0.7635716301505345\n",
      "(9126, 50)\n",
      "0.7646833894287264\n",
      "(9126, 51)\n",
      "0.7663243147301736\n",
      "(9126, 52)\n",
      "0.7670983142367811\n",
      "(9126, 53)\n",
      "0.7670736583351675\n",
      "(9126, 54)\n",
      "0.7696152457510477\n",
      "(9126, 55)\n",
      "0.7696414602519699\n",
      "(9126, 56)\n",
      "0.7697377797965116\n",
      "(9126, 57)\n",
      "0.7732407656096271\n",
      "(9126, 58)\n",
      "0.7744941274635029\n",
      "(9126, 59)\n",
      "0.7746333317710047\n",
      "(9126, 60)\n",
      "0.7748179169198431\n",
      "(9126, 61)\n",
      "0.7757529103540333\n",
      "(9126, 62)\n",
      "0.7756996637777313\n",
      "(9126, 63)\n",
      "0.777054702432593\n",
      "(9126, 64)\n",
      "0.7774660103967055\n",
      "(9126, 65)\n",
      "0.7778359946336681\n",
      "(9126, 66)\n",
      "0.7779209038422848\n",
      "(9126, 67)\n",
      "0.7781448036136436\n",
      "(9126, 68)\n",
      "0.7819784819618528\n",
      "(9126, 69)\n",
      "0.7843706369875287\n",
      "(9126, 70)\n",
      "0.7851738493899891\n",
      "(9126, 71)\n",
      "0.7870333521677132\n",
      "(9126, 72)\n",
      "0.7877383408568288\n",
      "(9126, 73)\n",
      "0.788242421295341\n",
      "(9126, 74)\n",
      "0.7890161594945478\n",
      "(9126, 75)\n",
      "0.7895255061810468\n",
      "(9126, 76)\n",
      "0.7938554722613395\n",
      "(9126, 77)\n",
      "0.7952878013427701\n",
      "(9126, 78)\n",
      "0.7973451026109257\n",
      "(9126, 79)\n",
      "0.7977443025278422\n",
      "(9126, 80)\n",
      "0.7996205921821963\n",
      "(9126, 81)\n",
      "0.8000109648497326\n",
      "(9126, 82)\n",
      "0.8113317234858096\n",
      "(9126, 83)\n",
      "0.8144407744644349\n",
      "(9126, 84)\n",
      "0.8143516719338415\n",
      "(9126, 85)\n",
      "0.8152617468564438\n",
      "(9126, 86)\n",
      "0.8154522498969005\n",
      "(9126, 87)\n",
      "0.8178291746900321\n",
      "(9126, 88)\n",
      "0.8199648439646007\n",
      "(9126, 89)\n",
      "0.8246368944346429\n",
      "(9126, 90)\n",
      "0.8268819334640705\n",
      "(9126, 91)\n",
      "0.8317553560919645\n",
      "(9126, 92)\n",
      "0.8319964584830444\n",
      "(9126, 93)\n",
      "0.8318945675032717\n",
      "(9126, 94)\n",
      "0.8326352714154442\n",
      "(9126, 95)\n",
      "0.8329422102856847\n",
      "(9126, 96)\n",
      "0.8342878091996457\n",
      "(9126, 97)\n",
      "0.8344895294777729\n",
      "(9126, 98)\n",
      "0.8344081605052107\n",
      "(9126, 99)\n",
      "0.834452329816542\n",
      "(9126, 100)\n",
      "0.8343837788728351\n"
     ]
    }
   ],
   "source": [
    "#MRMR_MID\n",
    "from thundersvm import SVC\n",
    "All = []\n",
    "feature = []\n",
    "for i in range(len(list_MIQ)):\n",
    "    feature.append(trainData[:,list_MIQ[i]])\n",
    "    trainData_M = np.array(feature).T\n",
    "    print(trainData_M.shape)\n",
    "    \n",
    "    #交叉验证\n",
    "    rows = 10\n",
    "    row = -1\n",
    "    row_name = []\n",
    "    Sen = np.zeros(rows)\n",
    "    Spe = np.zeros(rows)\n",
    "    Acc = np.zeros(rows)\n",
    "    Mcc = np.zeros(rows)\n",
    "    Auc = np.zeros(rows)\n",
    "\n",
    "    kf = KFold(10,True,10)\n",
    "    for i,[train_index, test_index] in enumerate(kf.split(trainData_M)):\n",
    "        row+=1\n",
    "        row_one = \"Bert6mA_origin_KFold_\" + str(i)\n",
    "        row_name.append(row_one)\n",
    "        X_train = trainData_M[train_index]\n",
    "        X_test = trainData_M[test_index]\n",
    "        Y_train = trainLabel[train_index]\n",
    "        Y_test = trainLabel[test_index]\n",
    "\n",
    "        model = SVC(C=1.0,gamma=\"auto\")\n",
    "\n",
    "        model.fit(X_train,Y_train)\n",
    "        th,_,_,_,_,_,_,_,_,_ = metricsCal.get_train_metrics( model.decision_function(X_train).reshape(-1), Y_train )\n",
    "        _,_,_,_,sen,spe,acc,mcc,auc = metricsCal.get_test_metrics( model.decision_function(X_test), Y_test,th )\n",
    "        Sen[row] = sen\n",
    "        Spe[row] = spe\n",
    "        Acc[row] = acc\n",
    "        Mcc[row] = mcc\n",
    "        Auc[row] = auc\n",
    "    print(np.mean(Auc))\n",
    "\n",
    "    All.append(np.mean(np.vstack((Sen,Spe,Acc,Mcc,Auc)),axis=1) )"
   ]
  },
  {
   "cell_type": "code",
   "execution_count": 177,
   "id": "94c24bad",
   "metadata": {
    "ExecuteTime": {
     "end_time": "2023-05-20T05:29:52.464984Z",
     "start_time": "2023-05-20T05:29:52.457516Z"
    }
   },
   "outputs": [
    {
     "name": "stdout",
     "output_type": "stream",
     "text": [
      "96\n"
     ]
    }
   ],
   "source": [
    "max_auc = np.max(np.array(All)[:,4])\n",
    "for i in range(len(All)):\n",
    "    if All[i][4]==max_auc:\n",
    "        print(i)"
   ]
  },
  {
   "cell_type": "code",
   "execution_count": 178,
   "id": "bb7f71fd",
   "metadata": {
    "ExecuteTime": {
     "end_time": "2023-05-20T05:30:36.479563Z",
     "start_time": "2023-05-20T05:30:36.469918Z"
    }
   },
   "outputs": [],
   "source": [
    "pd.DataFrame(np.append(np.array(list_MIQ).reshape(-1,1),np.array(All),axis=1)).to_csv(\"Result/Feature_Selection/Location_ICA_MRMR_MIQ.csv\")\n",
    "#i=108,即使用109个特征的时候达到最优效果 MID\n",
    "#i=237,即使用238个特征的时候达到最优效果 MIQ\n",
    "\n",
    "#i=98,即使用99个特征的时候达到最优效果 MID_ICA\n",
    "#i=96,即使用97个特征的时候达到最优效果 MIQ"
   ]
  },
  {
   "cell_type": "code",
   "execution_count": 186,
   "id": "828663ad",
   "metadata": {
    "ExecuteTime": {
     "end_time": "2023-05-20T06:26:37.016585Z",
     "start_time": "2023-05-20T06:26:37.007744Z"
    }
   },
   "outputs": [
    {
     "data": {
      "text/plain": [
       "[69,\n",
       " 70,\n",
       " 66,\n",
       " 67,\n",
       " 68,\n",
       " 64,\n",
       " 62,\n",
       " 71,\n",
       " 72,\n",
       " 73,\n",
       " 65,\n",
       " 75,\n",
       " 63,\n",
       " 56,\n",
       " 57,\n",
       " 53,\n",
       " 54,\n",
       " 55,\n",
       " 76,\n",
       " 61,\n",
       " 58,\n",
       " 59,\n",
       " 60,\n",
       " 74,\n",
       " 51,\n",
       " 94,\n",
       " 95,\n",
       " 91,\n",
       " 92,\n",
       " 93,\n",
       " 89,\n",
       " 87,\n",
       " 96,\n",
       " 97,\n",
       " 98,\n",
       " 90,\n",
       " 50,\n",
       " 88,\n",
       " 81,\n",
       " 82,\n",
       " 78,\n",
       " 79,\n",
       " 80,\n",
       " 77,\n",
       " 86,\n",
       " 83,\n",
       " 84,\n",
       " 85,\n",
       " 52,\n",
       " 1,\n",
       " 19,\n",
       " 20,\n",
       " 16,\n",
       " 17,\n",
       " 18,\n",
       " 14,\n",
       " 12,\n",
       " 21,\n",
       " 22,\n",
       " 23,\n",
       " 15,\n",
       " 25,\n",
       " 13,\n",
       " 6,\n",
       " 7,\n",
       " 3,\n",
       " 4,\n",
       " 5,\n",
       " 26,\n",
       " 11,\n",
       " 8,\n",
       " 9,\n",
       " 10,\n",
       " 24,\n",
       " 2,\n",
       " 44,\n",
       " 45,\n",
       " 41,\n",
       " 42,\n",
       " 43,\n",
       " 39,\n",
       " 37,\n",
       " 46,\n",
       " 47,\n",
       " 48,\n",
       " 40,\n",
       " 49,\n",
       " 38,\n",
       " 31,\n",
       " 32,\n",
       " 28,\n",
       " 29,\n",
       " 30,\n",
       " 27,\n",
       " 36,\n",
       " 33,\n",
       " 34,\n",
       " 35,\n",
       " 99,\n",
       " 0]"
      ]
     },
     "execution_count": 186,
     "metadata": {},
     "output_type": "execute_result"
    }
   ],
   "source": [
    "list_MIQ"
   ]
  },
  {
   "cell_type": "markdown",
   "id": "ec70f592",
   "metadata": {},
   "source": [
    "# 遗传算法筛选特征"
   ]
  },
  {
   "cell_type": "code",
   "execution_count": 120,
   "id": "cf5d4f26",
   "metadata": {
    "ExecuteTime": {
     "end_time": "2023-05-17T12:42:37.804684Z",
     "start_time": "2023-05-17T12:40:48.907838Z"
    }
   },
   "outputs": [
    {
     "name": "stderr",
     "output_type": "stream",
     "text": [
      "/data/xiayunpeng/anaconda3/envs/BERT/lib/python3.6/site-packages/sklearn/decomposition/_fastica.py:120: ConvergenceWarning: FastICA did not converge. Consider increasing tolerance or the maximum number of iterations.\n",
      "  ConvergenceWarning)\n",
      "/data/xiayunpeng/anaconda3/envs/BERT/lib/python3.6/site-packages/sklearn/utils/validation.py:72: FutureWarning: Pass shuffle=True, random_state=0 as keyword args. From version 1.0 (renaming of 0.25) passing these as positional arguments will result in an error\n",
      "  \"will result in an error\", FutureWarning)\n"
     ]
    }
   ],
   "source": [
    "# 值\n",
    "trainPos,trainNeg,testPos,testNeg = ensembleFeature.PSKP(trainPos_seq,trainNeg_seq,testPos_seq,testNeg_seq,1) #3代表PSTP，2代表PSDP，1代表PSNP\n",
    "trainData_PSNP = np.vstack((trainPos,trainNeg))\n",
    "testData_PSNP = np.vstack((testPos,testNeg))\n",
    "trainPos,trainNeg,testPos,testNeg = ensembleFeature.PSKP(trainPos_seq,trainNeg_seq,testPos_seq,testNeg_seq,2) #3代表PSTP，2代表PSDP，1代表PSNP\n",
    "trainData_PSDP = np.vstack((trainPos,trainNeg))\n",
    "testData_PSDP = np.vstack((testPos,testNeg))\n",
    "trainPos,trainNeg,testPos,testNeg = ensembleFeature.PSKP(trainPos_seq,trainNeg_seq,testPos_seq,testNeg_seq,3) #3代表PSTP，2代表PSDP，1代表PSNP\n",
    "trainData_PSTP = np.vstack((trainPos,trainNeg))\n",
    "testData_PSTP = np.vstack((testPos,testNeg))\n",
    "trainData_PSKP = np.hstack((trainData_PSNP,trainData_PSDP,trainData_PSTP))\n",
    "testData_PSKP = np.hstack((testData_PSNP,testData_PSDP,testData_PSTP))\n",
    "\n",
    "trainPos,trainNeg,testPos,testNeg = ensembleFeature.PSCP(trainPos_seq,trainNeg_seq,testPos_seq,testNeg_seq,0)\n",
    "trainData_PSCP_0 = np.vstack((trainPos,trainNeg))\n",
    "testData_PSCP_0 = np.vstack((testPos,testNeg))\n",
    "trainPos,trainNeg,testPos,testNeg = ensembleFeature.PSCP(trainPos_seq,trainNeg_seq,testPos_seq,testNeg_seq,1)\n",
    "trainData_PSCP_1 = np.vstack((trainPos,trainNeg))\n",
    "testData_PSCP_1 = np.vstack((testPos,testNeg))\n",
    "trainPos,trainNeg,testPos,testNeg = ensembleFeature.PSCP(trainPos_seq,trainNeg_seq,testPos_seq,testNeg_seq,2)\n",
    "trainData_PSCP_2 = np.vstack((trainPos,trainNeg))\n",
    "testData_PSCP_2 = np.vstack((testPos,testNeg))\n",
    "\n",
    "trainData_PSCP = np.hstack((trainData_PSCP_0,trainData_PSCP_1,trainData_PSCP_2))\n",
    "testData_PSCP = np.hstack((testData_PSCP_0,testData_PSCP_1,testData_PSCP_2))\n",
    "\n",
    "trainPos,trainNeg,testPos,testNeg = ensembleFeature.BPB(trainPos_seq,trainNeg_seq,testPos_seq,testNeg_seq)\n",
    "trainData_BPB = np.vstack((trainPos,trainNeg))\n",
    "testData_BPB = np.vstack((testPos,testNeg))\n",
    "\n",
    "trainData_KNN = np.array(pd.read_csv(\"features/KNN_value_train.csv\").iloc[:,1:])\n",
    "testData_KNN = np.array(pd.read_csv(\"features/KNN_value_test.csv\").iloc[:,1:])\n",
    "\n",
    "trainData_origin = np.hstack((trainData_PSKP,trainData_PSCP,trainData_BPB,trainData_KNN))\n",
    "testData = np.hstack((testData_PSKP,testData_PSCP,testData_BPB,testData_KNN))\n",
    "\n",
    "from sklearn.decomposition import FastICA\n",
    "ica = FastICA(n_components= 100).fit(trainData_origin)\n",
    "trainData = ica.transform(trainData_origin)"
   ]
  },
  {
   "cell_type": "code",
   "execution_count": 119,
   "id": "d4cf1bd7",
   "metadata": {
    "ExecuteTime": {
     "end_time": "2023-05-17T12:39:41.857727Z",
     "start_time": "2023-05-17T12:39:41.817486Z"
    }
   },
   "outputs": [],
   "source": [
    "import numpy as np\n",
    "from sklearn.model_selection import train_test_split\n",
    "from thundersvm import SVC\n",
    "\n",
    "class GA:\n",
    "    def __init__(self, population_size, p_crossover, p_mutation, n_generations):\n",
    "        self.population_size = population_size\n",
    "        self.p_crossover = p_crossover\n",
    "        self.p_mutation = p_mutation\n",
    "        self.n_generations = n_generations\n",
    "        \n",
    "    def generate_population(self, chromosome_length):\n",
    "        population = np.random.randint(0, 2, size=(self.population_size, chromosome_length))\n",
    "        return population\n",
    "    \n",
    "    def decode(self, population, feature_list):\n",
    "        feature_index = []\n",
    "        for chromosome in population:\n",
    "            index = [i for (i, v) in zip(range(len(feature_list)), chromosome) if v > 0]\n",
    "            feature_index.append(index)\n",
    "        return feature_index\n",
    "\n",
    "    def fitness(self, X_train, y_train, X_test, y_test, feature_index):\n",
    "        clf = SVC(kernel='polynomial')\n",
    "        score_list = []\n",
    "        for index in feature_index:\n",
    "            clf.fit(X_train.iloc[:, index], y_train)\n",
    "            score = clf.score(X_test.iloc[:, index], y_test)\n",
    "            score_list.append(score)\n",
    "        return score_list\n",
    "        \n",
    "    def selection(self, population, scores):\n",
    "        new_population = np.zeros_like(population)\n",
    "        \n",
    "        for i in range(self.population_size):\n",
    "            i1, i2 = np.random.choice(range(self.population_size), size=2, replace=False)\n",
    "            if scores[i1] >= scores[i2]:\n",
    "                new_population[i] = population[i1]\n",
    "            else:\n",
    "                new_population[i] = population[i2]\n",
    "                \n",
    "        return new_population\n",
    "    \n",
    "    def crossover(self, population):\n",
    "        new_population = np.zeros((self.population_size, len(population[0])))\n",
    "        \n",
    "        for i in range(self.population_size):\n",
    "            if np.random.rand() < self.p_crossover:\n",
    "                i1, i2 = np.random.choice(range(self.population_size), size=2, replace=False)\n",
    "                cross_point = np.random.randint(1, len(population[0]) - 1)\n",
    "                chrom_1 = np.concatenate((population[i1][:cross_point], population[i2][cross_point:]))\n",
    "                chrom_2 = np.concatenate((population[i2][:cross_point], population[i1][cross_point:]))\n",
    "                new_population[i] = np.where(chrom_1 != chrom_2, chrom_1, population[i1])\n",
    "            else:\n",
    "                new_population[i] = population[i]\n",
    "                \n",
    "        return new_population\n",
    "    \n",
    "    def mutation(self, population):\n",
    "        new_population = np.copy(population)\n",
    "        \n",
    "        for i in range(self.population_size):\n",
    "            for j in range(len(population[0])):\n",
    "                if np.random.rand() < self.p_mutation:\n",
    "                    new_population[i][j] = 0 if new_population[i][j] == 1 else 1\n",
    "                    \n",
    "        return new_population\n",
    "\n",
    "    def run(self, X_train, y_train, X_test, y_test, feature_list):\n",
    "        chromosome_length = len(feature_list)\n",
    "        population = self.generate_population(chromosome_length)\n",
    "        \n",
    "        for i in range(self.n_generations):\n",
    "            print(i)\n",
    "            feature_index = self.decode(population, feature_list)\n",
    "            scores = self.fitness(X_train, y_train, X_test, y_test, feature_index)\n",
    "            best_score_index = np.argmax(scores)\n",
    "            best_score = scores[best_score_index]\n",
    "            \n",
    "            new_population = self.selection(population, scores)\n",
    "            new_population = self.crossover(new_population)\n",
    "            new_population = self.mutation(new_population)\n",
    "            \n",
    "            new_feature_index = self.decode(new_population, feature_list)\n",
    "            new_scores = self.fitness(X_train, y_train, X_test, y_test, new_feature_index)\n",
    "            new_best_score_index = np.argmax(new_scores)\n",
    "            new_best_score = new_scores[new_best_score_index]\n",
    "            \n",
    "            if new_best_score > best_score:\n",
    "                population = new_population\n",
    "            else:\n",
    "                population[best_score_index] = new_population[new_best_score_index]\n",
    "                \n",
    "        best_chromosome = population[np.argmax(self.fitness(X_train, y_train, X_test, y_test, self.decode(population, feature_list)))]\n",
    "        return best_chromosome"
   ]
  },
  {
   "cell_type": "code",
   "execution_count": 168,
   "id": "21675c69",
   "metadata": {
    "ExecuteTime": {
     "end_time": "2023-05-20T04:59:36.457341Z",
     "start_time": "2023-05-20T04:59:36.453700Z"
    }
   },
   "outputs": [],
   "source": [
    "# import pandas as pd\n",
    "# #from GA import GA\n",
    "# from sklearn.datasets import make_classification\n",
    "# from sklearn.model_selection import train_test_split\n",
    "\n",
    "# kf = KFold(10,True,0)\n",
    "# for i,[train_index, test_index] in enumerate(kf.split(trainData)):\n",
    "#     if i==0:\n",
    "#         X_train = trainData[train_index]\n",
    "#         X_test = trainData[test_index]\n",
    "#         Y_train = trainLabel[train_index]\n",
    "#         Y_test = trainLabel[test_index]\n",
    "    \n",
    "# # # 数据准备\n",
    "# # X, y = make_classification(n_samples=1000, n_features=20, n_classes=2)\n",
    "\n",
    "# # # 将数据分割为训练集和测试集\n",
    "# # X_train, X_test, y_train, y_test = train_test_split(X, y, test_size=0.2, random_state=42)\n",
    "\n",
    "# # 将训练集和测试集转换成 DataFrame 格式，并设置列名\n",
    "# X_train = pd.DataFrame(X_train, columns=[f'feature_{i}' for i in range(X_train.shape[1])])\n",
    "# X_test = pd.DataFrame(X_test, columns=[f'feature_{i}' for i in range(X_test.shape[1])])\n",
    "# Y_train = pd.Series(Y_train)\n",
    "# Y_test = pd.Series(Y_test)\n",
    "\n",
    "# # 初始化 GA 类\n",
    "# population_size = 50\n",
    "# p_crossover = 0.8\n",
    "# p_mutation = 0.2\n",
    "# n_generations = 500\n",
    "\n",
    "# ga = GA(population_size, p_crossover, p_mutation, n_generations)\n",
    "\n",
    "# # 运行遗传算法并返回选择的变量序列\n",
    "# selected_features = ga.run(X_train, Y_train, X_test, Y_test, list(X_train.columns))"
   ]
  },
  {
   "cell_type": "code",
   "execution_count": 125,
   "id": "1833d961",
   "metadata": {
    "ExecuteTime": {
     "end_time": "2023-05-18T07:30:11.701732Z",
     "start_time": "2023-05-18T07:30:11.695377Z"
    }
   },
   "outputs": [
    {
     "data": {
      "text/plain": [
       "44"
      ]
     },
     "execution_count": 125,
     "metadata": {},
     "output_type": "execute_result"
    }
   ],
   "source": [
    "sum(selected_features)"
   ]
  },
  {
   "cell_type": "code",
   "execution_count": 126,
   "id": "ca8455e3",
   "metadata": {
    "ExecuteTime": {
     "end_time": "2023-05-18T07:30:34.473855Z",
     "start_time": "2023-05-18T07:30:34.458280Z"
    }
   },
   "outputs": [],
   "source": [
    "def select_features(data,features_list):\n",
    "    selected_features = []\n",
    "    \n",
    "    # 遍历列表中的每个元素，如果该元素的值为1，则将该元素的索引添加到selected_features列表中\n",
    "    for i in range(len(features_list)):\n",
    "        if features_list[i] == 1:\n",
    "            selected_features.append(data[:,i])\n",
    "            \n",
    "    return selected_features\n",
    "\n",
    "a = select_features(trainData,selected_features)\n",
    "a = np.array(a).T"
   ]
  },
  {
   "cell_type": "code",
   "execution_count": 127,
   "id": "a8932591",
   "metadata": {
    "ExecuteTime": {
     "end_time": "2023-05-18T07:30:46.879577Z",
     "start_time": "2023-05-18T07:30:42.633965Z"
    }
   },
   "outputs": [
    {
     "name": "stderr",
     "output_type": "stream",
     "text": [
      "/data/xiayunpeng/anaconda3/envs/BERT/lib/python3.6/site-packages/sklearn/utils/validation.py:72: FutureWarning: Pass shuffle=True, random_state=0 as keyword args. From version 1.0 (renaming of 0.25) passing these as positional arguments will result in an error\n",
      "  \"will result in an error\", FutureWarning)\n"
     ]
    }
   ],
   "source": [
    "Sen = []\n",
    "Spe = []\n",
    "Acc = []\n",
    "Mcc = []\n",
    "Auc = []\n",
    "kf = KFold(10,True,0)\n",
    "for i,[train_index, test_index] in enumerate(kf.split(a)):\n",
    "    row+=1\n",
    "    row_one = \"Bert6mA_origin_KFold_\" + str(i)\n",
    "    row_name.append(row_one)\n",
    "    X_train = a[train_index]\n",
    "    X_test = a[test_index]\n",
    "    Y_train = trainLabel[train_index]\n",
    "    Y_test = trainLabel[test_index]\n",
    "\n",
    "    model = SVC(C=1.0,gamma=\"auto\")\n",
    "\n",
    "    model.fit(X_train,Y_train)\n",
    "    th,_,_,_,_,_,_,_,_,_ = metricsCal.get_train_metrics( model.decision_function(X_train).reshape(-1), Y_train )\n",
    "    _,_,_,_,sen,spe,acc,mcc,auc = metricsCal.get_test_metrics( model.decision_function(X_test), Y_test,th )\n",
    "    Sen.append(sen)\n",
    "    Spe.append(spe)\n",
    "    Acc.append(acc)\n",
    "    Mcc.append(mcc)\n",
    "    Auc.append(auc)"
   ]
  },
  {
   "cell_type": "code",
   "execution_count": 128,
   "id": "92acd56d",
   "metadata": {
    "ExecuteTime": {
     "end_time": "2023-05-18T07:30:50.718318Z",
     "start_time": "2023-05-18T07:30:50.710279Z"
    }
   },
   "outputs": [
    {
     "data": {
      "text/plain": [
       "(0.7015000716035631,\n",
       " 0.6444135176768863,\n",
       " 0.6729082598335928,\n",
       " 0.3467636969594163,\n",
       " 0.7300854638279904)"
      ]
     },
     "execution_count": 128,
     "metadata": {},
     "output_type": "execute_result"
    }
   ],
   "source": [
    "np.mean(Sen),np.mean(Spe),np.mean(Acc),np.mean(Mcc),np.mean(Auc)"
   ]
  },
  {
   "cell_type": "code",
   "execution_count": 130,
   "id": "6535e0b0",
   "metadata": {
    "ExecuteTime": {
     "end_time": "2023-05-18T07:31:53.378842Z",
     "start_time": "2023-05-18T07:31:53.373714Z"
    }
   },
   "outputs": [],
   "source": [
    "num = 44\n",
    "param_loc = [0.7015000716035631, 0.6444135176768863, 0.6729082598335928, 0.3467636969594163, 0.7300854638279904]"
   ]
  },
  {
   "cell_type": "code",
   "execution_count": 131,
   "id": "3d321cbf",
   "metadata": {
    "ExecuteTime": {
     "end_time": "2023-05-18T07:32:47.718571Z",
     "start_time": "2023-05-18T07:32:47.711336Z"
    }
   },
   "outputs": [],
   "source": [
    "num = 53\n",
    "param_com = [0.6858035787311453, 0.6987101645766827, 0.6921984589074, 0.38504131407208597, 0.7657598728057325]"
   ]
  },
  {
   "cell_type": "code",
   "execution_count": 132,
   "id": "001a7403",
   "metadata": {
    "ExecuteTime": {
     "end_time": "2023-05-18T07:32:48.405619Z",
     "start_time": "2023-05-18T07:32:48.400999Z"
    }
   },
   "outputs": [],
   "source": [
    "num = 48\n",
    "param_sec = [0.7065719661910479, 0.6947851895710855, 0.7005203829672757, 0.4019167588976491, 0.770064068006594]"
   ]
  },
  {
   "cell_type": "markdown",
   "id": "09fa0081",
   "metadata": {
    "ExecuteTime": {
     "end_time": "2023-05-19T08:59:21.033004Z",
     "start_time": "2023-05-19T08:59:21.028458Z"
    }
   },
   "source": [
    "# shap-boruta选择  降维后特征"
   ]
  },
  {
   "cell_type": "code",
   "execution_count": 136,
   "id": "ee3a02d9",
   "metadata": {
    "ExecuteTime": {
     "end_time": "2023-05-19T08:59:52.985594Z",
     "start_time": "2023-05-19T08:59:52.979531Z"
    }
   },
   "outputs": [],
   "source": [
    "from lightgbm import *\n",
    "from shaphypetune import BoostSearch, BoostBoruta, BoostRFE\n",
    "import warnings\n",
    "warnings.simplefilter('ignore')"
   ]
  },
  {
   "cell_type": "code",
   "execution_count": 143,
   "id": "eeac3891",
   "metadata": {
    "ExecuteTime": {
     "end_time": "2023-05-19T09:02:53.871740Z",
     "start_time": "2023-05-19T09:02:53.864033Z"
    }
   },
   "outputs": [],
   "source": [
    "df = pd.DataFrame(trainData)"
   ]
  },
  {
   "cell_type": "code",
   "execution_count": 144,
   "id": "ad91c798",
   "metadata": {
    "ExecuteTime": {
     "end_time": "2023-05-19T09:02:55.290100Z",
     "start_time": "2023-05-19T09:02:54.909600Z"
    }
   },
   "outputs": [],
   "source": [
    "np.random.seed(123)\n",
    "\n",
    "for c in range(1,101):\n",
    "    df[f\"RANDOM_{c}\"] = np.random.normal(0,5, (df.shape[0],1))"
   ]
  },
  {
   "cell_type": "code",
   "execution_count": 165,
   "id": "aefcaf15",
   "metadata": {
    "ExecuteTime": {
     "end_time": "2023-05-20T02:02:07.627548Z",
     "start_time": "2023-05-20T02:02:07.622793Z"
    }
   },
   "outputs": [],
   "source": [
    "### DEFINE TUNING VARIABLES ###\n",
    "\n",
    "param_grid = {\n",
    "    'n_estimators': [200,500],\n",
    "    'learning_rate': [0.3, 0.1],\n",
    "    'num_leaves': [20, 30]\n",
    "}\n",
    "\n",
    "\n",
    "def AUC(y_true, y_hat):\n",
    "    return 'auc', roc_auc_score(y_true, y_hat), True\n",
    "\n",
    "lgbm = LGBMClassifier(random_state=0, n_jobs=-1)\n",
    "\n",
    "n_trials = 100"
   ]
  },
  {
   "cell_type": "code",
   "execution_count": 166,
   "id": "6231c400",
   "metadata": {
    "ExecuteTime": {
     "end_time": "2023-05-20T04:59:36.064551Z",
     "start_time": "2023-05-20T02:02:24.926478Z"
    }
   },
   "outputs": [
    {
     "name": "stdout",
     "output_type": "stream",
     "text": [
      "----- TRIAL 1 -----\n",
      "----- TRIAL 2 -----\n",
      "----- TRIAL 3 -----\n",
      "----- TRIAL 4 -----\n",
      "----- TRIAL 5 -----\n",
      "----- TRIAL 6 -----\n",
      "----- TRIAL 7 -----\n",
      "----- TRIAL 8 -----\n",
      "----- TRIAL 9 -----\n",
      "----- TRIAL 10 -----\n",
      "----- TRIAL 11 -----\n",
      "----- TRIAL 12 -----\n",
      "----- TRIAL 13 -----\n",
      "----- TRIAL 14 -----\n",
      "----- TRIAL 15 -----\n",
      "----- TRIAL 16 -----\n",
      "----- TRIAL 17 -----\n",
      "----- TRIAL 18 -----\n",
      "----- TRIAL 19 -----\n",
      "----- TRIAL 20 -----\n",
      "----- TRIAL 21 -----\n",
      "----- TRIAL 22 -----\n",
      "----- TRIAL 23 -----\n",
      "----- TRIAL 24 -----\n",
      "----- TRIAL 25 -----\n",
      "----- TRIAL 26 -----\n",
      "----- TRIAL 27 -----\n",
      "----- TRIAL 28 -----\n",
      "----- TRIAL 29 -----\n",
      "----- TRIAL 30 -----\n",
      "----- TRIAL 31 -----\n",
      "----- TRIAL 32 -----\n",
      "----- TRIAL 33 -----\n",
      "----- TRIAL 34 -----\n",
      "----- TRIAL 35 -----\n",
      "----- TRIAL 36 -----\n",
      "----- TRIAL 37 -----\n",
      "----- TRIAL 38 -----\n",
      "----- TRIAL 39 -----\n",
      "----- TRIAL 40 -----\n",
      "----- TRIAL 41 -----\n",
      "----- TRIAL 42 -----\n",
      "----- TRIAL 43 -----\n",
      "----- TRIAL 44 -----\n",
      "----- TRIAL 45 -----\n",
      "----- TRIAL 46 -----\n",
      "----- TRIAL 47 -----\n",
      "----- TRIAL 48 -----\n",
      "----- TRIAL 49 -----\n",
      "----- TRIAL 50 -----\n",
      "----- TRIAL 51 -----\n",
      "----- TRIAL 52 -----\n",
      "----- TRIAL 53 -----\n",
      "----- TRIAL 54 -----\n",
      "----- TRIAL 55 -----\n",
      "----- TRIAL 56 -----\n",
      "----- TRIAL 57 -----\n",
      "----- TRIAL 58 -----\n",
      "----- TRIAL 59 -----\n",
      "----- TRIAL 60 -----\n",
      "----- TRIAL 61 -----\n",
      "----- TRIAL 62 -----\n",
      "----- TRIAL 63 -----\n",
      "----- TRIAL 64 -----\n",
      "----- TRIAL 65 -----\n",
      "----- TRIAL 66 -----\n",
      "----- TRIAL 67 -----\n",
      "----- TRIAL 68 -----\n",
      "----- TRIAL 69 -----\n",
      "----- TRIAL 70 -----\n",
      "----- TRIAL 71 -----\n",
      "----- TRIAL 72 -----\n",
      "----- TRIAL 73 -----\n",
      "----- TRIAL 74 -----\n",
      "----- TRIAL 75 -----\n",
      "----- TRIAL 76 -----\n",
      "----- TRIAL 77 -----\n",
      "----- TRIAL 78 -----\n",
      "----- TRIAL 79 -----\n",
      "----- TRIAL 80 -----\n",
      "----- TRIAL 81 -----\n",
      "----- TRIAL 82 -----\n",
      "----- TRIAL 83 -----\n",
      "----- TRIAL 84 -----\n",
      "----- TRIAL 85 -----\n",
      "----- TRIAL 86 -----\n",
      "----- TRIAL 87 -----\n",
      "----- TRIAL 88 -----\n",
      "----- TRIAL 89 -----\n",
      "----- TRIAL 90 -----\n",
      "----- TRIAL 91 -----\n",
      "----- TRIAL 92 -----\n",
      "----- TRIAL 93 -----\n",
      "----- TRIAL 94 -----\n",
      "----- TRIAL 95 -----\n",
      "----- TRIAL 96 -----\n",
      "----- TRIAL 97 -----\n",
      "----- TRIAL 98 -----\n",
      "----- TRIAL 99 -----\n",
      "----- TRIAL 100 -----\n"
     ]
    }
   ],
   "source": [
    "### TUNE PARAMETERS AND EXTRACT IMPORTANCES ###\n",
    "from sklearn.metrics import roc_auc_score\n",
    "importances = np.zeros((df.shape[1],))\n",
    "df = np.array(df)\n",
    "for i in range(n_trials):\n",
    "    print(\"----- TRIAL {} -----\".format(i+1))\n",
    "    \n",
    "    kf = KFold(10,True,0)\n",
    "    for i,[train_index, test_index] in enumerate(kf.split(df)):\n",
    "        X_train = df[train_index]\n",
    "        X_test = df[test_index]\n",
    "        Y_train = trainLabel[train_index]\n",
    "        Y_test = trainLabel[test_index]\n",
    "        model = BoostSearch(lgbm, param_grid=param_grid, greater_is_better=True, verbose=0)\n",
    "        model.fit(X_train, Y_train, eval_set=[(X_test, Y_test)], eval_metric=AUC, early_stopping_rounds=4, verbose=0)\n",
    "        importances += model.estimator_.feature_importances_\n",
    "importances /= n_trials\n",
    "    \n",
    "    \n",
    "#     X_train, X_test, y_train, y_test = train_test_split(\n",
    "#         df, pd.DataFrame(trainLabel), test_size=0.5, shuffle=True, random_state=i)\n",
    "\n",
    "#     X_train, X_valid, y_train, y_valid = train_test_split(\n",
    "#         X_train, y_train, test_size=0.2, shuffle=True, random_state=i)\n",
    "\n",
    "#     model = BoostSearch(lgbm, param_grid=param_grid, greater_is_better=True, verbose=0)\n",
    "#     model.fit(X_train, y_train, eval_set=[(X_valid, y_valid)], eval_metric=AUC, early_stopping_rounds=4, verbose=0)\n",
    "    \n",
    "#     importances += model.estimator_.feature_importances_\n",
    "    \n",
    "importances /= n_trials"
   ]
  },
  {
   "cell_type": "code",
   "execution_count": 167,
   "id": "adc02889",
   "metadata": {
    "ExecuteTime": {
     "end_time": "2023-05-20T04:59:36.278813Z",
     "start_time": "2023-05-20T04:59:36.272215Z"
    }
   },
   "outputs": [
    {
     "name": "stdout",
     "output_type": "stream",
     "text": [
      "[78, 51, 89, 87, 96, 93, 5, 37, 57, 28, 44, 32, 46, 31, 34, 17, 12, 82, 26, 41, 59, 49, 86, 8, 33, 85, 38, 13, 24, 88, 52, 84, 42, 7, 68, 66, 14, 69, 27, 65, 60, 1, 43, 92, 55, 6, 77, 53, 97, 45, 50, 9, 74, 71, 58, 15, 39, 21, 72, 91, 48, 73, 16, 19, 81, 76, 47, 10, 75, 2, 54, 98, 11, 3, 20, 36, 56, 63, 30, 0, 70, 83, 22, 94, 35, 64, 61, 95, 79, 25, 62, 4, 29, 99, 23, 18, 90, 67, 40, 80]\n"
     ]
    }
   ],
   "source": [
    "data = importances[0:100]\n",
    "\n",
    "idx = sorted(range(len(data)), key=lambda i: data[i],reverse=True)  # 获取排序后的索引列表\n",
    "\n",
    "sorted_data = [data[i] for i in idx]  # 使用排序后的索引列表排序原始数据\n",
    "\n",
    "print(idx)  # 输出排序后的索引列表"
   ]
  },
  {
   "cell_type": "code",
   "execution_count": 169,
   "id": "d9ead65a",
   "metadata": {
    "ExecuteTime": {
     "end_time": "2023-05-20T04:59:36.665332Z",
     "start_time": "2023-05-20T04:59:36.660459Z"
    }
   },
   "outputs": [],
   "source": [
    "col_boruta_shap = [ \"fea_\"+str(i) for i in idx]\n",
    "trainData_loc_ICA = trainData"
   ]
  },
  {
   "cell_type": "code",
   "execution_count": 171,
   "id": "7f034101",
   "metadata": {
    "ExecuteTime": {
     "end_time": "2023-05-20T05:08:15.025942Z",
     "start_time": "2023-05-20T05:00:50.776922Z"
    }
   },
   "outputs": [
    {
     "name": "stdout",
     "output_type": "stream",
     "text": [
      "(9126, 1)\n",
      "0.5063387455009846\n",
      "(9126, 2)\n",
      "0.5186417939884882\n",
      "(9126, 3)\n",
      "0.5309500487029414\n",
      "(9126, 4)\n",
      "0.5307664861740011\n",
      "(9126, 5)\n",
      "0.5312177529871234\n",
      "(9126, 6)\n",
      "0.5574328773333803\n",
      "(9126, 7)\n",
      "0.5581197160557068\n",
      "(9126, 8)\n",
      "0.5586071560120945\n",
      "(9126, 9)\n",
      "0.5665239240449761\n",
      "(9126, 10)\n",
      "0.567053452650454\n",
      "(9126, 11)\n",
      "0.5711019720972004\n",
      "(9126, 12)\n",
      "0.5730317073474467\n",
      "(9126, 13)\n",
      "0.5853462084507639\n",
      "(9126, 14)\n",
      "0.5899338707533159\n",
      "(9126, 15)\n",
      "0.5900795149577942\n",
      "(9126, 16)\n",
      "0.5918115503370565\n",
      "(9126, 17)\n",
      "0.5913961718550347\n",
      "(9126, 18)\n",
      "0.598429570031984\n",
      "(9126, 19)\n",
      "0.5983928593769164\n",
      "(9126, 20)\n",
      "0.6012278183229791\n",
      "(9126, 21)\n",
      "0.6029947672429987\n",
      "(9126, 22)\n",
      "0.6058961945353911\n",
      "(9126, 23)\n",
      "0.6063971728630944\n",
      "(9126, 24)\n",
      "0.6065809575118581\n",
      "(9126, 25)\n",
      "0.6080568829613926\n",
      "(9126, 26)\n",
      "0.6080734761950184\n",
      "(9126, 27)\n",
      "0.6137172648211957\n",
      "(9126, 28)\n",
      "0.6173635193254178\n",
      "(9126, 29)\n",
      "0.6294532786018281\n",
      "(9126, 30)\n",
      "0.6300794303726148\n",
      "(9126, 31)\n",
      "0.6298624920574204\n",
      "(9126, 32)\n",
      "0.6392358556732175\n",
      "(9126, 33)\n",
      "0.6428293679553257\n",
      "(9126, 34)\n",
      "0.6454403388626476\n",
      "(9126, 35)\n",
      "0.6463479072385415\n",
      "(9126, 36)\n",
      "0.6464193060582218\n",
      "(9126, 37)\n",
      "0.6470190202162756\n",
      "(9126, 38)\n",
      "0.6655573387870708\n",
      "(9126, 39)\n",
      "0.6684916776106611\n",
      "(9126, 40)\n",
      "0.6694336951701547\n",
      "(9126, 41)\n",
      "0.6698014645986751\n",
      "(9126, 42)\n",
      "0.6727537678136414\n",
      "(9126, 43)\n",
      "0.6740286363398837\n",
      "(9126, 44)\n",
      "0.6768352472203798\n",
      "(9126, 45)\n",
      "0.6824932054566777\n",
      "(9126, 46)\n",
      "0.6844609264020777\n",
      "(9126, 47)\n",
      "0.6895238094600545\n",
      "(9126, 48)\n",
      "0.6895953502374337\n",
      "(9126, 49)\n",
      "0.690474065221838\n",
      "(9126, 50)\n",
      "0.6943558339987058\n",
      "(9126, 51)\n",
      "0.6948630344621286\n",
      "(9126, 52)\n",
      "0.7141479446428811\n",
      "(9126, 53)\n",
      "0.7152217824372951\n",
      "(9126, 54)\n",
      "0.7155128219100059\n",
      "(9126, 55)\n",
      "0.715866342573807\n",
      "(9126, 56)\n",
      "0.7175627884028553\n",
      "(9126, 57)\n",
      "0.7185869704258843\n",
      "(9126, 58)\n",
      "0.7270099042925313\n",
      "(9126, 59)\n",
      "0.7281016491964957\n",
      "(9126, 60)\n",
      "0.7313018657741814\n",
      "(9126, 61)\n",
      "0.7340890644309277\n",
      "(9126, 62)\n",
      "0.7345836664316288\n",
      "(9126, 63)\n",
      "0.7351074263759712\n",
      "(9126, 64)\n",
      "0.7366476596877252\n",
      "(9126, 65)\n",
      "0.737474917026376\n",
      "(9126, 66)\n",
      "0.7395163393625571\n",
      "(9126, 67)\n",
      "0.7422760344286315\n",
      "(9126, 68)\n",
      "0.7422561534269988\n",
      "(9126, 69)\n",
      "0.7447435789456325\n",
      "(9126, 70)\n",
      "0.7456968869007609\n",
      "(9126, 71)\n",
      "0.7460465032737149\n",
      "(9126, 72)\n",
      "0.7473910315188966\n",
      "(9126, 73)\n",
      "0.7474098780871492\n",
      "(9126, 74)\n",
      "0.748167537438001\n",
      "(9126, 75)\n",
      "0.7491118723203247\n",
      "(9126, 76)\n",
      "0.7501355114511243\n",
      "(9126, 77)\n",
      "0.7509847490135967\n",
      "(9126, 78)\n",
      "0.7527806431533968\n",
      "(9126, 79)\n",
      "0.7830646868199068\n",
      "(9126, 80)\n",
      "0.7829621358394961\n",
      "(9126, 81)\n",
      "0.7828949803823587\n",
      "(9126, 82)\n",
      "0.7839565199863721\n",
      "(9126, 83)\n",
      "0.7871050499588431\n",
      "(9126, 84)\n",
      "0.7878447621081786\n",
      "(9126, 85)\n",
      "0.7898757218015803\n",
      "(9126, 86)\n",
      "0.7926587234155074\n",
      "(9126, 87)\n",
      "0.7954322634832841\n",
      "(9126, 88)\n",
      "0.7984986235511092\n",
      "(9126, 89)\n",
      "0.8004574086711411\n",
      "(9126, 90)\n",
      "0.806857416225854\n",
      "(9126, 91)\n",
      "0.8068971444536096\n",
      "(9126, 92)\n",
      "0.807838868597001\n",
      "(9126, 93)\n",
      "0.8097226023927957\n",
      "(9126, 94)\n",
      "0.8271291783210819\n",
      "(9126, 95)\n",
      "0.8270883291742589\n",
      "(9126, 96)\n",
      "0.8274263616998552\n",
      "(9126, 97)\n",
      "0.8337599393979985\n",
      "(9126, 98)\n",
      "0.8338940649233875\n",
      "(9126, 99)\n",
      "0.8343677047227335\n",
      "(9126, 100)\n",
      "0.8343847405117952\n"
     ]
    }
   ],
   "source": [
    "All = []\n",
    "feature = []\n",
    "for index_idx in range(len(idx)):\n",
    "    feature.append(trainData_loc_ICA[:,index_idx])\n",
    "    trainData = np.array(feature).T\n",
    "    print(trainData.shape)\n",
    "    \n",
    "    #交叉验证\n",
    "    rows = 10\n",
    "    row = -1\n",
    "    row_name = []\n",
    "    Sen = np.zeros(rows)\n",
    "    Spe = np.zeros(rows)\n",
    "    Acc = np.zeros(rows)\n",
    "    Mcc = np.zeros(rows)\n",
    "    Auc = np.zeros(rows)\n",
    "\n",
    "    kf = KFold(10,True,10)\n",
    "    for i,[train_index, test_index] in enumerate(kf.split(trainData)):\n",
    "        row+=1\n",
    "        row_one = \"Bert6mA_origin_KFold_\" + str(i)\n",
    "        row_name.append(row_one)\n",
    "        X_train = trainData[train_index]\n",
    "        X_test = trainData[test_index]\n",
    "        Y_train = trainLabel[train_index]\n",
    "        Y_test = trainLabel[test_index]\n",
    "\n",
    "        model = SVC(C=1.0,gamma=\"auto\")\n",
    "\n",
    "        model.fit(X_train,Y_train)\n",
    "        th,_,_,_,_,_,_,_,_,_ = metricsCal.get_train_metrics( model.decision_function(X_train).reshape(-1), Y_train )\n",
    "        _,_,_,_,sen,spe,acc,mcc,auc = metricsCal.get_test_metrics( model.decision_function(X_test), Y_test,th )\n",
    "        Sen[row] = sen\n",
    "        Spe[row] = spe\n",
    "        Acc[row] = acc\n",
    "        Mcc[row] = mcc\n",
    "        Auc[row] = auc\n",
    "    print(np.mean(Auc))\n",
    "\n",
    "    All.append(np.mean(np.vstack((Sen,Spe,Acc,Mcc,Auc)),axis=1) )"
   ]
  },
  {
   "cell_type": "code",
   "execution_count": 172,
   "id": "d54c954e",
   "metadata": {
    "ExecuteTime": {
     "end_time": "2023-05-20T05:10:09.862556Z",
     "start_time": "2023-05-20T05:10:09.853597Z"
    }
   },
   "outputs": [
    {
     "name": "stdout",
     "output_type": "stream",
     "text": [
      "99\n",
      "[0.77603071 0.7304994  0.75345088 0.50810379 0.83438474]\n"
     ]
    }
   ],
   "source": [
    "max_auc = np.max(np.array(All)[:,4])\n",
    "for i in range(len(All)):\n",
    "    if All[i][4]==max_auc:\n",
    "        print(i)\n",
    "        print(All[i])"
   ]
  },
  {
   "cell_type": "code",
   "execution_count": 174,
   "id": "a2dceae7",
   "metadata": {
    "ExecuteTime": {
     "end_time": "2023-05-20T05:10:52.922687Z",
     "start_time": "2023-05-20T05:10:52.910139Z"
    }
   },
   "outputs": [],
   "source": [
    "pd.DataFrame(np.append(np.array(col_boruta_shap).reshape(-1,1),np.array(All),axis=1)).to_csv(\"Result/Feature_Selection/Location_ICA_boruta_shap.csv\",header=[\"Name\",\"Sen\",\"Spe\",\"Acc\",\"Mcc\",\"Auc\"])"
   ]
  },
  {
   "cell_type": "markdown",
   "id": "d790e965",
   "metadata": {},
   "source": [
    "# 最终结果--Location_MRMR_MIQ"
   ]
  },
  {
   "cell_type": "code",
   "execution_count": 180,
   "id": "688a95c6",
   "metadata": {
    "ExecuteTime": {
     "end_time": "2023-05-20T06:05:15.142390Z",
     "start_time": "2023-05-20T06:05:15.138209Z"
    }
   },
   "outputs": [],
   "source": [
    "#遗传算法\n",
    "num = 44\n",
    "param_loc = [0.7015000716035631, 0.6444135176768863, 0.6729082598335928, 0.3467636969594163, 0.7300854638279904]"
   ]
  },
  {
   "cell_type": "code",
   "execution_count": 181,
   "id": "e993ecfc",
   "metadata": {
    "ExecuteTime": {
     "end_time": "2023-05-20T06:05:53.342389Z",
     "start_time": "2023-05-20T06:05:53.312503Z"
    }
   },
   "outputs": [
    {
     "name": "stdout",
     "output_type": "stream",
     "text": [
      "124\n",
      "[124.         212.           0.7756708    0.70012122   0.73777683\n",
      "   0.47713796   0.81371342]\n",
      "0.8137134207869604\n"
     ]
    }
   ],
   "source": [
    "# F-score得分\n",
    "All = np.array(pd.read_csv(\"Result/Feature_Selection/Location_F-Score.csv\"))\n",
    "max_auc = max(All[:,-1])\n",
    "for i in range(len(All)):\n",
    "    if All[i][-1]==max_auc:\n",
    "        print(i)\n",
    "        print(All[i])\n",
    "        print(All[i][-1])"
   ]
  },
  {
   "cell_type": "code",
   "execution_count": 182,
   "id": "1269805b",
   "metadata": {
    "ExecuteTime": {
     "end_time": "2023-05-20T06:06:12.920935Z",
     "start_time": "2023-05-20T06:06:12.903005Z"
    }
   },
   "outputs": [
    {
     "name": "stdout",
     "output_type": "stream",
     "text": [
      "99\n",
      "[99 'fea_80' 0.7760307078772295 0.7304994028783722 0.7534508848792298\n",
      " 0.508103793684299 0.8343847405117952]\n",
      "0.8343847405117952\n"
     ]
    }
   ],
   "source": [
    "# PCA_boruta-shap得分\n",
    "All = np.array(pd.read_csv(\"Result/Feature_Selection/Location_ICA_boruta_shap.csv\"))\n",
    "max_auc = max(All[:,-1])\n",
    "for i in range(len(All)):\n",
    "    if All[i][-1]==max_auc:\n",
    "        print(i)\n",
    "        print(All[i])\n",
    "        print(All[i][-1])"
   ]
  },
  {
   "cell_type": "code",
   "execution_count": 183,
   "id": "cb7fcf27",
   "metadata": {
    "ExecuteTime": {
     "end_time": "2023-05-20T06:06:33.098721Z",
     "start_time": "2023-05-20T06:06:33.077837Z"
    }
   },
   "outputs": [
    {
     "name": "stdout",
     "output_type": "stream",
     "text": [
      "98\n",
      "[98.         99.          0.75221434  0.75506714  0.7533416   0.50802249\n",
      "  0.83445339]\n",
      "0.8344533882495329\n"
     ]
    }
   ],
   "source": [
    "# PCA_MRMR_MID得分\n",
    "All = np.array(pd.read_csv(\"Result/Feature_Selection/Location_ICA_MRMR_MID.csv\"))\n",
    "max_auc = max(All[:,-1])\n",
    "for i in range(len(All)):\n",
    "    if All[i][-1]==max_auc:\n",
    "        print(i)\n",
    "        print(All[i])\n",
    "        print(All[i][-1])"
   ]
  },
  {
   "cell_type": "code",
   "execution_count": 184,
   "id": "dbd06482",
   "metadata": {
    "ExecuteTime": {
     "end_time": "2023-05-20T06:06:56.195198Z",
     "start_time": "2023-05-20T06:06:56.177959Z"
    }
   },
   "outputs": [
    {
     "name": "stdout",
     "output_type": "stream",
     "text": [
      "96\n",
      "[96.         34.          0.78666681  0.71845561  0.75268358  0.50665414\n",
      "  0.83448953]\n",
      "0.8344895294777729\n"
     ]
    }
   ],
   "source": [
    "# PCA_MRMR_MIQ得分\n",
    "All = np.array(pd.read_csv(\"Result/Feature_Selection/Location_ICA_MRMR_MIQ.csv\"))\n",
    "max_auc = max(All[:,-1])\n",
    "for i in range(len(All)):\n",
    "    if All[i][-1]==max_auc:\n",
    "        print(i)\n",
    "        print(All[i])\n",
    "        print(All[i][-1])"
   ]
  },
  {
   "cell_type": "code",
   "execution_count": 185,
   "id": "90ae5e97",
   "metadata": {
    "ExecuteTime": {
     "end_time": "2023-05-20T06:07:11.983201Z",
     "start_time": "2023-05-20T06:07:11.950624Z"
    }
   },
   "outputs": [
    {
     "name": "stdout",
     "output_type": "stream",
     "text": [
      "98\n",
      "[ 98.         125.           0.76824721   0.71965997   0.74391537\n",
      "   0.48835974   0.81607763]\n",
      "0.816077634352568\n"
     ]
    }
   ],
   "source": [
    "# PCA_SVM_RFE得分\n",
    "All = np.array(pd.read_csv(\"Result/Feature_Selection/Location_SVM-RFE.csv\"))\n",
    "max_auc = max(All[:,-1])\n",
    "for i in range(len(All)):\n",
    "    if All[i][-1]==max_auc:\n",
    "        print(i)\n",
    "        print(All[i])\n",
    "        print(All[i][-1])"
   ]
  },
  {
   "cell_type": "code",
   "execution_count": null,
   "id": "0f103f5c",
   "metadata": {},
   "outputs": [],
   "source": []
  }
 ],
 "metadata": {
  "kernelspec": {
   "display_name": "Python [conda env:BERT]",
   "language": "python",
   "name": "conda-env-BERT-py"
  },
  "language_info": {
   "codemirror_mode": {
    "name": "ipython",
    "version": 3
   },
   "file_extension": ".py",
   "mimetype": "text/x-python",
   "name": "python",
   "nbconvert_exporter": "python",
   "pygments_lexer": "ipython3",
   "version": "3.6.8"
  },
  "toc": {
   "base_numbering": 1,
   "nav_menu": {},
   "number_sections": true,
   "sideBar": true,
   "skip_h1_title": false,
   "title_cell": "Table of Contents",
   "title_sidebar": "Contents",
   "toc_cell": false,
   "toc_position": {},
   "toc_section_display": true,
   "toc_window_display": false
  },
  "varInspector": {
   "cols": {
    "lenName": 16,
    "lenType": 16,
    "lenVar": 40
   },
   "kernels_config": {
    "python": {
     "delete_cmd_postfix": "",
     "delete_cmd_prefix": "del ",
     "library": "var_list.py",
     "varRefreshCmd": "print(var_dic_list())"
    },
    "r": {
     "delete_cmd_postfix": ") ",
     "delete_cmd_prefix": "rm(",
     "library": "var_list.r",
     "varRefreshCmd": "cat(var_dic_list()) "
    }
   },
   "types_to_exclude": [
    "module",
    "function",
    "builtin_function_or_method",
    "instance",
    "_Feature"
   ],
   "window_display": false
  }
 },
 "nbformat": 4,
 "nbformat_minor": 5
}
